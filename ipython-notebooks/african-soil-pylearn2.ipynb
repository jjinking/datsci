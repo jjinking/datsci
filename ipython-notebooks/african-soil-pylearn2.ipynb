{
 "metadata": {
  "name": "",
  "signature": "sha256:315200b398f8a1a1352313a34a02e1f05216f59338a5f0dced0916112548e179"
 },
 "nbformat": 3,
 "nbformat_minor": 0,
 "worksheets": [
  {
   "cells": [
    {
     "cell_type": "code",
     "collapsed": false,
     "input": [
      "%matplotlib inline\n",
      "%load_ext autoreload\n",
      "%autoreload 2\n",
      "\n",
      "import csv\n",
      "import datetime\n",
      "import numpy as np\n",
      "import pandas as pd\n",
      "import matplotlib as mpl\n",
      "import matplotlib.pyplot as plt\n",
      "from mpltools import style; style.use('ggplot')\n",
      "\n",
      "import sys\n",
      "sys.path.insert(0, '/home/ubuntu/datsci/datsci')\n",
      "from datsci import dataio, eda, munge"
     ],
     "language": "python",
     "metadata": {},
     "outputs": [],
     "prompt_number": 6
    },
    {
     "cell_type": "code",
     "collapsed": false,
     "input": [
      "import pylearn2\n",
      "import theano\n",
      "from pylearn2.config import yaml_parse\n",
      "from pylearn2.datasets.dense_design_matrix import DenseDesignMatrix\n",
      "from pylearn2.utils import serial"
     ],
     "language": "python",
     "metadata": {},
     "outputs": [],
     "prompt_number": 7
    },
    {
     "cell_type": "code",
     "collapsed": false,
     "input": [
      "fname_train = 'data/training.csv'\n",
      "fname_test = 'data/sorted_test.csv'\n",
      "fname_sample_submission = 'data/sample_submission.csv'\n",
      "target_colnames = [\"Ca\", \"P\", \"pH\", \"SOC\", \"Sand\"]\n",
      "CO2_bands = ['m2379.76','m2377.83','m2375.9','m2373.97','m2372.04',\n",
      "             'm2370.11','m2368.18','m2366.26','m2364.33','m2362.4',\n",
      "             'm2360.47','m2358.54','m2356.61','m2354.68','m2352.76']\n",
      "\n",
      "def load_data():\n",
      "    '''\n",
      "    Function for quickly loading data\n",
      "    '''\n",
      "    # Read from file\n",
      "    train = munge.hash_features(pd.read_csv(fname_train),\n",
      "                                columns=['Depth'])\n",
      "    test = munge.hash_features(pd.read_csv(fname_test),\n",
      "                               columns=['Depth'])    \n",
      "    # Get labels\n",
      "    labels = train[target_colnames].copy(deep=True)\n",
      "    \n",
      "    # Drop unnecessary columns\n",
      "    train.drop(target_colnames + ['PIDN'], axis=1, inplace=True)\n",
      "    test.drop('PIDN', axis=1, inplace=True)\n",
      "    return train, labels, test\n",
      "\n",
      "def output_predictions(fname_out, prediction_values):\n",
      "    '''\n",
      "    Output predicted values in np array in correct format\n",
      "    '''\n",
      "    submission = pd.read_csv(fname_sample_submission)\n",
      "    prediction_df = pd.DataFrame(prediction_values, columns=submission.columns[1:])\n",
      "    submission[target_colnames] = prediction_df[target_colnames]\n",
      "    submission.to_csv(fname_out, index=False)"
     ],
     "language": "python",
     "metadata": {},
     "outputs": [],
     "prompt_number": 8
    },
    {
     "cell_type": "code",
     "collapsed": false,
     "input": [
      "foo_train.shape"
     ],
     "language": "python",
     "metadata": {},
     "outputs": [
      {
       "metadata": {},
       "output_type": "pyout",
       "prompt_number": 32,
       "text": [
        "(1157, 3595)"
       ]
      }
     ],
     "prompt_number": 32
    },
    {
     "cell_type": "code",
     "collapsed": false,
     "input": [
      "foo_train, foo_labels, test = load_data()"
     ],
     "language": "python",
     "metadata": {},
     "outputs": []
    },
    {
     "cell_type": "code",
     "collapsed": false,
     "input": [
      "outputfile = 'submissions/mlp.csv'\n",
      "model_path = 'pylearn2_files/mlp.pkl'\n",
      "\n",
      "model = serial.load( model_path )\n",
      "X = model.get_input_space().make_theano_batch()\n",
      "Y = model.fprop( X )\n",
      "f = theano.function( [X], Y )\n",
      "y = f( test.values.astype(np.float32) )\n",
      "output_predictions(outputfile, y)"
     ],
     "language": "python",
     "metadata": {},
     "outputs": []
    },
    {
     "cell_type": "code",
     "collapsed": false,
     "input": [
      "prefix= 'mlp_2hidden_1200dim'\n",
      "\n",
      "outputfile = 'submissions/{}.csv'.format(prefix)\n",
      "model_path = 'pylearn2_files/{}.pkl'.format(prefix)\n",
      "\n",
      "model = serial.load( model_path )\n",
      "X = model.get_input_space().make_theano_batch()\n",
      "Y = model.fprop( X )\n",
      "f = theano.function( [X], Y )\n",
      "y = f( test.values.astype(np.float32) )\n",
      "output_predictions(outputfile, y)"
     ],
     "language": "python",
     "metadata": {},
     "outputs": [],
     "prompt_number": 34
    },
    {
     "cell_type": "code",
     "collapsed": false,
     "input": [
      "prefix= 'mlp_2hidden_1200dim_best'\n",
      "\n",
      "outputfile = 'submissions/{}.csv'.format(prefix)\n",
      "model_path = 'pylearn2_files/{}.pkl'.format(prefix)\n",
      "\n",
      "model = serial.load( model_path )\n",
      "X = model.get_input_space().make_theano_batch()\n",
      "Y = model.fprop( X )\n",
      "f = theano.function( [X], Y )\n",
      "y = f( test.values.astype(np.float32) )\n",
      "output_predictions(outputfile, y)"
     ],
     "language": "python",
     "metadata": {},
     "outputs": [],
     "prompt_number": 35
    },
    {
     "cell_type": "markdown",
     "metadata": {},
     "source": [
      "### try averaging mlp results with best submission"
     ]
    },
    {
     "cell_type": "code",
     "collapsed": false,
     "input": [
      "avgfile1 = 'submissions/include_spatial_depth_noCO2.csv'\n",
      "avgfile2 = 'submissions/mlp.csv'\n",
      "outfile = 'submissions/avg_best_mlp.csv'\n",
      "avgdf1 = pd.read_csv(avgfile1)\n",
      "avgdf2 = pd.read_csv(avgfile2)\n",
      "avgdfresult = avgdf1.copy(deep=True)\n",
      "avgdfresult[target_colnames] = ((avgdf1[target_colnames] + avgdf2[target_colnames])/2)\n",
      "avgdfresult.to_csv(outfile, index=False)"
     ],
     "language": "python",
     "metadata": {},
     "outputs": [],
     "prompt_number": 30
    },
    {
     "cell_type": "code",
     "collapsed": false,
     "input": [
      "outputfile = 'submissions/mlp_best.csv'\n",
      "model_path = 'pylearn2_files/mlp_best.pkl'\n",
      "\n",
      "model = serial.load( model_path )\n",
      "X = model.get_input_space().make_theano_batch()\n",
      "Y = model.fprop( X )\n",
      "f = theano.function( [X], Y )\n",
      "y = f( test.values.astype(np.float32) )\n",
      "output_predictions(outputfile, y)"
     ],
     "language": "python",
     "metadata": {},
     "outputs": [],
     "prompt_number": 31
    },
    {
     "cell_type": "markdown",
     "metadata": {},
     "source": [
      "### Try just submitting P from mlp and everything else from best submission"
     ]
    },
    {
     "cell_type": "code",
     "collapsed": false,
     "input": [
      "bestfile = 'submissions/include_spatial_depth_noCO2.csv'\n",
      "mlpfile = 'submissions/mlp_2hidden_1200dim_best.csv'\n",
      "outfile = 'submissions/best_Pmlp.csv'\n",
      "bestdf = pd.read_csv(bestfile)\n",
      "mlpdf = pd.read_csv(mlpfile)\n",
      "bestdf['P'] = mlpdf['P']\n",
      "bestdf.to_csv(outfile, index=False)"
     ],
     "language": "python",
     "metadata": {},
     "outputs": [],
     "prompt_number": 38
    },
    {
     "cell_type": "markdown",
     "metadata": {},
     "source": [
      "### Try\n",
      "\n",
      "- training on entire training data, no cross validation (mlp_2hidden_1200dim.mlp)\n",
      "- different dimension for hidden nodes\n",
      "- additional hidden layer\n",
      "- different model for y layer\n",
      "\n",
      "- try subbing P from deep learning into the best submission one"
     ]
    },
    {
     "cell_type": "code",
     "collapsed": false,
     "input": [],
     "language": "python",
     "metadata": {},
     "outputs": []
    }
   ],
   "metadata": {}
  }
 ]
}