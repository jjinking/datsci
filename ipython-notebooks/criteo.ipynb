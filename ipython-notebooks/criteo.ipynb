{
 "metadata": {
  "name": "",
  "signature": "sha256:d2b1346eef51b5e4c595cbcf66f0c446e9e78f7ea7f0feac377117c61d25e300"
 },
 "nbformat": 3,
 "nbformat_minor": 0,
 "worksheets": [
  {
   "cells": [
    {
     "cell_type": "code",
     "collapsed": false,
     "input": [
      "%matplotlib inline\n",
      "%load_ext autoreload\n",
      "%autoreload 2\n",
      "\n",
      "import csv\n",
      "import datetime\n",
      "import numpy as np\n",
      "import pandas as pd\n",
      "import matplotlib as mpl\n",
      "#mpl.use('Agg')\n",
      "import matplotlib.pyplot as plt\n",
      "from mpltools import style; style.use('ggplot')\n",
      "\n",
      "import sys\n",
      "sys.path.insert(0, '/home/ubuntu/datsci/datsci')\n",
      "from datsci import dataio, eda, munge"
     ],
     "language": "python",
     "metadata": {},
     "outputs": [
      {
       "output_type": "stream",
       "stream": "stdout",
       "text": [
        "The autoreload extension is already loaded. To reload it, use:\n",
        "  %reload_ext autoreload\n"
       ]
      }
     ],
     "prompt_number": 25
    },
    {
     "cell_type": "code",
     "collapsed": false,
     "input": [
      "from datetime import datetime\n",
      "from csv import DictReader\n",
      "from math import exp, log, sqrt\n",
      "\n",
      "def online_logistic_regression(train, test, submission):\n",
      "    # parameters #################################################################\n",
      "\n",
      "    D = 2 ** 35   # number of weights use for learning\n",
      "    alpha = .1    # learning rate for sgd optimization\n",
      "\n",
      "    # function definitions #######################################################\n",
      "\n",
      "    # A. Bounded logloss\n",
      "    # INPUT:\n",
      "    #     p: our prediction\n",
      "    #     y: real answer\n",
      "    # OUTPUT\n",
      "    #     logarithmic loss of p given y\n",
      "    def logloss(p, y):\n",
      "        p = max(min(p, 1. - 10e-12), 10e-12)\n",
      "        return -log(p) if y == 1. else -log(1. - p)\n",
      "\n",
      "\n",
      "    # B. Apply hash trick of the original csv row\n",
      "    # for simplicity, we treat both integer and categorical features as categorical\n",
      "    # INPUT:\n",
      "    #     csv_row: a csv dictionary, ex: {'Lable': '1', 'I1': '357', 'I2': '', ...}\n",
      "    #     D: the max index that we can hash to\n",
      "    # OUTPUT:\n",
      "    #     x: a list of indices that its value is 1\n",
      "    def get_x(csv_row, D):\n",
      "        x = [0]  # 0 is the index of the bias term\n",
      "        for key, value in csv_row.items():\n",
      "            index = int(value + key[1:], 16) % D  # weakest hash ever ;)\n",
      "            x.append(index)\n",
      "        return x  # x contains indices of features that have a value of 1\n",
      "\n",
      "\n",
      "    # C. Get probability estimation on x\n",
      "    # INPUT:\n",
      "    #     x: features\n",
      "    #     w: weights\n",
      "    # OUTPUT:\n",
      "    #     probability of p(y = 1 | x; w)\n",
      "    def get_p(x, w):\n",
      "        wTx = 0.\n",
      "        for i in x:  # do wTx\n",
      "            wTx += w[i] * 1.  # w[i] * x[i], but if i in x we got x[i] = 1.\n",
      "        return 1. / (1. + exp(-max(min(wTx, 20.), -20.)))  # bounded sigmoid\n",
      "\n",
      "\n",
      "    # D. Update given model\n",
      "    # INPUT:\n",
      "    #     w: weights\n",
      "    #     n: a counter that counts the number of times we encounter a feature\n",
      "    #        this is used for adaptive learning rate\n",
      "    #     x: feature\n",
      "    #     p: prediction of our model\n",
      "    #     y: answer\n",
      "    # OUTPUT:\n",
      "    #     w: updated model\n",
      "    #     n: updated count\n",
      "    def update_w(w, n, x, p, y):\n",
      "        for i in x:\n",
      "            # alpha / (sqrt(n) + 1) is the adaptive learning rate heuristic\n",
      "            # (p - y) * x[i] is the current gradient\n",
      "            # note that in our case, if i in x then x[i] = 1\n",
      "            w[i] -= (p - y) * alpha / (sqrt(n[i]) + 1.)\n",
      "            n[i] += 1.\n",
      "\n",
      "        return w, n\n",
      "\n",
      "\n",
      "    # training and testing #######################################################\n",
      "\n",
      "    # initialize our model\n",
      "    w = [0.] * D  # weights\n",
      "    n = [0.] * D  # number of times we've encountered a feature\n",
      "\n",
      "    # start training a logistic regression model using on pass sgd\n",
      "    loss = 0.\n",
      "    for t, row in enumerate(DictReader(dataio.fopen(train))):\n",
      "        y = 1. if row['Label'] == '1' else 0.\n",
      "\n",
      "        del row['Label']  # can't let the model peek the answer\n",
      "        del row['Id']  # we don't need the Id\n",
      "\n",
      "        # main training procedure\n",
      "        # step 1, get the hashed features\n",
      "        x = get_x(row, D)\n",
      "\n",
      "        # step 2, get prediction\n",
      "        p = get_p(x, w)\n",
      "\n",
      "        # for progress validation, useless for learning our model\n",
      "        loss += logloss(p, y)\n",
      "        if t % 1000000 == 0 and t > 1:\n",
      "            print('%s\\tencountered: %d\\tcurrent logloss: %f' % (\n",
      "                datetime.now(), t, loss/t))\n",
      "\n",
      "        # step 3, update model with answer\n",
      "        w, n = update_w(w, n, x, p, y)\n",
      "\n",
      "    # testing (build kaggle's submission file)\n",
      "    with open(submission, 'w') as submission:\n",
      "        submission.write('Id,Predicted\\n')\n",
      "        for t, row in enumerate(DictReader(dataio.fopen(test))):\n",
      "            Id = row['Id']\n",
      "            del row['Id']\n",
      "            x = get_x(row, D)\n",
      "            p = get_p(x, w)\n",
      "            submission.write('%s,%f\\n' % (Id, p))"
     ],
     "language": "python",
     "metadata": {},
     "outputs": []
    },
    {
     "cell_type": "code",
     "collapsed": false,
     "input": [
      "summary, n_rows, label_counts = eda.summarize_big_training_data('data/train.csv.zip')"
     ],
     "language": "python",
     "metadata": {},
     "outputs": [],
     "prompt_number": 2
    },
    {
     "cell_type": "code",
     "collapsed": false,
     "input": [
      "n_rows"
     ],
     "language": "python",
     "metadata": {},
     "outputs": [
      {
       "metadata": {},
       "output_type": "pyout",
       "prompt_number": 3,
       "text": [
        "45840617"
       ]
      }
     ],
     "prompt_number": 3
    },
    {
     "cell_type": "code",
     "collapsed": false,
     "input": [
      "3"
     ],
     "language": "python",
     "metadata": {},
     "outputs": []
    },
    {
     "cell_type": "code",
     "collapsed": false,
     "input": [
      "label_counts"
     ],
     "language": "python",
     "metadata": {},
     "outputs": [
      {
       "metadata": {},
       "output_type": "pyout",
       "prompt_number": 4,
       "text": [
        "defaultdict(<type 'int'>, {'1': 11745438, '0': 34095179})"
       ]
      }
     ],
     "prompt_number": 4
    },
    {
     "cell_type": "code",
     "collapsed": false,
     "input": [
      "summary"
     ],
     "language": "python",
     "metadata": {},
     "outputs": [
      {
       "html": [
        "<div style=\"max-height:1000px;max-width:1500px;overflow:auto;\">\n",
        "<table border=\"1\" class=\"dataframe\">\n",
        "  <thead>\n",
        "    <tr style=\"text-align: right;\">\n",
        "      <th></th>\n",
        "      <th>attribute</th>\n",
        "      <th>max</th>\n",
        "      <th>min</th>\n",
        "      <th>n_null</th>\n",
        "      <th>n_uniq</th>\n",
        "      <th>perc_null</th>\n",
        "    </tr>\n",
        "  </thead>\n",
        "  <tbody>\n",
        "    <tr>\n",
        "      <th>0 </th>\n",
        "      <td>    Id</td>\n",
        "      <td> 55840616</td>\n",
        "      <td> 10000000</td>\n",
        "      <td>        0</td>\n",
        "      <td> &gt; 1000</td>\n",
        "      <td> 0.000000</td>\n",
        "    </tr>\n",
        "    <tr>\n",
        "      <th>1 </th>\n",
        "      <td> Label</td>\n",
        "      <td>        1</td>\n",
        "      <td>        0</td>\n",
        "      <td>        0</td>\n",
        "      <td>      2</td>\n",
        "      <td> 0.000000</td>\n",
        "    </tr>\n",
        "    <tr>\n",
        "      <th>2 </th>\n",
        "      <td>    I1</td>\n",
        "      <td>     5775</td>\n",
        "      <td>        0</td>\n",
        "      <td> 20793556</td>\n",
        "      <td>    649</td>\n",
        "      <td> 0.453606</td>\n",
        "    </tr>\n",
        "    <tr>\n",
        "      <th>3 </th>\n",
        "      <td>    I2</td>\n",
        "      <td>   257675</td>\n",
        "      <td>       -3</td>\n",
        "      <td>        0</td>\n",
        "      <td> &gt; 1000</td>\n",
        "      <td> 0.000000</td>\n",
        "    </tr>\n",
        "    <tr>\n",
        "      <th>4 </th>\n",
        "      <td>    I3</td>\n",
        "      <td>    65535</td>\n",
        "      <td>        0</td>\n",
        "      <td>  9839447</td>\n",
        "      <td> &gt; 1000</td>\n",
        "      <td> 0.214645</td>\n",
        "    </tr>\n",
        "    <tr>\n",
        "      <th>5 </th>\n",
        "      <td>    I4</td>\n",
        "      <td>      969</td>\n",
        "      <td>        0</td>\n",
        "      <td>  9937369</td>\n",
        "      <td>    490</td>\n",
        "      <td> 0.216781</td>\n",
        "    </tr>\n",
        "    <tr>\n",
        "      <th>6 </th>\n",
        "      <td>    I5</td>\n",
        "      <td> 23159456</td>\n",
        "      <td>        0</td>\n",
        "      <td>  1183117</td>\n",
        "      <td> &gt; 1000</td>\n",
        "      <td> 0.025809</td>\n",
        "    </tr>\n",
        "    <tr>\n",
        "      <th>7 </th>\n",
        "      <td>    I6</td>\n",
        "      <td>   431037</td>\n",
        "      <td>        0</td>\n",
        "      <td> 10252328</td>\n",
        "      <td> &gt; 1000</td>\n",
        "      <td> 0.223652</td>\n",
        "    </tr>\n",
        "    <tr>\n",
        "      <th>8 </th>\n",
        "      <td>    I7</td>\n",
        "      <td>    56311</td>\n",
        "      <td>        0</td>\n",
        "      <td>  1982866</td>\n",
        "      <td> &gt; 1000</td>\n",
        "      <td> 0.043256</td>\n",
        "    </tr>\n",
        "    <tr>\n",
        "      <th>9 </th>\n",
        "      <td>    I8</td>\n",
        "      <td>     6047</td>\n",
        "      <td>        0</td>\n",
        "      <td>    22773</td>\n",
        "      <td> &gt; 1000</td>\n",
        "      <td> 0.000497</td>\n",
        "    </tr>\n",
        "    <tr>\n",
        "      <th>10</th>\n",
        "      <td>    I9</td>\n",
        "      <td>    29019</td>\n",
        "      <td>        0</td>\n",
        "      <td>  1982866</td>\n",
        "      <td> &gt; 1000</td>\n",
        "      <td> 0.043256</td>\n",
        "    </tr>\n",
        "    <tr>\n",
        "      <th>11</th>\n",
        "      <td>   I10</td>\n",
        "      <td>       11</td>\n",
        "      <td>        0</td>\n",
        "      <td> 20793556</td>\n",
        "      <td>     13</td>\n",
        "      <td> 0.453606</td>\n",
        "    </tr>\n",
        "    <tr>\n",
        "      <th>12</th>\n",
        "      <td>   I11</td>\n",
        "      <td>      231</td>\n",
        "      <td>        0</td>\n",
        "      <td>  1982866</td>\n",
        "      <td>    169</td>\n",
        "      <td> 0.043256</td>\n",
        "    </tr>\n",
        "    <tr>\n",
        "      <th>13</th>\n",
        "      <td>   I12</td>\n",
        "      <td>     4008</td>\n",
        "      <td>        0</td>\n",
        "      <td> 35071652</td>\n",
        "      <td>    407</td>\n",
        "      <td> 0.765078</td>\n",
        "    </tr>\n",
        "    <tr>\n",
        "      <th>14</th>\n",
        "      <td>   I13</td>\n",
        "      <td>     7393</td>\n",
        "      <td>        0</td>\n",
        "      <td>  9937369</td>\n",
        "      <td> &gt; 1000</td>\n",
        "      <td> 0.216781</td>\n",
        "    </tr>\n",
        "    <tr>\n",
        "      <th>15</th>\n",
        "      <td>    C1</td>\n",
        "      <td>      NaN</td>\n",
        "      <td>      NaN</td>\n",
        "      <td>        0</td>\n",
        "      <td> &gt; 1000</td>\n",
        "      <td> 0.000000</td>\n",
        "    </tr>\n",
        "    <tr>\n",
        "      <th>16</th>\n",
        "      <td>    C2</td>\n",
        "      <td>      NaN</td>\n",
        "      <td>      NaN</td>\n",
        "      <td>        0</td>\n",
        "      <td>    583</td>\n",
        "      <td> 0.000000</td>\n",
        "    </tr>\n",
        "    <tr>\n",
        "      <th>17</th>\n",
        "      <td>    C3</td>\n",
        "      <td>      NaN</td>\n",
        "      <td>      NaN</td>\n",
        "      <td>  1559473</td>\n",
        "      <td> &gt; 1000</td>\n",
        "      <td> 0.034019</td>\n",
        "    </tr>\n",
        "    <tr>\n",
        "      <th>18</th>\n",
        "      <td>    C4</td>\n",
        "      <td>      NaN</td>\n",
        "      <td>      NaN</td>\n",
        "      <td>  1559473</td>\n",
        "      <td> &gt; 1000</td>\n",
        "      <td> 0.034019</td>\n",
        "    </tr>\n",
        "    <tr>\n",
        "      <th>19</th>\n",
        "      <td>    C5</td>\n",
        "      <td>      NaN</td>\n",
        "      <td>      NaN</td>\n",
        "      <td>        0</td>\n",
        "      <td>    305</td>\n",
        "      <td> 0.000000</td>\n",
        "    </tr>\n",
        "    <tr>\n",
        "      <th>20</th>\n",
        "      <td>    C6</td>\n",
        "      <td>      NaN</td>\n",
        "      <td>      NaN</td>\n",
        "      <td>  5540625</td>\n",
        "      <td>     24</td>\n",
        "      <td> 0.120867</td>\n",
        "    </tr>\n",
        "    <tr>\n",
        "      <th>21</th>\n",
        "      <td>    C7</td>\n",
        "      <td>      NaN</td>\n",
        "      <td>      NaN</td>\n",
        "      <td>        0</td>\n",
        "      <td> &gt; 1000</td>\n",
        "      <td> 0.000000</td>\n",
        "    </tr>\n",
        "    <tr>\n",
        "      <th>22</th>\n",
        "      <td>    C8</td>\n",
        "      <td>      NaN</td>\n",
        "      <td>      NaN</td>\n",
        "      <td>        0</td>\n",
        "      <td>    633</td>\n",
        "      <td> 0.000000</td>\n",
        "    </tr>\n",
        "    <tr>\n",
        "      <th>23</th>\n",
        "      <td>    C9</td>\n",
        "      <td>      NaN</td>\n",
        "      <td>      NaN</td>\n",
        "      <td>        0</td>\n",
        "      <td>      3</td>\n",
        "      <td> 0.000000</td>\n",
        "    </tr>\n",
        "    <tr>\n",
        "      <th>24</th>\n",
        "      <td>   C10</td>\n",
        "      <td>      NaN</td>\n",
        "      <td>      NaN</td>\n",
        "      <td>        0</td>\n",
        "      <td> &gt; 1000</td>\n",
        "      <td> 0.000000</td>\n",
        "    </tr>\n",
        "    <tr>\n",
        "      <th>25</th>\n",
        "      <td>   C11</td>\n",
        "      <td>      NaN</td>\n",
        "      <td>      NaN</td>\n",
        "      <td>        0</td>\n",
        "      <td> &gt; 1000</td>\n",
        "      <td> 0.000000</td>\n",
        "    </tr>\n",
        "    <tr>\n",
        "      <th>26</th>\n",
        "      <td>   C12</td>\n",
        "      <td>      NaN</td>\n",
        "      <td>      NaN</td>\n",
        "      <td>  1559473</td>\n",
        "      <td> &gt; 1000</td>\n",
        "      <td> 0.034019</td>\n",
        "    </tr>\n",
        "    <tr>\n",
        "      <th>27</th>\n",
        "      <td>   C13</td>\n",
        "      <td>      NaN</td>\n",
        "      <td>      NaN</td>\n",
        "      <td>        0</td>\n",
        "      <td> &gt; 1000</td>\n",
        "      <td> 0.000000</td>\n",
        "    </tr>\n",
        "    <tr>\n",
        "      <th>28</th>\n",
        "      <td>   C14</td>\n",
        "      <td>      NaN</td>\n",
        "      <td>      NaN</td>\n",
        "      <td>        0</td>\n",
        "      <td>     27</td>\n",
        "      <td> 0.000000</td>\n",
        "    </tr>\n",
        "    <tr>\n",
        "      <th>29</th>\n",
        "      <td>   C15</td>\n",
        "      <td>      NaN</td>\n",
        "      <td>      NaN</td>\n",
        "      <td>        0</td>\n",
        "      <td> &gt; 1000</td>\n",
        "      <td> 0.000000</td>\n",
        "    </tr>\n",
        "    <tr>\n",
        "      <th>30</th>\n",
        "      <td>   C16</td>\n",
        "      <td>      NaN</td>\n",
        "      <td>      NaN</td>\n",
        "      <td>  1559473</td>\n",
        "      <td> &gt; 1000</td>\n",
        "      <td> 0.034019</td>\n",
        "    </tr>\n",
        "    <tr>\n",
        "      <th>31</th>\n",
        "      <td>   C17</td>\n",
        "      <td>      NaN</td>\n",
        "      <td>      NaN</td>\n",
        "      <td>        0</td>\n",
        "      <td>     10</td>\n",
        "      <td> 0.000000</td>\n",
        "    </tr>\n",
        "    <tr>\n",
        "      <th>32</th>\n",
        "      <td>   C18</td>\n",
        "      <td>      NaN</td>\n",
        "      <td>      NaN</td>\n",
        "      <td>        0</td>\n",
        "      <td> &gt; 1000</td>\n",
        "      <td> 0.000000</td>\n",
        "    </tr>\n",
        "    <tr>\n",
        "      <th>33</th>\n",
        "      <td>   C19</td>\n",
        "      <td>      NaN</td>\n",
        "      <td>      NaN</td>\n",
        "      <td> 20172858</td>\n",
        "      <td> &gt; 1000</td>\n",
        "      <td> 0.440065</td>\n",
        "    </tr>\n",
        "    <tr>\n",
        "      <th>34</th>\n",
        "      <td>   C20</td>\n",
        "      <td>      NaN</td>\n",
        "      <td>      NaN</td>\n",
        "      <td> 20172858</td>\n",
        "      <td>      4</td>\n",
        "      <td> 0.440065</td>\n",
        "    </tr>\n",
        "    <tr>\n",
        "      <th>35</th>\n",
        "      <td>   C21</td>\n",
        "      <td>      NaN</td>\n",
        "      <td>      NaN</td>\n",
        "      <td>  1559473</td>\n",
        "      <td> &gt; 1000</td>\n",
        "      <td> 0.034019</td>\n",
        "    </tr>\n",
        "    <tr>\n",
        "      <th>36</th>\n",
        "      <td>   C22</td>\n",
        "      <td>      NaN</td>\n",
        "      <td>      NaN</td>\n",
        "      <td> 34955073</td>\n",
        "      <td>     18</td>\n",
        "      <td> 0.762535</td>\n",
        "    </tr>\n",
        "    <tr>\n",
        "      <th>37</th>\n",
        "      <td>   C23</td>\n",
        "      <td>      NaN</td>\n",
        "      <td>      NaN</td>\n",
        "      <td>        0</td>\n",
        "      <td>     15</td>\n",
        "      <td> 0.000000</td>\n",
        "    </tr>\n",
        "    <tr>\n",
        "      <th>38</th>\n",
        "      <td>   C24</td>\n",
        "      <td>      NaN</td>\n",
        "      <td>      NaN</td>\n",
        "      <td>  1559473</td>\n",
        "      <td> &gt; 1000</td>\n",
        "      <td> 0.034019</td>\n",
        "    </tr>\n",
        "    <tr>\n",
        "      <th>39</th>\n",
        "      <td>   C25</td>\n",
        "      <td>      NaN</td>\n",
        "      <td>      NaN</td>\n",
        "      <td> 20172858</td>\n",
        "      <td>    105</td>\n",
        "      <td> 0.440065</td>\n",
        "    </tr>\n",
        "    <tr>\n",
        "      <th>40</th>\n",
        "      <td>   C26</td>\n",
        "      <td>      NaN</td>\n",
        "      <td>      NaN</td>\n",
        "      <td> 20172858</td>\n",
        "      <td> &gt; 1000</td>\n",
        "      <td> 0.440065</td>\n",
        "    </tr>\n",
        "  </tbody>\n",
        "</table>\n",
        "</div>"
       ],
       "metadata": {},
       "output_type": "pyout",
       "prompt_number": 3,
       "text": [
        "   attribute       max       min    n_null  n_uniq  perc_null\n",
        "0         Id  55840616  10000000         0  > 1000   0.000000\n",
        "1      Label         1         0         0       2   0.000000\n",
        "2         I1      5775         0  20793556     649   0.453606\n",
        "3         I2    257675        -3         0  > 1000   0.000000\n",
        "4         I3     65535         0   9839447  > 1000   0.214645\n",
        "5         I4       969         0   9937369     490   0.216781\n",
        "6         I5  23159456         0   1183117  > 1000   0.025809\n",
        "7         I6    431037         0  10252328  > 1000   0.223652\n",
        "8         I7     56311         0   1982866  > 1000   0.043256\n",
        "9         I8      6047         0     22773  > 1000   0.000497\n",
        "10        I9     29019         0   1982866  > 1000   0.043256\n",
        "11       I10        11         0  20793556      13   0.453606\n",
        "12       I11       231         0   1982866     169   0.043256\n",
        "13       I12      4008         0  35071652     407   0.765078\n",
        "14       I13      7393         0   9937369  > 1000   0.216781\n",
        "15        C1       NaN       NaN         0  > 1000   0.000000\n",
        "16        C2       NaN       NaN         0     583   0.000000\n",
        "17        C3       NaN       NaN   1559473  > 1000   0.034019\n",
        "18        C4       NaN       NaN   1559473  > 1000   0.034019\n",
        "19        C5       NaN       NaN         0     305   0.000000\n",
        "20        C6       NaN       NaN   5540625      24   0.120867\n",
        "21        C7       NaN       NaN         0  > 1000   0.000000\n",
        "22        C8       NaN       NaN         0     633   0.000000\n",
        "23        C9       NaN       NaN         0       3   0.000000\n",
        "24       C10       NaN       NaN         0  > 1000   0.000000\n",
        "25       C11       NaN       NaN         0  > 1000   0.000000\n",
        "26       C12       NaN       NaN   1559473  > 1000   0.034019\n",
        "27       C13       NaN       NaN         0  > 1000   0.000000\n",
        "28       C14       NaN       NaN         0      27   0.000000\n",
        "29       C15       NaN       NaN         0  > 1000   0.000000\n",
        "30       C16       NaN       NaN   1559473  > 1000   0.034019\n",
        "31       C17       NaN       NaN         0      10   0.000000\n",
        "32       C18       NaN       NaN         0  > 1000   0.000000\n",
        "33       C19       NaN       NaN  20172858  > 1000   0.440065\n",
        "34       C20       NaN       NaN  20172858       4   0.440065\n",
        "35       C21       NaN       NaN   1559473  > 1000   0.034019\n",
        "36       C22       NaN       NaN  34955073      18   0.762535\n",
        "37       C23       NaN       NaN         0      15   0.000000\n",
        "38       C24       NaN       NaN   1559473  > 1000   0.034019\n",
        "39       C25       NaN       NaN  20172858     105   0.440065\n",
        "40       C26       NaN       NaN  20172858  > 1000   0.440065"
       ]
      }
     ],
     "prompt_number": 3
    },
    {
     "cell_type": "code",
     "collapsed": false,
     "input": [
      "online_logistic_regression('data/train.csv.zip', 'data/test.csv.zip', 'submission.onlinelr.csv')"
     ],
     "language": "python",
     "metadata": {},
     "outputs": []
    },
    {
     "cell_type": "code",
     "collapsed": false,
     "input": [
      "munge.remove_col_big_data('data/train.csv.zip','data/train.delcol.csv.gz', [13,36])\n",
      "munge.remove_col_big_data('data/test.csv.zip','data/test.delcol.csv.gz', [13,36])\n",
      "online_logistic_regression('data/train.delcol.csv.gz', 'data/test.delcol.csv.gz', 'submission.delcol.onlinelr.csv')"
     ],
     "language": "python",
     "metadata": {},
     "outputs": []
    },
    {
     "cell_type": "code",
     "collapsed": false,
     "input": [
      "toomany_uniq = set(summary_df0[summary_df0['n_uniq'] > 500].attribute)\n",
      "toomany_null = set(summary_df0[summary_df0['n_null'] > 500].attribute)\n",
      "removecols = toomany_uniq.union(toomany_null)\n",
      "summary_df0[summary_df0.attribute.isin(removecols)].index + 1"
     ],
     "language": "python",
     "metadata": {},
     "outputs": []
    },
    {
     "cell_type": "code",
     "collapsed": false,
     "input": [
      "# Deleting columns with lots of unique values as well as lots of nulls\n",
      "munge.remove_col_big_data('data/train.csv.zip','data/train.delcol2.csv.gz', [6, 13, 17, 18, 21, 24, 25, 26, 27, 29, 30, 35, 36, 38])\n",
      "munge.remove_col_big_data('data/test.csv.zip','data/test.delcol2.csv.gz', [6, 13, 17, 18, 21, 24, 25, 26, 27, 29, 30, 35, 36, 38])\n",
      "online_logistic_regression('data/train.delcol2.csv.gz', 'data/test.delcol2.csv.gz', 'submission.delcol2.onlinelr.csv')"
     ],
     "language": "python",
     "metadata": {},
     "outputs": []
    },
    {
     "cell_type": "code",
     "collapsed": false,
     "input": [
      "# Re-add col 13 to the list (just remove cols with lots of unique values)\n",
      "munge.remove_col_big_data('data/train.csv.zip','data/train.delcol3.csv.gz', [6, 17, 18, 21, 24, 25, 26, 27, 29, 30, 35, 36, 38])\n",
      "munge.remove_col_big_data('data/test.csv.zip','data/test.delcol3.csv.gz', [6, 17, 18, 21, 24, 25, 26, 27, 29, 30, 35, 36, 38])\n",
      "online_logistic_regression('data/train.delcol3.csv.gz', 'data/test.delcol3.csv.gz', 'submission.delcol3.onlinelr.csv')"
     ],
     "language": "python",
     "metadata": {},
     "outputs": [
      {
       "output_type": "stream",
       "stream": "stdout",
       "text": [
        "2014-09-21 17:00:44.459423\tencountered: 1000000\tcurrent logloss: 0.490149\n",
        "2014-09-21 17:01:42.867054\tencountered: 2000000\tcurrent logloss: 0.486049"
       ]
      },
      {
       "output_type": "stream",
       "stream": "stdout",
       "text": [
        "\n",
        "2014-09-21 17:02:41.228666\tencountered: 3000000\tcurrent logloss: 0.484706"
       ]
      },
      {
       "output_type": "stream",
       "stream": "stdout",
       "text": [
        "\n",
        "2014-09-21 17:03:38.571715\tencountered: 4000000\tcurrent logloss: 0.484309"
       ]
      },
      {
       "output_type": "stream",
       "stream": "stdout",
       "text": [
        "\n",
        "2014-09-21 17:04:36.726064\tencountered: 5000000\tcurrent logloss: 0.483579"
       ]
      },
      {
       "output_type": "stream",
       "stream": "stdout",
       "text": [
        "\n",
        "2014-09-21 17:05:34.818744\tencountered: 6000000\tcurrent logloss: 0.482989"
       ]
      },
      {
       "output_type": "stream",
       "stream": "stdout",
       "text": [
        "\n",
        "2014-09-21 17:06:32.821861\tencountered: 7000000\tcurrent logloss: 0.482966"
       ]
      },
      {
       "output_type": "stream",
       "stream": "stdout",
       "text": [
        "\n",
        "2014-09-21 17:07:30.503511\tencountered: 8000000\tcurrent logloss: 0.483100"
       ]
      },
      {
       "output_type": "stream",
       "stream": "stdout",
       "text": [
        "\n",
        "2014-09-21 17:08:28.210148\tencountered: 9000000\tcurrent logloss: 0.482739"
       ]
      },
      {
       "output_type": "stream",
       "stream": "stdout",
       "text": [
        "\n",
        "2014-09-21 17:09:26.062958\tencountered: 10000000\tcurrent logloss: 0.483405"
       ]
      },
      {
       "output_type": "stream",
       "stream": "stdout",
       "text": [
        "\n",
        "2014-09-21 17:10:25.304454\tencountered: 11000000\tcurrent logloss: 0.483721"
       ]
      },
      {
       "output_type": "stream",
       "stream": "stdout",
       "text": [
        "\n",
        "2014-09-21 17:11:23.356253\tencountered: 12000000\tcurrent logloss: 0.483850"
       ]
      },
      {
       "output_type": "stream",
       "stream": "stdout",
       "text": [
        "\n",
        "2014-09-21 17:12:20.607030\tencountered: 13000000\tcurrent logloss: 0.483920"
       ]
      },
      {
       "output_type": "stream",
       "stream": "stdout",
       "text": [
        "\n",
        "2014-09-21 17:13:17.730710\tencountered: 14000000\tcurrent logloss: 0.484674"
       ]
      },
      {
       "output_type": "stream",
       "stream": "stdout",
       "text": [
        "\n",
        "2014-09-21 17:14:14.924361\tencountered: 15000000\tcurrent logloss: 0.484561"
       ]
      },
      {
       "output_type": "stream",
       "stream": "stdout",
       "text": [
        "\n",
        "2014-09-21 17:15:12.518179\tencountered: 16000000\tcurrent logloss: 0.484603"
       ]
      },
      {
       "output_type": "stream",
       "stream": "stdout",
       "text": [
        "\n",
        "2014-09-21 17:16:10.112781\tencountered: 17000000\tcurrent logloss: 0.484654"
       ]
      },
      {
       "output_type": "stream",
       "stream": "stdout",
       "text": [
        "\n",
        "2014-09-21 17:17:07.068022\tencountered: 18000000\tcurrent logloss: 0.484677"
       ]
      },
      {
       "output_type": "stream",
       "stream": "stdout",
       "text": [
        "\n",
        "2014-09-21 17:18:04.886413\tencountered: 19000000\tcurrent logloss: 0.484540"
       ]
      },
      {
       "output_type": "stream",
       "stream": "stdout",
       "text": [
        "\n",
        "2014-09-21 17:19:01.889497\tencountered: 20000000\tcurrent logloss: 0.484679"
       ]
      },
      {
       "output_type": "stream",
       "stream": "stdout",
       "text": [
        "\n",
        "2014-09-21 17:19:59.015166\tencountered: 21000000\tcurrent logloss: 0.484693"
       ]
      },
      {
       "output_type": "stream",
       "stream": "stdout",
       "text": [
        "\n",
        "2014-09-21 17:20:56.948292\tencountered: 22000000\tcurrent logloss: 0.484302"
       ]
      },
      {
       "output_type": "stream",
       "stream": "stdout",
       "text": [
        "\n",
        "2014-09-21 17:21:54.524308\tencountered: 23000000\tcurrent logloss: 0.484524"
       ]
      },
      {
       "output_type": "stream",
       "stream": "stdout",
       "text": [
        "\n",
        "2014-09-21 17:22:51.903555\tencountered: 24000000\tcurrent logloss: 0.484432"
       ]
      },
      {
       "output_type": "stream",
       "stream": "stdout",
       "text": [
        "\n",
        "2014-09-21 17:23:49.057827\tencountered: 25000000\tcurrent logloss: 0.484229"
       ]
      },
      {
       "output_type": "stream",
       "stream": "stdout",
       "text": [
        "\n",
        "2014-09-21 17:24:46.555444\tencountered: 26000000\tcurrent logloss: 0.484059"
       ]
      },
      {
       "output_type": "stream",
       "stream": "stdout",
       "text": [
        "\n",
        "2014-09-21 17:25:44.665046\tencountered: 27000000\tcurrent logloss: 0.484209"
       ]
      },
      {
       "output_type": "stream",
       "stream": "stdout",
       "text": [
        "\n",
        "2014-09-21 17:26:42.136201\tencountered: 28000000\tcurrent logloss: 0.484317"
       ]
      },
      {
       "output_type": "stream",
       "stream": "stdout",
       "text": [
        "\n",
        "2014-09-21 17:27:39.640303\tencountered: 29000000\tcurrent logloss: 0.484364"
       ]
      },
      {
       "output_type": "stream",
       "stream": "stdout",
       "text": [
        "\n",
        "2014-09-21 17:28:36.996617\tencountered: 30000000\tcurrent logloss: 0.484510"
       ]
      },
      {
       "output_type": "stream",
       "stream": "stdout",
       "text": [
        "\n",
        "2014-09-21 17:29:34.307677\tencountered: 31000000\tcurrent logloss: 0.484508"
       ]
      },
      {
       "output_type": "stream",
       "stream": "stdout",
       "text": [
        "\n",
        "2014-09-21 17:30:32.079129\tencountered: 32000000\tcurrent logloss: 0.484428"
       ]
      }
     ]
    },
    {
     "cell_type": "code",
     "collapsed": false,
     "input": [
      "# Removing just column 16\n",
      "munge.remove_col_big_data('data/train.csv.zip','data/train.delcol4.csv.gz', [16], progress_int=1000000)\n",
      "munge.remove_col_big_data('data/test.csv.zip','data/test.delcol4.csv.gz', [16], progress_int=1000000)\n",
      "online_logistic_regression('data/train.delcol4.csv.gz', 'data/test.delcol4.csv.gz', 'submission.delcol4.onlinelr.csv')"
     ],
     "language": "python",
     "metadata": {},
     "outputs": [
      {
       "output_type": "stream",
       "stream": "stdout",
       "text": [
        "2014-09-22 14:52:39.112839\tencountered: 0\n",
        "2014-09-22 14:53:29.989917\tencountered: 1000000\n"
       ]
      },
      {
       "output_type": "stream",
       "stream": "stdout",
       "text": [
        "2014-09-22 14:54:20.532040\tencountered: 2000000\n",
        "2014-09-22 14:55:11.780064\tencountered: 3000000\n"
       ]
      },
      {
       "output_type": "stream",
       "stream": "stdout",
       "text": [
        "2014-09-22 14:56:02.864944\tencountered: 4000000\n",
        "2014-09-22 14:56:53.536335\tencountered: 5000000\n"
       ]
      },
      {
       "output_type": "stream",
       "stream": "stdout",
       "text": [
        "2014-09-22 14:57:45.053049\tencountered: 6000000\n",
        "2014-09-22 14:58:38.353647\tencountered: 7000000\n"
       ]
      },
      {
       "output_type": "stream",
       "stream": "stdout",
       "text": [
        "2014-09-22 14:59:31.310009\tencountered: 8000000\n",
        "2014-09-22 15:00:24.509810\tencountered: 9000000\n"
       ]
      },
      {
       "output_type": "stream",
       "stream": "stdout",
       "text": [
        "2014-09-22 15:01:17.659858\tencountered: 10000000\n",
        "2014-09-22 15:02:08.767856\tencountered: 11000000\n"
       ]
      },
      {
       "output_type": "stream",
       "stream": "stdout",
       "text": [
        "2014-09-22 15:03:00.373438\tencountered: 12000000\n",
        "2014-09-22 15:03:51.365357\tencountered: 13000000\n"
       ]
      },
      {
       "output_type": "stream",
       "stream": "stdout",
       "text": [
        "2014-09-22 15:04:42.262674\tencountered: 14000000\n",
        "2014-09-22 15:05:33.903839\tencountered: 15000000\n"
       ]
      },
      {
       "output_type": "stream",
       "stream": "stdout",
       "text": [
        "2014-09-22 15:06:25.174429\tencountered: 16000000\n",
        "2014-09-22 15:07:16.454490\tencountered: 17000000\n"
       ]
      },
      {
       "output_type": "stream",
       "stream": "stdout",
       "text": [
        "2014-09-22 15:08:07.754154\tencountered: 18000000\n",
        "2014-09-22 15:08:59.421937\tencountered: 19000000\n"
       ]
      },
      {
       "output_type": "stream",
       "stream": "stdout",
       "text": [
        "2014-09-22 15:09:50.636668\tencountered: 20000000\n",
        "2014-09-22 15:10:42.223104\tencountered: 21000000\n"
       ]
      },
      {
       "output_type": "stream",
       "stream": "stdout",
       "text": [
        "2014-09-22 15:11:33.749798\tencountered: 22000000\n",
        "2014-09-22 15:12:25.576328\tencountered: 23000000\n"
       ]
      },
      {
       "output_type": "stream",
       "stream": "stdout",
       "text": [
        "2014-09-22 15:13:17.239770\tencountered: 24000000\n",
        "2014-09-22 15:14:08.462571\tencountered: 25000000\n"
       ]
      },
      {
       "output_type": "stream",
       "stream": "stdout",
       "text": [
        "2014-09-22 15:15:00.353226\tencountered: 26000000\n",
        "2014-09-22 15:15:51.955736\tencountered: 27000000\n"
       ]
      },
      {
       "output_type": "stream",
       "stream": "stdout",
       "text": [
        "2014-09-22 15:16:43.356546\tencountered: 28000000\n",
        "2014-09-22 15:17:35.230903\tencountered: 29000000\n"
       ]
      },
      {
       "output_type": "stream",
       "stream": "stdout",
       "text": [
        "2014-09-22 15:18:26.978391\tencountered: 30000000\n",
        "2014-09-22 15:19:18.136490\tencountered: 31000000\n"
       ]
      },
      {
       "output_type": "stream",
       "stream": "stdout",
       "text": [
        "2014-09-22 15:20:09.515107\tencountered: 32000000\n",
        "2014-09-22 15:21:01.317638\tencountered: 33000000\n"
       ]
      },
      {
       "output_type": "stream",
       "stream": "stdout",
       "text": [
        "2014-09-22 15:21:52.139424\tencountered: 34000000\n",
        "2014-09-22 15:22:43.797282\tencountered: 35000000\n"
       ]
      },
      {
       "output_type": "stream",
       "stream": "stdout",
       "text": [
        "2014-09-22 15:23:35.543294\tencountered: 36000000\n",
        "2014-09-22 15:24:26.456808\tencountered: 37000000\n"
       ]
      },
      {
       "output_type": "stream",
       "stream": "stdout",
       "text": [
        "2014-09-22 15:25:17.898693\tencountered: 38000000\n",
        "2014-09-22 15:26:09.564831\tencountered: 39000000\n"
       ]
      },
      {
       "output_type": "stream",
       "stream": "stdout",
       "text": [
        "2014-09-22 15:27:00.477339\tencountered: 40000000\n",
        "2014-09-22 15:27:52.333446\tencountered: 41000000\n"
       ]
      },
      {
       "output_type": "stream",
       "stream": "stdout",
       "text": [
        "2014-09-22 15:28:43.816872\tencountered: 42000000\n",
        "2014-09-22 15:29:35.041937\tencountered: 43000000\n"
       ]
      },
      {
       "output_type": "stream",
       "stream": "stdout",
       "text": [
        "2014-09-22 15:30:26.719760\tencountered: 44000000\n",
        "2014-09-22 15:31:18.104713\tencountered: 45000000\n"
       ]
      },
      {
       "output_type": "stream",
       "stream": "stdout",
       "text": [
        "2014-09-22 15:32:01.355546\tencountered: 0\n",
        "2014-09-22 15:32:51.278315\tencountered: 1000000\n"
       ]
      },
      {
       "output_type": "stream",
       "stream": "stdout",
       "text": [
        "2014-09-22 15:33:40.794081\tencountered: 2000000\n",
        "2014-09-22 15:34:30.340310\tencountered: 3000000\n"
       ]
      },
      {
       "output_type": "stream",
       "stream": "stdout",
       "text": [
        "2014-09-22 15:35:20.135034\tencountered: 4000000\n",
        "2014-09-22 15:36:09.830247\tencountered: 5000000\n"
       ]
      },
      {
       "output_type": "stream",
       "stream": "stdout",
       "text": [
        "2014-09-22 15:36:59.273415\tencountered: 6000000\n",
        "2014-09-22 15:38:22.254848\tencountered: 1000000\tcurrent logloss: 0.473872"
       ]
      },
      {
       "output_type": "stream",
       "stream": "stdout",
       "text": [
        "\n",
        "2014-09-22 15:39:42.451849\tencountered: 2000000\tcurrent logloss: 0.468490"
       ]
      },
      {
       "output_type": "stream",
       "stream": "stdout",
       "text": [
        "\n",
        "2014-09-22 15:41:02.629488\tencountered: 3000000\tcurrent logloss: 0.466485"
       ]
      },
      {
       "output_type": "stream",
       "stream": "stdout",
       "text": [
        "\n",
        "2014-09-22 15:42:23.184372\tencountered: 4000000\tcurrent logloss: 0.465653"
       ]
      },
      {
       "output_type": "stream",
       "stream": "stdout",
       "text": [
        "\n",
        "2014-09-22 15:43:42.879344\tencountered: 5000000\tcurrent logloss: 0.464771"
       ]
      },
      {
       "output_type": "stream",
       "stream": "stdout",
       "text": [
        "\n",
        "2014-09-22 15:45:03.098847\tencountered: 6000000\tcurrent logloss: 0.464051"
       ]
      },
      {
       "output_type": "stream",
       "stream": "stdout",
       "text": [
        "\n",
        "2014-09-22 15:46:23.330805\tencountered: 7000000\tcurrent logloss: 0.463787"
       ]
      },
      {
       "output_type": "stream",
       "stream": "stdout",
       "text": [
        "\n",
        "2014-09-22 15:47:43.258854\tencountered: 8000000\tcurrent logloss: 0.463902"
       ]
      },
      {
       "output_type": "stream",
       "stream": "stdout",
       "text": [
        "\n",
        "2014-09-22 15:49:03.132596\tencountered: 9000000\tcurrent logloss: 0.463417"
       ]
      },
      {
       "output_type": "stream",
       "stream": "stdout",
       "text": [
        "\n",
        "2014-09-22 15:50:23.504595\tencountered: 10000000\tcurrent logloss: 0.463829"
       ]
      },
      {
       "output_type": "stream",
       "stream": "stdout",
       "text": [
        "\n",
        "2014-09-22 15:51:43.818696\tencountered: 11000000\tcurrent logloss: 0.463980"
       ]
      },
      {
       "output_type": "stream",
       "stream": "stdout",
       "text": [
        "\n",
        "2014-09-22 15:53:03.830366\tencountered: 12000000\tcurrent logloss: 0.463908"
       ]
      },
      {
       "output_type": "stream",
       "stream": "stdout",
       "text": [
        "\n",
        "2014-09-22 15:54:23.994302\tencountered: 13000000\tcurrent logloss: 0.463812"
       ]
      },
      {
       "output_type": "stream",
       "stream": "stdout",
       "text": [
        "\n",
        "2014-09-22 15:55:44.246593\tencountered: 14000000\tcurrent logloss: 0.464527"
       ]
      },
      {
       "output_type": "stream",
       "stream": "stdout",
       "text": [
        "\n",
        "2014-09-22 15:57:03.963485\tencountered: 15000000\tcurrent logloss: 0.464419"
       ]
      },
      {
       "output_type": "stream",
       "stream": "stdout",
       "text": [
        "\n",
        "2014-09-22 15:58:24.167134\tencountered: 16000000\tcurrent logloss: 0.464398"
       ]
      },
      {
       "output_type": "stream",
       "stream": "stdout",
       "text": [
        "\n",
        "2014-09-22 15:59:43.731649\tencountered: 17000000\tcurrent logloss: 0.464392"
       ]
      },
      {
       "output_type": "stream",
       "stream": "stdout",
       "text": [
        "\n",
        "2014-09-22 16:01:03.965864\tencountered: 18000000\tcurrent logloss: 0.464377"
       ]
      },
      {
       "output_type": "stream",
       "stream": "stdout",
       "text": [
        "\n",
        "2014-09-22 16:02:24.259315\tencountered: 19000000\tcurrent logloss: 0.464167"
       ]
      },
      {
       "output_type": "stream",
       "stream": "stdout",
       "text": [
        "\n",
        "2014-09-22 16:03:44.301425\tencountered: 20000000\tcurrent logloss: 0.464196"
       ]
      },
      {
       "output_type": "stream",
       "stream": "stdout",
       "text": [
        "\n",
        "2014-09-22 16:05:04.077092\tencountered: 21000000\tcurrent logloss: 0.464132"
       ]
      },
      {
       "output_type": "stream",
       "stream": "stdout",
       "text": [
        "\n",
        "2014-09-22 16:06:24.837474\tencountered: 22000000\tcurrent logloss: 0.463596"
       ]
      },
      {
       "output_type": "stream",
       "stream": "stdout",
       "text": [
        "\n",
        "2014-09-22 16:07:45.289005\tencountered: 23000000\tcurrent logloss: 0.463716"
       ]
      },
      {
       "output_type": "stream",
       "stream": "stdout",
       "text": [
        "\n",
        "2014-09-22 16:09:04.871523\tencountered: 24000000\tcurrent logloss: 0.463566"
       ]
      },
      {
       "output_type": "stream",
       "stream": "stdout",
       "text": [
        "\n",
        "2014-09-22 16:10:24.932379\tencountered: 25000000\tcurrent logloss: 0.463352"
       ]
      },
      {
       "output_type": "stream",
       "stream": "stdout",
       "text": [
        "\n",
        "2014-09-22 16:11:44.820034\tencountered: 26000000\tcurrent logloss: 0.463164"
       ]
      },
      {
       "output_type": "stream",
       "stream": "stdout",
       "text": [
        "\n",
        "2014-09-22 16:13:05.187836\tencountered: 27000000\tcurrent logloss: 0.463219"
       ]
      },
      {
       "output_type": "stream",
       "stream": "stdout",
       "text": [
        "\n",
        "2014-09-22 16:14:24.963475\tencountered: 28000000\tcurrent logloss: 0.463266"
       ]
      },
      {
       "output_type": "stream",
       "stream": "stdout",
       "text": [
        "\n",
        "2014-09-22 16:15:44.743439\tencountered: 29000000\tcurrent logloss: 0.463254"
       ]
      },
      {
       "output_type": "stream",
       "stream": "stdout",
       "text": [
        "\n",
        "2014-09-22 16:17:04.297661\tencountered: 30000000\tcurrent logloss: 0.463330"
       ]
      },
      {
       "output_type": "stream",
       "stream": "stdout",
       "text": [
        "\n",
        "2014-09-22 16:18:24.085330\tencountered: 31000000\tcurrent logloss: 0.463271"
       ]
      },
      {
       "output_type": "stream",
       "stream": "stdout",
       "text": [
        "\n",
        "2014-09-22 16:19:43.241124\tencountered: 32000000\tcurrent logloss: 0.463151"
       ]
      },
      {
       "output_type": "stream",
       "stream": "stdout",
       "text": [
        "\n",
        "2014-09-22 16:21:03.444370\tencountered: 33000000\tcurrent logloss: 0.463045"
       ]
      },
      {
       "output_type": "stream",
       "stream": "stdout",
       "text": [
        "\n",
        "2014-09-22 16:22:23.725528\tencountered: 34000000\tcurrent logloss: 0.463303"
       ]
      },
      {
       "output_type": "stream",
       "stream": "stdout",
       "text": [
        "\n",
        "2014-09-22 16:23:43.075868\tencountered: 35000000\tcurrent logloss: 0.463391"
       ]
      },
      {
       "output_type": "stream",
       "stream": "stdout",
       "text": [
        "\n",
        "2014-09-22 16:25:02.661978\tencountered: 36000000\tcurrent logloss: 0.463349"
       ]
      },
      {
       "output_type": "stream",
       "stream": "stdout",
       "text": [
        "\n",
        "2014-09-22 16:26:22.574287\tencountered: 37000000\tcurrent logloss: 0.463416"
       ]
      },
      {
       "output_type": "stream",
       "stream": "stdout",
       "text": [
        "\n",
        "2014-09-22 16:27:42.443814\tencountered: 38000000\tcurrent logloss: 0.463323"
       ]
      },
      {
       "output_type": "stream",
       "stream": "stdout",
       "text": [
        "\n",
        "2014-09-22 16:29:02.236978\tencountered: 39000000\tcurrent logloss: 0.462956"
       ]
      },
      {
       "output_type": "stream",
       "stream": "stdout",
       "text": [
        "\n",
        "2014-09-22 16:30:22.331804\tencountered: 40000000\tcurrent logloss: 0.462671"
       ]
      },
      {
       "output_type": "stream",
       "stream": "stdout",
       "text": [
        "\n",
        "2014-09-22 16:31:42.180816\tencountered: 41000000\tcurrent logloss: 0.462965"
       ]
      },
      {
       "output_type": "stream",
       "stream": "stdout",
       "text": [
        "\n",
        "2014-09-22 16:33:01.783170\tencountered: 42000000\tcurrent logloss: 0.462984"
       ]
      },
      {
       "output_type": "stream",
       "stream": "stdout",
       "text": [
        "\n",
        "2014-09-22 16:34:21.906006\tencountered: 43000000\tcurrent logloss: 0.463107"
       ]
      },
      {
       "output_type": "stream",
       "stream": "stdout",
       "text": [
        "\n",
        "2014-09-22 16:35:41.797973\tencountered: 44000000\tcurrent logloss: 0.463167"
       ]
      },
      {
       "output_type": "stream",
       "stream": "stdout",
       "text": [
        "\n",
        "2014-09-22 16:37:01.247449\tencountered: 45000000\tcurrent logloss: 0.463161"
       ]
      },
      {
       "output_type": "stream",
       "stream": "stdout",
       "text": [
        "\n"
       ]
      }
     ],
     "prompt_number": 9
    },
    {
     "cell_type": "code",
     "collapsed": false,
     "input": [
      "online_logistic_regression('data/train.csv.zip', 'data/test.csv.zip', 'submissions/submission.onlinelr4.csv')"
     ],
     "language": "python",
     "metadata": {},
     "outputs": [
      {
       "output_type": "stream",
       "stream": "stdout",
       "text": [
        "2014-09-23 04:56:12.497986\tencountered: 1000000\tcurrent logloss: 0.471594\n",
        "2014-09-23 04:57:36.576708\tencountered: 2000000\tcurrent logloss: 0.465924"
       ]
      },
      {
       "output_type": "stream",
       "stream": "stdout",
       "text": [
        "\n",
        "2014-09-23 04:59:00.140140\tencountered: 3000000\tcurrent logloss: 0.463744"
       ]
      },
      {
       "output_type": "stream",
       "stream": "stdout",
       "text": [
        "\n",
        "2014-09-23 05:00:24.668135\tencountered: 4000000\tcurrent logloss: 0.462837"
       ]
      },
      {
       "output_type": "stream",
       "stream": "stdout",
       "text": [
        "\n",
        "2014-09-23 05:01:49.006249\tencountered: 5000000\tcurrent logloss: 0.461864"
       ]
      },
      {
       "output_type": "stream",
       "stream": "stdout",
       "text": [
        "\n",
        "2014-09-23 05:03:12.299641\tencountered: 6000000\tcurrent logloss: 0.461070"
       ]
      },
      {
       "output_type": "stream",
       "stream": "stdout",
       "text": [
        "\n",
        "2014-09-23 05:04:35.374258\tencountered: 7000000\tcurrent logloss: 0.460716"
       ]
      },
      {
       "output_type": "stream",
       "stream": "stdout",
       "text": [
        "\n",
        "2014-09-23 05:05:58.046494\tencountered: 8000000\tcurrent logloss: 0.460773"
       ]
      },
      {
       "output_type": "stream",
       "stream": "stdout",
       "text": [
        "\n",
        "2014-09-23 05:07:21.687609\tencountered: 9000000\tcurrent logloss: 0.460206"
       ]
      },
      {
       "output_type": "stream",
       "stream": "stdout",
       "text": [
        "\n",
        "2014-09-23 05:08:44.681281\tencountered: 10000000\tcurrent logloss: 0.460540"
       ]
      },
      {
       "output_type": "stream",
       "stream": "stdout",
       "text": [
        "\n",
        "2014-09-23 05:10:07.701331\tencountered: 11000000\tcurrent logloss: 0.460650"
       ]
      },
      {
       "output_type": "stream",
       "stream": "stdout",
       "text": [
        "\n",
        "2014-09-23 05:11:31.374732\tencountered: 12000000\tcurrent logloss: 0.460526"
       ]
      },
      {
       "output_type": "stream",
       "stream": "stdout",
       "text": [
        "\n",
        "2014-09-23 05:12:54.164148\tencountered: 13000000\tcurrent logloss: 0.460372"
       ]
      },
      {
       "output_type": "stream",
       "stream": "stdout",
       "text": [
        "\n",
        "2014-09-23 05:14:17.507905\tencountered: 14000000\tcurrent logloss: 0.461059"
       ]
      },
      {
       "output_type": "stream",
       "stream": "stdout",
       "text": [
        "\n",
        "2014-09-23 05:15:41.622299\tencountered: 15000000\tcurrent logloss: 0.460932"
       ]
      },
      {
       "output_type": "stream",
       "stream": "stdout",
       "text": [
        "\n",
        "2014-09-23 05:17:04.846170\tencountered: 16000000\tcurrent logloss: 0.460885"
       ]
      },
      {
       "output_type": "stream",
       "stream": "stdout",
       "text": [
        "\n",
        "2014-09-23 05:18:28.286324\tencountered: 17000000\tcurrent logloss: 0.460860"
       ]
      },
      {
       "output_type": "stream",
       "stream": "stdout",
       "text": [
        "\n",
        "2014-09-23 05:19:50.958247\tencountered: 18000000\tcurrent logloss: 0.460844"
       ]
      },
      {
       "output_type": "stream",
       "stream": "stdout",
       "text": [
        "\n",
        "2014-09-23 05:21:14.529586\tencountered: 19000000\tcurrent logloss: 0.460624"
       ]
      },
      {
       "output_type": "stream",
       "stream": "stdout",
       "text": [
        "\n",
        "2014-09-23 05:22:38.855030\tencountered: 20000000\tcurrent logloss: 0.460620"
       ]
      },
      {
       "output_type": "stream",
       "stream": "stdout",
       "text": [
        "\n",
        "2014-09-23 05:24:03.076737\tencountered: 21000000\tcurrent logloss: 0.460543"
       ]
      },
      {
       "output_type": "stream",
       "stream": "stdout",
       "text": [
        "\n",
        "2014-09-23 05:25:27.043090\tencountered: 22000000\tcurrent logloss: 0.459999"
       ]
      },
      {
       "output_type": "stream",
       "stream": "stdout",
       "text": [
        "\n",
        "2014-09-23 05:26:51.126619\tencountered: 23000000\tcurrent logloss: 0.460098"
       ]
      },
      {
       "output_type": "stream",
       "stream": "stdout",
       "text": [
        "\n",
        "2014-09-23 05:28:14.955720\tencountered: 24000000\tcurrent logloss: 0.459939"
       ]
      },
      {
       "output_type": "stream",
       "stream": "stdout",
       "text": [
        "\n",
        "2014-09-23 05:29:38.012496\tencountered: 25000000\tcurrent logloss: 0.459724"
       ]
      },
      {
       "output_type": "stream",
       "stream": "stdout",
       "text": [
        "\n",
        "2014-09-23 05:31:02.088465\tencountered: 26000000\tcurrent logloss: 0.459529"
       ]
      },
      {
       "output_type": "stream",
       "stream": "stdout",
       "text": [
        "\n",
        "2014-09-23 05:32:24.997334\tencountered: 27000000\tcurrent logloss: 0.459559"
       ]
      },
      {
       "output_type": "stream",
       "stream": "stdout",
       "text": [
        "\n",
        "2014-09-23 05:33:48.913562\tencountered: 28000000\tcurrent logloss: 0.459597"
       ]
      },
      {
       "output_type": "stream",
       "stream": "stdout",
       "text": [
        "\n",
        "2014-09-23 05:35:12.870578\tencountered: 29000000\tcurrent logloss: 0.459579"
       ]
      },
      {
       "output_type": "stream",
       "stream": "stdout",
       "text": [
        "\n",
        "2014-09-23 05:36:37.456502\tencountered: 30000000\tcurrent logloss: 0.459642"
       ]
      },
      {
       "output_type": "stream",
       "stream": "stdout",
       "text": [
        "\n",
        "2014-09-23 05:38:05.971314\tencountered: 31000000\tcurrent logloss: 0.459583"
       ]
      },
      {
       "output_type": "stream",
       "stream": "stdout",
       "text": [
        "\n",
        "2014-09-23 05:39:34.317020\tencountered: 32000000\tcurrent logloss: 0.459466"
       ]
      },
      {
       "output_type": "stream",
       "stream": "stdout",
       "text": [
        "\n",
        "2014-09-23 05:41:03.250489\tencountered: 33000000\tcurrent logloss: 0.459353"
       ]
      },
      {
       "output_type": "stream",
       "stream": "stdout",
       "text": [
        "\n",
        "2014-09-23 05:42:30.679718\tencountered: 34000000\tcurrent logloss: 0.459590"
       ]
      },
      {
       "output_type": "stream",
       "stream": "stdout",
       "text": [
        "\n",
        "2014-09-23 05:43:59.216443\tencountered: 35000000\tcurrent logloss: 0.459669"
       ]
      },
      {
       "output_type": "stream",
       "stream": "stdout",
       "text": [
        "\n",
        "2014-09-23 05:45:28.356608\tencountered: 36000000\tcurrent logloss: 0.459624"
       ]
      },
      {
       "output_type": "stream",
       "stream": "stdout",
       "text": [
        "\n",
        "2014-09-23 05:46:57.016244\tencountered: 37000000\tcurrent logloss: 0.459684"
       ]
      },
      {
       "output_type": "stream",
       "stream": "stdout",
       "text": [
        "\n",
        "2014-09-23 05:48:24.889782\tencountered: 38000000\tcurrent logloss: 0.459589"
       ]
      },
      {
       "output_type": "stream",
       "stream": "stdout",
       "text": [
        "\n",
        "2014-09-23 05:49:53.717905\tencountered: 39000000\tcurrent logloss: 0.459212"
       ]
      },
      {
       "output_type": "stream",
       "stream": "stdout",
       "text": [
        "\n",
        "2014-09-23 05:51:22.467687\tencountered: 40000000\tcurrent logloss: 0.458909"
       ]
      },
      {
       "output_type": "stream",
       "stream": "stdout",
       "text": [
        "\n",
        "2014-09-23 05:52:51.627311\tencountered: 41000000\tcurrent logloss: 0.459197"
       ]
      },
      {
       "output_type": "stream",
       "stream": "stdout",
       "text": [
        "\n",
        "2014-09-23 05:54:18.988049\tencountered: 42000000\tcurrent logloss: 0.459211"
       ]
      },
      {
       "output_type": "stream",
       "stream": "stdout",
       "text": [
        "\n",
        "2014-09-23 05:55:41.725922\tencountered: 43000000\tcurrent logloss: 0.459321"
       ]
      },
      {
       "output_type": "stream",
       "stream": "stdout",
       "text": [
        "\n",
        "2014-09-23 05:57:03.850863\tencountered: 44000000\tcurrent logloss: 0.459376"
       ]
      },
      {
       "output_type": "stream",
       "stream": "stdout",
       "text": [
        "\n",
        "2014-09-23 05:58:31.046463\tencountered: 45000000\tcurrent logloss: 0.459368"
       ]
      },
      {
       "output_type": "stream",
       "stream": "stdout",
       "text": [
        "\n"
       ]
      }
     ]
    },
    {
     "cell_type": "code",
     "collapsed": false,
     "input": [
      "online_logistic_regression('data/train.csv.zip', 'data/test.csv.zip', 'submissions/submission.onlinelr5.csv')"
     ],
     "language": "python",
     "metadata": {},
     "outputs": [
      {
       "output_type": "stream",
       "stream": "stdout",
       "text": [
        "2014-09-23 06:18:10.896391\tencountered: 1000000\tcurrent logloss: 0.471594\n",
        "2014-09-23 06:19:34.422744\tencountered: 2000000\tcurrent logloss: 0.465924"
       ]
      },
      {
       "output_type": "stream",
       "stream": "stdout",
       "text": [
        "\n",
        "2014-09-23 06:20:57.890467\tencountered: 3000000\tcurrent logloss: 0.463744"
       ]
      },
      {
       "output_type": "stream",
       "stream": "stdout",
       "text": [
        "\n",
        "2014-09-23 06:22:21.155377\tencountered: 4000000\tcurrent logloss: 0.462837"
       ]
      },
      {
       "output_type": "stream",
       "stream": "stdout",
       "text": [
        "\n",
        "2014-09-23 06:23:45.198122\tencountered: 5000000\tcurrent logloss: 0.461864"
       ]
      },
      {
       "output_type": "stream",
       "stream": "stdout",
       "text": [
        "\n",
        "2014-09-23 06:25:08.275125\tencountered: 6000000\tcurrent logloss: 0.461070"
       ]
      },
      {
       "output_type": "stream",
       "stream": "stdout",
       "text": [
        "\n",
        "2014-09-23 06:26:31.332367\tencountered: 7000000\tcurrent logloss: 0.460716"
       ]
      },
      {
       "output_type": "stream",
       "stream": "stdout",
       "text": [
        "\n",
        "2014-09-23 06:27:53.737388\tencountered: 8000000\tcurrent logloss: 0.460773"
       ]
      },
      {
       "output_type": "stream",
       "stream": "stdout",
       "text": [
        "\n",
        "2014-09-23 06:29:16.727356\tencountered: 9000000\tcurrent logloss: 0.460206"
       ]
      },
      {
       "output_type": "stream",
       "stream": "stdout",
       "text": [
        "\n",
        "2014-09-23 06:30:39.733252\tencountered: 10000000\tcurrent logloss: 0.460540"
       ]
      },
      {
       "output_type": "stream",
       "stream": "stdout",
       "text": [
        "\n",
        "2014-09-23 06:32:02.726099\tencountered: 11000000\tcurrent logloss: 0.460650"
       ]
      },
      {
       "output_type": "stream",
       "stream": "stdout",
       "text": [
        "\n",
        "2014-09-23 06:33:25.685928\tencountered: 12000000\tcurrent logloss: 0.460526"
       ]
      },
      {
       "output_type": "stream",
       "stream": "stdout",
       "text": [
        "\n",
        "2014-09-23 06:34:48.799927\tencountered: 13000000\tcurrent logloss: 0.460372"
       ]
      },
      {
       "output_type": "stream",
       "stream": "stdout",
       "text": [
        "\n",
        "2014-09-23 06:36:12.145368\tencountered: 14000000\tcurrent logloss: 0.461059"
       ]
      },
      {
       "output_type": "stream",
       "stream": "stdout",
       "text": [
        "\n",
        "2014-09-23 06:37:35.512104\tencountered: 15000000\tcurrent logloss: 0.460932"
       ]
      },
      {
       "output_type": "stream",
       "stream": "stdout",
       "text": [
        "\n",
        "2014-09-23 06:38:57.916918\tencountered: 16000000\tcurrent logloss: 0.460885"
       ]
      },
      {
       "output_type": "stream",
       "stream": "stdout",
       "text": [
        "\n",
        "2014-09-23 06:40:22.098499\tencountered: 17000000\tcurrent logloss: 0.460860"
       ]
      },
      {
       "output_type": "stream",
       "stream": "stdout",
       "text": [
        "\n",
        "2014-09-23 06:41:45.159180\tencountered: 18000000\tcurrent logloss: 0.460844"
       ]
      },
      {
       "output_type": "stream",
       "stream": "stdout",
       "text": [
        "\n",
        "2014-09-23 06:43:08.171927\tencountered: 19000000\tcurrent logloss: 0.460624"
       ]
      },
      {
       "output_type": "stream",
       "stream": "stdout",
       "text": [
        "\n",
        "2014-09-23 06:44:30.428014\tencountered: 20000000\tcurrent logloss: 0.460620"
       ]
      },
      {
       "output_type": "stream",
       "stream": "stdout",
       "text": [
        "\n",
        "2014-09-23 06:45:53.059128\tencountered: 21000000\tcurrent logloss: 0.460543"
       ]
      },
      {
       "output_type": "stream",
       "stream": "stdout",
       "text": [
        "\n",
        "2014-09-23 06:47:16.487329\tencountered: 22000000\tcurrent logloss: 0.459999"
       ]
      },
      {
       "output_type": "stream",
       "stream": "stdout",
       "text": [
        "\n",
        "2014-09-23 06:48:39.089327\tencountered: 23000000\tcurrent logloss: 0.460098"
       ]
      },
      {
       "output_type": "stream",
       "stream": "stdout",
       "text": [
        "\n",
        "2014-09-23 06:50:01.332132\tencountered: 24000000\tcurrent logloss: 0.459939"
       ]
      },
      {
       "output_type": "stream",
       "stream": "stdout",
       "text": [
        "\n",
        "2014-09-23 06:51:24.335275\tencountered: 25000000\tcurrent logloss: 0.459724"
       ]
      },
      {
       "output_type": "stream",
       "stream": "stdout",
       "text": [
        "\n",
        "2014-09-23 06:52:47.363224\tencountered: 26000000\tcurrent logloss: 0.459529"
       ]
      },
      {
       "output_type": "stream",
       "stream": "stdout",
       "text": [
        "\n",
        "2014-09-23 06:54:10.659982\tencountered: 27000000\tcurrent logloss: 0.459559"
       ]
      },
      {
       "output_type": "stream",
       "stream": "stdout",
       "text": [
        "\n",
        "2014-09-23 06:55:34.419915\tencountered: 28000000\tcurrent logloss: 0.459597"
       ]
      },
      {
       "output_type": "stream",
       "stream": "stdout",
       "text": [
        "\n",
        "2014-09-23 06:56:57.044833\tencountered: 29000000\tcurrent logloss: 0.459579"
       ]
      },
      {
       "output_type": "stream",
       "stream": "stdout",
       "text": [
        "\n",
        "2014-09-23 06:58:20.740677\tencountered: 30000000\tcurrent logloss: 0.459642"
       ]
      },
      {
       "output_type": "stream",
       "stream": "stdout",
       "text": [
        "\n",
        "2014-09-23 06:59:43.808496\tencountered: 31000000\tcurrent logloss: 0.459583"
       ]
      },
      {
       "output_type": "stream",
       "stream": "stdout",
       "text": [
        "\n",
        "2014-09-23 07:01:07.708540\tencountered: 32000000\tcurrent logloss: 0.459466"
       ]
      },
      {
       "output_type": "stream",
       "stream": "stdout",
       "text": [
        "\n",
        "2014-09-23 07:02:31.694215\tencountered: 33000000\tcurrent logloss: 0.459353"
       ]
      },
      {
       "output_type": "stream",
       "stream": "stdout",
       "text": [
        "\n",
        "2014-09-23 07:03:54.683660\tencountered: 34000000\tcurrent logloss: 0.459590"
       ]
      },
      {
       "output_type": "stream",
       "stream": "stdout",
       "text": [
        "\n",
        "2014-09-23 07:05:17.903654\tencountered: 35000000\tcurrent logloss: 0.459669"
       ]
      },
      {
       "output_type": "stream",
       "stream": "stdout",
       "text": [
        "\n",
        "2014-09-23 07:06:41.231568\tencountered: 36000000\tcurrent logloss: 0.459624"
       ]
      },
      {
       "output_type": "stream",
       "stream": "stdout",
       "text": [
        "\n",
        "2014-09-23 07:08:04.266256\tencountered: 37000000\tcurrent logloss: 0.459684"
       ]
      },
      {
       "output_type": "stream",
       "stream": "stdout",
       "text": [
        "\n",
        "2014-09-23 07:09:27.293760\tencountered: 38000000\tcurrent logloss: 0.459589"
       ]
      },
      {
       "output_type": "stream",
       "stream": "stdout",
       "text": [
        "\n",
        "2014-09-23 07:10:51.107740\tencountered: 39000000\tcurrent logloss: 0.459212"
       ]
      },
      {
       "output_type": "stream",
       "stream": "stdout",
       "text": [
        "\n",
        "2014-09-23 07:12:13.587719\tencountered: 40000000\tcurrent logloss: 0.458909"
       ]
      },
      {
       "output_type": "stream",
       "stream": "stdout",
       "text": [
        "\n",
        "2014-09-23 07:13:36.292028\tencountered: 41000000\tcurrent logloss: 0.459197"
       ]
      },
      {
       "output_type": "stream",
       "stream": "stdout",
       "text": [
        "\n",
        "2014-09-23 07:14:59.327884\tencountered: 42000000\tcurrent logloss: 0.459211"
       ]
      },
      {
       "output_type": "stream",
       "stream": "stdout",
       "text": [
        "\n",
        "2014-09-23 07:16:23.306824\tencountered: 43000000\tcurrent logloss: 0.459321"
       ]
      },
      {
       "output_type": "stream",
       "stream": "stdout",
       "text": [
        "\n",
        "2014-09-23 07:17:45.593157\tencountered: 44000000\tcurrent logloss: 0.459376"
       ]
      },
      {
       "output_type": "stream",
       "stream": "stdout",
       "text": [
        "\n",
        "2014-09-23 07:19:08.804998\tencountered: 45000000\tcurrent logloss: 0.459368"
       ]
      },
      {
       "output_type": "stream",
       "stream": "stdout",
       "text": [
        "\n"
       ]
      }
     ]
    },
    {
     "cell_type": "code",
     "collapsed": false,
     "input": [
      "fname_in = 'submissions/submission.onlinelr.csv'\n",
      "fname_out = 'submissions/submission.onlinelr2.csv'\n",
      "with open(fname_in, 'rU') as fin, open(fname_out, 'wb') as fout:\n",
      "    reader = csv.reader(fin)\n",
      "    writer = csv.writer(fout)\n",
      "    writer.writerow(reader.next())\n",
      "    for t, row in enumerate(reader):\n",
      "        if t % 1000000 == 0:\n",
      "            print \"Processing row {}\".format(t)\n",
      "        val = float(row[1])\n",
      "        if val < 0.5:\n",
      "            val = max(0, val - .01)\n",
      "        if val >= 0.5:\n",
      "            val = min(1, val + .01)\n",
      "        row[1] = val\n",
      "        writer.writerow(row)\n"
     ],
     "language": "python",
     "metadata": {},
     "outputs": [
      {
       "output_type": "stream",
       "stream": "stdout",
       "text": [
        "Processing row 0\n",
        "Processing row 1000000"
       ]
      },
      {
       "output_type": "stream",
       "stream": "stdout",
       "text": [
        "\n",
        "Processing row 2000000"
       ]
      },
      {
       "output_type": "stream",
       "stream": "stdout",
       "text": [
        "\n",
        "Processing row 3000000"
       ]
      },
      {
       "output_type": "stream",
       "stream": "stdout",
       "text": [
        "\n",
        "Processing row 4000000"
       ]
      },
      {
       "output_type": "stream",
       "stream": "stdout",
       "text": [
        "\n",
        "Processing row 5000000"
       ]
      },
      {
       "output_type": "stream",
       "stream": "stdout",
       "text": [
        "\n",
        "Processing row 6000000"
       ]
      },
      {
       "output_type": "stream",
       "stream": "stdout",
       "text": [
        "\n"
       ]
      }
     ],
     "prompt_number": 13
    },
    {
     "cell_type": "code",
     "collapsed": false,
     "input": [
      "from itertools import izip\n",
      "\n",
      "def cmpare(thresh):\n",
      "    #thresh = 0.1\n",
      "    fname_in1 = 'submissions/submission.onlinelr.csv'\n",
      "    fname_in2 = 'submissions/submission.onlinelr4.csv'\n",
      "    differences = []\n",
      "    with open(fname_in1, 'rU') as fin1, open(fname_in2, 'rU') as fin2:\n",
      "        reader1 = csv.reader(fin1)\n",
      "        reader2 = csv.reader(fin2)\n",
      "        reader1.next()\n",
      "        reader2.next()\n",
      "        t = 0\n",
      "        for row1, row2 in izip(reader1, reader2):\n",
      "            if t % 1000000 == 0:\n",
      "                print \"Processing row {}\".format(t)\n",
      "            t += 1\n",
      "            val1 = float(row1[1])\n",
      "            val2 = float(row2[1])\n",
      "            if abs(val1 - val2) > thresh:\n",
      "                differences.append(tuple(row1 + row2))\n",
      "    return differences"
     ],
     "language": "python",
     "metadata": {},
     "outputs": [],
     "prompt_number": 16
    },
    {
     "cell_type": "code",
     "collapsed": false,
     "input": [
      "len(cmpare(0.03))"
     ],
     "language": "python",
     "metadata": {},
     "outputs": [
      {
       "output_type": "stream",
       "stream": "stdout",
       "text": [
        "Processing row 0\n",
        "Processing row 1000000"
       ]
      },
      {
       "output_type": "stream",
       "stream": "stdout",
       "text": [
        "\n",
        "Processing row 2000000"
       ]
      },
      {
       "output_type": "stream",
       "stream": "stdout",
       "text": [
        "\n",
        "Processing row 3000000"
       ]
      },
      {
       "output_type": "stream",
       "stream": "stdout",
       "text": [
        "\n",
        "Processing row 4000000"
       ]
      },
      {
       "output_type": "stream",
       "stream": "stdout",
       "text": [
        "\n",
        "Processing row 5000000"
       ]
      },
      {
       "output_type": "stream",
       "stream": "stdout",
       "text": [
        "\n",
        "Processing row 6000000"
       ]
      },
      {
       "output_type": "stream",
       "stream": "stdout",
       "text": [
        "\n"
       ]
      },
      {
       "metadata": {},
       "output_type": "pyout",
       "prompt_number": 17,
       "text": [
        "1499866"
       ]
      }
     ],
     "prompt_number": 17
    },
    {
     "cell_type": "code",
     "collapsed": false,
     "input": [
      "len(cmpare(0.1))"
     ],
     "language": "python",
     "metadata": {},
     "outputs": [
      {
       "output_type": "stream",
       "stream": "stdout",
       "text": [
        "Processing row 0\n",
        "Processing row 1000000"
       ]
      },
      {
       "output_type": "stream",
       "stream": "stdout",
       "text": [
        "\n",
        "Processing row 2000000"
       ]
      },
      {
       "output_type": "stream",
       "stream": "stdout",
       "text": [
        "\n",
        "Processing row 3000000"
       ]
      },
      {
       "output_type": "stream",
       "stream": "stdout",
       "text": [
        "\n",
        "Processing row 4000000"
       ]
      },
      {
       "output_type": "stream",
       "stream": "stdout",
       "text": [
        "\n",
        "Processing row 5000000"
       ]
      },
      {
       "output_type": "stream",
       "stream": "stdout",
       "text": [
        "\n",
        "Processing row 6000000"
       ]
      },
      {
       "output_type": "stream",
       "stream": "stdout",
       "text": [
        "\n"
       ]
      },
      {
       "metadata": {},
       "output_type": "pyout",
       "prompt_number": 18,
       "text": [
        "167581"
       ]
      }
     ],
     "prompt_number": 18
    },
    {
     "cell_type": "code",
     "collapsed": false,
     "input": [
      "len(cmpare(0.2))"
     ],
     "language": "python",
     "metadata": {},
     "outputs": [
      {
       "output_type": "stream",
       "stream": "stdout",
       "text": [
        "Processing row 0\n",
        "Processing row 1000000"
       ]
      },
      {
       "output_type": "stream",
       "stream": "stdout",
       "text": [
        "\n",
        "Processing row 2000000"
       ]
      },
      {
       "output_type": "stream",
       "stream": "stdout",
       "text": [
        "\n",
        "Processing row 3000000"
       ]
      },
      {
       "output_type": "stream",
       "stream": "stdout",
       "text": [
        "\n",
        "Processing row 4000000"
       ]
      },
      {
       "output_type": "stream",
       "stream": "stdout",
       "text": [
        "\n",
        "Processing row 5000000"
       ]
      },
      {
       "output_type": "stream",
       "stream": "stdout",
       "text": [
        "\n",
        "Processing row 6000000"
       ]
      },
      {
       "output_type": "stream",
       "stream": "stdout",
       "text": [
        "\n"
       ]
      },
      {
       "metadata": {},
       "output_type": "pyout",
       "prompt_number": 19,
       "text": [
        "9269"
       ]
      }
     ],
     "prompt_number": 19
    },
    {
     "cell_type": "code",
     "collapsed": false,
     "input": [
      "len(cmpare(0.5))"
     ],
     "language": "python",
     "metadata": {},
     "outputs": [
      {
       "output_type": "stream",
       "stream": "stdout",
       "text": [
        "Processing row 0\n",
        "Processing row 1000000"
       ]
      },
      {
       "output_type": "stream",
       "stream": "stdout",
       "text": [
        "\n",
        "Processing row 2000000"
       ]
      },
      {
       "output_type": "stream",
       "stream": "stdout",
       "text": [
        "\n",
        "Processing row 3000000"
       ]
      },
      {
       "output_type": "stream",
       "stream": "stdout",
       "text": [
        "\n",
        "Processing row 4000000"
       ]
      },
      {
       "output_type": "stream",
       "stream": "stdout",
       "text": [
        "\n",
        "Processing row 5000000"
       ]
      },
      {
       "output_type": "stream",
       "stream": "stdout",
       "text": [
        "\n",
        "Processing row 6000000"
       ]
      },
      {
       "output_type": "stream",
       "stream": "stdout",
       "text": [
        "\n"
       ]
      },
      {
       "metadata": {},
       "output_type": "pyout",
       "prompt_number": 20,
       "text": [
        "66"
       ]
      }
     ],
     "prompt_number": 20
    },
    {
     "cell_type": "code",
     "collapsed": false,
     "input": [
      "diffs = cmpare(0.5)"
     ],
     "language": "python",
     "metadata": {},
     "outputs": [
      {
       "output_type": "stream",
       "stream": "stdout",
       "text": [
        "Processing row 0\n",
        "Processing row 1000000"
       ]
      },
      {
       "output_type": "stream",
       "stream": "stdout",
       "text": [
        "\n",
        "Processing row 2000000"
       ]
      },
      {
       "output_type": "stream",
       "stream": "stdout",
       "text": [
        "\n",
        "Processing row 3000000"
       ]
      },
      {
       "output_type": "stream",
       "stream": "stdout",
       "text": [
        "\n",
        "Processing row 4000000"
       ]
      },
      {
       "output_type": "stream",
       "stream": "stdout",
       "text": [
        "\n",
        "Processing row 5000000"
       ]
      },
      {
       "output_type": "stream",
       "stream": "stdout",
       "text": [
        "\n",
        "Processing row 6000000"
       ]
      },
      {
       "output_type": "stream",
       "stream": "stdout",
       "text": [
        "\n"
       ]
      }
     ],
     "prompt_number": 21
    },
    {
     "cell_type": "code",
     "collapsed": false,
     "input": [
      "diffs"
     ],
     "language": "python",
     "metadata": {},
     "outputs": [
      {
       "metadata": {},
       "output_type": "pyout",
       "prompt_number": 22,
       "text": [
        "[('60151765', '0.909811', '60151765', '0.385612'),\n",
        " ('60187256', '0.795230', '60187256', '0.179400'),\n",
        " ('60297304', '0.925438', '60297304', '0.379472'),\n",
        " ('60343190', '0.898902', '60343190', '0.385663'),\n",
        " ('60385007', '0.685567', '60385007', '0.065725'),\n",
        " ('60500176', '0.828764', '60500176', '0.173558'),\n",
        " ('60502258', '0.789426', '60502258', '0.145739'),\n",
        " ('60531652', '0.908706', '60531652', '0.278373'),\n",
        " ('60537834', '0.697310', '60537834', '0.083059'),\n",
        " ('60599146', '0.844955', '60599146', '0.280994'),\n",
        " ('60674594', '0.901656', '60674594', '0.330101'),\n",
        " ('60847733', '0.647098', '60847733', '0.115759'),\n",
        " ('61559979', '0.878510', '61559979', '0.189375'),\n",
        " ('61867690', '0.876173', '61867690', '0.315046'),\n",
        " ('61877516', '0.868407', '61877516', '0.209938'),\n",
        " ('62024956', '0.728388', '62024956', '0.202337'),\n",
        " ('62059298', '0.875211', '62059298', '0.207550'),\n",
        " ('62107995', '0.845293', '62107995', '0.094996'),\n",
        " ('62141210', '0.861917', '62141210', '0.338661'),\n",
        " ('62368561', '0.857985', '62368561', '0.255670'),\n",
        " ('62382682', '0.862967', '62382682', '0.176254'),\n",
        " ('62612362', '0.825629', '62612362', '0.223944'),\n",
        " ('62725830', '0.242547', '62725830', '0.750659'),\n",
        " ('62984099', '0.616410', '62984099', '0.073194'),\n",
        " ('63079452', '0.891400', '63079452', '0.266612'),\n",
        " ('63105875', '0.325830', '63105875', '0.842360'),\n",
        " ('63158141', '0.945751', '63158141', '0.391604'),\n",
        " ('63163642', '0.935766', '63163642', '0.427721'),\n",
        " ('63189073', '0.937633', '63189073', '0.374409'),\n",
        " ('63250927', '0.873584', '63250927', '0.301971'),\n",
        " ('63277409', '0.872551', '63277409', '0.194402'),\n",
        " ('63278557', '0.758146', '63278557', '0.107379'),\n",
        " ('63335940', '0.873282', '63335940', '0.208285'),\n",
        " ('63336267', '0.950554', '63336267', '0.429748'),\n",
        " ('63388990', '0.326378', '63388990', '0.847576'),\n",
        " ('63911860', '0.916603', '63911860', '0.335575'),\n",
        " ('64034257', '0.897119', '64034257', '0.318523'),\n",
        " ('64110868', '0.860451', '64110868', '0.186618'),\n",
        " ('64222970', '0.931690', '64222970', '0.323016'),\n",
        " ('64422660', '0.619587', '64422660', '0.065367'),\n",
        " ('64430007', '0.658545', '64430007', '0.086194'),\n",
        " ('64465638', '0.626185', '64465638', '0.106091'),\n",
        " ('64552665', '0.836642', '64552665', '0.192352'),\n",
        " ('64562924', '0.726122', '64562924', '0.122219'),\n",
        " ('64638986', '0.926042', '64638986', '0.272067'),\n",
        " ('64840202', '0.227123', '64840202', '0.765048'),\n",
        " ('64874999', '0.608039', '64874999', '0.083222'),\n",
        " ('64875718', '0.221361', '64875718', '0.728797'),\n",
        " ('64979048', '0.637809', '64979048', '0.098782'),\n",
        " ('65124957', '0.873247', '65124957', '0.207116'),\n",
        " ('65148310', '0.243679', '65148310', '0.745986'),\n",
        " ('65208564', '0.750175', '65208564', '0.101652'),\n",
        " ('65305426', '0.854836', '65305426', '0.230375'),\n",
        " ('65375170', '0.717026', '65375170', '0.096020'),\n",
        " ('65442928', '0.923820', '65442928', '0.364696'),\n",
        " ('65559241', '0.584865', '65559241', '0.059445'),\n",
        " ('65613588', '0.700920', '65613588', '0.057139'),\n",
        " ('65814094', '0.820679', '65814094', '0.131408'),\n",
        " ('65867465', '0.259416', '65867465', '0.763220'),\n",
        " ('65926324', '0.888210', '65926324', '0.335183'),\n",
        " ('65928142', '0.879774', '65928142', '0.299830'),\n",
        " ('65934487', '0.900767', '65934487', '0.370795'),\n",
        " ('65944169', '0.750425', '65944169', '0.122709'),\n",
        " ('65972804', '0.868541', '65972804', '0.177665'),\n",
        " ('66000137', '0.803860', '66000137', '0.222434'),\n",
        " ('66018621', '0.859518', '66018621', '0.339273')]"
       ]
      }
     ],
     "prompt_number": 22
    },
    {
     "cell_type": "code",
     "collapsed": false,
     "input": [
      "def modify(thresh, outfilename):\n",
      "    fname_in1 = 'submissions/submission.onlinelr.csv'\n",
      "    fname_in2 = 'submissions/submission.onlinelr4.csv'\n",
      "    with open(fname_in1, 'rU') as fin1, open(fname_in2, 'rU') as fin2, open(outfilename, 'wb') as fout:\n",
      "        reader1 = csv.reader(fin1)\n",
      "        reader2 = csv.reader(fin2)\n",
      "        writer = csv.writer(fout)\n",
      "        writer.writerow(reader1.next())\n",
      "        reader2.next()\n",
      "        t = 0\n",
      "        for row1, row2 in izip(reader1, reader2):\n",
      "            if t % 1000000 == 0:\n",
      "                print \"Processing row {}\".format(t)\n",
      "            t += 1\n",
      "            rowid = row1[0]\n",
      "            val1 = float(row1[1])\n",
      "            val2 = float(row2[1])\n",
      "            if abs(val1 - val2) > thresh:\n",
      "                if val1 < val2:\n",
      "                    newval = min(1, val2 + 0.05)\n",
      "                else:\n",
      "                    newval = max(0, val2 - 0.05)\n",
      "                writer.writerow([rowid, newval])\n"
     ],
     "language": "python",
     "metadata": {},
     "outputs": [],
     "prompt_number": 23
    },
    {
     "cell_type": "code",
     "collapsed": false,
     "input": [
      "modify(0.5, 'submissions/submission.lastday.csv')"
     ],
     "language": "python",
     "metadata": {},
     "outputs": [
      {
       "output_type": "stream",
       "stream": "stdout",
       "text": [
        "Processing row 0\n",
        "Processing row 1000000"
       ]
      },
      {
       "output_type": "stream",
       "stream": "stdout",
       "text": [
        "\n",
        "Processing row 2000000"
       ]
      },
      {
       "output_type": "stream",
       "stream": "stdout",
       "text": [
        "\n",
        "Processing row 3000000"
       ]
      },
      {
       "output_type": "stream",
       "stream": "stdout",
       "text": [
        "\n",
        "Processing row 4000000"
       ]
      },
      {
       "output_type": "stream",
       "stream": "stdout",
       "text": [
        "\n",
        "Processing row 5000000"
       ]
      },
      {
       "output_type": "stream",
       "stream": "stdout",
       "text": [
        "\n",
        "Processing row 6000000"
       ]
      },
      {
       "output_type": "stream",
       "stream": "stdout",
       "text": [
        "\n"
       ]
      }
     ],
     "prompt_number": 24
    },
    {
     "cell_type": "code",
     "collapsed": false,
     "input": [
      "dataio.head('data/train.csv.zip')"
     ],
     "language": "python",
     "metadata": {},
     "outputs": [
      {
       "html": [
        "<div style=\"max-height:1000px;max-width:1500px;overflow:auto;\">\n",
        "<table border=\"1\" class=\"dataframe\">\n",
        "  <thead>\n",
        "    <tr style=\"text-align: right;\">\n",
        "      <th></th>\n",
        "      <th>Id</th>\n",
        "      <th>Label</th>\n",
        "      <th>I1</th>\n",
        "      <th>I2</th>\n",
        "      <th>I3</th>\n",
        "      <th>I4</th>\n",
        "      <th>I5</th>\n",
        "      <th>I6</th>\n",
        "      <th>I7</th>\n",
        "      <th>I8</th>\n",
        "      <th>...</th>\n",
        "      <th>C17</th>\n",
        "      <th>C18</th>\n",
        "      <th>C19</th>\n",
        "      <th>C20</th>\n",
        "      <th>C21</th>\n",
        "      <th>C22</th>\n",
        "      <th>C23</th>\n",
        "      <th>C24</th>\n",
        "      <th>C25</th>\n",
        "      <th>C26</th>\n",
        "    </tr>\n",
        "  </thead>\n",
        "  <tbody>\n",
        "    <tr>\n",
        "      <th>0</th>\n",
        "      <td> 10000000</td>\n",
        "      <td> 0</td>\n",
        "      <td> 1</td>\n",
        "      <td>   1</td>\n",
        "      <td>  5</td>\n",
        "      <td>  0</td>\n",
        "      <td>  1382</td>\n",
        "      <td>   4</td>\n",
        "      <td> 15</td>\n",
        "      <td>  2</td>\n",
        "      <td>...</td>\n",
        "      <td> e5ba7672</td>\n",
        "      <td> f54016b9</td>\n",
        "      <td> 21ddcdc9</td>\n",
        "      <td> b1252a9d</td>\n",
        "      <td> 07b5194c</td>\n",
        "      <td>         </td>\n",
        "      <td> 3a171ecb</td>\n",
        "      <td> c5c50484</td>\n",
        "      <td> e8b83407</td>\n",
        "      <td> 9727dd16</td>\n",
        "    </tr>\n",
        "    <tr>\n",
        "      <th>1</th>\n",
        "      <td> 10000001</td>\n",
        "      <td> 0</td>\n",
        "      <td> 2</td>\n",
        "      <td>   0</td>\n",
        "      <td> 44</td>\n",
        "      <td>  1</td>\n",
        "      <td>   102</td>\n",
        "      <td>   8</td>\n",
        "      <td>  2</td>\n",
        "      <td>  2</td>\n",
        "      <td>...</td>\n",
        "      <td> 07c540c4</td>\n",
        "      <td> b04e4670</td>\n",
        "      <td> 21ddcdc9</td>\n",
        "      <td> 5840adea</td>\n",
        "      <td> 60f6221e</td>\n",
        "      <td>         </td>\n",
        "      <td> 3a171ecb</td>\n",
        "      <td> 43f13e8b</td>\n",
        "      <td> e8b83407</td>\n",
        "      <td> 731c3655</td>\n",
        "    </tr>\n",
        "    <tr>\n",
        "      <th>2</th>\n",
        "      <td> 10000002</td>\n",
        "      <td> 0</td>\n",
        "      <td> 2</td>\n",
        "      <td>   0</td>\n",
        "      <td>  1</td>\n",
        "      <td> 14</td>\n",
        "      <td>   767</td>\n",
        "      <td>  89</td>\n",
        "      <td>  4</td>\n",
        "      <td>  2</td>\n",
        "      <td>...</td>\n",
        "      <td> 8efede7f</td>\n",
        "      <td> 3412118d</td>\n",
        "      <td>         </td>\n",
        "      <td>         </td>\n",
        "      <td> e587c466</td>\n",
        "      <td> ad3062eb</td>\n",
        "      <td> 3a171ecb</td>\n",
        "      <td> 3b183c5c</td>\n",
        "      <td>         </td>\n",
        "      <td>         </td>\n",
        "    </tr>\n",
        "    <tr>\n",
        "      <th>3</th>\n",
        "      <td> 10000003</td>\n",
        "      <td> 0</td>\n",
        "      <td>  </td>\n",
        "      <td> 893</td>\n",
        "      <td>   </td>\n",
        "      <td>   </td>\n",
        "      <td>  4392</td>\n",
        "      <td>    </td>\n",
        "      <td>  0</td>\n",
        "      <td>  0</td>\n",
        "      <td>...</td>\n",
        "      <td> 1e88c74f</td>\n",
        "      <td> 74ef3502</td>\n",
        "      <td>         </td>\n",
        "      <td>         </td>\n",
        "      <td> 6b3a5ca6</td>\n",
        "      <td>         </td>\n",
        "      <td> 3a171ecb</td>\n",
        "      <td> 9117a34a</td>\n",
        "      <td>         </td>\n",
        "      <td>         </td>\n",
        "    </tr>\n",
        "    <tr>\n",
        "      <th>4</th>\n",
        "      <td> 10000004</td>\n",
        "      <td> 0</td>\n",
        "      <td> 3</td>\n",
        "      <td>  -1</td>\n",
        "      <td>   </td>\n",
        "      <td>  0</td>\n",
        "      <td>     2</td>\n",
        "      <td>   0</td>\n",
        "      <td>  3</td>\n",
        "      <td>  0</td>\n",
        "      <td>...</td>\n",
        "      <td> 1e88c74f</td>\n",
        "      <td> 26b3c7a7</td>\n",
        "      <td>         </td>\n",
        "      <td>         </td>\n",
        "      <td> 21c9516a</td>\n",
        "      <td>         </td>\n",
        "      <td> 32c7478e</td>\n",
        "      <td> b34f3128</td>\n",
        "      <td>         </td>\n",
        "      <td>         </td>\n",
        "    </tr>\n",
        "    <tr>\n",
        "      <th>5</th>\n",
        "      <td> 10000005</td>\n",
        "      <td> 0</td>\n",
        "      <td>  </td>\n",
        "      <td>  -1</td>\n",
        "      <td>   </td>\n",
        "      <td>   </td>\n",
        "      <td> 12824</td>\n",
        "      <td>    </td>\n",
        "      <td>  0</td>\n",
        "      <td>  0</td>\n",
        "      <td>...</td>\n",
        "      <td> 776ce399</td>\n",
        "      <td> 92555263</td>\n",
        "      <td>         </td>\n",
        "      <td>         </td>\n",
        "      <td> 242bb710</td>\n",
        "      <td> 8ec974f4</td>\n",
        "      <td> be7c41b4</td>\n",
        "      <td> 72c78f11</td>\n",
        "      <td>         </td>\n",
        "      <td>         </td>\n",
        "    </tr>\n",
        "    <tr>\n",
        "      <th>6</th>\n",
        "      <td> 10000006</td>\n",
        "      <td> 0</td>\n",
        "      <td>  </td>\n",
        "      <td>   1</td>\n",
        "      <td>  2</td>\n",
        "      <td>   </td>\n",
        "      <td>  3168</td>\n",
        "      <td>    </td>\n",
        "      <td>  0</td>\n",
        "      <td>  1</td>\n",
        "      <td>...</td>\n",
        "      <td> 776ce399</td>\n",
        "      <td> cdfa8259</td>\n",
        "      <td>         </td>\n",
        "      <td>         </td>\n",
        "      <td> 20062612</td>\n",
        "      <td>         </td>\n",
        "      <td> 93bad2c0</td>\n",
        "      <td> 1b256e61</td>\n",
        "      <td>         </td>\n",
        "      <td>         </td>\n",
        "    </tr>\n",
        "    <tr>\n",
        "      <th>7</th>\n",
        "      <td> 10000007</td>\n",
        "      <td> 1</td>\n",
        "      <td> 1</td>\n",
        "      <td>   4</td>\n",
        "      <td>  2</td>\n",
        "      <td>  0</td>\n",
        "      <td>     0</td>\n",
        "      <td>   0</td>\n",
        "      <td>  1</td>\n",
        "      <td>  0</td>\n",
        "      <td>...</td>\n",
        "      <td> e5ba7672</td>\n",
        "      <td> 74ef3502</td>\n",
        "      <td>         </td>\n",
        "      <td>         </td>\n",
        "      <td> 5316a17f</td>\n",
        "      <td>         </td>\n",
        "      <td> 32c7478e</td>\n",
        "      <td> 9117a34a</td>\n",
        "      <td>         </td>\n",
        "      <td>         </td>\n",
        "    </tr>\n",
        "    <tr>\n",
        "      <th>8</th>\n",
        "      <td> 10000008</td>\n",
        "      <td> 0</td>\n",
        "      <td>  </td>\n",
        "      <td>  44</td>\n",
        "      <td>  4</td>\n",
        "      <td>  8</td>\n",
        "      <td> 19010</td>\n",
        "      <td> 249</td>\n",
        "      <td> 28</td>\n",
        "      <td> 31</td>\n",
        "      <td>...</td>\n",
        "      <td> e5ba7672</td>\n",
        "      <td> 42a2edb9</td>\n",
        "      <td>         </td>\n",
        "      <td>         </td>\n",
        "      <td> 0014c32a</td>\n",
        "      <td>         </td>\n",
        "      <td> 32c7478e</td>\n",
        "      <td> 3b183c5c</td>\n",
        "      <td>         </td>\n",
        "      <td>         </td>\n",
        "    </tr>\n",
        "    <tr>\n",
        "      <th>9</th>\n",
        "      <td> 10000009</td>\n",
        "      <td> 0</td>\n",
        "      <td>  </td>\n",
        "      <td>  35</td>\n",
        "      <td>   </td>\n",
        "      <td>  1</td>\n",
        "      <td> 33737</td>\n",
        "      <td>  21</td>\n",
        "      <td>  1</td>\n",
        "      <td>  2</td>\n",
        "      <td>...</td>\n",
        "      <td> d4bb7bd8</td>\n",
        "      <td> 70d0f5f9</td>\n",
        "      <td>         </td>\n",
        "      <td>         </td>\n",
        "      <td> 0e63fca0</td>\n",
        "      <td>         </td>\n",
        "      <td> 32c7478e</td>\n",
        "      <td> 0e8fe315</td>\n",
        "      <td>         </td>\n",
        "      <td>         </td>\n",
        "    </tr>\n",
        "  </tbody>\n",
        "</table>\n",
        "<p>10 rows \u00d7 41 columns</p>\n",
        "</div>"
       ],
       "metadata": {},
       "output_type": "pyout",
       "prompt_number": 26,
       "text": [
        "         Id Label I1   I2  I3  I4     I5   I6  I7  I8 ...       C17       C18  \\\n",
        "0  10000000     0  1    1   5   0   1382    4  15   2 ...  e5ba7672  f54016b9   \n",
        "1  10000001     0  2    0  44   1    102    8   2   2 ...  07c540c4  b04e4670   \n",
        "2  10000002     0  2    0   1  14    767   89   4   2 ...  8efede7f  3412118d   \n",
        "3  10000003     0     893           4392        0   0 ...  1e88c74f  74ef3502   \n",
        "4  10000004     0  3   -1       0      2    0   3   0 ...  1e88c74f  26b3c7a7   \n",
        "5  10000005     0      -1          12824        0   0 ...  776ce399  92555263   \n",
        "6  10000006     0       1   2       3168        0   1 ...  776ce399  cdfa8259   \n",
        "7  10000007     1  1    4   2   0      0    0   1   0 ...  e5ba7672  74ef3502   \n",
        "8  10000008     0      44   4   8  19010  249  28  31 ...  e5ba7672  42a2edb9   \n",
        "9  10000009     0      35       1  33737   21   1   2 ...  d4bb7bd8  70d0f5f9   \n",
        "\n",
        "        C19       C20       C21       C22       C23       C24       C25  \\\n",
        "0  21ddcdc9  b1252a9d  07b5194c            3a171ecb  c5c50484  e8b83407   \n",
        "1  21ddcdc9  5840adea  60f6221e            3a171ecb  43f13e8b  e8b83407   \n",
        "2                      e587c466  ad3062eb  3a171ecb  3b183c5c             \n",
        "3                      6b3a5ca6            3a171ecb  9117a34a             \n",
        "4                      21c9516a            32c7478e  b34f3128             \n",
        "5                      242bb710  8ec974f4  be7c41b4  72c78f11             \n",
        "6                      20062612            93bad2c0  1b256e61             \n",
        "7                      5316a17f            32c7478e  9117a34a             \n",
        "8                      0014c32a            32c7478e  3b183c5c             \n",
        "9                      0e63fca0            32c7478e  0e8fe315             \n",
        "\n",
        "        C26  \n",
        "0  9727dd16  \n",
        "1  731c3655  \n",
        "2            \n",
        "3            \n",
        "4            \n",
        "5            \n",
        "6            \n",
        "7            \n",
        "8            \n",
        "9            \n",
        "\n",
        "[10 rows x 41 columns]"
       ]
      }
     ],
     "prompt_number": 26
    },
    {
     "cell_type": "code",
     "collapsed": false,
     "input": [],
     "language": "python",
     "metadata": {},
     "outputs": []
    }
   ],
   "metadata": {}
  }
 ]
}