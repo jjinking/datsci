{
 "metadata": {
  "name": "",
  "signature": "sha256:cde9426b24f79d7eca42d8f779bc5dcc3c2ba687d29f7bed4ff389a69d1bea27"
 },
 "nbformat": 3,
 "nbformat_minor": 0,
 "worksheets": [
  {
   "cells": [
    {
     "cell_type": "code",
     "collapsed": false,
     "input": [
      "%matplotlib inline\n",
      "%load_ext autoreload\n",
      "%autoreload 2\n",
      "\n",
      "import csv\n",
      "import datetime\n",
      "import numpy as np\n",
      "import pandas as pd\n",
      "import matplotlib as mpl\n",
      "#mpl.use('Agg')\n",
      "import matplotlib.pyplot as plt\n",
      "from mpltools import style; style.use('ggplot')\n",
      "\n",
      "import sys\n",
      "sys.path.insert(0, '/home/ubuntu/datsci/datsci')\n",
      "from datsci import dataio, eda, munge"
     ],
     "language": "python",
     "metadata": {},
     "outputs": [],
     "prompt_number": 1
    },
    {
     "cell_type": "code",
     "collapsed": false,
     "input": [
      "df_head = dataio.head('data/train.zip')"
     ],
     "language": "python",
     "metadata": {},
     "outputs": [],
     "prompt_number": 2
    },
    {
     "cell_type": "code",
     "collapsed": false,
     "input": [
      "df_head.shape"
     ],
     "language": "python",
     "metadata": {},
     "outputs": [
      {
       "metadata": {},
       "output_type": "pyout",
       "prompt_number": 4,
       "text": [
        "(10, 3600)"
       ]
      }
     ],
     "prompt_number": 4
    },
    {
     "cell_type": "code",
     "collapsed": false,
     "input": [
      "df_head[df_head.columns[-10:]]"
     ],
     "language": "python",
     "metadata": {},
     "outputs": [
      {
       "html": [
        "<div style=\"max-height:1000px;max-width:1500px;overflow:auto;\">\n",
        "<table border=\"1\" class=\"dataframe\">\n",
        "  <thead>\n",
        "    <tr style=\"text-align: right;\">\n",
        "      <th></th>\n",
        "      <th>REF7</th>\n",
        "      <th>RELI</th>\n",
        "      <th>TMAP</th>\n",
        "      <th>TMFI</th>\n",
        "      <th>Depth</th>\n",
        "      <th>Ca</th>\n",
        "      <th>P</th>\n",
        "      <th>pH</th>\n",
        "      <th>SOC</th>\n",
        "      <th>Sand</th>\n",
        "    </tr>\n",
        "  </thead>\n",
        "  <tbody>\n",
        "    <tr>\n",
        "      <th>0</th>\n",
        "      <td> -0.646673381328583</td>\n",
        "      <td>   1.68773365020752</td>\n",
        "      <td> 0.190708130598068</td>\n",
        "      <td> 0.0568427033722401</td>\n",
        "      <td> Topsoil</td>\n",
        "      <td>   -0.295749244426138</td>\n",
        "      <td> -0.0413363780140544</td>\n",
        "      <td>  -1.12936594836946</td>\n",
        "      <td>  0.353258377369181</td>\n",
        "      <td>  1.26974781214839</td>\n",
        "    </tr>\n",
        "    <tr>\n",
        "      <th>1</th>\n",
        "      <td> -0.646673381328583</td>\n",
        "      <td>   1.68773365020752</td>\n",
        "      <td> 0.190708130598068</td>\n",
        "      <td> 0.0568427033722401</td>\n",
        "      <td> Subsoil</td>\n",
        "      <td>   -0.387441882710317</td>\n",
        "      <td>  -0.231552005059809</td>\n",
        "      <td>  -1.53153827835169</td>\n",
        "      <td> -0.264023061699564</td>\n",
        "      <td>  1.69220922517683</td>\n",
        "    </tr>\n",
        "    <tr>\n",
        "      <th>2</th>\n",
        "      <td> -0.814516127109528</td>\n",
        "      <td>   1.80665981769562</td>\n",
        "      <td> 0.190708130598068</td>\n",
        "      <td> 0.0568427033722401</td>\n",
        "      <td> Topsoil</td>\n",
        "      <td>   -0.248601294772128</td>\n",
        "      <td>  -0.224635073167236</td>\n",
        "      <td> -0.259551374221853</td>\n",
        "      <td> 0.0641518805901485</td>\n",
        "      <td>  2.09183488614967</td>\n",
        "    </tr>\n",
        "    <tr>\n",
        "      <th>3</th>\n",
        "      <td> -0.814516127109528</td>\n",
        "      <td>   1.80665981769562</td>\n",
        "      <td> 0.190708130598068</td>\n",
        "      <td> 0.0568427033722401</td>\n",
        "      <td> Subsoil</td>\n",
        "      <td>   -0.332194898759913</td>\n",
        "      <td>  -0.318013653716971</td>\n",
        "      <td> -0.577548100254312</td>\n",
        "      <td> -0.318718885414516</td>\n",
        "      <td>   2.1184765968812</td>\n",
        "    </tr>\n",
        "    <tr>\n",
        "      <th>4</th>\n",
        "      <td> -0.780241906642914</td>\n",
        "      <td>  0.430513083934784</td>\n",
        "      <td> 0.190708130598068</td>\n",
        "      <td> 0.0568427033722401</td>\n",
        "      <td> Topsoil</td>\n",
        "      <td>   -0.438350098287653</td>\n",
        "      <td> -0.0102101844974763</td>\n",
        "      <td>  -0.69913508373731</td>\n",
        "      <td> -0.310905196312381</td>\n",
        "      <td>  2.16414810099238</td>\n",
        "    </tr>\n",
        "    <tr>\n",
        "      <th>5</th>\n",
        "      <td> -0.780241906642914</td>\n",
        "      <td>  0.430513083934784</td>\n",
        "      <td> 0.190708130598068</td>\n",
        "      <td> 0.0568427033722401</td>\n",
        "      <td> Subsoil</td>\n",
        "      <td>   -0.312525815468669</td>\n",
        "      <td>   0.256091693366581</td>\n",
        "      <td> -0.914250516053385</td>\n",
        "      <td>  -0.68596227321491</td>\n",
        "      <td>  1.94340249778833</td>\n",
        "    </tr>\n",
        "    <tr>\n",
        "      <th>6</th>\n",
        "      <td> -0.774697601795197</td>\n",
        "      <td> 0.0397553518414497</td>\n",
        "      <td> 0.190708130598068</td>\n",
        "      <td> 0.0568427033722401</td>\n",
        "      <td> Topsoil</td>\n",
        "      <td>   -0.254964821719295</td>\n",
        "      <td>  -0.248844334791242</td>\n",
        "      <td> -0.839427756986925</td>\n",
        "      <td> 0.0641518805901485</td>\n",
        "      <td>  1.44101595256532</td>\n",
        "    </tr>\n",
        "    <tr>\n",
        "      <th>7</th>\n",
        "      <td> -0.774697601795197</td>\n",
        "      <td> 0.0397553518414497</td>\n",
        "      <td> 0.190708130598068</td>\n",
        "      <td> 0.0568427033722401</td>\n",
        "      <td> Subsoil</td>\n",
        "      <td>   -0.334798159783754</td>\n",
        "      <td>  -0.300721323985538</td>\n",
        "      <td>  -1.15742448301938</td>\n",
        "      <td> -0.217140927086748</td>\n",
        "      <td> 0.866316192499613</td>\n",
        "    </tr>\n",
        "    <tr>\n",
        "      <th>8</th>\n",
        "      <td> -0.732862889766693</td>\n",
        "      <td>  0.226639479398727</td>\n",
        "      <td> 0.190708130598068</td>\n",
        "      <td> 0.0568427033722401</td>\n",
        "      <td> Topsoil</td>\n",
        "      <td> -0.00331625608132619</td>\n",
        "      <td>   0.162713112816846</td>\n",
        "      <td> 0.0210339722773752</td>\n",
        "      <td>  0.634551185046078</td>\n",
        "      <td> 0.645570589295565</td>\n",
        "    </tr>\n",
        "    <tr>\n",
        "      <th>9</th>\n",
        "      <td> -0.732862889766693</td>\n",
        "      <td>  0.226639479398727</td>\n",
        "      <td> 0.190708130598068</td>\n",
        "      <td> 0.0568427033722401</td>\n",
        "      <td> Subsoil</td>\n",
        "      <td>    -0.23037846760524</td>\n",
        "      <td>  -0.290345926146679</td>\n",
        "      <td> -0.147317235622162</td>\n",
        "      <td> -0.209327237984612</td>\n",
        "      <td>  1.75310456399174</td>\n",
        "    </tr>\n",
        "  </tbody>\n",
        "</table>\n",
        "</div>"
       ],
       "metadata": {},
       "output_type": "pyout",
       "prompt_number": 5,
       "text": [
        "                 REF7                RELI               TMAP  \\\n",
        "0  -0.646673381328583    1.68773365020752  0.190708130598068   \n",
        "1  -0.646673381328583    1.68773365020752  0.190708130598068   \n",
        "2  -0.814516127109528    1.80665981769562  0.190708130598068   \n",
        "3  -0.814516127109528    1.80665981769562  0.190708130598068   \n",
        "4  -0.780241906642914   0.430513083934784  0.190708130598068   \n",
        "5  -0.780241906642914   0.430513083934784  0.190708130598068   \n",
        "6  -0.774697601795197  0.0397553518414497  0.190708130598068   \n",
        "7  -0.774697601795197  0.0397553518414497  0.190708130598068   \n",
        "8  -0.732862889766693   0.226639479398727  0.190708130598068   \n",
        "9  -0.732862889766693   0.226639479398727  0.190708130598068   \n",
        "\n",
        "                 TMFI    Depth                    Ca                    P  \\\n",
        "0  0.0568427033722401  Topsoil    -0.295749244426138  -0.0413363780140544   \n",
        "1  0.0568427033722401  Subsoil    -0.387441882710317   -0.231552005059809   \n",
        "2  0.0568427033722401  Topsoil    -0.248601294772128   -0.224635073167236   \n",
        "3  0.0568427033722401  Subsoil    -0.332194898759913   -0.318013653716971   \n",
        "4  0.0568427033722401  Topsoil    -0.438350098287653  -0.0102101844974763   \n",
        "5  0.0568427033722401  Subsoil    -0.312525815468669    0.256091693366581   \n",
        "6  0.0568427033722401  Topsoil    -0.254964821719295   -0.248844334791242   \n",
        "7  0.0568427033722401  Subsoil    -0.334798159783754   -0.300721323985538   \n",
        "8  0.0568427033722401  Topsoil  -0.00331625608132619    0.162713112816846   \n",
        "9  0.0568427033722401  Subsoil     -0.23037846760524   -0.290345926146679   \n",
        "\n",
        "                   pH                 SOC               Sand  \n",
        "0   -1.12936594836946   0.353258377369181   1.26974781214839  \n",
        "1   -1.53153827835169  -0.264023061699564   1.69220922517683  \n",
        "2  -0.259551374221853  0.0641518805901485   2.09183488614967  \n",
        "3  -0.577548100254312  -0.318718885414516    2.1184765968812  \n",
        "4   -0.69913508373731  -0.310905196312381   2.16414810099238  \n",
        "5  -0.914250516053385   -0.68596227321491   1.94340249778833  \n",
        "6  -0.839427756986925  0.0641518805901485   1.44101595256532  \n",
        "7   -1.15742448301938  -0.217140927086748  0.866316192499613  \n",
        "8  0.0210339722773752   0.634551185046078  0.645570589295565  \n",
        "9  -0.147317235622162  -0.209327237984612   1.75310456399174  "
       ]
      }
     ],
     "prompt_number": 5
    },
    {
     "cell_type": "code",
     "collapsed": false,
     "input": [
      "colsummary, n_rows, label_counts = eda.summarize_big_training_data('data/train.zip', y_name='Ca')"
     ],
     "language": "python",
     "metadata": {},
     "outputs": [],
     "prompt_number": 6
    },
    {
     "cell_type": "code",
     "collapsed": false,
     "input": [
      "n_rows"
     ],
     "language": "python",
     "metadata": {},
     "outputs": [
      {
       "metadata": {},
       "output_type": "pyout",
       "prompt_number": 7,
       "text": [
        "1157"
       ]
      }
     ],
     "prompt_number": 7
    },
    {
     "cell_type": "code",
     "collapsed": false,
     "input": [
      "colsummary"
     ],
     "language": "python",
     "metadata": {},
     "outputs": [
      {
       "html": [
        "<div style=\"max-height:1000px;max-width:1500px;overflow:auto;\">\n",
        "<table border=\"1\" class=\"dataframe\">\n",
        "  <thead>\n",
        "    <tr style=\"text-align: right;\">\n",
        "      <th></th>\n",
        "      <th>attribute</th>\n",
        "      <th>max</th>\n",
        "      <th>min</th>\n",
        "      <th>n_null</th>\n",
        "      <th>n_uniq</th>\n",
        "      <th>perc_null</th>\n",
        "    </tr>\n",
        "  </thead>\n",
        "  <tbody>\n",
        "    <tr>\n",
        "      <th>0   </th>\n",
        "      <td>     PIDN</td>\n",
        "      <td>       NaN</td>\n",
        "      <td>      NaN</td>\n",
        "      <td> 0</td>\n",
        "      <td> &gt; 1000</td>\n",
        "      <td> 0</td>\n",
        "    </tr>\n",
        "    <tr>\n",
        "      <th>1   </th>\n",
        "      <td> m7497.96</td>\n",
        "      <td>  0.730793</td>\n",
        "      <td>-0.042260</td>\n",
        "      <td> 0</td>\n",
        "      <td> &gt; 1000</td>\n",
        "      <td> 0</td>\n",
        "    </tr>\n",
        "    <tr>\n",
        "      <th>2   </th>\n",
        "      <td> m7496.04</td>\n",
        "      <td>  0.725493</td>\n",
        "      <td>-0.048559</td>\n",
        "      <td> 0</td>\n",
        "      <td> &gt; 1000</td>\n",
        "      <td> 0</td>\n",
        "    </tr>\n",
        "    <tr>\n",
        "      <th>3   </th>\n",
        "      <td> m7494.11</td>\n",
        "      <td>  0.720711</td>\n",
        "      <td>-0.055518</td>\n",
        "      <td> 0</td>\n",
        "      <td> &gt; 1000</td>\n",
        "      <td> 0</td>\n",
        "    </tr>\n",
        "    <tr>\n",
        "      <th>4   </th>\n",
        "      <td> m7492.18</td>\n",
        "      <td>  0.723293</td>\n",
        "      <td>-0.052353</td>\n",
        "      <td> 0</td>\n",
        "      <td> &gt; 1000</td>\n",
        "      <td> 0</td>\n",
        "    </tr>\n",
        "    <tr>\n",
        "      <th>5   </th>\n",
        "      <td> m7490.25</td>\n",
        "      <td>  0.731205</td>\n",
        "      <td>-0.040608</td>\n",
        "      <td> 0</td>\n",
        "      <td> &gt; 1000</td>\n",
        "      <td> 0</td>\n",
        "    </tr>\n",
        "    <tr>\n",
        "      <th>6   </th>\n",
        "      <td> m7488.32</td>\n",
        "      <td>  0.733872</td>\n",
        "      <td>-0.034516</td>\n",
        "      <td> 0</td>\n",
        "      <td> &gt; 1000</td>\n",
        "      <td> 0</td>\n",
        "    </tr>\n",
        "    <tr>\n",
        "      <th>7   </th>\n",
        "      <td> m7486.39</td>\n",
        "      <td>  0.726075</td>\n",
        "      <td>-0.042619</td>\n",
        "      <td> 0</td>\n",
        "      <td> &gt; 1000</td>\n",
        "      <td> 0</td>\n",
        "    </tr>\n",
        "    <tr>\n",
        "      <th>8   </th>\n",
        "      <td> m7484.46</td>\n",
        "      <td>  0.717652</td>\n",
        "      <td>-0.053856</td>\n",
        "      <td> 0</td>\n",
        "      <td> &gt; 1000</td>\n",
        "      <td> 0</td>\n",
        "    </tr>\n",
        "    <tr>\n",
        "      <th>9   </th>\n",
        "      <td> m7482.54</td>\n",
        "      <td>  0.716443</td>\n",
        "      <td>-0.057699</td>\n",
        "      <td> 0</td>\n",
        "      <td> &gt; 1000</td>\n",
        "      <td> 0</td>\n",
        "    </tr>\n",
        "    <tr>\n",
        "      <th>10  </th>\n",
        "      <td> m7480.61</td>\n",
        "      <td>  0.716307</td>\n",
        "      <td>-0.058482</td>\n",
        "      <td> 0</td>\n",
        "      <td> &gt; 1000</td>\n",
        "      <td> 0</td>\n",
        "    </tr>\n",
        "    <tr>\n",
        "      <th>11  </th>\n",
        "      <td> m7478.68</td>\n",
        "      <td>  0.715540</td>\n",
        "      <td>-0.058516</td>\n",
        "      <td> 0</td>\n",
        "      <td> &gt; 1000</td>\n",
        "      <td> 0</td>\n",
        "    </tr>\n",
        "    <tr>\n",
        "      <th>12  </th>\n",
        "      <td> m7476.75</td>\n",
        "      <td>  0.718900</td>\n",
        "      <td>-0.055382</td>\n",
        "      <td> 0</td>\n",
        "      <td> &gt; 1000</td>\n",
        "      <td> 0</td>\n",
        "    </tr>\n",
        "    <tr>\n",
        "      <th>13  </th>\n",
        "      <td> m7474.82</td>\n",
        "      <td>  0.725116</td>\n",
        "      <td>-0.050047</td>\n",
        "      <td> 0</td>\n",
        "      <td> &gt; 1000</td>\n",
        "      <td> 0</td>\n",
        "    </tr>\n",
        "    <tr>\n",
        "      <th>14  </th>\n",
        "      <td> m7472.89</td>\n",
        "      <td>  0.731466</td>\n",
        "      <td>-0.044445</td>\n",
        "      <td> 0</td>\n",
        "      <td> &gt; 1000</td>\n",
        "      <td> 0</td>\n",
        "    </tr>\n",
        "    <tr>\n",
        "      <th>15  </th>\n",
        "      <td> m7470.97</td>\n",
        "      <td>  0.735929</td>\n",
        "      <td>-0.040496</td>\n",
        "      <td> 0</td>\n",
        "      <td> &gt; 1000</td>\n",
        "      <td> 0</td>\n",
        "    </tr>\n",
        "    <tr>\n",
        "      <th>16  </th>\n",
        "      <td> m7469.04</td>\n",
        "      <td>  0.734779</td>\n",
        "      <td>-0.041609</td>\n",
        "      <td> 0</td>\n",
        "      <td> &gt; 1000</td>\n",
        "      <td> 0</td>\n",
        "    </tr>\n",
        "    <tr>\n",
        "      <th>17  </th>\n",
        "      <td> m7467.11</td>\n",
        "      <td>  0.729934</td>\n",
        "      <td>-0.046195</td>\n",
        "      <td> 0</td>\n",
        "      <td> &gt; 1000</td>\n",
        "      <td> 0</td>\n",
        "    </tr>\n",
        "    <tr>\n",
        "      <th>18  </th>\n",
        "      <td> m7465.18</td>\n",
        "      <td>  0.727856</td>\n",
        "      <td>-0.047614</td>\n",
        "      <td> 0</td>\n",
        "      <td> &gt; 1000</td>\n",
        "      <td> 0</td>\n",
        "    </tr>\n",
        "    <tr>\n",
        "      <th>19  </th>\n",
        "      <td> m7463.25</td>\n",
        "      <td>  0.726349</td>\n",
        "      <td>-0.048243</td>\n",
        "      <td> 0</td>\n",
        "      <td> &gt; 1000</td>\n",
        "      <td> 0</td>\n",
        "    </tr>\n",
        "    <tr>\n",
        "      <th>20  </th>\n",
        "      <td> m7461.32</td>\n",
        "      <td>  0.720007</td>\n",
        "      <td>-0.053698</td>\n",
        "      <td> 0</td>\n",
        "      <td> &gt; 1000</td>\n",
        "      <td> 0</td>\n",
        "    </tr>\n",
        "    <tr>\n",
        "      <th>21  </th>\n",
        "      <td> m7459.39</td>\n",
        "      <td>  0.712521</td>\n",
        "      <td>-0.059410</td>\n",
        "      <td> 0</td>\n",
        "      <td> &gt; 1000</td>\n",
        "      <td> 0</td>\n",
        "    </tr>\n",
        "    <tr>\n",
        "      <th>22  </th>\n",
        "      <td> m7457.47</td>\n",
        "      <td>  0.710120</td>\n",
        "      <td>-0.060471</td>\n",
        "      <td> 0</td>\n",
        "      <td> &gt; 1000</td>\n",
        "      <td> 0</td>\n",
        "    </tr>\n",
        "    <tr>\n",
        "      <th>23  </th>\n",
        "      <td> m7455.54</td>\n",
        "      <td>  0.714294</td>\n",
        "      <td>-0.057686</td>\n",
        "      <td> 0</td>\n",
        "      <td> &gt; 1000</td>\n",
        "      <td> 0</td>\n",
        "    </tr>\n",
        "    <tr>\n",
        "      <th>24  </th>\n",
        "      <td> m7453.61</td>\n",
        "      <td>  0.720478</td>\n",
        "      <td>-0.053916</td>\n",
        "      <td> 0</td>\n",
        "      <td> &gt; 1000</td>\n",
        "      <td> 0</td>\n",
        "    </tr>\n",
        "    <tr>\n",
        "      <th>25  </th>\n",
        "      <td> m7451.68</td>\n",
        "      <td>  0.722384</td>\n",
        "      <td>-0.052795</td>\n",
        "      <td> 0</td>\n",
        "      <td> &gt; 1000</td>\n",
        "      <td> 0</td>\n",
        "    </tr>\n",
        "    <tr>\n",
        "      <th>26  </th>\n",
        "      <td> m7449.75</td>\n",
        "      <td>  0.719997</td>\n",
        "      <td>-0.054845</td>\n",
        "      <td> 0</td>\n",
        "      <td> &gt; 1000</td>\n",
        "      <td> 0</td>\n",
        "    </tr>\n",
        "    <tr>\n",
        "      <th>27  </th>\n",
        "      <td> m7447.82</td>\n",
        "      <td>  0.718446</td>\n",
        "      <td>-0.056737</td>\n",
        "      <td> 0</td>\n",
        "      <td> &gt; 1000</td>\n",
        "      <td> 0</td>\n",
        "    </tr>\n",
        "    <tr>\n",
        "      <th>28  </th>\n",
        "      <td> m7445.89</td>\n",
        "      <td>  0.721279</td>\n",
        "      <td>-0.055440</td>\n",
        "      <td> 0</td>\n",
        "      <td> &gt; 1000</td>\n",
        "      <td> 0</td>\n",
        "    </tr>\n",
        "    <tr>\n",
        "      <th>29  </th>\n",
        "      <td> m7443.97</td>\n",
        "      <td>  0.722782</td>\n",
        "      <td>-0.054183</td>\n",
        "      <td> 0</td>\n",
        "      <td> &gt; 1000</td>\n",
        "      <td> 0</td>\n",
        "    </tr>\n",
        "    <tr>\n",
        "      <th>...</th>\n",
        "      <td>...</td>\n",
        "      <td>...</td>\n",
        "      <td>...</td>\n",
        "      <td>...</td>\n",
        "      <td>...</td>\n",
        "      <td>...</td>\n",
        "    </tr>\n",
        "    <tr>\n",
        "      <th>3570</th>\n",
        "      <td> m615.188</td>\n",
        "      <td>  2.069870</td>\n",
        "      <td> 0.935663</td>\n",
        "      <td> 0</td>\n",
        "      <td> &gt; 1000</td>\n",
        "      <td> 0</td>\n",
        "    </tr>\n",
        "    <tr>\n",
        "      <th>3571</th>\n",
        "      <td> m613.259</td>\n",
        "      <td>  2.063750</td>\n",
        "      <td> 0.944329</td>\n",
        "      <td> 0</td>\n",
        "      <td> &gt; 1000</td>\n",
        "      <td> 0</td>\n",
        "    </tr>\n",
        "    <tr>\n",
        "      <th>3572</th>\n",
        "      <td> m611.331</td>\n",
        "      <td>  2.060970</td>\n",
        "      <td> 0.953882</td>\n",
        "      <td> 0</td>\n",
        "      <td> &gt; 1000</td>\n",
        "      <td> 0</td>\n",
        "    </tr>\n",
        "    <tr>\n",
        "      <th>3573</th>\n",
        "      <td> m609.402</td>\n",
        "      <td>  2.062620</td>\n",
        "      <td> 0.964296</td>\n",
        "      <td> 0</td>\n",
        "      <td> &gt; 1000</td>\n",
        "      <td> 0</td>\n",
        "    </tr>\n",
        "    <tr>\n",
        "      <th>3574</th>\n",
        "      <td> m607.474</td>\n",
        "      <td>  2.058860</td>\n",
        "      <td> 0.975861</td>\n",
        "      <td> 0</td>\n",
        "      <td> &gt; 1000</td>\n",
        "      <td> 0</td>\n",
        "    </tr>\n",
        "    <tr>\n",
        "      <th>3575</th>\n",
        "      <td> m605.545</td>\n",
        "      <td>  2.044370</td>\n",
        "      <td> 0.987868</td>\n",
        "      <td> 0</td>\n",
        "      <td> &gt; 1000</td>\n",
        "      <td> 0</td>\n",
        "    </tr>\n",
        "    <tr>\n",
        "      <th>3576</th>\n",
        "      <td> m603.617</td>\n",
        "      <td>  2.028590</td>\n",
        "      <td> 0.999643</td>\n",
        "      <td> 0</td>\n",
        "      <td> &gt; 1000</td>\n",
        "      <td> 0</td>\n",
        "    </tr>\n",
        "    <tr>\n",
        "      <th>3577</th>\n",
        "      <td> m601.688</td>\n",
        "      <td>  2.021880</td>\n",
        "      <td> 1.012760</td>\n",
        "      <td> 0</td>\n",
        "      <td> &gt; 1000</td>\n",
        "      <td> 0</td>\n",
        "    </tr>\n",
        "    <tr>\n",
        "      <th>3578</th>\n",
        "      <td>  m599.76</td>\n",
        "      <td>  2.014480</td>\n",
        "      <td> 1.023430</td>\n",
        "      <td> 0</td>\n",
        "      <td> &gt; 1000</td>\n",
        "      <td> 0</td>\n",
        "    </tr>\n",
        "    <tr>\n",
        "      <th>3579</th>\n",
        "      <td>     BSAN</td>\n",
        "      <td>  0.217391</td>\n",
        "      <td>-1.007246</td>\n",
        "      <td> 0</td>\n",
        "      <td>    139</td>\n",
        "      <td> 0</td>\n",
        "    </tr>\n",
        "    <tr>\n",
        "      <th>3580</th>\n",
        "      <td>     BSAS</td>\n",
        "      <td>  0.200000</td>\n",
        "      <td>-0.972727</td>\n",
        "      <td> 0</td>\n",
        "      <td>    111</td>\n",
        "      <td> 0</td>\n",
        "    </tr>\n",
        "    <tr>\n",
        "      <th>3581</th>\n",
        "      <td>     BSAV</td>\n",
        "      <td>  0.223964</td>\n",
        "      <td>-1.175812</td>\n",
        "      <td> 0</td>\n",
        "      <td>    102</td>\n",
        "      <td> 0</td>\n",
        "    </tr>\n",
        "    <tr>\n",
        "      <th>3582</th>\n",
        "      <td>      CTI</td>\n",
        "      <td>  3.596526</td>\n",
        "      <td>-0.945472</td>\n",
        "      <td> 0</td>\n",
        "      <td>    487</td>\n",
        "      <td> 0</td>\n",
        "    </tr>\n",
        "    <tr>\n",
        "      <th>3583</th>\n",
        "      <td>     ELEV</td>\n",
        "      <td>  4.891537</td>\n",
        "      <td>-1.326726</td>\n",
        "      <td> 0</td>\n",
        "      <td>    417</td>\n",
        "      <td> 0</td>\n",
        "    </tr>\n",
        "    <tr>\n",
        "      <th>3584</th>\n",
        "      <td>      EVI</td>\n",
        "      <td>  2.645044</td>\n",
        "      <td>-0.881924</td>\n",
        "      <td> 0</td>\n",
        "      <td>    538</td>\n",
        "      <td> 0</td>\n",
        "    </tr>\n",
        "    <tr>\n",
        "      <th>3585</th>\n",
        "      <td>     LSTD</td>\n",
        "      <td>  1.320112</td>\n",
        "      <td>-1.906958</td>\n",
        "      <td> 0</td>\n",
        "      <td>    578</td>\n",
        "      <td> 0</td>\n",
        "    </tr>\n",
        "    <tr>\n",
        "      <th>3586</th>\n",
        "      <td>     LSTN</td>\n",
        "      <td>  1.519218</td>\n",
        "      <td>-2.720276</td>\n",
        "      <td> 0</td>\n",
        "      <td>    579</td>\n",
        "      <td> 0</td>\n",
        "    </tr>\n",
        "    <tr>\n",
        "      <th>3587</th>\n",
        "      <td>     REF1</td>\n",
        "      <td>  0.285818</td>\n",
        "      <td>-1.127273</td>\n",
        "      <td> 0</td>\n",
        "      <td>    455</td>\n",
        "      <td> 0</td>\n",
        "    </tr>\n",
        "    <tr>\n",
        "      <th>3588</th>\n",
        "      <td>     REF2</td>\n",
        "      <td>  0.335807</td>\n",
        "      <td>-1.642857</td>\n",
        "      <td> 0</td>\n",
        "      <td>    467</td>\n",
        "      <td> 0</td>\n",
        "    </tr>\n",
        "    <tr>\n",
        "      <th>3589</th>\n",
        "      <td>     REF3</td>\n",
        "      <td>  0.366460</td>\n",
        "      <td>-1.265010</td>\n",
        "      <td> 0</td>\n",
        "      <td>    358</td>\n",
        "      <td> 0</td>\n",
        "    </tr>\n",
        "    <tr>\n",
        "      <th>3590</th>\n",
        "      <td>     REF7</td>\n",
        "      <td>  0.290323</td>\n",
        "      <td>-1.115423</td>\n",
        "      <td> 0</td>\n",
        "      <td>    496</td>\n",
        "      <td> 0</td>\n",
        "    </tr>\n",
        "    <tr>\n",
        "      <th>3591</th>\n",
        "      <td>     RELI</td>\n",
        "      <td>  5.612300</td>\n",
        "      <td>-0.639823</td>\n",
        "      <td> 0</td>\n",
        "      <td>    162</td>\n",
        "      <td> 0</td>\n",
        "    </tr>\n",
        "    <tr>\n",
        "      <th>3592</th>\n",
        "      <td>     TMAP</td>\n",
        "      <td>  2.161892</td>\n",
        "      <td>-0.670742</td>\n",
        "      <td> 0</td>\n",
        "      <td>     56</td>\n",
        "      <td> 0</td>\n",
        "    </tr>\n",
        "    <tr>\n",
        "      <th>3593</th>\n",
        "      <td>     TMFI</td>\n",
        "      <td>  2.976315</td>\n",
        "      <td>-0.862741</td>\n",
        "      <td> 0</td>\n",
        "      <td>     56</td>\n",
        "      <td> 0</td>\n",
        "    </tr>\n",
        "    <tr>\n",
        "      <th>3594</th>\n",
        "      <td>    Depth</td>\n",
        "      <td>       NaN</td>\n",
        "      <td>      NaN</td>\n",
        "      <td> 0</td>\n",
        "      <td>      2</td>\n",
        "      <td> 0</td>\n",
        "    </tr>\n",
        "    <tr>\n",
        "      <th>3595</th>\n",
        "      <td>       Ca</td>\n",
        "      <td>  9.645815</td>\n",
        "      <td>-0.535828</td>\n",
        "      <td> 0</td>\n",
        "      <td>    838</td>\n",
        "      <td> 0</td>\n",
        "    </tr>\n",
        "    <tr>\n",
        "      <th>3596</th>\n",
        "      <td>        P</td>\n",
        "      <td> 13.266841</td>\n",
        "      <td>-0.418309</td>\n",
        "      <td> 0</td>\n",
        "      <td>    297</td>\n",
        "      <td> 0</td>\n",
        "    </tr>\n",
        "    <tr>\n",
        "      <th>3597</th>\n",
        "      <td>       pH</td>\n",
        "      <td>  3.416117</td>\n",
        "      <td>-1.886946</td>\n",
        "      <td> 0</td>\n",
        "      <td>    360</td>\n",
        "      <td> 0</td>\n",
        "    </tr>\n",
        "    <tr>\n",
        "      <th>3598</th>\n",
        "      <td>      SOC</td>\n",
        "      <td>  7.619989</td>\n",
        "      <td>-0.857863</td>\n",
        "      <td> 0</td>\n",
        "      <td>    350</td>\n",
        "      <td> 0</td>\n",
        "    </tr>\n",
        "    <tr>\n",
        "      <th>3599</th>\n",
        "      <td>     Sand</td>\n",
        "      <td>  2.251685</td>\n",
        "      <td>-1.493378</td>\n",
        "      <td> 0</td>\n",
        "      <td>    637</td>\n",
        "      <td> 0</td>\n",
        "    </tr>\n",
        "  </tbody>\n",
        "</table>\n",
        "<p>3600 rows \u00d7 6 columns</p>\n",
        "</div>"
       ],
       "metadata": {},
       "output_type": "pyout",
       "prompt_number": 10,
       "text": [
        "     attribute        max       min  n_null  n_uniq  perc_null\n",
        "0         PIDN        NaN       NaN       0  > 1000          0\n",
        "1     m7497.96   0.730793 -0.042260       0  > 1000          0\n",
        "2     m7496.04   0.725493 -0.048559       0  > 1000          0\n",
        "3     m7494.11   0.720711 -0.055518       0  > 1000          0\n",
        "4     m7492.18   0.723293 -0.052353       0  > 1000          0\n",
        "5     m7490.25   0.731205 -0.040608       0  > 1000          0\n",
        "6     m7488.32   0.733872 -0.034516       0  > 1000          0\n",
        "7     m7486.39   0.726075 -0.042619       0  > 1000          0\n",
        "8     m7484.46   0.717652 -0.053856       0  > 1000          0\n",
        "9     m7482.54   0.716443 -0.057699       0  > 1000          0\n",
        "10    m7480.61   0.716307 -0.058482       0  > 1000          0\n",
        "11    m7478.68   0.715540 -0.058516       0  > 1000          0\n",
        "12    m7476.75   0.718900 -0.055382       0  > 1000          0\n",
        "13    m7474.82   0.725116 -0.050047       0  > 1000          0\n",
        "14    m7472.89   0.731466 -0.044445       0  > 1000          0\n",
        "15    m7470.97   0.735929 -0.040496       0  > 1000          0\n",
        "16    m7469.04   0.734779 -0.041609       0  > 1000          0\n",
        "17    m7467.11   0.729934 -0.046195       0  > 1000          0\n",
        "18    m7465.18   0.727856 -0.047614       0  > 1000          0\n",
        "19    m7463.25   0.726349 -0.048243       0  > 1000          0\n",
        "20    m7461.32   0.720007 -0.053698       0  > 1000          0\n",
        "21    m7459.39   0.712521 -0.059410       0  > 1000          0\n",
        "22    m7457.47   0.710120 -0.060471       0  > 1000          0\n",
        "23    m7455.54   0.714294 -0.057686       0  > 1000          0\n",
        "24    m7453.61   0.720478 -0.053916       0  > 1000          0\n",
        "25    m7451.68   0.722384 -0.052795       0  > 1000          0\n",
        "26    m7449.75   0.719997 -0.054845       0  > 1000          0\n",
        "27    m7447.82   0.718446 -0.056737       0  > 1000          0\n",
        "28    m7445.89   0.721279 -0.055440       0  > 1000          0\n",
        "29    m7443.97   0.722782 -0.054183       0  > 1000          0\n",
        "...        ...        ...       ...     ...     ...        ...\n",
        "3570  m615.188   2.069870  0.935663       0  > 1000          0\n",
        "3571  m613.259   2.063750  0.944329       0  > 1000          0\n",
        "3572  m611.331   2.060970  0.953882       0  > 1000          0\n",
        "3573  m609.402   2.062620  0.964296       0  > 1000          0\n",
        "3574  m607.474   2.058860  0.975861       0  > 1000          0\n",
        "3575  m605.545   2.044370  0.987868       0  > 1000          0\n",
        "3576  m603.617   2.028590  0.999643       0  > 1000          0\n",
        "3577  m601.688   2.021880  1.012760       0  > 1000          0\n",
        "3578   m599.76   2.014480  1.023430       0  > 1000          0\n",
        "3579      BSAN   0.217391 -1.007246       0     139          0\n",
        "3580      BSAS   0.200000 -0.972727       0     111          0\n",
        "3581      BSAV   0.223964 -1.175812       0     102          0\n",
        "3582       CTI   3.596526 -0.945472       0     487          0\n",
        "3583      ELEV   4.891537 -1.326726       0     417          0\n",
        "3584       EVI   2.645044 -0.881924       0     538          0\n",
        "3585      LSTD   1.320112 -1.906958       0     578          0\n",
        "3586      LSTN   1.519218 -2.720276       0     579          0\n",
        "3587      REF1   0.285818 -1.127273       0     455          0\n",
        "3588      REF2   0.335807 -1.642857       0     467          0\n",
        "3589      REF3   0.366460 -1.265010       0     358          0\n",
        "3590      REF7   0.290323 -1.115423       0     496          0\n",
        "3591      RELI   5.612300 -0.639823       0     162          0\n",
        "3592      TMAP   2.161892 -0.670742       0      56          0\n",
        "3593      TMFI   2.976315 -0.862741       0      56          0\n",
        "3594     Depth        NaN       NaN       0       2          0\n",
        "3595        Ca   9.645815 -0.535828       0     838          0\n",
        "3596         P  13.266841 -0.418309       0     297          0\n",
        "3597        pH   3.416117 -1.886946       0     360          0\n",
        "3598       SOC   7.619989 -0.857863       0     350          0\n",
        "3599      Sand   2.251685 -1.493378       0     637          0\n",
        "\n",
        "[3600 rows x 6 columns]"
       ]
      }
     ],
     "prompt_number": 10
    },
    {
     "cell_type": "code",
     "collapsed": false,
     "input": [
      "from sklearn import svm, linear_model, cross_validation, decomposition\n",
      "from sklearn.metrics import mean_squared_error\n",
      "from sklearn.cross_validation import KFold\n",
      "\n",
      "fname_train = 'data/training.csv'\n",
      "fname_test = 'data/sorted_test.csv'\n",
      "fname_sample_submission = 'data/sample_submission.csv'\n",
      "target_colnames = [\"Ca\", \"P\", \"pH\", \"SOC\", \"Sand\"]\n",
      "CO2_bands = ['m2379.76','m2377.83','m2375.9','m2373.97','m2372.04',\n",
      "             'm2370.11','m2368.18','m2366.26','m2364.33','m2362.4',\n",
      "             'm2360.47','m2358.54','m2356.61','m2354.68','m2352.76']\n",
      "\n",
      "def load_data():\n",
      "    '''\n",
      "    Function for quickly loading data\n",
      "    '''\n",
      "    # Read from file\n",
      "    train = munge.hash_features(pd.read_csv(fname_train),\n",
      "                                columns=['Depth'])\n",
      "    test = munge.hash_features(pd.read_csv(fname_test),\n",
      "                               columns=['Depth'])    \n",
      "    # Get labels\n",
      "    labels = train[target_colnames].copy(deep=True)\n",
      "    \n",
      "    # Drop unnecessary columns\n",
      "    train.drop(target_colnames + ['PIDN'], axis=1, inplace=True)\n",
      "    test.drop('PIDN', axis=1, inplace=True)\n",
      "    return train, labels, test\n",
      "\n",
      "def fit_and_predict(predictors, features4target,\n",
      "                    train_data, label_data, test_data, fname_out):\n",
      "    '''\n",
      "    Given a predictor model for each of the target columns,\n",
      "    train on data and make predictions, and output in correct\n",
      "    format for submission.\n",
      "    \n",
      "    predictors is a dictionary that maps each of the target column\n",
      "    name to a predictor object\n",
      "    \n",
      "    features4target is a dictionary that maps each of the target column\n",
      "    name to a list containing feature column names to use for that target\n",
      "    '''\n",
      "    submission = pd.read_csv(fname_sample_submission)\n",
      "    predictions = {}\n",
      "    for t in target_colnames:\n",
      "        predictors[t].fit(train_data[features4target[t]], label_data[t])\n",
      "        submission[t] = predictors[t].predict(test_data[features4target[t]])\n",
      "    submission.to_csv(fname_out, index=False)\n",
      "    \n",
      "def fit_and_predict2(predictors, train4target,\n",
      "                     label_data, test4target,\n",
      "                     fname_out):\n",
      "    '''\n",
      "    Given a predictor model for each of the target columns,\n",
      "    train on data and make predictions, and output in correct\n",
      "    format for submission.\n",
      "    \n",
      "    predictors is a dictionary that maps each of the target column\n",
      "    name to a predictor object\n",
      "    \n",
      "    train4target is a dictionary that maps each of the target column\n",
      "    name to corresponding training data to be used for the target\n",
      "    \n",
      "    test4target is a dictionary that maps each of the target column\n",
      "    name to corresponding test data to be used for the target\n",
      "    '''\n",
      "    submission = pd.read_csv(fname_sample_submission)\n",
      "    predictions = {}\n",
      "    for t in target_colnames:\n",
      "        predictors[t].fit(train4target[t].values, label_data[t].values)\n",
      "        submission[t] = predictors[t].predict(test4target[t].values)\n",
      "    submission.to_csv(fname_out, index=False)\n",
      "\n",
      "def cross_validate_columns(predictor, features4target, train_data, label_data):\n",
      "    '''\n",
      "    Given a predictor model, run cross validation on each of the targets\n",
      "    '''\n",
      "    # Set up consistent kfolds\n",
      "    kf = KFold(n=train_data.shape[0], n_folds=5, shuffle=True)\n",
      "    kfolds = []\n",
      "    for a,b in kf:\n",
      "        kfolds.append((a,b))\n",
      "\n",
      "    cv_scores = {}\n",
      "    for t in target_colnames:\n",
      "        print \"\\nRunning CV for target {}\".format(t)\n",
      "        cv_scores[t] = np.absolute(cross_validation.cross_val_score(predictor, train_data[features4target[t]], label_data[t],\n",
      "                                                                    scoring='mean_squared_error', cv=kfolds))\n",
      "    cv_results = pd.DataFrame(cv_scores)[target_colnames]\n",
      "    cv_results['MCRMSE'] = cv_results.apply(lambda row: np.mean([np.sqrt(row[t]) for t in target_colnames]), axis=1)\n",
      "    cv_results_t = cv_results.transpose()\n",
      "    cv_results_t['mean'] = cv_results.mean()\n",
      "    cv_results_t['std dev'] = cv_results.std()\n",
      "    return cv_results_t\n",
      "\n",
      "def cross_validate_columns2(predictors, train4target, label_data):\n",
      "    '''\n",
      "    Given a predictor models to use for each target, run cross validation on each of the targets\n",
      "    '''\n",
      "    # Set up consistent kfolds\n",
      "    kf = KFold(n=train4target['P'].shape[0], n_folds=5, shuffle=True)\n",
      "    kfolds = []\n",
      "    for a,b in kf:\n",
      "        kfolds.append((a,b))\n",
      "\n",
      "    cv_scores = {}\n",
      "    for t in target_colnames:\n",
      "        print \"\\nRunning CV for target {}\".format(t)\n",
      "        cv_scores[t] = np.absolute(cross_validation.cross_val_score(predictors[t],\n",
      "                                                                    train4target[t].values,\n",
      "                                                                    label_data[t].values,\n",
      "                                                                    scoring='mean_squared_error',\n",
      "                                                                    cv=kfolds))\n",
      "    cv_results = pd.DataFrame(cv_scores)[target_colnames]\n",
      "    cv_results['MCRMSE'] = cv_results.apply(lambda row: np.mean([np.sqrt(row[t]) for t in target_colnames]), axis=1)\n",
      "    cv_results_t = cv_results.transpose()\n",
      "    cv_results_t['mean'] = cv_results.mean()\n",
      "    cv_results_t['std dev'] = cv_results.std()\n",
      "    return cv_results_t"
     ],
     "language": "python",
     "metadata": {},
     "outputs": [],
     "prompt_number": 2
    },
    {
     "cell_type": "markdown",
     "metadata": {},
     "source": [
      "### Beating the benchmark method SVR - confirmed same results as the other guy's (LB 0.43621)"
     ]
    },
    {
     "cell_type": "code",
     "collapsed": false,
     "input": [
      "outfile = 'submissions/beat_benchmark.csv'\n",
      "train, labels, test = load_data()\n",
      "train = train[train.columns[:3578]]\n",
      "test = test[test.columns[:3578]]\n",
      "sup_vec = svm.SVR(C=10000.0, verbose=2)\n",
      "cv_results = cross_validate_columns(sup_vec, {t: train.columns for t in target_colnames},\n",
      "                                    train, labels)\n",
      "print '\\n', cv_results, '\\n'\n",
      "fit_and_predict({t: sup_vec for t in target_colnames},\n",
      "                {t: train.columns for t in target_colnames},\n",
      "                train, labels, test, outfile)"
     ],
     "language": "python",
     "metadata": {},
     "outputs": [
      {
       "output_type": "stream",
       "stream": "stdout",
       "text": [
        "[LibSVM][LibSVM]"
       ]
      },
      {
       "output_type": "stream",
       "stream": "stdout",
       "text": [
        "[LibSVM]"
       ]
      },
      {
       "output_type": "stream",
       "stream": "stdout",
       "text": [
        "[LibSVM]"
       ]
      },
      {
       "output_type": "stream",
       "stream": "stdout",
       "text": [
        "[LibSVM]"
       ]
      },
      {
       "output_type": "stream",
       "stream": "stdout",
       "text": [
        "[LibSVM]"
       ]
      },
      {
       "output_type": "stream",
       "stream": "stdout",
       "text": [
        "[LibSVM]"
       ]
      },
      {
       "output_type": "stream",
       "stream": "stdout",
       "text": [
        "[LibSVM]"
       ]
      },
      {
       "output_type": "stream",
       "stream": "stdout",
       "text": [
        "[LibSVM]"
       ]
      },
      {
       "output_type": "stream",
       "stream": "stdout",
       "text": [
        "[LibSVM]"
       ]
      },
      {
       "output_type": "stream",
       "stream": "stdout",
       "text": [
        "[LibSVM]"
       ]
      },
      {
       "output_type": "stream",
       "stream": "stdout",
       "text": [
        "[LibSVM]"
       ]
      },
      {
       "output_type": "stream",
       "stream": "stdout",
       "text": [
        "[LibSVM]"
       ]
      },
      {
       "output_type": "stream",
       "stream": "stdout",
       "text": [
        "[LibSVM]"
       ]
      },
      {
       "output_type": "stream",
       "stream": "stdout",
       "text": [
        "[LibSVM]"
       ]
      },
      {
       "output_type": "stream",
       "stream": "stdout",
       "text": [
        "[LibSVM]"
       ]
      },
      {
       "output_type": "stream",
       "stream": "stdout",
       "text": [
        "[LibSVM]"
       ]
      },
      {
       "output_type": "stream",
       "stream": "stdout",
       "text": [
        "[LibSVM]"
       ]
      },
      {
       "output_type": "stream",
       "stream": "stdout",
       "text": [
        "[LibSVM]"
       ]
      },
      {
       "output_type": "stream",
       "stream": "stdout",
       "text": [
        "[LibSVM]"
       ]
      },
      {
       "output_type": "stream",
       "stream": "stdout",
       "text": [
        "[LibSVM]"
       ]
      },
      {
       "output_type": "stream",
       "stream": "stdout",
       "text": [
        "[LibSVM]"
       ]
      },
      {
       "output_type": "stream",
       "stream": "stdout",
       "text": [
        "[LibSVM]"
       ]
      },
      {
       "output_type": "stream",
       "stream": "stdout",
       "text": [
        "[LibSVM]"
       ]
      },
      {
       "output_type": "stream",
       "stream": "stdout",
       "text": [
        "[LibSVM]"
       ]
      },
      {
       "output_type": "stream",
       "stream": "stdout",
       "text": [
        "\n"
       ]
      },
      {
       "output_type": "stream",
       "stream": "stdout",
       "text": [
        "               0         1         2         3         4      mean   std dev\n",
        "Ca      0.084411  0.100602  0.072787  0.036069  0.189011  0.096576  0.056867\n",
        "P       0.560547  0.828260  0.531766  0.396766  2.095221  0.882512  0.695744\n",
        "pH      0.104981  0.098301  0.088513  0.159918  0.116725  0.113688  0.027807\n",
        "SOC     0.057530  0.076700  0.158846  0.039925  0.141315  0.094863  0.052425\n",
        "Sand    0.158221  0.072560  0.103989  0.139627  0.085591  0.111998  0.036114\n",
        "MCRMSE  0.400173  0.417422  0.403511  0.358638  0.578474  0.431644  0.084960 \n",
        "\n",
        "[LibSVM][LibSVM]"
       ]
      },
      {
       "output_type": "stream",
       "stream": "stdout",
       "text": [
        "[LibSVM]"
       ]
      },
      {
       "output_type": "stream",
       "stream": "stdout",
       "text": [
        "[LibSVM]"
       ]
      },
      {
       "output_type": "stream",
       "stream": "stdout",
       "text": [
        "[LibSVM]"
       ]
      }
     ],
     "prompt_number": 3
    },
    {
     "cell_type": "markdown",
     "metadata": {},
     "source": [
      "### Modify benchmark by including spatial data and depth (LB 0.41361)"
     ]
    },
    {
     "cell_type": "code",
     "collapsed": false,
     "input": [
      "outfile = 'submissions/include_spatial_depth.csv'\n",
      "train, labels, test = load_data()\n",
      "sup_vec = svm.SVR(C=10000.0, verbose=2)\n",
      "cv_results = cross_validate_columns(sup_vec, {t: train.columns for t in target_colnames},\n",
      "                                    train, labels)\n",
      "print '\\n', cv_results, '\\n'\n",
      "fit_and_predict({t: sup_vec for t in target_colnames},\n",
      "                {t: train.columns for t in target_colnames},\n",
      "                train, labels, test, outfile)"
     ],
     "language": "python",
     "metadata": {},
     "outputs": [
      {
       "output_type": "stream",
       "stream": "stdout",
       "text": [
        "[LibSVM][LibSVM]"
       ]
      },
      {
       "output_type": "stream",
       "stream": "stdout",
       "text": [
        "[LibSVM]"
       ]
      },
      {
       "output_type": "stream",
       "stream": "stdout",
       "text": [
        "[LibSVM]"
       ]
      },
      {
       "output_type": "stream",
       "stream": "stdout",
       "text": [
        "[LibSVM]"
       ]
      },
      {
       "output_type": "stream",
       "stream": "stdout",
       "text": [
        "[LibSVM]"
       ]
      },
      {
       "output_type": "stream",
       "stream": "stdout",
       "text": [
        "[LibSVM]"
       ]
      },
      {
       "output_type": "stream",
       "stream": "stdout",
       "text": [
        "[LibSVM]"
       ]
      },
      {
       "output_type": "stream",
       "stream": "stdout",
       "text": [
        "[LibSVM]"
       ]
      },
      {
       "output_type": "stream",
       "stream": "stdout",
       "text": [
        "[LibSVM]"
       ]
      },
      {
       "output_type": "stream",
       "stream": "stdout",
       "text": [
        "[LibSVM]"
       ]
      },
      {
       "output_type": "stream",
       "stream": "stdout",
       "text": [
        "[LibSVM]"
       ]
      },
      {
       "output_type": "stream",
       "stream": "stdout",
       "text": [
        "[LibSVM]"
       ]
      },
      {
       "output_type": "stream",
       "stream": "stdout",
       "text": [
        "[LibSVM]"
       ]
      },
      {
       "output_type": "stream",
       "stream": "stdout",
       "text": [
        "[LibSVM]"
       ]
      },
      {
       "output_type": "stream",
       "stream": "stdout",
       "text": [
        "[LibSVM]"
       ]
      },
      {
       "output_type": "stream",
       "stream": "stdout",
       "text": [
        "[LibSVM]"
       ]
      },
      {
       "output_type": "stream",
       "stream": "stdout",
       "text": [
        "[LibSVM]"
       ]
      },
      {
       "output_type": "stream",
       "stream": "stdout",
       "text": [
        "[LibSVM]"
       ]
      },
      {
       "output_type": "stream",
       "stream": "stdout",
       "text": [
        "[LibSVM]"
       ]
      },
      {
       "output_type": "stream",
       "stream": "stdout",
       "text": [
        "[LibSVM]"
       ]
      },
      {
       "output_type": "stream",
       "stream": "stdout",
       "text": [
        "[LibSVM]"
       ]
      },
      {
       "output_type": "stream",
       "stream": "stdout",
       "text": [
        "[LibSVM]"
       ]
      },
      {
       "output_type": "stream",
       "stream": "stdout",
       "text": [
        "[LibSVM]"
       ]
      },
      {
       "output_type": "stream",
       "stream": "stdout",
       "text": [
        "[LibSVM]"
       ]
      },
      {
       "output_type": "stream",
       "stream": "stdout",
       "text": [
        "\n"
       ]
      },
      {
       "output_type": "stream",
       "stream": "stdout",
       "text": [
        "               0         1         2         3         4      mean   std dev\n",
        "Ca      0.123256  0.060938  0.098540  0.153865  0.182546  0.123829  0.047289\n",
        "P       0.372006  0.848139  0.678814  1.306561  1.086109  0.858326  0.361122\n",
        "pH      0.087674  0.097114  0.098201  0.111824  0.118697  0.102702  0.012413\n",
        "SOC     0.037960  0.083286  0.193574  0.073606  0.054786  0.088642  0.061197\n",
        "Sand    0.111014  0.092136  0.122614  0.072705  0.094669  0.098627  0.019096\n",
        "MCRMSE  0.357024  0.414313  0.448263  0.482130  0.471138  0.434573  0.050523 \n",
        "\n",
        "[LibSVM][LibSVM]"
       ]
      },
      {
       "output_type": "stream",
       "stream": "stdout",
       "text": [
        "[LibSVM]"
       ]
      },
      {
       "output_type": "stream",
       "stream": "stdout",
       "text": [
        "[LibSVM]"
       ]
      },
      {
       "output_type": "stream",
       "stream": "stdout",
       "text": [
        "[LibSVM]"
       ]
      }
     ],
     "prompt_number": 4
    },
    {
     "cell_type": "markdown",
     "metadata": {},
     "source": [
      "### Try same as above, but without CO2 data, as recommended by competition host (LB 0.41176)"
     ]
    },
    {
     "cell_type": "code",
     "collapsed": false,
     "input": [
      "outfile = 'submissions/include_spatial_depth_noCO2.csv'\n",
      "train, labels, test = load_data()\n",
      "train_noCO2 = train.drop(CO2_bands, axis=1, inplace=False)\n",
      "test_noCO2 = test.drop(CO2_bands, axis=1, inplace=False)\n",
      "sup_vec = svm.SVR(C=10000.0, verbose=2)\n",
      "cv_results = cross_validate_columns(sup_vec, {t: train_noCO2.columns for t in target_colnames},\n",
      "                                    train, labels)\n",
      "print '\\n', cv_results, '\\n'\n",
      "fit_and_predict({t: sup_vec for t in target_colnames},\n",
      "                {t: train_noCO2.columns for t in target_colnames},\n",
      "                train, labels, test, outfile)"
     ],
     "language": "python",
     "metadata": {},
     "outputs": [
      {
       "output_type": "stream",
       "stream": "stdout",
       "text": [
        "[LibSVM][LibSVM]"
       ]
      },
      {
       "output_type": "stream",
       "stream": "stdout",
       "text": [
        "[LibSVM]"
       ]
      },
      {
       "output_type": "stream",
       "stream": "stdout",
       "text": [
        "[LibSVM]"
       ]
      },
      {
       "output_type": "stream",
       "stream": "stdout",
       "text": [
        "[LibSVM]"
       ]
      },
      {
       "output_type": "stream",
       "stream": "stdout",
       "text": [
        "[LibSVM]"
       ]
      },
      {
       "output_type": "stream",
       "stream": "stdout",
       "text": [
        "[LibSVM]"
       ]
      },
      {
       "output_type": "stream",
       "stream": "stdout",
       "text": [
        "[LibSVM]"
       ]
      },
      {
       "output_type": "stream",
       "stream": "stdout",
       "text": [
        "[LibSVM]"
       ]
      },
      {
       "output_type": "stream",
       "stream": "stdout",
       "text": [
        "[LibSVM]"
       ]
      },
      {
       "output_type": "stream",
       "stream": "stdout",
       "text": [
        "[LibSVM]"
       ]
      },
      {
       "output_type": "stream",
       "stream": "stdout",
       "text": [
        "[LibSVM]"
       ]
      },
      {
       "output_type": "stream",
       "stream": "stdout",
       "text": [
        "[LibSVM]"
       ]
      },
      {
       "output_type": "stream",
       "stream": "stdout",
       "text": [
        "[LibSVM]"
       ]
      },
      {
       "output_type": "stream",
       "stream": "stdout",
       "text": [
        "[LibSVM]"
       ]
      },
      {
       "output_type": "stream",
       "stream": "stdout",
       "text": [
        "[LibSVM]"
       ]
      },
      {
       "output_type": "stream",
       "stream": "stdout",
       "text": [
        "[LibSVM]"
       ]
      },
      {
       "output_type": "stream",
       "stream": "stdout",
       "text": [
        "[LibSVM]"
       ]
      },
      {
       "output_type": "stream",
       "stream": "stdout",
       "text": [
        "[LibSVM]"
       ]
      },
      {
       "output_type": "stream",
       "stream": "stdout",
       "text": [
        "[LibSVM]"
       ]
      },
      {
       "output_type": "stream",
       "stream": "stdout",
       "text": [
        "[LibSVM]"
       ]
      },
      {
       "output_type": "stream",
       "stream": "stdout",
       "text": [
        "[LibSVM]"
       ]
      },
      {
       "output_type": "stream",
       "stream": "stdout",
       "text": [
        "[LibSVM]"
       ]
      },
      {
       "output_type": "stream",
       "stream": "stdout",
       "text": [
        "[LibSVM]"
       ]
      },
      {
       "output_type": "stream",
       "stream": "stdout",
       "text": [
        "[LibSVM]"
       ]
      },
      {
       "output_type": "stream",
       "stream": "stdout",
       "text": [
        "\n"
       ]
      },
      {
       "output_type": "stream",
       "stream": "stdout",
       "text": [
        "               0         1         2         3         4      mean   std dev\n",
        "Ca      0.081310  0.109759  0.189750  0.093292  0.045235  0.103869  0.053546\n",
        "P       1.795390  0.602195  0.840966  0.600459  0.484646  0.864731  0.536171\n",
        "pH      0.123255  0.107272  0.096808  0.117436  0.081497  0.105253  0.016675\n",
        "SOC     0.101937  0.054525  0.106142  0.102270  0.124136  0.097802  0.025851\n",
        "Sand    0.125684  0.112371  0.088547  0.090162  0.066932  0.096739  0.022809\n",
        "MCRMSE  0.529988  0.400712  0.457429  0.408618  0.361074  0.431564  0.064814 \n",
        "\n",
        "[LibSVM][LibSVM]"
       ]
      },
      {
       "output_type": "stream",
       "stream": "stdout",
       "text": [
        "[LibSVM]"
       ]
      },
      {
       "output_type": "stream",
       "stream": "stdout",
       "text": [
        "[LibSVM]"
       ]
      },
      {
       "output_type": "stream",
       "stream": "stdout",
       "text": [
        "[LibSVM]"
       ]
      }
     ],
     "prompt_number": 5
    },
    {
     "cell_type": "markdown",
     "metadata": {},
     "source": [
      "### Try Other parameters for C"
     ]
    },
    {
     "cell_type": "code",
     "collapsed": false,
     "input": [
      "outfile = 'submissions/include_spatial_depth_noCO2_C1.csv' # LB 0.70081\n",
      "train, labels, test = load_data()\n",
      "train_noCO2 = train.drop(CO2_bands, axis=1, inplace=False)\n",
      "test_noCO2 = test.drop(CO2_bands, axis=1, inplace=False)\n",
      "sup_vec = svm.SVR(C=1.0, verbose=2)\n",
      "cv_results = cross_validate_columns(sup_vec, {t: train_noCO2.columns for t in target_colnames},\n",
      "                                    train, labels)\n",
      "print '\\n', cv_results, '\\n'\n",
      "fit_and_predict({t: sup_vec for t in target_colnames},\n",
      "                {t: train_noCO2.columns for t in target_colnames},\n",
      "                train, labels, test, outfile)"
     ],
     "language": "python",
     "metadata": {},
     "outputs": [
      {
       "output_type": "stream",
       "stream": "stdout",
       "text": [
        "[LibSVM][LibSVM]"
       ]
      },
      {
       "output_type": "stream",
       "stream": "stdout",
       "text": [
        "[LibSVM]"
       ]
      },
      {
       "output_type": "stream",
       "stream": "stdout",
       "text": [
        "[LibSVM]"
       ]
      },
      {
       "output_type": "stream",
       "stream": "stdout",
       "text": [
        "[LibSVM]"
       ]
      },
      {
       "output_type": "stream",
       "stream": "stdout",
       "text": [
        "[LibSVM]"
       ]
      },
      {
       "output_type": "stream",
       "stream": "stdout",
       "text": [
        "[LibSVM]"
       ]
      },
      {
       "output_type": "stream",
       "stream": "stdout",
       "text": [
        "[LibSVM]"
       ]
      },
      {
       "output_type": "stream",
       "stream": "stdout",
       "text": [
        "[LibSVM]"
       ]
      },
      {
       "output_type": "stream",
       "stream": "stdout",
       "text": [
        "[LibSVM]"
       ]
      },
      {
       "output_type": "stream",
       "stream": "stdout",
       "text": [
        "[LibSVM]"
       ]
      },
      {
       "output_type": "stream",
       "stream": "stdout",
       "text": [
        "[LibSVM]"
       ]
      },
      {
       "output_type": "stream",
       "stream": "stdout",
       "text": [
        "[LibSVM]"
       ]
      },
      {
       "output_type": "stream",
       "stream": "stdout",
       "text": [
        "[LibSVM]"
       ]
      },
      {
       "output_type": "stream",
       "stream": "stdout",
       "text": [
        "[LibSVM]"
       ]
      },
      {
       "output_type": "stream",
       "stream": "stdout",
       "text": [
        "[LibSVM]"
       ]
      },
      {
       "output_type": "stream",
       "stream": "stdout",
       "text": [
        "[LibSVM]"
       ]
      },
      {
       "output_type": "stream",
       "stream": "stdout",
       "text": [
        "[LibSVM]"
       ]
      },
      {
       "output_type": "stream",
       "stream": "stdout",
       "text": [
        "[LibSVM]"
       ]
      },
      {
       "output_type": "stream",
       "stream": "stdout",
       "text": [
        "[LibSVM]"
       ]
      },
      {
       "output_type": "stream",
       "stream": "stdout",
       "text": [
        "[LibSVM]"
       ]
      },
      {
       "output_type": "stream",
       "stream": "stdout",
       "text": [
        "[LibSVM]"
       ]
      },
      {
       "output_type": "stream",
       "stream": "stdout",
       "text": [
        "[LibSVM]"
       ]
      },
      {
       "output_type": "stream",
       "stream": "stdout",
       "text": [
        "[LibSVM]"
       ]
      },
      {
       "output_type": "stream",
       "stream": "stdout",
       "text": [
        "[LibSVM]"
       ]
      },
      {
       "output_type": "stream",
       "stream": "stdout",
       "text": [
        "\n"
       ]
      },
      {
       "output_type": "stream",
       "stream": "stdout",
       "text": [
        "               0         1         2         3         4      mean   std dev\n",
        "Ca      0.667667  1.090671  0.751057  1.028953  0.376871  0.783044  0.289144\n",
        "P       0.621541  0.990822  1.605413  1.462610  0.344267  1.004931  0.537055\n",
        "pH      0.431784  0.336907  0.341913  0.322446  0.321579  0.350926  0.046066\n",
        "SOC     0.721417  0.509575  0.430659  0.791033  0.678725  0.626282  0.150692\n",
        "Sand    0.247117  0.436451  0.330147  0.319664  0.338778  0.334431  0.067615\n",
        "MCRMSE  0.721812  0.798936  0.789850  0.849278  0.634723  0.758920  0.082952 \n",
        "\n",
        "[LibSVM][LibSVM]"
       ]
      },
      {
       "output_type": "stream",
       "stream": "stdout",
       "text": [
        "[LibSVM]"
       ]
      },
      {
       "output_type": "stream",
       "stream": "stdout",
       "text": [
        "[LibSVM]"
       ]
      },
      {
       "output_type": "stream",
       "stream": "stdout",
       "text": [
        "[LibSVM]"
       ]
      }
     ],
     "prompt_number": 6
    },
    {
     "cell_type": "code",
     "collapsed": false,
     "input": [
      "outfile = 'submissions/include_spatial_depth_noCO2_C10.csv'\n",
      "train, labels, test = load_data()\n",
      "train_noCO2 = train.drop(CO2_bands, axis=1, inplace=False)\n",
      "test_noCO2 = test.drop(CO2_bands, axis=1, inplace=False)\n",
      "sup_vec = svm.SVR(C=10.0, verbose=2)\n",
      "cv_results = cross_validate_columns(sup_vec, {t: train_noCO2.columns for t in target_colnames},\n",
      "                                    train, labels)\n",
      "print '\\n', cv_results, '\\n'\n",
      "fit_and_predict({t: sup_vec for t in target_colnames},\n",
      "                {t: train_noCO2.columns for t in target_colnames},\n",
      "                train, labels, test, outfile)"
     ],
     "language": "python",
     "metadata": {},
     "outputs": [
      {
       "output_type": "stream",
       "stream": "stdout",
       "text": [
        "[LibSVM][LibSVM]"
       ]
      },
      {
       "output_type": "stream",
       "stream": "stdout",
       "text": [
        "[LibSVM]"
       ]
      },
      {
       "output_type": "stream",
       "stream": "stdout",
       "text": [
        "[LibSVM]"
       ]
      },
      {
       "output_type": "stream",
       "stream": "stdout",
       "text": [
        "[LibSVM]"
       ]
      },
      {
       "output_type": "stream",
       "stream": "stdout",
       "text": [
        "[LibSVM]"
       ]
      },
      {
       "output_type": "stream",
       "stream": "stdout",
       "text": [
        "[LibSVM]"
       ]
      },
      {
       "output_type": "stream",
       "stream": "stdout",
       "text": [
        "[LibSVM]"
       ]
      },
      {
       "output_type": "stream",
       "stream": "stdout",
       "text": [
        "[LibSVM]"
       ]
      },
      {
       "output_type": "stream",
       "stream": "stdout",
       "text": [
        "[LibSVM]"
       ]
      },
      {
       "output_type": "stream",
       "stream": "stdout",
       "text": [
        "[LibSVM]"
       ]
      },
      {
       "output_type": "stream",
       "stream": "stdout",
       "text": [
        "[LibSVM]"
       ]
      },
      {
       "output_type": "stream",
       "stream": "stdout",
       "text": [
        "[LibSVM]"
       ]
      },
      {
       "output_type": "stream",
       "stream": "stdout",
       "text": [
        "[LibSVM]"
       ]
      },
      {
       "output_type": "stream",
       "stream": "stdout",
       "text": [
        "[LibSVM]"
       ]
      },
      {
       "output_type": "stream",
       "stream": "stdout",
       "text": [
        "[LibSVM]"
       ]
      },
      {
       "output_type": "stream",
       "stream": "stdout",
       "text": [
        "[LibSVM]"
       ]
      },
      {
       "output_type": "stream",
       "stream": "stdout",
       "text": [
        "[LibSVM]"
       ]
      },
      {
       "output_type": "stream",
       "stream": "stdout",
       "text": [
        "[LibSVM]"
       ]
      },
      {
       "output_type": "stream",
       "stream": "stdout",
       "text": [
        "[LibSVM]"
       ]
      },
      {
       "output_type": "stream",
       "stream": "stdout",
       "text": [
        "[LibSVM]"
       ]
      },
      {
       "output_type": "stream",
       "stream": "stdout",
       "text": [
        "[LibSVM]"
       ]
      },
      {
       "output_type": "stream",
       "stream": "stdout",
       "text": [
        "[LibSVM]"
       ]
      },
      {
       "output_type": "stream",
       "stream": "stdout",
       "text": [
        "[LibSVM]"
       ]
      },
      {
       "output_type": "stream",
       "stream": "stdout",
       "text": [
        "[LibSVM]"
       ]
      },
      {
       "output_type": "stream",
       "stream": "stdout",
       "text": [
        "\n"
       ]
      },
      {
       "output_type": "stream",
       "stream": "stdout",
       "text": [
        "               0         1         2         3         4      mean   std dev\n",
        "Ca      0.431748  0.259106  0.298069  0.321699  0.327832  0.327691  0.064119\n",
        "P       0.689108  2.545056  0.326886  0.634965  0.746394  0.988482  0.885132\n",
        "pH      0.220394  0.208090  0.302091  0.193928  0.172338  0.219368  0.049574\n",
        "SOC     0.269334  0.320371  0.257139  0.313549  0.338931  0.299865  0.034970\n",
        "Sand    0.212695  0.218667  0.185702  0.275596  0.237704  0.226073  0.033360\n",
        "MCRMSE  0.587365  0.718830  0.521069  0.577866  0.584274  0.597881  0.072844 \n",
        "\n",
        "[LibSVM][LibSVM]"
       ]
      },
      {
       "output_type": "stream",
       "stream": "stdout",
       "text": [
        "[LibSVM]"
       ]
      },
      {
       "output_type": "stream",
       "stream": "stdout",
       "text": [
        "[LibSVM]"
       ]
      },
      {
       "output_type": "stream",
       "stream": "stdout",
       "text": [
        "[LibSVM]"
       ]
      }
     ],
     "prompt_number": 7
    },
    {
     "cell_type": "code",
     "collapsed": false,
     "input": [
      "outfile = 'submissions/include_spatial_depth_noCO2_C100.csv'\n",
      "train, labels, test = load_data()\n",
      "train_noCO2 = train.drop(CO2_bands, axis=1, inplace=False)\n",
      "test_noCO2 = test.drop(CO2_bands, axis=1, inplace=False)\n",
      "sup_vec = svm.SVR(C=100.0, verbose=2)\n",
      "cv_results = cross_validate_columns(sup_vec, {t: train_noCO2.columns for t in target_colnames},\n",
      "                                    train, labels)\n",
      "print '\\n', cv_results, '\\n'\n",
      "fit_and_predict({t: sup_vec for t in target_colnames},\n",
      "                {t: train_noCO2.columns for t in target_colnames},\n",
      "                train, labels, test, outfile)"
     ],
     "language": "python",
     "metadata": {},
     "outputs": [
      {
       "output_type": "stream",
       "stream": "stdout",
       "text": [
        "[LibSVM][LibSVM]"
       ]
      },
      {
       "output_type": "stream",
       "stream": "stdout",
       "text": [
        "[LibSVM]"
       ]
      },
      {
       "output_type": "stream",
       "stream": "stdout",
       "text": [
        "[LibSVM]"
       ]
      },
      {
       "output_type": "stream",
       "stream": "stdout",
       "text": [
        "[LibSVM]"
       ]
      },
      {
       "output_type": "stream",
       "stream": "stdout",
       "text": [
        "[LibSVM]"
       ]
      },
      {
       "output_type": "stream",
       "stream": "stdout",
       "text": [
        "[LibSVM]"
       ]
      },
      {
       "output_type": "stream",
       "stream": "stdout",
       "text": [
        "[LibSVM]"
       ]
      },
      {
       "output_type": "stream",
       "stream": "stdout",
       "text": [
        "[LibSVM]"
       ]
      },
      {
       "output_type": "stream",
       "stream": "stdout",
       "text": [
        "[LibSVM]"
       ]
      },
      {
       "output_type": "stream",
       "stream": "stdout",
       "text": [
        "[LibSVM]"
       ]
      },
      {
       "output_type": "stream",
       "stream": "stdout",
       "text": [
        "[LibSVM]"
       ]
      },
      {
       "output_type": "stream",
       "stream": "stdout",
       "text": [
        "[LibSVM]"
       ]
      },
      {
       "output_type": "stream",
       "stream": "stdout",
       "text": [
        "[LibSVM]"
       ]
      },
      {
       "output_type": "stream",
       "stream": "stdout",
       "text": [
        "[LibSVM]"
       ]
      },
      {
       "output_type": "stream",
       "stream": "stdout",
       "text": [
        "[LibSVM]"
       ]
      },
      {
       "output_type": "stream",
       "stream": "stdout",
       "text": [
        "[LibSVM]"
       ]
      },
      {
       "output_type": "stream",
       "stream": "stdout",
       "text": [
        "[LibSVM]"
       ]
      },
      {
       "output_type": "stream",
       "stream": "stdout",
       "text": [
        "[LibSVM]"
       ]
      },
      {
       "output_type": "stream",
       "stream": "stdout",
       "text": [
        "[LibSVM]"
       ]
      },
      {
       "output_type": "stream",
       "stream": "stdout",
       "text": [
        "[LibSVM]"
       ]
      },
      {
       "output_type": "stream",
       "stream": "stdout",
       "text": [
        "[LibSVM]"
       ]
      },
      {
       "output_type": "stream",
       "stream": "stdout",
       "text": [
        "[LibSVM]"
       ]
      },
      {
       "output_type": "stream",
       "stream": "stdout",
       "text": [
        "[LibSVM]"
       ]
      },
      {
       "output_type": "stream",
       "stream": "stdout",
       "text": [
        "[LibSVM]"
       ]
      },
      {
       "output_type": "stream",
       "stream": "stdout",
       "text": [
        "\n"
       ]
      },
      {
       "output_type": "stream",
       "stream": "stdout",
       "text": [
        "               0         1         2         3         4      mean   std dev\n",
        "Ca      0.209721  0.167481  0.044735  0.246616  0.160558  0.165822  0.076071\n",
        "P       0.514497  1.106512  0.330394  1.566459  1.290899  0.961752  0.522880\n",
        "pH      0.171479  0.173289  0.220794  0.158137  0.154297  0.175599  0.026569\n",
        "SOC     0.095547  0.219089  0.088014  0.254612  0.193402  0.170133  0.074802\n",
        "Sand    0.157430  0.182424  0.143967  0.129480  0.148448  0.152350  0.019614\n",
        "MCRMSE  0.459044  0.554523  0.386459  0.602055  0.550949  0.510606  0.086589 \n",
        "\n",
        "[LibSVM][LibSVM]"
       ]
      },
      {
       "output_type": "stream",
       "stream": "stdout",
       "text": [
        "[LibSVM]"
       ]
      },
      {
       "output_type": "stream",
       "stream": "stdout",
       "text": [
        "[LibSVM]"
       ]
      },
      {
       "output_type": "stream",
       "stream": "stdout",
       "text": [
        "[LibSVM]"
       ]
      }
     ],
     "prompt_number": 8
    },
    {
     "cell_type": "code",
     "collapsed": false,
     "input": [
      "outfile = 'submissions/include_spatial_depth_noCO2_C1000.csv' # LB 0.42147\n",
      "train, labels, test = load_data()\n",
      "train_noCO2 = train.drop(CO2_bands, axis=1, inplace=False)\n",
      "test_noCO2 = test.drop(CO2_bands, axis=1, inplace=False)\n",
      "sup_vec = svm.SVR(C=1000.0, verbose=2)\n",
      "cv_results = cross_validate_columns(sup_vec, {t: train_noCO2.columns for t in target_colnames},\n",
      "                                    train, labels)\n",
      "print '\\n', cv_results, '\\n'\n",
      "fit_and_predict({t: sup_vec for t in target_colnames},\n",
      "                {t: train_noCO2.columns for t in target_colnames},\n",
      "                train, labels, test, outfile)"
     ],
     "language": "python",
     "metadata": {},
     "outputs": [
      {
       "output_type": "stream",
       "stream": "stdout",
       "text": [
        "[LibSVM][LibSVM]"
       ]
      },
      {
       "output_type": "stream",
       "stream": "stdout",
       "text": [
        "[LibSVM]"
       ]
      },
      {
       "output_type": "stream",
       "stream": "stdout",
       "text": [
        "[LibSVM]"
       ]
      },
      {
       "output_type": "stream",
       "stream": "stdout",
       "text": [
        "[LibSVM]"
       ]
      },
      {
       "output_type": "stream",
       "stream": "stdout",
       "text": [
        "[LibSVM]"
       ]
      },
      {
       "output_type": "stream",
       "stream": "stdout",
       "text": [
        "[LibSVM]"
       ]
      },
      {
       "output_type": "stream",
       "stream": "stdout",
       "text": [
        "[LibSVM]"
       ]
      },
      {
       "output_type": "stream",
       "stream": "stdout",
       "text": [
        "[LibSVM]"
       ]
      },
      {
       "output_type": "stream",
       "stream": "stdout",
       "text": [
        "[LibSVM]"
       ]
      },
      {
       "output_type": "stream",
       "stream": "stdout",
       "text": [
        "[LibSVM]"
       ]
      },
      {
       "output_type": "stream",
       "stream": "stdout",
       "text": [
        "[LibSVM]"
       ]
      },
      {
       "output_type": "stream",
       "stream": "stdout",
       "text": [
        "[LibSVM]"
       ]
      },
      {
       "output_type": "stream",
       "stream": "stdout",
       "text": [
        "[LibSVM]"
       ]
      },
      {
       "output_type": "stream",
       "stream": "stdout",
       "text": [
        "[LibSVM]"
       ]
      },
      {
       "output_type": "stream",
       "stream": "stdout",
       "text": [
        "[LibSVM]"
       ]
      },
      {
       "output_type": "stream",
       "stream": "stdout",
       "text": [
        "[LibSVM]"
       ]
      },
      {
       "output_type": "stream",
       "stream": "stdout",
       "text": [
        "[LibSVM]"
       ]
      },
      {
       "output_type": "stream",
       "stream": "stdout",
       "text": [
        "[LibSVM]"
       ]
      },
      {
       "output_type": "stream",
       "stream": "stdout",
       "text": [
        "[LibSVM]"
       ]
      },
      {
       "output_type": "stream",
       "stream": "stdout",
       "text": [
        "[LibSVM]"
       ]
      },
      {
       "output_type": "stream",
       "stream": "stdout",
       "text": [
        "[LibSVM]"
       ]
      },
      {
       "output_type": "stream",
       "stream": "stdout",
       "text": [
        "[LibSVM]"
       ]
      },
      {
       "output_type": "stream",
       "stream": "stdout",
       "text": [
        "[LibSVM]"
       ]
      },
      {
       "output_type": "stream",
       "stream": "stdout",
       "text": [
        "[LibSVM]"
       ]
      },
      {
       "output_type": "stream",
       "stream": "stdout",
       "text": [
        "\n"
       ]
      },
      {
       "output_type": "stream",
       "stream": "stdout",
       "text": [
        "               0         1         2         3         4      mean   std dev\n",
        "Ca      0.033750  0.171869  0.176960  0.162418  0.056096  0.120219  0.069384\n",
        "P       1.275689  0.561354  1.019930  1.121023  0.543588  0.904317  0.333914\n",
        "pH      0.150057  0.124404  0.112294  0.115582  0.144400  0.129347  0.017031\n",
        "SOC     0.081174  0.085694  0.200269  0.084038  0.049271  0.100089  0.057968\n",
        "Sand    0.117514  0.120437  0.120304  0.085757  0.138376  0.116477  0.019070\n",
        "MCRMSE  0.465652  0.431258  0.512009  0.476901  0.389618  0.455088  0.046587 \n",
        "\n",
        "[LibSVM][LibSVM]"
       ]
      },
      {
       "output_type": "stream",
       "stream": "stdout",
       "text": [
        "[LibSVM]"
       ]
      },
      {
       "output_type": "stream",
       "stream": "stdout",
       "text": [
        "[LibSVM]"
       ]
      },
      {
       "output_type": "stream",
       "stream": "stdout",
       "text": [
        "[LibSVM]"
       ]
      }
     ],
     "prompt_number": 9
    },
    {
     "cell_type": "code",
     "collapsed": false,
     "input": [
      "outfile = 'submissions/include_spatial_depth_noCO2_C100000.csv' # LB 0.45580\n",
      "train, labels, test = load_data()\n",
      "train_noCO2 = train.drop(CO2_bands, axis=1, inplace=False)\n",
      "test_noCO2 = test.drop(CO2_bands, axis=1, inplace=False)\n",
      "sup_vec = svm.SVR(C=100000.0, verbose=2)\n",
      "cv_results = cross_validate_columns(sup_vec, {t: train_noCO2.columns for t in target_colnames},\n",
      "                                    train, labels)\n",
      "print '\\n', cv_results, '\\n'\n",
      "fit_and_predict({t: sup_vec for t in target_colnames},\n",
      "                {t: train_noCO2.columns for t in target_colnames},\n",
      "                train, labels, test, outfile)"
     ],
     "language": "python",
     "metadata": {},
     "outputs": [
      {
       "output_type": "stream",
       "stream": "stdout",
       "text": [
        "[LibSVM][LibSVM]"
       ]
      },
      {
       "output_type": "stream",
       "stream": "stdout",
       "text": [
        "[LibSVM]"
       ]
      },
      {
       "output_type": "stream",
       "stream": "stdout",
       "text": [
        "[LibSVM]"
       ]
      },
      {
       "output_type": "stream",
       "stream": "stdout",
       "text": [
        "[LibSVM]"
       ]
      },
      {
       "output_type": "stream",
       "stream": "stdout",
       "text": [
        "[LibSVM]"
       ]
      },
      {
       "output_type": "stream",
       "stream": "stdout",
       "text": [
        "[LibSVM]"
       ]
      },
      {
       "output_type": "stream",
       "stream": "stdout",
       "text": [
        "[LibSVM]"
       ]
      },
      {
       "output_type": "stream",
       "stream": "stdout",
       "text": [
        "[LibSVM]"
       ]
      },
      {
       "output_type": "stream",
       "stream": "stdout",
       "text": [
        "[LibSVM]"
       ]
      },
      {
       "output_type": "stream",
       "stream": "stdout",
       "text": [
        "[LibSVM]"
       ]
      },
      {
       "output_type": "stream",
       "stream": "stdout",
       "text": [
        "[LibSVM]"
       ]
      },
      {
       "output_type": "stream",
       "stream": "stdout",
       "text": [
        "[LibSVM]"
       ]
      },
      {
       "output_type": "stream",
       "stream": "stdout",
       "text": [
        "[LibSVM]"
       ]
      },
      {
       "output_type": "stream",
       "stream": "stdout",
       "text": [
        "[LibSVM]"
       ]
      },
      {
       "output_type": "stream",
       "stream": "stdout",
       "text": [
        "[LibSVM]"
       ]
      },
      {
       "output_type": "stream",
       "stream": "stdout",
       "text": [
        "[LibSVM]"
       ]
      },
      {
       "output_type": "stream",
       "stream": "stdout",
       "text": [
        "[LibSVM]"
       ]
      },
      {
       "output_type": "stream",
       "stream": "stdout",
       "text": [
        "[LibSVM]"
       ]
      },
      {
       "output_type": "stream",
       "stream": "stdout",
       "text": [
        "[LibSVM]"
       ]
      },
      {
       "output_type": "stream",
       "stream": "stdout",
       "text": [
        "[LibSVM]"
       ]
      },
      {
       "output_type": "stream",
       "stream": "stdout",
       "text": [
        "[LibSVM]"
       ]
      },
      {
       "output_type": "stream",
       "stream": "stdout",
       "text": [
        "[LibSVM]"
       ]
      },
      {
       "output_type": "stream",
       "stream": "stdout",
       "text": [
        "[LibSVM]"
       ]
      },
      {
       "output_type": "stream",
       "stream": "stdout",
       "text": [
        "[LibSVM]"
       ]
      },
      {
       "output_type": "stream",
       "stream": "stdout",
       "text": [
        "\n"
       ]
      },
      {
       "output_type": "stream",
       "stream": "stdout",
       "text": [
        "               0         1         2         3         4      mean   std dev\n",
        "Ca      0.151921  0.028924  0.098336  0.281678  0.074053  0.126982  0.097199\n",
        "P       1.174955  0.407147  0.205514  1.088648  0.843399  0.743933  0.423622\n",
        "pH      0.110285  0.117612  0.114842  0.096601  0.088135  0.105495  0.012625\n",
        "SOC     0.143383  0.065789  0.083855  0.081099  0.123202  0.099466  0.032432\n",
        "Sand    0.105968  0.099169  0.148788  0.083346  0.100928  0.107640  0.024510\n",
        "MCRMSE  0.502001  0.344501  0.356223  0.491680  0.431213  0.425123  0.073526 \n",
        "\n",
        "[LibSVM][LibSVM]"
       ]
      },
      {
       "output_type": "stream",
       "stream": "stdout",
       "text": [
        "[LibSVM]"
       ]
      },
      {
       "output_type": "stream",
       "stream": "stdout",
       "text": [
        "[LibSVM]"
       ]
      },
      {
       "output_type": "stream",
       "stream": "stdout",
       "text": [
        "[LibSVM]"
       ]
      }
     ],
     "prompt_number": 10
    },
    {
     "cell_type": "markdown",
     "metadata": {},
     "source": [
      "### Try SVR with other parameters for epsilon"
     ]
    },
    {
     "cell_type": "code",
     "collapsed": false,
     "input": [
      "svr_epsilon = 1\n",
      "svr_C = 10000\n",
      "outfile = 'submissions/svr_noCO2_C{}_epsilon{}.csv'.format(svr_C, svr_epsilon)\n",
      "train, labels, test = load_data()\n",
      "\n",
      "train_noCO2 = train.drop(CO2_bands, axis=1, inplace=False)\n",
      "test_noCO2 = test.drop(CO2_bands, axis=1, inplace=False)\n",
      "\n",
      "sup_vec = svm.SVR(C=svr_C, epsilon=svr_epsilon, verbose=2)\n",
      "cv_results = cross_validate_columns(sup_vec, {t: train_noCO2.columns for t in target_colnames},\n",
      "                                    train_noCO2, labels)\n",
      "print '\\n', cv_results, '\\n'\n",
      "fit_and_predict({t: sup_vec for t in target_colnames},\n",
      "                {t: train_noCO2.columns for t in target_colnames},\n",
      "                train_noCO2, labels, test_noCO2, outfile)"
     ],
     "language": "python",
     "metadata": {},
     "outputs": [
      {
       "output_type": "stream",
       "stream": "stdout",
       "text": [
        "\n",
        "Running CV for target Ca\n",
        "[LibSVM]"
       ]
      },
      {
       "output_type": "stream",
       "stream": "stdout",
       "text": [
        "[LibSVM]"
       ]
      },
      {
       "output_type": "stream",
       "stream": "stdout",
       "text": [
        "[LibSVM]"
       ]
      },
      {
       "output_type": "stream",
       "stream": "stdout",
       "text": [
        "[LibSVM]"
       ]
      },
      {
       "output_type": "stream",
       "stream": "stdout",
       "text": [
        "[LibSVM]"
       ]
      },
      {
       "output_type": "stream",
       "stream": "stdout",
       "text": [
        "\n",
        "Running CV for target P"
       ]
      },
      {
       "output_type": "stream",
       "stream": "stdout",
       "text": [
        "\n",
        "[LibSVM]"
       ]
      },
      {
       "output_type": "stream",
       "stream": "stdout",
       "text": [
        "[LibSVM]"
       ]
      },
      {
       "output_type": "stream",
       "stream": "stdout",
       "text": [
        "[LibSVM]"
       ]
      },
      {
       "output_type": "stream",
       "stream": "stdout",
       "text": [
        "[LibSVM]"
       ]
      },
      {
       "output_type": "stream",
       "stream": "stdout",
       "text": [
        "[LibSVM]"
       ]
      },
      {
       "output_type": "stream",
       "stream": "stdout",
       "text": [
        "\n",
        "Running CV for target pH"
       ]
      },
      {
       "output_type": "stream",
       "stream": "stdout",
       "text": [
        "\n",
        "[LibSVM][LibSVM]"
       ]
      },
      {
       "output_type": "stream",
       "stream": "stdout",
       "text": [
        "[LibSVM]"
       ]
      },
      {
       "output_type": "stream",
       "stream": "stdout",
       "text": [
        "[LibSVM]"
       ]
      },
      {
       "output_type": "stream",
       "stream": "stdout",
       "text": [
        "[LibSVM]"
       ]
      },
      {
       "output_type": "stream",
       "stream": "stdout",
       "text": [
        "\n",
        "Running CV for target SOC"
       ]
      },
      {
       "output_type": "stream",
       "stream": "stdout",
       "text": [
        "\n",
        "[LibSVM]"
       ]
      },
      {
       "output_type": "stream",
       "stream": "stdout",
       "text": [
        "[LibSVM]"
       ]
      },
      {
       "output_type": "stream",
       "stream": "stdout",
       "text": [
        "[LibSVM]"
       ]
      },
      {
       "output_type": "stream",
       "stream": "stdout",
       "text": [
        "[LibSVM]"
       ]
      },
      {
       "output_type": "stream",
       "stream": "stdout",
       "text": [
        "[LibSVM]"
       ]
      },
      {
       "output_type": "stream",
       "stream": "stdout",
       "text": [
        "\n",
        "Running CV for target Sand"
       ]
      },
      {
       "output_type": "stream",
       "stream": "stdout",
       "text": [
        "\n",
        "[LibSVM]"
       ]
      },
      {
       "output_type": "stream",
       "stream": "stdout",
       "text": [
        "[LibSVM]"
       ]
      },
      {
       "output_type": "stream",
       "stream": "stdout",
       "text": [
        "[LibSVM]"
       ]
      },
      {
       "output_type": "stream",
       "stream": "stdout",
       "text": [
        "[LibSVM]"
       ]
      },
      {
       "output_type": "stream",
       "stream": "stdout",
       "text": [
        "[LibSVM]"
       ]
      },
      {
       "output_type": "stream",
       "stream": "stdout",
       "text": [
        "\n"
       ]
      },
      {
       "output_type": "stream",
       "stream": "stdout",
       "text": [
        "               0         1         2         3         4      mean   std dev\n",
        "Ca      0.312569  0.322609  0.426611  0.387847  0.385603  0.367048  0.048134\n",
        "P       0.432070  1.221682  1.178312  0.842808  1.365098  1.007994  0.374556\n",
        "pH      0.270201  0.236221  0.285074  0.310861  0.235233  0.267518  0.032465\n",
        "SOC     0.336450  0.311750  0.388052  0.277351  0.317901  0.326301  0.040603\n",
        "Sand    0.264117  0.317116  0.321870  0.268472  0.290687  0.292452  0.026715\n",
        "MCRMSE  0.566035  0.656157  0.692570  0.628630  0.675466  0.643772  0.049527 \n",
        "\n",
        "[LibSVM]"
       ]
      },
      {
       "output_type": "stream",
       "stream": "stdout",
       "text": [
        "[LibSVM]"
       ]
      },
      {
       "output_type": "stream",
       "stream": "stdout",
       "text": [
        "[LibSVM]"
       ]
      },
      {
       "output_type": "stream",
       "stream": "stdout",
       "text": [
        "[LibSVM]"
       ]
      },
      {
       "output_type": "stream",
       "stream": "stdout",
       "text": [
        "[LibSVM]"
       ]
      }
     ],
     "prompt_number": 27
    },
    {
     "cell_type": "code",
     "collapsed": false,
     "input": [
      "svr_epsilon = .01 # LB 0.41661\n",
      "svr_C = 10000\n",
      "outfile = 'submissions/svr_noCO2_C{}_epsilon{}.csv'.format(svr_C, svr_epsilon)\n",
      "train, labels, test = load_data()\n",
      "\n",
      "train_noCO2 = train.drop(CO2_bands, axis=1, inplace=False)\n",
      "test_noCO2 = test.drop(CO2_bands, axis=1, inplace=False)\n",
      "\n",
      "sup_vec = svm.SVR(C=svr_C, epsilon=svr_epsilon, verbose=2)\n",
      "cv_results = cross_validate_columns(sup_vec, {t: train_noCO2.columns for t in target_colnames},\n",
      "                                    train_noCO2, labels)\n",
      "print '\\n', cv_results, '\\n'\n",
      "fit_and_predict({t: sup_vec for t in target_colnames},\n",
      "                {t: train_noCO2.columns for t in target_colnames},\n",
      "                train_noCO2, labels, test_noCO2, outfile)"
     ],
     "language": "python",
     "metadata": {},
     "outputs": [
      {
       "output_type": "stream",
       "stream": "stdout",
       "text": [
        "\n",
        "Running CV for target Ca\n",
        "[LibSVM][LibSVM]"
       ]
      },
      {
       "output_type": "stream",
       "stream": "stdout",
       "text": [
        "[LibSVM]"
       ]
      },
      {
       "output_type": "stream",
       "stream": "stdout",
       "text": [
        "[LibSVM]"
       ]
      },
      {
       "output_type": "stream",
       "stream": "stdout",
       "text": [
        "[LibSVM]"
       ]
      },
      {
       "output_type": "stream",
       "stream": "stdout",
       "text": [
        "\n",
        "Running CV for target P"
       ]
      },
      {
       "output_type": "stream",
       "stream": "stdout",
       "text": [
        "\n",
        "[LibSVM][LibSVM]"
       ]
      },
      {
       "output_type": "stream",
       "stream": "stdout",
       "text": [
        "[LibSVM]"
       ]
      },
      {
       "output_type": "stream",
       "stream": "stdout",
       "text": [
        "[LibSVM]"
       ]
      },
      {
       "output_type": "stream",
       "stream": "stdout",
       "text": [
        "[LibSVM]"
       ]
      },
      {
       "output_type": "stream",
       "stream": "stdout",
       "text": [
        "\n",
        "Running CV for target pH"
       ]
      },
      {
       "output_type": "stream",
       "stream": "stdout",
       "text": [
        "\n",
        "[LibSVM][LibSVM]"
       ]
      },
      {
       "output_type": "stream",
       "stream": "stdout",
       "text": [
        "[LibSVM]"
       ]
      },
      {
       "output_type": "stream",
       "stream": "stdout",
       "text": [
        "[LibSVM]"
       ]
      },
      {
       "output_type": "stream",
       "stream": "stdout",
       "text": [
        "[LibSVM]"
       ]
      },
      {
       "output_type": "stream",
       "stream": "stdout",
       "text": [
        "\n",
        "Running CV for target SOC"
       ]
      },
      {
       "output_type": "stream",
       "stream": "stdout",
       "text": [
        "\n",
        "[LibSVM][LibSVM]"
       ]
      },
      {
       "output_type": "stream",
       "stream": "stdout",
       "text": [
        "[LibSVM]"
       ]
      },
      {
       "output_type": "stream",
       "stream": "stdout",
       "text": [
        "[LibSVM]"
       ]
      },
      {
       "output_type": "stream",
       "stream": "stdout",
       "text": [
        "[LibSVM]"
       ]
      },
      {
       "output_type": "stream",
       "stream": "stdout",
       "text": [
        "\n",
        "Running CV for target Sand"
       ]
      },
      {
       "output_type": "stream",
       "stream": "stdout",
       "text": [
        "\n",
        "[LibSVM][LibSVM]"
       ]
      },
      {
       "output_type": "stream",
       "stream": "stdout",
       "text": [
        "[LibSVM]"
       ]
      },
      {
       "output_type": "stream",
       "stream": "stdout",
       "text": [
        "[LibSVM]"
       ]
      },
      {
       "output_type": "stream",
       "stream": "stdout",
       "text": [
        "[LibSVM]"
       ]
      },
      {
       "output_type": "stream",
       "stream": "stdout",
       "text": [
        "\n"
       ]
      },
      {
       "output_type": "stream",
       "stream": "stdout",
       "text": [
        "               0         1         2         3         4      mean   std dev\n",
        "Ca      0.056950  0.013620  0.183553  0.165473  0.143602  0.112640  0.073629\n",
        "P       1.092127  0.350097  1.252760  1.075281  0.505622  0.855177  0.399987\n",
        "pH      0.088394  0.125332  0.095446  0.092982  0.128116  0.106054  0.019063\n",
        "SOC     0.051094  0.048823  0.149127  0.093355  0.070239  0.082528  0.041315\n",
        "Sand    0.068803  0.117966  0.099326  0.103016  0.098250  0.097472  0.017865\n",
        "MCRMSE  0.413869  0.325367  0.511594  0.475034  0.405285  0.426230  0.071473 \n",
        "\n",
        "[LibSVM][LibSVM]"
       ]
      },
      {
       "output_type": "stream",
       "stream": "stdout",
       "text": [
        "[LibSVM]"
       ]
      },
      {
       "output_type": "stream",
       "stream": "stdout",
       "text": [
        "[LibSVM]"
       ]
      },
      {
       "output_type": "stream",
       "stream": "stdout",
       "text": [
        "[LibSVM]"
       ]
      }
     ],
     "prompt_number": 4
    },
    {
     "cell_type": "raw",
     "metadata": {},
     "source": [
      "Best case\n",
      "        0         1         2         3         4      mean   std dev\n",
      "Ca      0.081310  0.109759  0.189750  0.093292  0.045235  0.103869  0.053546\n",
      "P       1.795390  0.602195  0.840966  0.600459  0.484646  0.864731  0.536171\n",
      "pH      0.123255  0.107272  0.096808  0.117436  0.081497  0.105253  0.016675\n",
      "SOC     0.101937  0.054525  0.106142  0.102270  0.124136  0.097802  0.025851\n",
      "Sand    0.125684  0.112371  0.088547  0.090162  0.066932  0.096739  0.022809\n",
      "MCRMSE  0.529988  0.400712  0.457429  0.408618  0.361074  0.431564  0.064814 "
     ]
    },
    {
     "cell_type": "code",
     "collapsed": false,
     "input": [
      "svr_epsilon = .001 # LB 0.41789 \n",
      "svr_C = 10000\n",
      "outfile = 'submissions/svr_noCO2_C{}_epsilon{}.csv'.format(svr_C, svr_epsilon)\n",
      "train, labels, test = load_data()\n",
      "\n",
      "train_noCO2 = train.drop(CO2_bands, axis=1, inplace=False)\n",
      "test_noCO2 = test.drop(CO2_bands, axis=1, inplace=False)\n",
      "\n",
      "sup_vec = svm.SVR(C=svr_C, epsilon=svr_epsilon, verbose=2)\n",
      "cv_results = cross_validate_columns(sup_vec, {t: train_noCO2.columns for t in target_colnames},\n",
      "                                    train_noCO2, labels)\n",
      "print '\\n', cv_results, '\\n'\n",
      "fit_and_predict({t: sup_vec for t in target_colnames},\n",
      "                {t: train_noCO2.columns for t in target_colnames},\n",
      "                train_noCO2, labels, test_noCO2, outfile)"
     ],
     "language": "python",
     "metadata": {},
     "outputs": [
      {
       "output_type": "stream",
       "stream": "stdout",
       "text": [
        "\n",
        "Running CV for target Ca\n",
        "[LibSVM][LibSVM]"
       ]
      },
      {
       "output_type": "stream",
       "stream": "stdout",
       "text": [
        "[LibSVM]"
       ]
      },
      {
       "output_type": "stream",
       "stream": "stdout",
       "text": [
        "[LibSVM]"
       ]
      },
      {
       "output_type": "stream",
       "stream": "stdout",
       "text": [
        "[LibSVM]"
       ]
      },
      {
       "output_type": "stream",
       "stream": "stdout",
       "text": [
        "\n",
        "Running CV for target P"
       ]
      },
      {
       "output_type": "stream",
       "stream": "stdout",
       "text": [
        "\n",
        "[LibSVM][LibSVM]"
       ]
      },
      {
       "output_type": "stream",
       "stream": "stdout",
       "text": [
        "[LibSVM]"
       ]
      },
      {
       "output_type": "stream",
       "stream": "stdout",
       "text": [
        "[LibSVM]"
       ]
      },
      {
       "output_type": "stream",
       "stream": "stdout",
       "text": [
        "[LibSVM]"
       ]
      },
      {
       "output_type": "stream",
       "stream": "stdout",
       "text": [
        "\n",
        "Running CV for target pH"
       ]
      },
      {
       "output_type": "stream",
       "stream": "stdout",
       "text": [
        "\n",
        "[LibSVM][LibSVM]"
       ]
      },
      {
       "output_type": "stream",
       "stream": "stdout",
       "text": [
        "[LibSVM]"
       ]
      },
      {
       "output_type": "stream",
       "stream": "stdout",
       "text": [
        "[LibSVM]"
       ]
      },
      {
       "output_type": "stream",
       "stream": "stdout",
       "text": [
        "[LibSVM]"
       ]
      },
      {
       "output_type": "stream",
       "stream": "stdout",
       "text": [
        "\n",
        "Running CV for target SOC"
       ]
      },
      {
       "output_type": "stream",
       "stream": "stdout",
       "text": [
        "\n",
        "[LibSVM][LibSVM]"
       ]
      },
      {
       "output_type": "stream",
       "stream": "stdout",
       "text": [
        "[LibSVM]"
       ]
      },
      {
       "output_type": "stream",
       "stream": "stdout",
       "text": [
        "[LibSVM]"
       ]
      },
      {
       "output_type": "stream",
       "stream": "stdout",
       "text": [
        "[LibSVM]"
       ]
      },
      {
       "output_type": "stream",
       "stream": "stdout",
       "text": [
        "\n",
        "Running CV for target Sand"
       ]
      },
      {
       "output_type": "stream",
       "stream": "stdout",
       "text": [
        "\n",
        "[LibSVM][LibSVM]"
       ]
      },
      {
       "output_type": "stream",
       "stream": "stdout",
       "text": [
        "[LibSVM]"
       ]
      },
      {
       "output_type": "stream",
       "stream": "stdout",
       "text": [
        "[LibSVM]"
       ]
      },
      {
       "output_type": "stream",
       "stream": "stdout",
       "text": [
        "[LibSVM]"
       ]
      },
      {
       "output_type": "stream",
       "stream": "stdout",
       "text": [
        "\n"
       ]
      },
      {
       "output_type": "stream",
       "stream": "stdout",
       "text": [
        "               0         1         2         3         4      mean   std dev\n",
        "Ca      0.162908  0.147470  0.105805  0.102734  0.051997  0.114183  0.043447\n",
        "P       1.783255  0.235301  0.993827  0.721172  0.604246  0.867560  0.579861\n",
        "pH      0.127567  0.085176  0.108058  0.118923  0.094439  0.106833  0.017322\n",
        "SOC     0.077803  0.046836  0.096782  0.130879  0.051660  0.080792  0.034550\n",
        "Sand    0.118277  0.073495  0.078548  0.098072  0.103489  0.094376  0.018402\n",
        "MCRMSE  0.543803  0.329693  0.448454  0.437906  0.372332  0.426437  0.081667 \n",
        "\n",
        "[LibSVM][LibSVM]"
       ]
      },
      {
       "output_type": "stream",
       "stream": "stdout",
       "text": [
        "[LibSVM]"
       ]
      },
      {
       "output_type": "stream",
       "stream": "stdout",
       "text": [
        "[LibSVM]"
       ]
      },
      {
       "output_type": "stream",
       "stream": "stdout",
       "text": [
        "[LibSVM]"
       ]
      }
     ],
     "prompt_number": 3
    },
    {
     "cell_type": "code",
     "collapsed": false,
     "input": [
      "svr_epsilon = .0001 # LB 0.41820\n",
      "svr_C = 10000\n",
      "outfile = 'submissions/svr_noCO2_C{}_epsilon{}.csv'.format(svr_C, svr_epsilon)\n",
      "train, labels, test = load_data()\n",
      "\n",
      "train_noCO2 = train.drop(CO2_bands, axis=1, inplace=False)\n",
      "test_noCO2 = test.drop(CO2_bands, axis=1, inplace=False)\n",
      "\n",
      "sup_vec = svm.SVR(C=svr_C, epsilon=svr_epsilon, verbose=2)\n",
      "cv_results = cross_validate_columns(sup_vec, {t: train_noCO2.columns for t in target_colnames},\n",
      "                                    train_noCO2, labels)\n",
      "print '\\n', cv_results, '\\n'\n",
      "fit_and_predict({t: sup_vec for t in target_colnames},\n",
      "                {t: train_noCO2.columns for t in target_colnames},\n",
      "                train_noCO2, labels, test_noCO2, outfile)"
     ],
     "language": "python",
     "metadata": {},
     "outputs": [
      {
       "output_type": "stream",
       "stream": "stdout",
       "text": [
        "\n",
        "Running CV for target Ca\n",
        "[LibSVM][LibSVM]"
       ]
      },
      {
       "output_type": "stream",
       "stream": "stdout",
       "text": [
        "[LibSVM]"
       ]
      },
      {
       "output_type": "stream",
       "stream": "stdout",
       "text": [
        "[LibSVM]"
       ]
      },
      {
       "output_type": "stream",
       "stream": "stdout",
       "text": [
        "[LibSVM]"
       ]
      },
      {
       "output_type": "stream",
       "stream": "stdout",
       "text": [
        "\n",
        "Running CV for target P"
       ]
      },
      {
       "output_type": "stream",
       "stream": "stdout",
       "text": [
        "\n",
        "[LibSVM][LibSVM]"
       ]
      },
      {
       "output_type": "stream",
       "stream": "stdout",
       "text": [
        "[LibSVM]"
       ]
      },
      {
       "output_type": "stream",
       "stream": "stdout",
       "text": [
        "[LibSVM]"
       ]
      },
      {
       "output_type": "stream",
       "stream": "stdout",
       "text": [
        "[LibSVM]"
       ]
      },
      {
       "output_type": "stream",
       "stream": "stdout",
       "text": [
        "\n",
        "Running CV for target pH"
       ]
      },
      {
       "output_type": "stream",
       "stream": "stdout",
       "text": [
        "\n",
        "[LibSVM][LibSVM]"
       ]
      },
      {
       "output_type": "stream",
       "stream": "stdout",
       "text": [
        "[LibSVM]"
       ]
      },
      {
       "output_type": "stream",
       "stream": "stdout",
       "text": [
        "[LibSVM]"
       ]
      },
      {
       "output_type": "stream",
       "stream": "stdout",
       "text": [
        "[LibSVM]"
       ]
      },
      {
       "output_type": "stream",
       "stream": "stdout",
       "text": [
        "\n",
        "Running CV for target SOC"
       ]
      },
      {
       "output_type": "stream",
       "stream": "stdout",
       "text": [
        "\n",
        "[LibSVM][LibSVM]"
       ]
      },
      {
       "output_type": "stream",
       "stream": "stdout",
       "text": [
        "[LibSVM]"
       ]
      },
      {
       "output_type": "stream",
       "stream": "stdout",
       "text": [
        "[LibSVM]"
       ]
      },
      {
       "output_type": "stream",
       "stream": "stdout",
       "text": [
        "[LibSVM]"
       ]
      },
      {
       "output_type": "stream",
       "stream": "stdout",
       "text": [
        "\n",
        "Running CV for target Sand"
       ]
      },
      {
       "output_type": "stream",
       "stream": "stdout",
       "text": [
        "\n",
        "[LibSVM][LibSVM]"
       ]
      },
      {
       "output_type": "stream",
       "stream": "stdout",
       "text": [
        "[LibSVM]"
       ]
      },
      {
       "output_type": "stream",
       "stream": "stdout",
       "text": [
        "[LibSVM]"
       ]
      },
      {
       "output_type": "stream",
       "stream": "stdout",
       "text": [
        "[LibSVM]"
       ]
      },
      {
       "output_type": "stream",
       "stream": "stdout",
       "text": [
        "\n"
       ]
      },
      {
       "output_type": "stream",
       "stream": "stdout",
       "text": [
        "               0         1         2         3         4      mean   std dev\n",
        "Ca      0.052827  0.144017  0.033662  0.096872  0.194003  0.104276  0.065800\n",
        "P       1.144481  0.197199  0.328976  1.593092  1.100043  0.872758  0.590858\n",
        "pH      0.106761  0.097201  0.159882  0.091731  0.094946  0.110104  0.028385\n",
        "SOC     0.132954  0.044453  0.049362  0.082693  0.082408  0.078374  0.035377\n",
        "Sand    0.107656  0.082390  0.069691  0.130171  0.081798  0.094341  0.024335\n",
        "MCRMSE  0.463825  0.326642  0.328611  0.504930  0.474098  0.419621  0.085333 \n",
        "\n",
        "[LibSVM][LibSVM]"
       ]
      },
      {
       "output_type": "stream",
       "stream": "stdout",
       "text": [
        "[LibSVM]"
       ]
      },
      {
       "output_type": "stream",
       "stream": "stdout",
       "text": [
        "[LibSVM]"
       ]
      },
      {
       "output_type": "stream",
       "stream": "stdout",
       "text": [
        "[LibSVM]"
       ]
      }
     ],
     "prompt_number": 5
    },
    {
     "cell_type": "markdown",
     "metadata": {},
     "source": [
      "### Bayesian Ridge Regression (LB 0.49871)"
     ]
    },
    {
     "cell_type": "code",
     "collapsed": false,
     "input": [
      "outfile = 'submissions/bayesianridge_noCO2.csv'\n",
      "train, labels, test = load_data()\n",
      "train_noCO2 = train.drop(CO2_bands, axis=1, inplace=False)\n",
      "test_noCO2 = test.drop(CO2_bands, axis=1, inplace=False)\n",
      "\n",
      "clf = linear_model.BayesianRidge()\n",
      "cv_results = cross_validate_columns(clf, {t: train_noCO2.columns for t in target_colnames},\n",
      "                                    train, labels)\n",
      "print '\\n', cv_results, '\\n'\n",
      "fit_and_predict({t: clf for t in target_colnames},\n",
      "                {t: train_noCO2.columns for t in target_colnames},\n",
      "                train, labels, test, outfile)"
     ],
     "language": "python",
     "metadata": {},
     "outputs": [
      {
       "output_type": "stream",
       "stream": "stdout",
       "text": [
        "\n",
        "               0         1         2         3         4      mean   std dev\n",
        "Ca      0.089747  0.034544  0.135254  0.249428  0.203819  0.142558  0.086144\n",
        "P       1.069605  0.639944  0.506028  0.870407  1.584085  0.934014  0.422691\n",
        "pH      0.130893  0.126355  0.104516  0.189432  0.121805  0.134600  0.032237\n",
        "SOC     0.123486  0.133981  0.137375  0.091646  0.121179  0.121533  0.018049\n",
        "Sand    0.117116  0.109828  0.097388  0.161979  0.128570  0.122976  0.024569\n",
        "MCRMSE  0.477843  0.407745  0.417025  0.514564  0.553149  0.474065  0.062371 \n",
        "\n"
       ]
      }
     ],
     "prompt_number": 11
    },
    {
     "cell_type": "markdown",
     "metadata": {},
     "source": [
      "### Ridge Regression (LB 0.53530)"
     ]
    },
    {
     "cell_type": "code",
     "collapsed": false,
     "input": [
      "outfile = 'submissions/ridge_noCO2.csv'\n",
      "train, labels, test = load_data()\n",
      "train_noCO2 = train.drop(CO2_bands, axis=1, inplace=False)\n",
      "test_noCO2 = test.drop(CO2_bands, axis=1, inplace=False)\n",
      "\n",
      "clf = linear_model.Ridge()\n",
      "cv_results = cross_validate_columns(clf, {t: train_noCO2.columns for t in target_colnames},\n",
      "                                    train, labels)\n",
      "print '\\n', cv_results, '\\n'\n",
      "fit_and_predict({t: clf for t in target_colnames},\n",
      "                {t: train_noCO2.columns for t in target_colnames},\n",
      "                train, labels, test, outfile)"
     ],
     "language": "python",
     "metadata": {},
     "outputs": [
      {
       "output_type": "stream",
       "stream": "stdout",
       "text": [
        "\n",
        "               0         1         2         3         4      mean   std dev\n",
        "Ca      0.135337  0.074428  0.185093  0.090783  0.174171  0.131962  0.049045\n",
        "P       0.413775  0.312987  1.117399  1.565965  0.963757  0.874776  0.517845\n",
        "pH      0.224695  0.113930  0.169496  0.114506  0.168187  0.158163  0.046146\n",
        "SOC     0.124287  0.150146  0.103141  0.129839  0.198336  0.141150  0.036084\n",
        "Sand    0.102206  0.157005  0.133023  0.118445  0.134372  0.129010  0.020363\n",
        "MCRMSE  0.431479  0.390706  0.516975  0.519113  0.524214  0.476497  0.061478 \n",
        "\n"
       ]
      }
     ],
     "prompt_number": 13
    },
    {
     "cell_type": "markdown",
     "metadata": {},
     "source": [
      "### Gradient Boost Regression (LB 0.71359)"
     ]
    },
    {
     "cell_type": "code",
     "collapsed": false,
     "input": [
      "from sklearn.ensemble import GradientBoostingRegressor"
     ],
     "language": "python",
     "metadata": {},
     "outputs": [],
     "prompt_number": 14
    },
    {
     "cell_type": "code",
     "collapsed": false,
     "input": [
      "outfile = 'submissions/gbr_noCO2.csv'\n",
      "train, labels, test = load_data()\n",
      "train_noCO2 = train.drop(CO2_bands, axis=1, inplace=False)\n",
      "test_noCO2 = test.drop(CO2_bands, axis=1, inplace=False)\n",
      "\n",
      "gbr = GradientBoostingRegressor(n_estimators=100, learning_rate=0.1,\n",
      "                                max_depth=1, random_state=0, loss='ls')\n",
      "cv_results = cross_validate_columns(gbr, {t: train_noCO2.columns for t in target_colnames},\n",
      "                                    train, labels)\n",
      "print '\\n', cv_results, '\\n'\n",
      "fit_and_predict({t: gbr for t in target_colnames},\n",
      "                {t: train_noCO2.columns for t in target_colnames},\n",
      "                train, labels, test, outfile)"
     ],
     "language": "python",
     "metadata": {},
     "outputs": [
      {
       "output_type": "stream",
       "stream": "stdout",
       "text": [
        "\n",
        "               0         1         2         3         4      mean   std dev\n",
        "Ca      0.175986  0.366092  0.190020  0.258288  0.203134  0.238704  0.077750\n",
        "P       0.292581  1.237315  2.324467  0.380807  0.473257  0.941685  0.859481\n",
        "pH      0.264377  0.306028  0.329651  0.312444  0.429700  0.328440  0.061476\n",
        "SOC     0.428315  0.315099  0.309946  0.391641  0.260365  0.341073  0.067686\n",
        "Sand    0.256968  0.230084  0.225375  0.266871  0.209191  0.237698  0.023690\n",
        "MCRMSE  0.527194  0.662322  0.713230  0.565338  0.552358  0.604088  0.079677 \n",
        "\n"
       ]
      }
     ],
     "prompt_number": 15
    },
    {
     "cell_type": "markdown",
     "metadata": {},
     "source": [
      "### Random Forest Regression - couldn't get it to finish running"
     ]
    },
    {
     "cell_type": "code",
     "collapsed": false,
     "input": [
      "from sklearn.ensemble import RandomForestRegressor"
     ],
     "language": "python",
     "metadata": {},
     "outputs": []
    },
    {
     "cell_type": "code",
     "collapsed": false,
     "input": [
      "outfile = 'submissions/rfr_noCO2.csv'\n",
      "train, labels, test = load_data()\n",
      "train_noCO2 = train.drop(CO2_bands, axis=1, inplace=False)\n",
      "test_noCO2 = test.drop(CO2_bands, axis=1, inplace=False)\n",
      "\n",
      "rfr = RandomForestRegressor(n_estimators=1000)\n",
      "cv_results = cross_validate_columns(rfr, {t: train_noCO2.columns for t in target_colnames},\n",
      "                                    train, labels)\n",
      "print '\\n', cv_results, '\\n'\n",
      "fit_and_predict({t: rfr for t in target_colnames},\n",
      "                {t: train_noCO2.columns for t in target_colnames},\n",
      "                train, labels, test, outfile)"
     ],
     "language": "python",
     "metadata": {},
     "outputs": []
    },
    {
     "cell_type": "markdown",
     "metadata": {},
     "source": [
      "### Running SVR with linear kernel (LB 21.18019)"
     ]
    },
    {
     "cell_type": "code",
     "collapsed": false,
     "input": [
      "outfile = 'submissions/svr_linear_noCO2_C10000.csv'\n",
      "train, labels, test = load_data()\n",
      "\n",
      "train_noCO2 = train.drop(CO2_bands, axis=1, inplace=False)\n",
      "test_noCO2 = test.drop(CO2_bands, axis=1, inplace=False)\n",
      "\n",
      "sup_vec = svm.SVR(kernel='linear', C=10000.0, verbose=2)\n",
      "cv_results = cross_validate_columns(sup_vec, {t: train_noCO2.columns for t in target_colnames},\n",
      "                                    train, labels)\n",
      "print '\\n', cv_results, '\\n'\n",
      "fit_and_predict({t: sup_vec for t in target_colnames},\n",
      "                {t: train_noCO2.columns for t in target_colnames},\n",
      "                train, labels, test, outfile)"
     ],
     "language": "python",
     "metadata": {},
     "outputs": [
      {
       "output_type": "stream",
       "stream": "stdout",
       "text": [
        "Running CV for target Ca\n",
        "[LibSVM]"
       ]
      }
     ]
    },
    {
     "cell_type": "markdown",
     "metadata": {},
     "source": [
      "### Running SVR with polynomial kernel (LB 0.44152)"
     ]
    },
    {
     "cell_type": "code",
     "collapsed": false,
     "input": [
      "outfile = 'submissions/svr_poly_noCO2_C10000.csv'\n",
      "train, labels, test = load_data()\n",
      "\n",
      "train_noCO2 = train.drop(CO2_bands, axis=1, inplace=False)\n",
      "test_noCO2 = test.drop(CO2_bands, axis=1, inplace=False)\n",
      "\n",
      "sup_vec = svm.SVR(kernel='poly', C=10000.0, verbose=2)\n",
      "cv_results = cross_validate_columns(sup_vec, {t: train_noCO2.columns for t in target_colnames},\n",
      "                                    train, labels)\n",
      "print '\\n', cv_results, '\\n'\n",
      "fit_and_predict({t: sup_vec for t in target_colnames},\n",
      "                {t: train_noCO2.columns for t in target_colnames},\n",
      "                train, labels, test, outfile)"
     ],
     "language": "python",
     "metadata": {},
     "outputs": []
    },
    {
     "cell_type": "markdown",
     "metadata": {},
     "source": [
      "### Running SVR with scaled data (LB 0.95713)"
     ]
    },
    {
     "cell_type": "code",
     "collapsed": false,
     "input": [
      "from sklearn import preprocessing"
     ],
     "language": "python",
     "metadata": {},
     "outputs": [],
     "prompt_number": 2
    },
    {
     "cell_type": "code",
     "collapsed": false,
     "input": [
      "outfile = 'submissions/svr_rbf_noCO2_C10000_scaletrain.csv'\n",
      "train, labels, test = load_data()\n",
      "\n",
      "train_noCO2 = train.drop(CO2_bands, axis=1, inplace=False)\n",
      "train_noCO2_scaled = pd.DataFrame(preprocessing.scale(train_noCO2), columns=train_noCO2.columns)\n",
      "test_noCO2 = test.drop(CO2_bands, axis=1, inplace=False)\n",
      "test_noCO2_scaled = pd.DataFrame(preprocessing.scale(test_noCO2), columns=test_noCO2.columns)\n",
      "sup_vec = svm.SVR(C=10000.0, verbose=2)\n",
      "cv_results = cross_validate_columns(sup_vec, {t: train_noCO2.columns for t in target_colnames},\n",
      "                                    train_noCO2_scaled, labels)\n",
      "print '\\n', cv_results, '\\n'\n",
      "fit_and_predict({t: sup_vec for t in target_colnames},\n",
      "                {t: train_noCO2.columns for t in target_colnames},\n",
      "                train_noCO2_scaled, labels, test_noCO2_scaled, outfile)"
     ],
     "language": "python",
     "metadata": {},
     "outputs": [
      {
       "output_type": "stream",
       "stream": "stdout",
       "text": [
        "Running CV for target Ca\n",
        "[LibSVM][LibSVM]"
       ]
      },
      {
       "output_type": "stream",
       "stream": "stdout",
       "text": [
        "[LibSVM]"
       ]
      },
      {
       "output_type": "stream",
       "stream": "stdout",
       "text": [
        "[LibSVM]"
       ]
      },
      {
       "output_type": "stream",
       "stream": "stdout",
       "text": [
        "[LibSVM]"
       ]
      },
      {
       "output_type": "stream",
       "stream": "stdout",
       "text": [
        "Running CV for target P"
       ]
      },
      {
       "output_type": "stream",
       "stream": "stdout",
       "text": [
        "\n",
        "[LibSVM][LibSVM]"
       ]
      },
      {
       "output_type": "stream",
       "stream": "stdout",
       "text": [
        "[LibSVM]"
       ]
      },
      {
       "output_type": "stream",
       "stream": "stdout",
       "text": [
        "[LibSVM]"
       ]
      },
      {
       "output_type": "stream",
       "stream": "stdout",
       "text": [
        "[LibSVM]"
       ]
      },
      {
       "output_type": "stream",
       "stream": "stdout",
       "text": [
        "Running CV for target pH"
       ]
      },
      {
       "output_type": "stream",
       "stream": "stdout",
       "text": [
        "\n",
        "[LibSVM][LibSVM]"
       ]
      },
      {
       "output_type": "stream",
       "stream": "stdout",
       "text": [
        "[LibSVM]"
       ]
      },
      {
       "output_type": "stream",
       "stream": "stdout",
       "text": [
        "[LibSVM]"
       ]
      },
      {
       "output_type": "stream",
       "stream": "stdout",
       "text": [
        "[LibSVM]"
       ]
      },
      {
       "output_type": "stream",
       "stream": "stdout",
       "text": [
        "Running CV for target SOC"
       ]
      },
      {
       "output_type": "stream",
       "stream": "stdout",
       "text": [
        "\n",
        "[LibSVM][LibSVM]"
       ]
      },
      {
       "output_type": "stream",
       "stream": "stdout",
       "text": [
        "[LibSVM]"
       ]
      },
      {
       "output_type": "stream",
       "stream": "stdout",
       "text": [
        "[LibSVM]"
       ]
      },
      {
       "output_type": "stream",
       "stream": "stdout",
       "text": [
        "[LibSVM]"
       ]
      },
      {
       "output_type": "stream",
       "stream": "stdout",
       "text": [
        "Running CV for target Sand"
       ]
      },
      {
       "output_type": "stream",
       "stream": "stdout",
       "text": [
        "\n",
        "[LibSVM][LibSVM]"
       ]
      },
      {
       "output_type": "stream",
       "stream": "stdout",
       "text": [
        "[LibSVM]"
       ]
      },
      {
       "output_type": "stream",
       "stream": "stdout",
       "text": [
        "[LibSVM]"
       ]
      },
      {
       "output_type": "stream",
       "stream": "stdout",
       "text": [
        "[LibSVM]"
       ]
      },
      {
       "output_type": "stream",
       "stream": "stdout",
       "text": [
        "\n"
       ]
      },
      {
       "output_type": "stream",
       "stream": "stdout",
       "text": [
        "               0         1         2         3         4      mean   std dev\n",
        "Ca      0.104055  0.203406  0.131640  0.056177  0.314667  0.161989  0.100623\n",
        "P       2.019429  0.787409  1.011633  1.147030  1.059051  1.204911  0.474270\n",
        "pH      0.208821  0.157124  0.136985  0.164569  0.154615  0.164423  0.026802\n",
        "SOC     0.212153  0.253396  0.129135  0.095662  0.113338  0.160737  0.068391\n",
        "Sand    0.237342  0.205102  0.181457  0.165506  0.186946  0.195270  0.027444\n",
        "MCRMSE  0.629678  0.538204  0.504813  0.485960  0.550459  0.541823  0.055445 \n",
        "\n",
        "[LibSVM][LibSVM]"
       ]
      },
      {
       "output_type": "stream",
       "stream": "stdout",
       "text": [
        "[LibSVM]"
       ]
      },
      {
       "output_type": "stream",
       "stream": "stdout",
       "text": [
        "[LibSVM]"
       ]
      },
      {
       "output_type": "stream",
       "stream": "stdout",
       "text": [
        "[LibSVM]"
       ]
      }
     ],
     "prompt_number": 6
    },
    {
     "cell_type": "markdown",
     "metadata": {},
     "source": [
      "### PCA with SVR"
     ]
    },
    {
     "cell_type": "code",
     "collapsed": false,
     "input": [
      "# 0.47316\n",
      "n_pca_components = 3000\n",
      "outfile = 'submissions/pca{}_svr_rbf_noCO2_C10000.csv'.format(n_pca_components)\n",
      "\n",
      "train, labels, test = load_data()\n",
      "\n",
      "train_noCO2 = train.drop(CO2_bands, axis=1, inplace=False)\n",
      "test_noCO2 = test.drop(CO2_bands, axis=1, inplace=False)\n",
      "\n",
      "pca = decomposition.PCA(n_components=n_pca_components, whiten=False)\n",
      "pca.fit(train_noCO2)\n",
      "train_noCO2_pca = pd.DataFrame(pca.transform(train_noCO2))\n",
      "test_noCO2_pca = pd.DataFrame(pca.transform(test_noCO2))\n",
      "\n",
      "sup_vec = svm.SVR(kernel='rbf', C=10000.0, verbose=2)\n",
      "cv_results = cross_validate_columns(sup_vec, {t: train_noCO2_pca.columns for t in target_colnames},\n",
      "                                    train_noCO2_pca, labels)\n",
      "print '\\n', cv_results, '\\n'\n",
      "fit_and_predict({t: sup_vec for t in target_colnames},\n",
      "                {t: train_noCO2_pca.columns for t in target_colnames},\n",
      "                train_noCO2_pca, labels, test_noCO2_pca, outfile)"
     ],
     "language": "python",
     "metadata": {},
     "outputs": [
      {
       "output_type": "stream",
       "stream": "stdout",
       "text": [
        "Running CV for target Ca\n",
        "[LibSVM][LibSVM]"
       ]
      },
      {
       "output_type": "stream",
       "stream": "stdout",
       "text": [
        "[LibSVM]"
       ]
      },
      {
       "output_type": "stream",
       "stream": "stdout",
       "text": [
        "[LibSVM]"
       ]
      },
      {
       "output_type": "stream",
       "stream": "stdout",
       "text": [
        "[LibSVM]"
       ]
      },
      {
       "output_type": "stream",
       "stream": "stdout",
       "text": [
        "Running CV for target P"
       ]
      },
      {
       "output_type": "stream",
       "stream": "stdout",
       "text": [
        "\n",
        "[LibSVM][LibSVM]"
       ]
      },
      {
       "output_type": "stream",
       "stream": "stdout",
       "text": [
        "[LibSVM]"
       ]
      },
      {
       "output_type": "stream",
       "stream": "stdout",
       "text": [
        "[LibSVM]"
       ]
      },
      {
       "output_type": "stream",
       "stream": "stdout",
       "text": [
        "[LibSVM]"
       ]
      },
      {
       "output_type": "stream",
       "stream": "stdout",
       "text": [
        "Running CV for target pH"
       ]
      },
      {
       "output_type": "stream",
       "stream": "stdout",
       "text": [
        "\n",
        "[LibSVM][LibSVM]"
       ]
      },
      {
       "output_type": "stream",
       "stream": "stdout",
       "text": [
        "[LibSVM]"
       ]
      },
      {
       "output_type": "stream",
       "stream": "stdout",
       "text": [
        "[LibSVM]"
       ]
      },
      {
       "output_type": "stream",
       "stream": "stdout",
       "text": [
        "[LibSVM]"
       ]
      },
      {
       "output_type": "stream",
       "stream": "stdout",
       "text": [
        "Running CV for target SOC"
       ]
      },
      {
       "output_type": "stream",
       "stream": "stdout",
       "text": [
        "\n",
        "[LibSVM][LibSVM]"
       ]
      },
      {
       "output_type": "stream",
       "stream": "stdout",
       "text": [
        "[LibSVM]"
       ]
      },
      {
       "output_type": "stream",
       "stream": "stdout",
       "text": [
        "[LibSVM]"
       ]
      },
      {
       "output_type": "stream",
       "stream": "stdout",
       "text": [
        "[LibSVM]"
       ]
      },
      {
       "output_type": "stream",
       "stream": "stdout",
       "text": [
        "Running CV for target Sand"
       ]
      },
      {
       "output_type": "stream",
       "stream": "stdout",
       "text": [
        "\n",
        "[LibSVM][LibSVM]"
       ]
      },
      {
       "output_type": "stream",
       "stream": "stdout",
       "text": [
        "[LibSVM]"
       ]
      },
      {
       "output_type": "stream",
       "stream": "stdout",
       "text": [
        "[LibSVM]"
       ]
      },
      {
       "output_type": "stream",
       "stream": "stdout",
       "text": [
        "[LibSVM]"
       ]
      },
      {
       "output_type": "stream",
       "stream": "stdout",
       "text": [
        "\n"
       ]
      },
      {
       "output_type": "stream",
       "stream": "stdout",
       "text": [
        "               0         1         2         3         4      mean   std dev\n",
        "Ca      0.078616  0.092601  0.098962  0.202058  0.109762  0.116400  0.049192\n",
        "P       0.844813  0.717570  0.601775  0.670958  0.925530  0.752129  0.131384\n",
        "pH      0.097052  0.106671  0.156542  0.116983  0.122163  0.119882  0.022657\n",
        "SOC     0.185386  0.054059  0.146479  0.042738  0.062375  0.098207  0.063719\n",
        "Sand    0.082969  0.112855  0.131406  0.128318  0.123837  0.115877  0.019694\n",
        "MCRMSE  0.445933  0.409290  0.446241  0.435121  0.448904  0.437098  0.016418 \n",
        "\n",
        "[LibSVM][LibSVM]"
       ]
      },
      {
       "output_type": "stream",
       "stream": "stdout",
       "text": [
        "[LibSVM]"
       ]
      },
      {
       "output_type": "stream",
       "stream": "stdout",
       "text": [
        "[LibSVM]"
       ]
      },
      {
       "output_type": "stream",
       "stream": "stdout",
       "text": [
        "[LibSVM]"
       ]
      },
      {
       "output_type": "stream",
       "stream": "stderr",
       "text": [
        "/home/ubuntu/anaconda/lib/python2.7/site-packages/numpy/core/_methods.py:59: RuntimeWarning: Mean of empty slice.\n",
        "  warnings.warn(\"Mean of empty slice.\", RuntimeWarning)\n"
       ]
      }
     ],
     "prompt_number": 16
    },
    {
     "cell_type": "raw",
     "metadata": {},
     "source": [
      "Compare to best submission so far\n",
      "        0         1         2         3         4      mean   std dev\n",
      "Ca      0.081310  0.109759  0.189750  0.093292  0.045235  0.103869  0.053546\n",
      "P       1.795390  0.602195  0.840966  0.600459  0.484646  0.864731  0.536171\n",
      "pH      0.123255  0.107272  0.096808  0.117436  0.081497  0.105253  0.016675\n",
      "SOC     0.101937  0.054525  0.106142  0.102270  0.124136  0.097802  0.025851\n",
      "Sand    0.125684  0.112371  0.088547  0.090162  0.066932  0.096739  0.022809\n",
      "MCRMSE  0.529988  0.400712  0.457429  0.408618  0.361074  0.431564  0.064814 "
     ]
    },
    {
     "cell_type": "code",
     "collapsed": false,
     "input": [
      "n_pca_components = 2000\n",
      "outfile = 'submissions/pca{}_svr_rbf_noCO2_C10000.csv'.format(n_pca_components)\n",
      "\n",
      "train, labels, test = load_data()\n",
      "\n",
      "train_noCO2 = train.drop(CO2_bands, axis=1, inplace=False)\n",
      "test_noCO2 = test.drop(CO2_bands, axis=1, inplace=False)\n",
      "\n",
      "pca = decomposition.PCA(n_components=n_pca_components, whiten=False)\n",
      "pca.fit(train_noCO2)\n",
      "train_noCO2_pca = pd.DataFrame(pca.transform(train_noCO2))\n",
      "test_noCO2_pca = pd.DataFrame(pca.transform(test_noCO2))\n",
      "\n",
      "sup_vec = svm.SVR(kernel='rbf', C=10000.0, verbose=2)\n",
      "cv_results = cross_validate_columns(sup_vec, {t: train_noCO2_pca.columns for t in target_colnames},\n",
      "                                    train_noCO2_pca, labels)\n",
      "print '\\n', cv_results, '\\n'\n",
      "fit_and_predict({t: sup_vec for t in target_colnames},\n",
      "                {t: train_noCO2_pca.columns for t in target_colnames},\n",
      "                train_noCO2_pca, labels, test_noCO2_pca, outfile)"
     ],
     "language": "python",
     "metadata": {},
     "outputs": [
      {
       "output_type": "stream",
       "stream": "stdout",
       "text": [
        "Running CV for target Ca\n",
        "[LibSVM][LibSVM]"
       ]
      },
      {
       "output_type": "stream",
       "stream": "stdout",
       "text": [
        "[LibSVM]"
       ]
      },
      {
       "output_type": "stream",
       "stream": "stdout",
       "text": [
        "[LibSVM]"
       ]
      },
      {
       "output_type": "stream",
       "stream": "stdout",
       "text": [
        "[LibSVM]"
       ]
      },
      {
       "output_type": "stream",
       "stream": "stdout",
       "text": [
        "Running CV for target P"
       ]
      },
      {
       "output_type": "stream",
       "stream": "stdout",
       "text": [
        "\n",
        "[LibSVM][LibSVM]"
       ]
      },
      {
       "output_type": "stream",
       "stream": "stdout",
       "text": [
        "[LibSVM]"
       ]
      },
      {
       "output_type": "stream",
       "stream": "stdout",
       "text": [
        "[LibSVM]"
       ]
      },
      {
       "output_type": "stream",
       "stream": "stdout",
       "text": [
        "[LibSVM]"
       ]
      },
      {
       "output_type": "stream",
       "stream": "stdout",
       "text": [
        "Running CV for target pH"
       ]
      },
      {
       "output_type": "stream",
       "stream": "stdout",
       "text": [
        "\n",
        "[LibSVM][LibSVM]"
       ]
      },
      {
       "output_type": "stream",
       "stream": "stdout",
       "text": [
        "[LibSVM]"
       ]
      },
      {
       "output_type": "stream",
       "stream": "stdout",
       "text": [
        "[LibSVM]"
       ]
      },
      {
       "output_type": "stream",
       "stream": "stdout",
       "text": [
        "[LibSVM]"
       ]
      },
      {
       "output_type": "stream",
       "stream": "stdout",
       "text": [
        "Running CV for target SOC"
       ]
      },
      {
       "output_type": "stream",
       "stream": "stdout",
       "text": [
        "\n",
        "[LibSVM][LibSVM]"
       ]
      },
      {
       "output_type": "stream",
       "stream": "stdout",
       "text": [
        "[LibSVM]"
       ]
      },
      {
       "output_type": "stream",
       "stream": "stdout",
       "text": [
        "[LibSVM]"
       ]
      },
      {
       "output_type": "stream",
       "stream": "stdout",
       "text": [
        "[LibSVM]"
       ]
      },
      {
       "output_type": "stream",
       "stream": "stdout",
       "text": [
        "Running CV for target Sand"
       ]
      },
      {
       "output_type": "stream",
       "stream": "stdout",
       "text": [
        "\n",
        "[LibSVM][LibSVM]"
       ]
      },
      {
       "output_type": "stream",
       "stream": "stdout",
       "text": [
        "[LibSVM]"
       ]
      },
      {
       "output_type": "stream",
       "stream": "stdout",
       "text": [
        "[LibSVM]"
       ]
      },
      {
       "output_type": "stream",
       "stream": "stdout",
       "text": [
        "[LibSVM]"
       ]
      },
      {
       "output_type": "stream",
       "stream": "stdout",
       "text": [
        "\n"
       ]
      },
      {
       "output_type": "stream",
       "stream": "stdout",
       "text": [
        "               0         1         2         3         4      mean   std dev\n",
        "Ca      0.092520  0.134215  0.044663  0.247454  0.076017  0.118974  0.078751\n",
        "P       0.533869  1.259677  0.827752  0.336999  1.058905  0.803440  0.375580\n",
        "pH      0.138940  0.083322  0.124320  0.121366  0.086846  0.110959  0.024571\n",
        "SOC     0.086888  0.078228  0.116691  0.078806  0.148825  0.101888  0.030577\n",
        "Sand    0.091626  0.131638  0.129659  0.129933  0.091460  0.114863  0.021302\n",
        "MCRMSE  0.401009  0.483975  0.435084  0.413505  0.457529  0.438220  0.033435 \n",
        "\n",
        "[LibSVM][LibSVM]"
       ]
      },
      {
       "output_type": "stream",
       "stream": "stdout",
       "text": [
        "[LibSVM]"
       ]
      },
      {
       "output_type": "stream",
       "stream": "stdout",
       "text": [
        "[LibSVM]"
       ]
      },
      {
       "output_type": "stream",
       "stream": "stdout",
       "text": [
        "[LibSVM]"
       ]
      }
     ],
     "prompt_number": 18
    },
    {
     "cell_type": "code",
     "collapsed": false,
     "input": [
      "n_pca_components = 1000\n",
      "outfile = 'submissions/pca{}_svr_rbf_noCO2_C10000.csv'.format(n_pca_components)\n",
      "\n",
      "train, labels, test = load_data()\n",
      "\n",
      "train_noCO2 = train.drop(CO2_bands, axis=1, inplace=False)\n",
      "test_noCO2 = test.drop(CO2_bands, axis=1, inplace=False)\n",
      "\n",
      "pca = decomposition.PCA(n_components=n_pca_components, whiten=False)\n",
      "pca.fit(train_noCO2)\n",
      "train_noCO2_pca = pd.DataFrame(pca.transform(train_noCO2))\n",
      "test_noCO2_pca = pd.DataFrame(pca.transform(test_noCO2))\n",
      "\n",
      "sup_vec = svm.SVR(kernel='rbf', C=10000.0, verbose=2)\n",
      "cv_results = cross_validate_columns(sup_vec, {t: train_noCO2_pca.columns for t in target_colnames},\n",
      "                                    train_noCO2_pca, labels)\n",
      "print '\\n', cv_results, '\\n'\n",
      "fit_and_predict({t: sup_vec for t in target_colnames},\n",
      "                {t: train_noCO2_pca.columns for t in target_colnames},\n",
      "                train_noCO2_pca, labels, test_noCO2_pca, outfile)"
     ],
     "language": "python",
     "metadata": {},
     "outputs": [
      {
       "output_type": "stream",
       "stream": "stdout",
       "text": [
        "\n",
        "Running CV for target Ca\n",
        "[LibSVM][LibSVM]"
       ]
      },
      {
       "output_type": "stream",
       "stream": "stdout",
       "text": [
        "[LibSVM]"
       ]
      },
      {
       "output_type": "stream",
       "stream": "stdout",
       "text": [
        "[LibSVM]"
       ]
      },
      {
       "output_type": "stream",
       "stream": "stdout",
       "text": [
        "[LibSVM]"
       ]
      },
      {
       "output_type": "stream",
       "stream": "stdout",
       "text": [
        "\n",
        "Running CV for target P"
       ]
      },
      {
       "output_type": "stream",
       "stream": "stdout",
       "text": [
        "\n",
        "[LibSVM][LibSVM]"
       ]
      },
      {
       "output_type": "stream",
       "stream": "stdout",
       "text": [
        "[LibSVM]"
       ]
      },
      {
       "output_type": "stream",
       "stream": "stdout",
       "text": [
        "[LibSVM]"
       ]
      },
      {
       "output_type": "stream",
       "stream": "stdout",
       "text": [
        "[LibSVM]"
       ]
      },
      {
       "output_type": "stream",
       "stream": "stdout",
       "text": [
        "\n",
        "Running CV for target pH"
       ]
      },
      {
       "output_type": "stream",
       "stream": "stdout",
       "text": [
        "\n",
        "[LibSVM][LibSVM]"
       ]
      },
      {
       "output_type": "stream",
       "stream": "stdout",
       "text": [
        "[LibSVM]"
       ]
      },
      {
       "output_type": "stream",
       "stream": "stdout",
       "text": [
        "[LibSVM]"
       ]
      },
      {
       "output_type": "stream",
       "stream": "stdout",
       "text": [
        "[LibSVM]"
       ]
      },
      {
       "output_type": "stream",
       "stream": "stdout",
       "text": [
        "\n",
        "Running CV for target SOC"
       ]
      },
      {
       "output_type": "stream",
       "stream": "stdout",
       "text": [
        "\n",
        "[LibSVM][LibSVM]"
       ]
      },
      {
       "output_type": "stream",
       "stream": "stdout",
       "text": [
        "[LibSVM]"
       ]
      },
      {
       "output_type": "stream",
       "stream": "stdout",
       "text": [
        "[LibSVM]"
       ]
      },
      {
       "output_type": "stream",
       "stream": "stdout",
       "text": [
        "[LibSVM]"
       ]
      },
      {
       "output_type": "stream",
       "stream": "stdout",
       "text": [
        "\n",
        "Running CV for target Sand"
       ]
      },
      {
       "output_type": "stream",
       "stream": "stdout",
       "text": [
        "\n",
        "[LibSVM][LibSVM]"
       ]
      },
      {
       "output_type": "stream",
       "stream": "stdout",
       "text": [
        "[LibSVM]"
       ]
      },
      {
       "output_type": "stream",
       "stream": "stdout",
       "text": [
        "[LibSVM]"
       ]
      },
      {
       "output_type": "stream",
       "stream": "stdout",
       "text": [
        "[LibSVM]"
       ]
      },
      {
       "output_type": "stream",
       "stream": "stdout",
       "text": [
        "\n"
       ]
      },
      {
       "output_type": "stream",
       "stream": "stdout",
       "text": [
        "               0         1         2         3         4      mean   std dev\n",
        "Ca      0.155752  0.086042  0.125572  0.119022  0.223292  0.141936  0.051785\n",
        "P       0.762188  0.530035  0.914397  0.608125  0.956372  0.754223  0.185869\n",
        "pH      0.123469  0.125157  0.142768  0.095331  0.116122  0.120569  0.017168\n",
        "SOC     0.101267  0.121245  0.147619  0.089486  0.097361  0.111396  0.023392\n",
        "Sand    0.120714  0.130464  0.136829  0.180276  0.101942  0.134045  0.029010\n",
        "MCRMSE  0.456947  0.416908  0.488513  0.431462  0.484512  0.455668  0.031626 \n",
        "\n",
        "[LibSVM][LibSVM]"
       ]
      },
      {
       "output_type": "stream",
       "stream": "stdout",
       "text": [
        "[LibSVM]"
       ]
      },
      {
       "output_type": "stream",
       "stream": "stdout",
       "text": [
        "[LibSVM]"
       ]
      },
      {
       "output_type": "stream",
       "stream": "stdout",
       "text": [
        "[LibSVM]"
       ]
      }
     ],
     "prompt_number": 8
    },
    {
     "cell_type": "code",
     "collapsed": false,
     "input": [
      "n_pca_components = 750\n",
      "outfile = 'submissions/pca{}_svr_rbf_noCO2_C10000.csv'.format(n_pca_components)\n",
      "\n",
      "train, labels, test = load_data()\n",
      "\n",
      "train_noCO2 = train.drop(CO2_bands, axis=1, inplace=False)\n",
      "test_noCO2 = test.drop(CO2_bands, axis=1, inplace=False)\n",
      "\n",
      "pca = decomposition.PCA(n_components=n_pca_components, whiten=False)\n",
      "pca.fit(train_noCO2)\n",
      "train_noCO2_pca = pd.DataFrame(pca.transform(train_noCO2))\n",
      "test_noCO2_pca = pd.DataFrame(pca.transform(test_noCO2))\n",
      "\n",
      "sup_vec = svm.SVR(kernel='rbf', C=10000.0, verbose=2)\n",
      "cv_results = cross_validate_columns(sup_vec, {t: train_noCO2_pca.columns for t in target_colnames},\n",
      "                                    train_noCO2_pca, labels)\n",
      "print '\\n', cv_results, '\\n'\n",
      "fit_and_predict({t: sup_vec for t in target_colnames},\n",
      "                {t: train_noCO2_pca.columns for t in target_colnames},\n",
      "                train_noCO2_pca, labels, test_noCO2_pca, outfile)"
     ],
     "language": "python",
     "metadata": {},
     "outputs": [
      {
       "output_type": "stream",
       "stream": "stdout",
       "text": [
        "\n",
        "Running CV for target Ca\n",
        "[LibSVM][LibSVM]"
       ]
      },
      {
       "output_type": "stream",
       "stream": "stdout",
       "text": [
        "[LibSVM]"
       ]
      },
      {
       "output_type": "stream",
       "stream": "stdout",
       "text": [
        "[LibSVM]"
       ]
      },
      {
       "output_type": "stream",
       "stream": "stdout",
       "text": [
        "[LibSVM]"
       ]
      },
      {
       "output_type": "stream",
       "stream": "stdout",
       "text": [
        "\n",
        "Running CV for target P"
       ]
      },
      {
       "output_type": "stream",
       "stream": "stdout",
       "text": [
        "\n",
        "[LibSVM][LibSVM]"
       ]
      },
      {
       "output_type": "stream",
       "stream": "stdout",
       "text": [
        "[LibSVM]"
       ]
      },
      {
       "output_type": "stream",
       "stream": "stdout",
       "text": [
        "[LibSVM]"
       ]
      },
      {
       "output_type": "stream",
       "stream": "stdout",
       "text": [
        "[LibSVM]"
       ]
      },
      {
       "output_type": "stream",
       "stream": "stdout",
       "text": [
        "\n",
        "Running CV for target pH"
       ]
      },
      {
       "output_type": "stream",
       "stream": "stdout",
       "text": [
        "\n",
        "[LibSVM][LibSVM]"
       ]
      },
      {
       "output_type": "stream",
       "stream": "stdout",
       "text": [
        "[LibSVM]"
       ]
      },
      {
       "output_type": "stream",
       "stream": "stdout",
       "text": [
        "[LibSVM]"
       ]
      },
      {
       "output_type": "stream",
       "stream": "stdout",
       "text": [
        "[LibSVM]"
       ]
      },
      {
       "output_type": "stream",
       "stream": "stdout",
       "text": [
        "\n",
        "Running CV for target SOC"
       ]
      },
      {
       "output_type": "stream",
       "stream": "stdout",
       "text": [
        "\n",
        "[LibSVM][LibSVM]"
       ]
      },
      {
       "output_type": "stream",
       "stream": "stdout",
       "text": [
        "[LibSVM]"
       ]
      },
      {
       "output_type": "stream",
       "stream": "stdout",
       "text": [
        "[LibSVM]"
       ]
      },
      {
       "output_type": "stream",
       "stream": "stdout",
       "text": [
        "[LibSVM]"
       ]
      },
      {
       "output_type": "stream",
       "stream": "stdout",
       "text": [
        "\n",
        "Running CV for target Sand"
       ]
      },
      {
       "output_type": "stream",
       "stream": "stdout",
       "text": [
        "\n",
        "[LibSVM][LibSVM]"
       ]
      },
      {
       "output_type": "stream",
       "stream": "stdout",
       "text": [
        "[LibSVM]"
       ]
      },
      {
       "output_type": "stream",
       "stream": "stdout",
       "text": [
        "[LibSVM]"
       ]
      },
      {
       "output_type": "stream",
       "stream": "stdout",
       "text": [
        "[LibSVM]"
       ]
      },
      {
       "output_type": "stream",
       "stream": "stdout",
       "text": [
        "\n"
       ]
      },
      {
       "output_type": "stream",
       "stream": "stdout",
       "text": [
        "               0         1         2         3         4      mean   std dev\n",
        "Ca      0.175032  0.042580  0.166714  0.247372  0.103606  0.147061  0.077517\n",
        "P       0.679771  0.381677  1.192018  0.946490  0.407065  0.721404  0.349320\n",
        "pH      0.155192  0.135926  0.134387  0.100473  0.112606  0.127717  0.021432\n",
        "SOC     0.173647  0.190768  0.133103  0.118624  0.055760  0.134381  0.052803\n",
        "Sand    0.129657  0.154250  0.136932  0.169869  0.092494  0.136640  0.029206\n",
        "MCRMSE  0.482717  0.404469  0.520313  0.508758  0.367146  0.456680  0.067420 \n",
        "\n",
        "[LibSVM][LibSVM]"
       ]
      },
      {
       "output_type": "stream",
       "stream": "stdout",
       "text": [
        "[LibSVM]"
       ]
      },
      {
       "output_type": "stream",
       "stream": "stdout",
       "text": [
        "[LibSVM]"
       ]
      },
      {
       "output_type": "stream",
       "stream": "stdout",
       "text": [
        "[LibSVM]"
       ]
      }
     ],
     "prompt_number": 12
    },
    {
     "cell_type": "code",
     "collapsed": false,
     "input": [
      "n_pca_components = 625\n",
      "outfile = 'submissions/pca{}_svr_rbf_noCO2_C10000.csv'.format(n_pca_components)\n",
      "\n",
      "train, labels, test = load_data()\n",
      "\n",
      "train_noCO2 = train.drop(CO2_bands, axis=1, inplace=False)\n",
      "test_noCO2 = test.drop(CO2_bands, axis=1, inplace=False)\n",
      "\n",
      "pca = decomposition.PCA(n_components=n_pca_components, whiten=False)\n",
      "pca.fit(train_noCO2)\n",
      "train_noCO2_pca = pd.DataFrame(pca.transform(train_noCO2))\n",
      "test_noCO2_pca = pd.DataFrame(pca.transform(test_noCO2))\n",
      "\n",
      "sup_vec = svm.SVR(kernel='rbf', C=10000.0, verbose=2)\n",
      "cv_results = cross_validate_columns(sup_vec, {t: train_noCO2_pca.columns for t in target_colnames},\n",
      "                                    train_noCO2_pca, labels)\n",
      "print '\\n', cv_results, '\\n'\n",
      "fit_and_predict({t: sup_vec for t in target_colnames},\n",
      "                {t: train_noCO2_pca.columns for t in target_colnames},\n",
      "                train_noCO2_pca, labels, test_noCO2_pca, outfile)"
     ],
     "language": "python",
     "metadata": {},
     "outputs": [
      {
       "output_type": "stream",
       "stream": "stdout",
       "text": [
        "\n",
        "Running CV for target Ca\n",
        "[LibSVM][LibSVM]"
       ]
      },
      {
       "output_type": "stream",
       "stream": "stdout",
       "text": [
        "[LibSVM]"
       ]
      },
      {
       "output_type": "stream",
       "stream": "stdout",
       "text": [
        "[LibSVM]"
       ]
      },
      {
       "output_type": "stream",
       "stream": "stdout",
       "text": [
        "[LibSVM]"
       ]
      },
      {
       "output_type": "stream",
       "stream": "stdout",
       "text": [
        "\n",
        "Running CV for target P"
       ]
      },
      {
       "output_type": "stream",
       "stream": "stdout",
       "text": [
        "\n",
        "[LibSVM][LibSVM]"
       ]
      },
      {
       "output_type": "stream",
       "stream": "stdout",
       "text": [
        "[LibSVM]"
       ]
      },
      {
       "output_type": "stream",
       "stream": "stdout",
       "text": [
        "[LibSVM]"
       ]
      },
      {
       "output_type": "stream",
       "stream": "stdout",
       "text": [
        "[LibSVM]"
       ]
      },
      {
       "output_type": "stream",
       "stream": "stdout",
       "text": [
        "\n",
        "Running CV for target pH"
       ]
      },
      {
       "output_type": "stream",
       "stream": "stdout",
       "text": [
        "\n",
        "[LibSVM][LibSVM]"
       ]
      },
      {
       "output_type": "stream",
       "stream": "stdout",
       "text": [
        "[LibSVM]"
       ]
      },
      {
       "output_type": "stream",
       "stream": "stdout",
       "text": [
        "[LibSVM]"
       ]
      },
      {
       "output_type": "stream",
       "stream": "stdout",
       "text": [
        "[LibSVM]"
       ]
      },
      {
       "output_type": "stream",
       "stream": "stdout",
       "text": [
        "\n",
        "Running CV for target SOC"
       ]
      },
      {
       "output_type": "stream",
       "stream": "stdout",
       "text": [
        "\n",
        "[LibSVM][LibSVM]"
       ]
      },
      {
       "output_type": "stream",
       "stream": "stdout",
       "text": [
        "[LibSVM]"
       ]
      },
      {
       "output_type": "stream",
       "stream": "stdout",
       "text": [
        "[LibSVM]"
       ]
      },
      {
       "output_type": "stream",
       "stream": "stdout",
       "text": [
        "[LibSVM]"
       ]
      },
      {
       "output_type": "stream",
       "stream": "stdout",
       "text": [
        "\n",
        "Running CV for target Sand"
       ]
      },
      {
       "output_type": "stream",
       "stream": "stdout",
       "text": [
        "\n",
        "[LibSVM][LibSVM]"
       ]
      },
      {
       "output_type": "stream",
       "stream": "stdout",
       "text": [
        "[LibSVM]"
       ]
      },
      {
       "output_type": "stream",
       "stream": "stdout",
       "text": [
        "[LibSVM]"
       ]
      },
      {
       "output_type": "stream",
       "stream": "stdout",
       "text": [
        "[LibSVM]"
       ]
      },
      {
       "output_type": "stream",
       "stream": "stdout",
       "text": [
        "\n"
       ]
      },
      {
       "output_type": "stream",
       "stream": "stdout",
       "text": [
        "               0         1         2         3         4      mean   std dev\n",
        "Ca      0.086670  0.096354  0.071013  0.188267  0.146138  0.117688  0.048442\n",
        "P       0.495801  0.566701  0.658216  0.761950  1.251810  0.746896  0.299394\n",
        "pH      0.126407  0.179594  0.141370  0.115916  0.136017  0.139861  0.024239\n",
        "SOC     0.125988  0.141857  0.129862  0.111370  0.128489  0.127513  0.010899\n",
        "Sand    0.159177  0.176674  0.139519  0.101455  0.131867  0.141738  0.028503\n",
        "MCRMSE  0.421597  0.456791  0.437533  0.459900  0.518303  0.458825  0.036682 \n",
        "\n",
        "[LibSVM][LibSVM]"
       ]
      },
      {
       "output_type": "stream",
       "stream": "stdout",
       "text": [
        "[LibSVM]"
       ]
      },
      {
       "output_type": "stream",
       "stream": "stdout",
       "text": [
        "[LibSVM]"
       ]
      },
      {
       "output_type": "stream",
       "stream": "stdout",
       "text": [
        "[LibSVM]"
       ]
      }
     ],
     "prompt_number": 13
    },
    {
     "cell_type": "markdown",
     "metadata": {},
     "source": [
      "### Using PCA for P column only"
     ]
    },
    {
     "cell_type": "code",
     "collapsed": false,
     "input": [
      "n_pca_components = 700 # LB 0.45743\n",
      "outfile = 'submissions/pca{}_Ponly_svr.csv'.format(n_pca_components)\n",
      "\n",
      "train, labels, test = load_data()\n",
      "\n",
      "train_noCO2 = train.drop(CO2_bands, axis=1, inplace=False)\n",
      "test_noCO2 = test.drop(CO2_bands, axis=1, inplace=False)\n",
      "\n",
      "pca = decomposition.PCA(n_components=n_pca_components, whiten=False)\n",
      "pca.fit(train_noCO2)\n",
      "train_noCO2_pca = pd.DataFrame(pca.transform(train_noCO2))\n",
      "test_noCO2_pca = pd.DataFrame(pca.transform(test_noCO2))\n",
      "\n",
      "sup_vec = svm.SVR(kernel='rbf', C=10000.0, verbose=2)\n",
      "\n",
      "predictors = {\"Ca\": sup_vec,\n",
      "              \"P\": sup_vec,\n",
      "              \"pH\": sup_vec,\n",
      "              \"SOC\": sup_vec,\n",
      "              \"Sand\": sup_vec}\n",
      "train4target = {\"Ca\": train_noCO2,\n",
      "                \"P\": train_noCO2_pca,\n",
      "                \"pH\": train_noCO2,\n",
      "                \"SOC\": train_noCO2,\n",
      "                \"Sand\": train_noCO2}\n",
      "test4target = {\"Ca\": test_noCO2,\n",
      "               \"P\": test_noCO2_pca,\n",
      "               \"pH\": test_noCO2,\n",
      "               \"SOC\": test_noCO2,\n",
      "               \"Sand\": test_noCO2}\n",
      "\n",
      "cv_results = cross_validate_columns2(predictors, train4target, labels)\n",
      "\n",
      "print '\\n', cv_results, '\\n'\n",
      "fit_and_predict2(predictors, train4target,\n",
      "                 labels, test4target,\n",
      "                 outfile)"
     ],
     "language": "python",
     "metadata": {},
     "outputs": [
      {
       "output_type": "stream",
       "stream": "stdout",
       "text": [
        "\n",
        "Running CV for target Ca\n",
        "[LibSVM][LibSVM]"
       ]
      },
      {
       "output_type": "stream",
       "stream": "stdout",
       "text": [
        "[LibSVM]"
       ]
      },
      {
       "output_type": "stream",
       "stream": "stdout",
       "text": [
        "[LibSVM]"
       ]
      },
      {
       "output_type": "stream",
       "stream": "stdout",
       "text": [
        "[LibSVM]"
       ]
      },
      {
       "output_type": "stream",
       "stream": "stdout",
       "text": [
        "\n",
        "Running CV for target P"
       ]
      },
      {
       "output_type": "stream",
       "stream": "stdout",
       "text": [
        "\n",
        "[LibSVM][LibSVM]"
       ]
      },
      {
       "output_type": "stream",
       "stream": "stdout",
       "text": [
        "[LibSVM]"
       ]
      },
      {
       "output_type": "stream",
       "stream": "stdout",
       "text": [
        "[LibSVM]"
       ]
      },
      {
       "output_type": "stream",
       "stream": "stdout",
       "text": [
        "[LibSVM]"
       ]
      },
      {
       "output_type": "stream",
       "stream": "stdout",
       "text": [
        "\n",
        "Running CV for target pH"
       ]
      },
      {
       "output_type": "stream",
       "stream": "stdout",
       "text": [
        "\n",
        "[LibSVM][LibSVM]"
       ]
      },
      {
       "output_type": "stream",
       "stream": "stdout",
       "text": [
        "[LibSVM]"
       ]
      },
      {
       "output_type": "stream",
       "stream": "stdout",
       "text": [
        "[LibSVM]"
       ]
      },
      {
       "output_type": "stream",
       "stream": "stdout",
       "text": [
        "[LibSVM]"
       ]
      },
      {
       "output_type": "stream",
       "stream": "stdout",
       "text": [
        "\n",
        "Running CV for target SOC"
       ]
      },
      {
       "output_type": "stream",
       "stream": "stdout",
       "text": [
        "\n",
        "[LibSVM][LibSVM]"
       ]
      },
      {
       "output_type": "stream",
       "stream": "stdout",
       "text": [
        "[LibSVM]"
       ]
      },
      {
       "output_type": "stream",
       "stream": "stdout",
       "text": [
        "[LibSVM]"
       ]
      },
      {
       "output_type": "stream",
       "stream": "stdout",
       "text": [
        "[LibSVM]"
       ]
      },
      {
       "output_type": "stream",
       "stream": "stdout",
       "text": [
        "\n",
        "Running CV for target Sand"
       ]
      },
      {
       "output_type": "stream",
       "stream": "stdout",
       "text": [
        "\n",
        "[LibSVM][LibSVM]"
       ]
      },
      {
       "output_type": "stream",
       "stream": "stdout",
       "text": [
        "[LibSVM]"
       ]
      },
      {
       "output_type": "stream",
       "stream": "stdout",
       "text": [
        "[LibSVM]"
       ]
      },
      {
       "output_type": "stream",
       "stream": "stdout",
       "text": [
        "[LibSVM]"
       ]
      },
      {
       "output_type": "stream",
       "stream": "stdout",
       "text": [
        "\n"
       ]
      },
      {
       "output_type": "stream",
       "stream": "stdout",
       "text": [
        "               0         1         2         3         4      mean   std dev\n",
        "Ca      0.063922  0.057824  0.141527  0.055970  0.207202  0.105289  0.067261\n",
        "P       0.572176  0.807058  0.708222  1.537106  0.167345  0.758382  0.498822\n",
        "pH      0.118991  0.133948  0.107728  0.084063  0.085227  0.105991  0.021596\n",
        "SOC     0.071310  0.134706  0.094038  0.075399  0.066222  0.088335  0.027969\n",
        "Sand    0.092880  0.095716  0.080290  0.135570  0.084651  0.097822  0.021992\n",
        "MCRMSE  0.385201  0.436245  0.427198  0.481821  0.340899  0.414273  0.053482 \n",
        "\n",
        "[LibSVM][LibSVM]"
       ]
      },
      {
       "output_type": "stream",
       "stream": "stdout",
       "text": [
        "[LibSVM]"
       ]
      },
      {
       "output_type": "stream",
       "stream": "stdout",
       "text": [
        "[LibSVM]"
       ]
      },
      {
       "output_type": "stream",
       "stream": "stdout",
       "text": [
        "[LibSVM]"
       ]
      }
     ],
     "prompt_number": 16
    },
    {
     "cell_type": "code",
     "collapsed": false,
     "input": [
      "n_pca_components = 1200 # LB 0.42247\n",
      "outfile = 'submissions/pca{}_Ponly_svr.csv'.format(n_pca_components)\n",
      "\n",
      "train, labels, test = load_data()\n",
      "\n",
      "train_noCO2 = train.drop(CO2_bands, axis=1, inplace=False)\n",
      "test_noCO2 = test.drop(CO2_bands, axis=1, inplace=False)\n",
      "\n",
      "pca = decomposition.PCA(n_components=n_pca_components, whiten=False)\n",
      "pca.fit(train_noCO2)\n",
      "train_noCO2_pca = pd.DataFrame(pca.transform(train_noCO2))\n",
      "test_noCO2_pca = pd.DataFrame(pca.transform(test_noCO2))\n",
      "\n",
      "sup_vec = svm.SVR(kernel='rbf', C=10000.0, verbose=2)\n",
      "\n",
      "predictors = {\"Ca\": sup_vec,\n",
      "              \"P\": sup_vec,\n",
      "              \"pH\": sup_vec,\n",
      "              \"SOC\": sup_vec,\n",
      "              \"Sand\": sup_vec}\n",
      "train4target = {\"Ca\": train_noCO2,\n",
      "                \"P\": train_noCO2_pca,\n",
      "                \"pH\": train_noCO2,\n",
      "                \"SOC\": train_noCO2,\n",
      "                \"Sand\": train_noCO2}\n",
      "test4target = {\"Ca\": test_noCO2,\n",
      "               \"P\": test_noCO2_pca,\n",
      "               \"pH\": test_noCO2,\n",
      "               \"SOC\": test_noCO2,\n",
      "               \"Sand\": test_noCO2}\n",
      "\n",
      "cv_results = cross_validate_columns2(predictors, train4target, labels)\n",
      "\n",
      "print '\\n', cv_results, '\\n'\n",
      "fit_and_predict2(predictors, train4target,\n",
      "                 labels, test4target,\n",
      "                 outfile)"
     ],
     "language": "python",
     "metadata": {},
     "outputs": [
      {
       "output_type": "stream",
       "stream": "stdout",
       "text": [
        "\n",
        "Running CV for target Ca\n",
        "[LibSVM][LibSVM]"
       ]
      },
      {
       "output_type": "stream",
       "stream": "stdout",
       "text": [
        "[LibSVM]"
       ]
      },
      {
       "output_type": "stream",
       "stream": "stdout",
       "text": [
        "[LibSVM]"
       ]
      },
      {
       "output_type": "stream",
       "stream": "stdout",
       "text": [
        "[LibSVM]"
       ]
      },
      {
       "output_type": "stream",
       "stream": "stdout",
       "text": [
        "\n",
        "Running CV for target P"
       ]
      },
      {
       "output_type": "stream",
       "stream": "stdout",
       "text": [
        "\n",
        "[LibSVM][LibSVM]"
       ]
      },
      {
       "output_type": "stream",
       "stream": "stdout",
       "text": [
        "[LibSVM]"
       ]
      },
      {
       "output_type": "stream",
       "stream": "stdout",
       "text": [
        "[LibSVM]"
       ]
      },
      {
       "output_type": "stream",
       "stream": "stdout",
       "text": [
        "[LibSVM]"
       ]
      },
      {
       "output_type": "stream",
       "stream": "stdout",
       "text": [
        "\n",
        "Running CV for target pH"
       ]
      },
      {
       "output_type": "stream",
       "stream": "stdout",
       "text": [
        "\n",
        "[LibSVM][LibSVM]"
       ]
      },
      {
       "output_type": "stream",
       "stream": "stdout",
       "text": [
        "[LibSVM]"
       ]
      },
      {
       "output_type": "stream",
       "stream": "stdout",
       "text": [
        "[LibSVM]"
       ]
      },
      {
       "output_type": "stream",
       "stream": "stdout",
       "text": [
        "[LibSVM]"
       ]
      },
      {
       "output_type": "stream",
       "stream": "stdout",
       "text": [
        "\n",
        "Running CV for target SOC"
       ]
      },
      {
       "output_type": "stream",
       "stream": "stdout",
       "text": [
        "\n",
        "[LibSVM][LibSVM]"
       ]
      },
      {
       "output_type": "stream",
       "stream": "stdout",
       "text": [
        "[LibSVM]"
       ]
      },
      {
       "output_type": "stream",
       "stream": "stdout",
       "text": [
        "[LibSVM]"
       ]
      },
      {
       "output_type": "stream",
       "stream": "stdout",
       "text": [
        "[LibSVM]"
       ]
      },
      {
       "output_type": "stream",
       "stream": "stdout",
       "text": [
        "\n",
        "Running CV for target Sand"
       ]
      },
      {
       "output_type": "stream",
       "stream": "stdout",
       "text": [
        "\n",
        "[LibSVM][LibSVM]"
       ]
      },
      {
       "output_type": "stream",
       "stream": "stdout",
       "text": [
        "[LibSVM]"
       ]
      },
      {
       "output_type": "stream",
       "stream": "stdout",
       "text": [
        "[LibSVM]"
       ]
      },
      {
       "output_type": "stream",
       "stream": "stdout",
       "text": [
        "[LibSVM]"
       ]
      },
      {
       "output_type": "stream",
       "stream": "stdout",
       "text": [
        "\n"
       ]
      },
      {
       "output_type": "stream",
       "stream": "stdout",
       "text": [
        "               0         1         2         3         4      mean   std dev\n",
        "Ca      0.041523  0.118565  0.101643  0.090748  0.229725  0.116441  0.069515\n",
        "P       1.107241  1.540164  0.346825  0.901462  0.248028  0.828744  0.538155\n",
        "pH      0.109660  0.101488  0.080594  0.111527  0.108768  0.102407  0.012776\n",
        "SOC     0.037788  0.149165  0.049178  0.135592  0.048326  0.084010  0.053686\n",
        "Sand    0.118224  0.098196  0.080315  0.074770  0.099119  0.094125  0.017231\n",
        "MCRMSE  0.425081  0.520704  0.339357  0.445265  0.368357  0.419753  0.070667 \n",
        "\n",
        "[LibSVM][LibSVM]"
       ]
      },
      {
       "output_type": "stream",
       "stream": "stdout",
       "text": [
        "[LibSVM]"
       ]
      },
      {
       "output_type": "stream",
       "stream": "stdout",
       "text": [
        "[LibSVM]"
       ]
      },
      {
       "output_type": "stream",
       "stream": "stdout",
       "text": [
        "[LibSVM]"
       ]
      },
      {
       "output_type": "stream",
       "stream": "stderr",
       "text": [
        "/home/ubuntu/anaconda/lib/python2.7/site-packages/numpy/core/_methods.py:59: RuntimeWarning: Mean of empty slice.\n",
        "  warnings.warn(\"Mean of empty slice.\", RuntimeWarning)\n"
       ]
      }
     ],
     "prompt_number": 17
    },
    {
     "cell_type": "code",
     "collapsed": false,
     "input": [
      "n_pca_components = 800 # LB 0.45105\n",
      "outfile = 'submissions/pca{}_Ponly_svr.csv'.format(n_pca_components)\n",
      "\n",
      "train, labels, test = load_data()\n",
      "\n",
      "train_noCO2 = train.drop(CO2_bands, axis=1, inplace=False)\n",
      "test_noCO2 = test.drop(CO2_bands, axis=1, inplace=False)\n",
      "\n",
      "pca = decomposition.PCA(n_components=n_pca_components, whiten=False)\n",
      "pca.fit(train_noCO2)\n",
      "train_noCO2_pca = pd.DataFrame(pca.transform(train_noCO2))\n",
      "test_noCO2_pca = pd.DataFrame(pca.transform(test_noCO2))\n",
      "\n",
      "sup_vec = svm.SVR(kernel='rbf', C=10000.0, verbose=2)\n",
      "\n",
      "predictors = {\"Ca\": sup_vec,\n",
      "              \"P\": sup_vec,\n",
      "              \"pH\": sup_vec,\n",
      "              \"SOC\": sup_vec,\n",
      "              \"Sand\": sup_vec}\n",
      "train4target = {\"Ca\": train_noCO2,\n",
      "                \"P\": train_noCO2_pca,\n",
      "                \"pH\": train_noCO2,\n",
      "                \"SOC\": train_noCO2,\n",
      "                \"Sand\": train_noCO2}\n",
      "test4target = {\"Ca\": test_noCO2,\n",
      "               \"P\": test_noCO2_pca,\n",
      "               \"pH\": test_noCO2,\n",
      "               \"SOC\": test_noCO2,\n",
      "               \"Sand\": test_noCO2}\n",
      "\n",
      "cv_results = cross_validate_columns2(predictors, train4target, labels)\n",
      "\n",
      "print '\\n', cv_results, '\\n'\n",
      "fit_and_predict2(predictors, train4target,\n",
      "                 labels, test4target,\n",
      "                 outfile)"
     ],
     "language": "python",
     "metadata": {},
     "outputs": [
      {
       "output_type": "stream",
       "stream": "stdout",
       "text": [
        "\n",
        "Running CV for target Ca\n",
        "[LibSVM][LibSVM]"
       ]
      },
      {
       "output_type": "stream",
       "stream": "stdout",
       "text": [
        "[LibSVM]"
       ]
      },
      {
       "output_type": "stream",
       "stream": "stdout",
       "text": [
        "[LibSVM]"
       ]
      },
      {
       "output_type": "stream",
       "stream": "stdout",
       "text": [
        "[LibSVM]"
       ]
      },
      {
       "output_type": "stream",
       "stream": "stdout",
       "text": [
        "\n",
        "Running CV for target P"
       ]
      },
      {
       "output_type": "stream",
       "stream": "stdout",
       "text": [
        "\n",
        "[LibSVM][LibSVM]"
       ]
      },
      {
       "output_type": "stream",
       "stream": "stdout",
       "text": [
        "[LibSVM]"
       ]
      },
      {
       "output_type": "stream",
       "stream": "stdout",
       "text": [
        "[LibSVM]"
       ]
      },
      {
       "output_type": "stream",
       "stream": "stdout",
       "text": [
        "[LibSVM]"
       ]
      },
      {
       "output_type": "stream",
       "stream": "stdout",
       "text": [
        "\n",
        "Running CV for target pH"
       ]
      },
      {
       "output_type": "stream",
       "stream": "stdout",
       "text": [
        "\n",
        "[LibSVM][LibSVM]"
       ]
      },
      {
       "output_type": "stream",
       "stream": "stdout",
       "text": [
        "[LibSVM]"
       ]
      },
      {
       "output_type": "stream",
       "stream": "stdout",
       "text": [
        "[LibSVM]"
       ]
      },
      {
       "output_type": "stream",
       "stream": "stdout",
       "text": [
        "[LibSVM]"
       ]
      },
      {
       "output_type": "stream",
       "stream": "stdout",
       "text": [
        "\n",
        "Running CV for target SOC"
       ]
      },
      {
       "output_type": "stream",
       "stream": "stdout",
       "text": [
        "\n",
        "[LibSVM][LibSVM]"
       ]
      },
      {
       "output_type": "stream",
       "stream": "stdout",
       "text": [
        "[LibSVM]"
       ]
      },
      {
       "output_type": "stream",
       "stream": "stdout",
       "text": [
        "[LibSVM]"
       ]
      },
      {
       "output_type": "stream",
       "stream": "stdout",
       "text": [
        "[LibSVM]"
       ]
      },
      {
       "output_type": "stream",
       "stream": "stdout",
       "text": [
        "\n",
        "Running CV for target Sand"
       ]
      },
      {
       "output_type": "stream",
       "stream": "stdout",
       "text": [
        "\n",
        "[LibSVM][LibSVM]"
       ]
      },
      {
       "output_type": "stream",
       "stream": "stdout",
       "text": [
        "[LibSVM]"
       ]
      },
      {
       "output_type": "stream",
       "stream": "stdout",
       "text": [
        "[LibSVM]"
       ]
      },
      {
       "output_type": "stream",
       "stream": "stdout",
       "text": [
        "[LibSVM]"
       ]
      },
      {
       "output_type": "stream",
       "stream": "stdout",
       "text": [
        "\n"
       ]
      },
      {
       "output_type": "stream",
       "stream": "stdout",
       "text": [
        "               0         1         2         3         4      mean   std dev\n",
        "Ca      0.104751  0.053185  0.219114  0.098788  0.072560  0.109680  0.064592\n",
        "P       1.029566  0.795108  1.828664  0.262291  0.409472  0.865020  0.618744\n",
        "pH      0.095852  0.121140  0.100262  0.114320  0.087087  0.103732  0.013841\n",
        "SOC     0.052326  0.056069  0.102836  0.175026  0.047854  0.086822  0.054062\n",
        "Sand    0.066727  0.082015  0.108006  0.105011  0.121076  0.096567  0.021824\n",
        "MCRMSE  0.426998  0.398706  0.557268  0.381395  0.354218  0.423717  0.079205 \n",
        "\n",
        "[LibSVM][LibSVM]"
       ]
      },
      {
       "output_type": "stream",
       "stream": "stdout",
       "text": [
        "[LibSVM]"
       ]
      },
      {
       "output_type": "stream",
       "stream": "stdout",
       "text": [
        "[LibSVM]"
       ]
      },
      {
       "output_type": "stream",
       "stream": "stdout",
       "text": [
        "[LibSVM]"
       ]
      }
     ],
     "prompt_number": 18
    },
    {
     "cell_type": "code",
     "collapsed": false,
     "input": [
      "n_pca_components = 750 # LB 0.45675\n",
      "outfile = 'submissions/pca{}_Ponly_svr.csv'.format(n_pca_components)\n",
      "\n",
      "train, labels, test = load_data()\n",
      "\n",
      "train_noCO2 = train.drop(CO2_bands, axis=1, inplace=False)\n",
      "test_noCO2 = test.drop(CO2_bands, axis=1, inplace=False)\n",
      "\n",
      "pca = decomposition.PCA(n_components=n_pca_components, whiten=False)\n",
      "pca.fit(train_noCO2)\n",
      "train_noCO2_pca = pd.DataFrame(pca.transform(train_noCO2))\n",
      "test_noCO2_pca = pd.DataFrame(pca.transform(test_noCO2))\n",
      "\n",
      "sup_vec = svm.SVR(kernel='rbf', C=10000.0, verbose=2)\n",
      "\n",
      "predictors = {\"Ca\": sup_vec,\n",
      "              \"P\": sup_vec,\n",
      "              \"pH\": sup_vec,\n",
      "              \"SOC\": sup_vec,\n",
      "              \"Sand\": sup_vec}\n",
      "train4target = {\"Ca\": train_noCO2,\n",
      "                \"P\": train_noCO2_pca,\n",
      "                \"pH\": train_noCO2,\n",
      "                \"SOC\": train_noCO2,\n",
      "                \"Sand\": train_noCO2}\n",
      "test4target = {\"Ca\": test_noCO2,\n",
      "               \"P\": test_noCO2_pca,\n",
      "               \"pH\": test_noCO2,\n",
      "               \"SOC\": test_noCO2,\n",
      "               \"Sand\": test_noCO2}\n",
      "\n",
      "cv_results = cross_validate_columns2(predictors, train4target, labels)\n",
      "\n",
      "print '\\n', cv_results, '\\n'\n",
      "fit_and_predict2(predictors, train4target,\n",
      "                 labels, test4target,\n",
      "                 outfile)"
     ],
     "language": "python",
     "metadata": {},
     "outputs": [
      {
       "output_type": "stream",
       "stream": "stdout",
       "text": [
        "\n",
        "Running CV for target Ca\n",
        "[LibSVM][LibSVM]"
       ]
      },
      {
       "output_type": "stream",
       "stream": "stdout",
       "text": [
        "[LibSVM]"
       ]
      },
      {
       "output_type": "stream",
       "stream": "stdout",
       "text": [
        "[LibSVM]"
       ]
      },
      {
       "output_type": "stream",
       "stream": "stdout",
       "text": [
        "[LibSVM]"
       ]
      },
      {
       "output_type": "stream",
       "stream": "stdout",
       "text": [
        "\n",
        "Running CV for target P"
       ]
      },
      {
       "output_type": "stream",
       "stream": "stdout",
       "text": [
        "\n",
        "[LibSVM][LibSVM]"
       ]
      },
      {
       "output_type": "stream",
       "stream": "stdout",
       "text": [
        "[LibSVM]"
       ]
      },
      {
       "output_type": "stream",
       "stream": "stdout",
       "text": [
        "[LibSVM]"
       ]
      },
      {
       "output_type": "stream",
       "stream": "stdout",
       "text": [
        "[LibSVM]"
       ]
      },
      {
       "output_type": "stream",
       "stream": "stdout",
       "text": [
        "\n",
        "Running CV for target pH"
       ]
      },
      {
       "output_type": "stream",
       "stream": "stdout",
       "text": [
        "\n",
        "[LibSVM][LibSVM]"
       ]
      },
      {
       "output_type": "stream",
       "stream": "stdout",
       "text": [
        "[LibSVM]"
       ]
      },
      {
       "output_type": "stream",
       "stream": "stdout",
       "text": [
        "[LibSVM]"
       ]
      },
      {
       "output_type": "stream",
       "stream": "stdout",
       "text": [
        "[LibSVM]"
       ]
      },
      {
       "output_type": "stream",
       "stream": "stdout",
       "text": [
        "\n",
        "Running CV for target SOC"
       ]
      },
      {
       "output_type": "stream",
       "stream": "stdout",
       "text": [
        "\n",
        "[LibSVM][LibSVM]"
       ]
      },
      {
       "output_type": "stream",
       "stream": "stdout",
       "text": [
        "[LibSVM]"
       ]
      },
      {
       "output_type": "stream",
       "stream": "stdout",
       "text": [
        "[LibSVM]"
       ]
      },
      {
       "output_type": "stream",
       "stream": "stdout",
       "text": [
        "[LibSVM]"
       ]
      },
      {
       "output_type": "stream",
       "stream": "stdout",
       "text": [
        "\n",
        "Running CV for target Sand"
       ]
      },
      {
       "output_type": "stream",
       "stream": "stdout",
       "text": [
        "\n",
        "[LibSVM][LibSVM]"
       ]
      },
      {
       "output_type": "stream",
       "stream": "stdout",
       "text": [
        "[LibSVM]"
       ]
      },
      {
       "output_type": "stream",
       "stream": "stdout",
       "text": [
        "[LibSVM]"
       ]
      },
      {
       "output_type": "stream",
       "stream": "stdout",
       "text": [
        "[LibSVM]"
       ]
      },
      {
       "output_type": "stream",
       "stream": "stdout",
       "text": [
        "\n"
       ]
      },
      {
       "output_type": "stream",
       "stream": "stdout",
       "text": [
        "               0         1         2         3         4      mean   std dev\n",
        "Ca      0.116035  0.200121  0.134447  0.071447  0.028760  0.110162  0.064888\n",
        "P       0.901008  0.261531  1.646893  0.998973  0.635309  0.888743  0.511057\n",
        "pH      0.131511  0.105175  0.093564  0.124265  0.093142  0.109531  0.017626\n",
        "SOC     0.160632  0.065091  0.092010  0.039938  0.092894  0.090113  0.045078\n",
        "Sand    0.098766  0.091018  0.096878  0.068404  0.121617  0.095336  0.019032\n",
        "MCRMSE  0.473511  0.367975  0.514090  0.416136  0.385073  0.431357  0.061263 \n",
        "\n",
        "[LibSVM][LibSVM]"
       ]
      },
      {
       "output_type": "stream",
       "stream": "stdout",
       "text": [
        "[LibSVM]"
       ]
      },
      {
       "output_type": "stream",
       "stream": "stdout",
       "text": [
        "[LibSVM]"
       ]
      },
      {
       "output_type": "stream",
       "stream": "stdout",
       "text": [
        "[LibSVM]"
       ]
      }
     ],
     "prompt_number": 19
    },
    {
     "cell_type": "code",
     "collapsed": false,
     "input": [
      "n_pca_components = 1500 # LB 0.42247\n",
      "outfile = 'submissions/pca{}_Ponly_svr.csv'.format(n_pca_components)\n",
      "\n",
      "train, labels, test = load_data()\n",
      "\n",
      "train_noCO2 = train.drop(CO2_bands, axis=1, inplace=False)\n",
      "test_noCO2 = test.drop(CO2_bands, axis=1, inplace=False)\n",
      "\n",
      "pca = decomposition.PCA(n_components=n_pca_components, whiten=False)\n",
      "pca.fit(train_noCO2)\n",
      "train_noCO2_pca = pd.DataFrame(pca.transform(train_noCO2))\n",
      "test_noCO2_pca = pd.DataFrame(pca.transform(test_noCO2))\n",
      "\n",
      "sup_vec = svm.SVR(kernel='rbf', C=10000.0, verbose=2)\n",
      "\n",
      "predictors = {\"Ca\": sup_vec,\n",
      "              \"P\": sup_vec,\n",
      "              \"pH\": sup_vec,\n",
      "              \"SOC\": sup_vec,\n",
      "              \"Sand\": sup_vec}\n",
      "train4target = {\"Ca\": train_noCO2,\n",
      "                \"P\": train_noCO2_pca,\n",
      "                \"pH\": train_noCO2,\n",
      "                \"SOC\": train_noCO2,\n",
      "                \"Sand\": train_noCO2}\n",
      "test4target = {\"Ca\": test_noCO2,\n",
      "               \"P\": test_noCO2_pca,\n",
      "               \"pH\": test_noCO2,\n",
      "               \"SOC\": test_noCO2,\n",
      "               \"Sand\": test_noCO2}\n",
      "\n",
      "cv_results = cross_validate_columns2(predictors, train4target, labels)\n",
      "\n",
      "print '\\n', cv_results, '\\n'\n",
      "fit_and_predict2(predictors, train4target,\n",
      "                 labels, test4target,\n",
      "                 outfile)"
     ],
     "language": "python",
     "metadata": {},
     "outputs": [
      {
       "output_type": "stream",
       "stream": "stdout",
       "text": [
        "\n",
        "Running CV for target Ca\n",
        "[LibSVM][LibSVM]"
       ]
      },
      {
       "output_type": "stream",
       "stream": "stdout",
       "text": [
        "[LibSVM]"
       ]
      },
      {
       "output_type": "stream",
       "stream": "stdout",
       "text": [
        "[LibSVM]"
       ]
      },
      {
       "output_type": "stream",
       "stream": "stdout",
       "text": [
        "[LibSVM]"
       ]
      },
      {
       "output_type": "stream",
       "stream": "stdout",
       "text": [
        "\n",
        "Running CV for target P"
       ]
      },
      {
       "output_type": "stream",
       "stream": "stdout",
       "text": [
        "\n",
        "[LibSVM][LibSVM]"
       ]
      },
      {
       "output_type": "stream",
       "stream": "stdout",
       "text": [
        "[LibSVM]"
       ]
      },
      {
       "output_type": "stream",
       "stream": "stdout",
       "text": [
        "[LibSVM]"
       ]
      },
      {
       "output_type": "stream",
       "stream": "stdout",
       "text": [
        "[LibSVM]"
       ]
      },
      {
       "output_type": "stream",
       "stream": "stdout",
       "text": [
        "\n",
        "Running CV for target pH"
       ]
      },
      {
       "output_type": "stream",
       "stream": "stdout",
       "text": [
        "\n",
        "[LibSVM][LibSVM]"
       ]
      },
      {
       "output_type": "stream",
       "stream": "stdout",
       "text": [
        "[LibSVM]"
       ]
      },
      {
       "output_type": "stream",
       "stream": "stdout",
       "text": [
        "[LibSVM]"
       ]
      },
      {
       "output_type": "stream",
       "stream": "stdout",
       "text": [
        "[LibSVM]"
       ]
      },
      {
       "output_type": "stream",
       "stream": "stdout",
       "text": [
        "\n",
        "Running CV for target SOC"
       ]
      },
      {
       "output_type": "stream",
       "stream": "stdout",
       "text": [
        "\n",
        "[LibSVM][LibSVM]"
       ]
      },
      {
       "output_type": "stream",
       "stream": "stdout",
       "text": [
        "[LibSVM]"
       ]
      },
      {
       "output_type": "stream",
       "stream": "stdout",
       "text": [
        "[LibSVM]"
       ]
      },
      {
       "output_type": "stream",
       "stream": "stdout",
       "text": [
        "[LibSVM]"
       ]
      },
      {
       "output_type": "stream",
       "stream": "stdout",
       "text": [
        "\n",
        "Running CV for target Sand"
       ]
      },
      {
       "output_type": "stream",
       "stream": "stdout",
       "text": [
        "\n",
        "[LibSVM][LibSVM]"
       ]
      },
      {
       "output_type": "stream",
       "stream": "stdout",
       "text": [
        "[LibSVM]"
       ]
      },
      {
       "output_type": "stream",
       "stream": "stdout",
       "text": [
        "[LibSVM]"
       ]
      },
      {
       "output_type": "stream",
       "stream": "stdout",
       "text": [
        "[LibSVM]"
       ]
      },
      {
       "output_type": "stream",
       "stream": "stdout",
       "text": [
        "\n"
       ]
      },
      {
       "output_type": "stream",
       "stream": "stdout",
       "text": [
        "               0         1         2         3         4      mean   std dev\n",
        "Ca      0.068003  0.207315  0.082047  0.093025  0.069269  0.103932  0.058691\n",
        "P       0.171157  1.471943  0.549425  1.339346  0.337559  0.773886  0.593943\n",
        "pH      0.102369  0.104621  0.097831  0.090736  0.126279  0.104367  0.013348\n",
        "SOC     0.064647  0.066281  0.127023  0.083886  0.086887  0.085745  0.025162\n",
        "Sand    0.071326  0.088085  0.107526  0.111029  0.102645  0.096122  0.016388\n",
        "MCRMSE  0.303153  0.509250  0.404953  0.477274  0.362939  0.411514  0.083698 \n",
        "\n",
        "[LibSVM][LibSVM]"
       ]
      },
      {
       "output_type": "stream",
       "stream": "stdout",
       "text": [
        "[LibSVM]"
       ]
      },
      {
       "output_type": "stream",
       "stream": "stdout",
       "text": [
        "[LibSVM]"
       ]
      },
      {
       "output_type": "stream",
       "stream": "stdout",
       "text": [
        "[LibSVM]"
       ]
      },
      {
       "output_type": "stream",
       "stream": "stderr",
       "text": [
        "/home/ubuntu/anaconda/lib/python2.7/site-packages/numpy/core/_methods.py:59: RuntimeWarning: Mean of empty slice.\n",
        "  warnings.warn(\"Mean of empty slice.\", RuntimeWarning)\n"
       ]
      }
     ],
     "prompt_number": 5
    },
    {
     "cell_type": "code",
     "collapsed": false,
     "input": [
      "n_pca_components = 2000 # LB 0.42247\n",
      "outfile = 'submissions/pca{}_Ponly_svr.csv'.format(n_pca_components)\n",
      "\n",
      "train, labels, test = load_data()\n",
      "\n",
      "train_noCO2 = train.drop(CO2_bands, axis=1, inplace=False)\n",
      "test_noCO2 = test.drop(CO2_bands, axis=1, inplace=False)\n",
      "\n",
      "pca = decomposition.PCA(n_components=n_pca_components, whiten=False)\n",
      "pca.fit(train_noCO2)\n",
      "train_noCO2_pca = pd.DataFrame(pca.transform(train_noCO2))\n",
      "test_noCO2_pca = pd.DataFrame(pca.transform(test_noCO2))\n",
      "\n",
      "sup_vec = svm.SVR(kernel='rbf', C=10000.0, verbose=2)\n",
      "\n",
      "predictors = {\"Ca\": sup_vec,\n",
      "              \"P\": sup_vec,\n",
      "              \"pH\": sup_vec,\n",
      "              \"SOC\": sup_vec,\n",
      "              \"Sand\": sup_vec}\n",
      "train4target = {\"Ca\": train_noCO2,\n",
      "                \"P\": train_noCO2_pca,\n",
      "                \"pH\": train_noCO2,\n",
      "                \"SOC\": train_noCO2,\n",
      "                \"Sand\": train_noCO2}\n",
      "test4target = {\"Ca\": test_noCO2,\n",
      "               \"P\": test_noCO2_pca,\n",
      "               \"pH\": test_noCO2,\n",
      "               \"SOC\": test_noCO2,\n",
      "               \"Sand\": test_noCO2}\n",
      "\n",
      "cv_results = cross_validate_columns2(predictors, train4target, labels)\n",
      "\n",
      "print '\\n', cv_results, '\\n'\n",
      "fit_and_predict2(predictors, train4target,\n",
      "                 labels, test4target,\n",
      "                 outfile)"
     ],
     "language": "python",
     "metadata": {},
     "outputs": [
      {
       "output_type": "stream",
       "stream": "stdout",
       "text": [
        "\n",
        "Running CV for target Ca\n",
        "[LibSVM][LibSVM]"
       ]
      },
      {
       "output_type": "stream",
       "stream": "stdout",
       "text": [
        "[LibSVM]"
       ]
      },
      {
       "output_type": "stream",
       "stream": "stdout",
       "text": [
        "[LibSVM]"
       ]
      },
      {
       "output_type": "stream",
       "stream": "stdout",
       "text": [
        "[LibSVM]"
       ]
      },
      {
       "output_type": "stream",
       "stream": "stdout",
       "text": [
        "\n",
        "Running CV for target P"
       ]
      },
      {
       "output_type": "stream",
       "stream": "stdout",
       "text": [
        "\n",
        "[LibSVM][LibSVM]"
       ]
      },
      {
       "output_type": "stream",
       "stream": "stdout",
       "text": [
        "[LibSVM]"
       ]
      },
      {
       "output_type": "stream",
       "stream": "stdout",
       "text": [
        "[LibSVM]"
       ]
      },
      {
       "output_type": "stream",
       "stream": "stdout",
       "text": [
        "[LibSVM]"
       ]
      },
      {
       "output_type": "stream",
       "stream": "stdout",
       "text": [
        "\n",
        "Running CV for target pH"
       ]
      },
      {
       "output_type": "stream",
       "stream": "stdout",
       "text": [
        "\n",
        "[LibSVM][LibSVM]"
       ]
      },
      {
       "output_type": "stream",
       "stream": "stdout",
       "text": [
        "[LibSVM]"
       ]
      },
      {
       "output_type": "stream",
       "stream": "stdout",
       "text": [
        "[LibSVM]"
       ]
      },
      {
       "output_type": "stream",
       "stream": "stdout",
       "text": [
        "[LibSVM]"
       ]
      },
      {
       "output_type": "stream",
       "stream": "stdout",
       "text": [
        "\n",
        "Running CV for target SOC"
       ]
      },
      {
       "output_type": "stream",
       "stream": "stdout",
       "text": [
        "\n",
        "[LibSVM][LibSVM]"
       ]
      },
      {
       "output_type": "stream",
       "stream": "stdout",
       "text": [
        "[LibSVM]"
       ]
      },
      {
       "output_type": "stream",
       "stream": "stdout",
       "text": [
        "[LibSVM]"
       ]
      },
      {
       "output_type": "stream",
       "stream": "stdout",
       "text": [
        "[LibSVM]"
       ]
      },
      {
       "output_type": "stream",
       "stream": "stdout",
       "text": [
        "\n",
        "Running CV for target Sand"
       ]
      },
      {
       "output_type": "stream",
       "stream": "stdout",
       "text": [
        "\n",
        "[LibSVM][LibSVM]"
       ]
      },
      {
       "output_type": "stream",
       "stream": "stdout",
       "text": [
        "[LibSVM]"
       ]
      },
      {
       "output_type": "stream",
       "stream": "stdout",
       "text": [
        "[LibSVM]"
       ]
      },
      {
       "output_type": "stream",
       "stream": "stdout",
       "text": [
        "[LibSVM]"
       ]
      },
      {
       "output_type": "stream",
       "stream": "stdout",
       "text": [
        "\n"
       ]
      },
      {
       "output_type": "stream",
       "stream": "stdout",
       "text": [
        "               0         1         2         3         4      mean   std dev\n",
        "Ca      0.178559  0.172601  0.055408  0.068643  0.064215  0.107885  0.062016\n",
        "P       0.615584  0.368639  0.782746  0.355574  1.593283  0.743165  0.507701\n",
        "pH      0.099219  0.130934  0.121972  0.073318  0.103052  0.105699  0.022356\n",
        "SOC     0.120226  0.091374  0.071510  0.082836  0.077969  0.088783  0.019014\n",
        "Sand    0.080492  0.130589  0.084280  0.080923  0.112696  0.097796  0.022717\n",
        "MCRMSE  0.430518  0.409622  0.405417  0.340270  0.490322  0.415230  0.053896 \n",
        "\n",
        "[LibSVM][LibSVM]"
       ]
      },
      {
       "output_type": "stream",
       "stream": "stdout",
       "text": [
        "[LibSVM]"
       ]
      },
      {
       "output_type": "stream",
       "stream": "stdout",
       "text": [
        "[LibSVM]"
       ]
      },
      {
       "output_type": "stream",
       "stream": "stdout",
       "text": [
        "[LibSVM]"
       ]
      }
     ],
     "prompt_number": 6
    },
    {
     "cell_type": "code",
     "collapsed": false,
     "input": [
      "n_pca_components = 1000 # LB\n",
      "outfile = 'submissions/pca{}_Ponly_svr.csv'.format(n_pca_components)\n",
      "\n",
      "train, labels, test = load_data()\n",
      "\n",
      "train_noCO2 = train.drop(CO2_bands, axis=1, inplace=False)\n",
      "test_noCO2 = test.drop(CO2_bands, axis=1, inplace=False)\n",
      "\n",
      "pca = decomposition.PCA(n_components=n_pca_components, whiten=False)\n",
      "pca.fit(train_noCO2)\n",
      "train_noCO2_pca = pd.DataFrame(pca.transform(train_noCO2))\n",
      "test_noCO2_pca = pd.DataFrame(pca.transform(test_noCO2))\n",
      "\n",
      "sup_vec = svm.SVR(kernel='rbf', C=10000.0, verbose=2)\n",
      "\n",
      "predictors = {\"Ca\": sup_vec,\n",
      "              \"P\": sup_vec,\n",
      "              \"pH\": sup_vec,\n",
      "              \"SOC\": sup_vec,\n",
      "              \"Sand\": sup_vec}\n",
      "train4target = {\"Ca\": train_noCO2,\n",
      "                \"P\": train_noCO2_pca,\n",
      "                \"pH\": train_noCO2,\n",
      "                \"SOC\": train_noCO2,\n",
      "                \"Sand\": train_noCO2}\n",
      "test4target = {\"Ca\": test_noCO2,\n",
      "               \"P\": test_noCO2_pca,\n",
      "               \"pH\": test_noCO2,\n",
      "               \"SOC\": test_noCO2,\n",
      "               \"Sand\": test_noCO2}\n",
      "\n",
      "cv_results = cross_validate_columns2(predictors, train4target, labels)\n",
      "\n",
      "print '\\n', cv_results, '\\n'\n",
      "fit_and_predict2(predictors, train4target,\n",
      "                 labels, test4target,\n",
      "                 outfile)"
     ],
     "language": "python",
     "metadata": {},
     "outputs": [
      {
       "output_type": "stream",
       "stream": "stdout",
       "text": [
        "\n",
        "Running CV for target Ca\n",
        "[LibSVM][LibSVM]"
       ]
      },
      {
       "output_type": "stream",
       "stream": "stdout",
       "text": [
        "[LibSVM]"
       ]
      },
      {
       "output_type": "stream",
       "stream": "stdout",
       "text": [
        "[LibSVM]"
       ]
      },
      {
       "output_type": "stream",
       "stream": "stdout",
       "text": [
        "[LibSVM]"
       ]
      },
      {
       "output_type": "stream",
       "stream": "stdout",
       "text": [
        "\n",
        "Running CV for target P"
       ]
      },
      {
       "output_type": "stream",
       "stream": "stdout",
       "text": [
        "\n",
        "[LibSVM][LibSVM]"
       ]
      },
      {
       "output_type": "stream",
       "stream": "stdout",
       "text": [
        "[LibSVM]"
       ]
      },
      {
       "output_type": "stream",
       "stream": "stdout",
       "text": [
        "[LibSVM]"
       ]
      },
      {
       "output_type": "stream",
       "stream": "stdout",
       "text": [
        "[LibSVM]"
       ]
      },
      {
       "output_type": "stream",
       "stream": "stdout",
       "text": [
        "\n",
        "Running CV for target pH"
       ]
      },
      {
       "output_type": "stream",
       "stream": "stdout",
       "text": [
        "\n",
        "[LibSVM][LibSVM]"
       ]
      },
      {
       "output_type": "stream",
       "stream": "stdout",
       "text": [
        "[LibSVM]"
       ]
      },
      {
       "output_type": "stream",
       "stream": "stdout",
       "text": [
        "[LibSVM]"
       ]
      },
      {
       "output_type": "stream",
       "stream": "stdout",
       "text": [
        "[LibSVM]"
       ]
      },
      {
       "output_type": "stream",
       "stream": "stdout",
       "text": [
        "\n",
        "Running CV for target SOC"
       ]
      },
      {
       "output_type": "stream",
       "stream": "stdout",
       "text": [
        "\n",
        "[LibSVM][LibSVM]"
       ]
      },
      {
       "output_type": "stream",
       "stream": "stdout",
       "text": [
        "[LibSVM]"
       ]
      },
      {
       "output_type": "stream",
       "stream": "stdout",
       "text": [
        "[LibSVM]"
       ]
      },
      {
       "output_type": "stream",
       "stream": "stdout",
       "text": [
        "[LibSVM]"
       ]
      },
      {
       "output_type": "stream",
       "stream": "stdout",
       "text": [
        "\n",
        "Running CV for target Sand"
       ]
      },
      {
       "output_type": "stream",
       "stream": "stdout",
       "text": [
        "\n",
        "[LibSVM][LibSVM]"
       ]
      },
      {
       "output_type": "stream",
       "stream": "stdout",
       "text": [
        "[LibSVM]"
       ]
      },
      {
       "output_type": "stream",
       "stream": "stdout",
       "text": [
        "[LibSVM]"
       ]
      },
      {
       "output_type": "stream",
       "stream": "stdout",
       "text": [
        "[LibSVM]"
       ]
      },
      {
       "output_type": "stream",
       "stream": "stdout",
       "text": [
        "\n"
       ]
      },
      {
       "output_type": "stream",
       "stream": "stdout",
       "text": [
        "               0         1         2         3         4      mean   std dev\n",
        "Ca      0.073169  0.025322  0.220602  0.081915  0.145417  0.109285  0.075499\n",
        "P       0.753410  0.226853  1.371865  0.596572  0.722901  0.734320  0.413357\n",
        "pH      0.108774  0.086031  0.111553  0.120701  0.105107  0.106433  0.012780\n",
        "SOC     0.060835  0.065296  0.148843  0.151616  0.091865  0.103691  0.044120\n",
        "Sand    0.086765  0.110467  0.121280  0.084324  0.103756  0.101318  0.015722\n",
        "MCRMSE  0.401901  0.303325  0.541800  0.417155  0.436196  0.420075  0.085215 \n",
        "\n",
        "[LibSVM][LibSVM]"
       ]
      },
      {
       "output_type": "stream",
       "stream": "stdout",
       "text": [
        "[LibSVM]"
       ]
      },
      {
       "output_type": "stream",
       "stream": "stdout",
       "text": [
        "[LibSVM]"
       ]
      },
      {
       "output_type": "stream",
       "stream": "stdout",
       "text": [
        "[LibSVM]"
       ]
      }
     ],
     "prompt_number": 8
    },
    {
     "cell_type": "code",
     "collapsed": false,
     "input": [
      "n_pca_components = 1100 # LB\n",
      "outfile = 'submissions/pca{}_Ponly_svr.csv'.format(n_pca_components)\n",
      "\n",
      "train, labels, test = load_data()\n",
      "\n",
      "train_noCO2 = train.drop(CO2_bands, axis=1, inplace=False)\n",
      "test_noCO2 = test.drop(CO2_bands, axis=1, inplace=False)\n",
      "\n",
      "pca = decomposition.PCA(n_components=n_pca_components, whiten=False)\n",
      "pca.fit(train_noCO2)\n",
      "train_noCO2_pca = pd.DataFrame(pca.transform(train_noCO2))\n",
      "test_noCO2_pca = pd.DataFrame(pca.transform(test_noCO2))\n",
      "\n",
      "sup_vec = svm.SVR(kernel='rbf', C=10000.0, verbose=2)\n",
      "\n",
      "predictors = {\"Ca\": sup_vec,\n",
      "              \"P\": sup_vec,\n",
      "              \"pH\": sup_vec,\n",
      "              \"SOC\": sup_vec,\n",
      "              \"Sand\": sup_vec}\n",
      "train4target = {\"Ca\": train_noCO2,\n",
      "                \"P\": train_noCO2_pca,\n",
      "                \"pH\": train_noCO2,\n",
      "                \"SOC\": train_noCO2,\n",
      "                \"Sand\": train_noCO2}\n",
      "test4target = {\"Ca\": test_noCO2,\n",
      "               \"P\": test_noCO2_pca,\n",
      "               \"pH\": test_noCO2,\n",
      "               \"SOC\": test_noCO2,\n",
      "               \"Sand\": test_noCO2}\n",
      "\n",
      "cv_results = cross_validate_columns2(predictors, train4target, labels)\n",
      "\n",
      "print '\\n', cv_results, '\\n'\n",
      "fit_and_predict2(predictors, train4target,\n",
      "                 labels, test4target,\n",
      "                 outfile)"
     ],
     "language": "python",
     "metadata": {},
     "outputs": [
      {
       "output_type": "stream",
       "stream": "stdout",
       "text": [
        "\n",
        "Running CV for target Ca\n",
        "[LibSVM][LibSVM]"
       ]
      },
      {
       "output_type": "stream",
       "stream": "stdout",
       "text": [
        "[LibSVM]"
       ]
      },
      {
       "output_type": "stream",
       "stream": "stdout",
       "text": [
        "[LibSVM]"
       ]
      },
      {
       "output_type": "stream",
       "stream": "stdout",
       "text": [
        "[LibSVM]"
       ]
      },
      {
       "output_type": "stream",
       "stream": "stdout",
       "text": [
        "\n",
        "Running CV for target P"
       ]
      },
      {
       "output_type": "stream",
       "stream": "stdout",
       "text": [
        "\n",
        "[LibSVM][LibSVM]"
       ]
      },
      {
       "output_type": "stream",
       "stream": "stdout",
       "text": [
        "[LibSVM]"
       ]
      },
      {
       "output_type": "stream",
       "stream": "stdout",
       "text": [
        "[LibSVM]"
       ]
      },
      {
       "output_type": "stream",
       "stream": "stdout",
       "text": [
        "[LibSVM]"
       ]
      },
      {
       "output_type": "stream",
       "stream": "stdout",
       "text": [
        "\n",
        "Running CV for target pH"
       ]
      },
      {
       "output_type": "stream",
       "stream": "stdout",
       "text": [
        "\n",
        "[LibSVM][LibSVM]"
       ]
      },
      {
       "output_type": "stream",
       "stream": "stdout",
       "text": [
        "[LibSVM]"
       ]
      },
      {
       "output_type": "stream",
       "stream": "stdout",
       "text": [
        "[LibSVM]"
       ]
      },
      {
       "output_type": "stream",
       "stream": "stdout",
       "text": [
        "[LibSVM]"
       ]
      },
      {
       "output_type": "stream",
       "stream": "stdout",
       "text": [
        "\n",
        "Running CV for target SOC"
       ]
      },
      {
       "output_type": "stream",
       "stream": "stdout",
       "text": [
        "\n",
        "[LibSVM][LibSVM]"
       ]
      },
      {
       "output_type": "stream",
       "stream": "stdout",
       "text": [
        "[LibSVM]"
       ]
      },
      {
       "output_type": "stream",
       "stream": "stdout",
       "text": [
        "[LibSVM]"
       ]
      },
      {
       "output_type": "stream",
       "stream": "stdout",
       "text": [
        "[LibSVM]"
       ]
      },
      {
       "output_type": "stream",
       "stream": "stdout",
       "text": [
        "\n",
        "Running CV for target Sand"
       ]
      },
      {
       "output_type": "stream",
       "stream": "stdout",
       "text": [
        "\n",
        "[LibSVM][LibSVM]"
       ]
      },
      {
       "output_type": "stream",
       "stream": "stdout",
       "text": [
        "[LibSVM]"
       ]
      },
      {
       "output_type": "stream",
       "stream": "stdout",
       "text": [
        "[LibSVM]"
       ]
      },
      {
       "output_type": "stream",
       "stream": "stdout",
       "text": [
        "[LibSVM]"
       ]
      },
      {
       "output_type": "stream",
       "stream": "stdout",
       "text": [
        "\n"
       ]
      },
      {
       "output_type": "stream",
       "stream": "stdout",
       "text": [
        "               0         1         2         3         4      mean   std dev\n",
        "Ca      0.221252  0.059864  0.089859  0.039532  0.256145  0.133331  0.098614\n",
        "P       0.669899  1.266104  0.425994  0.985943  0.468630  0.763314  0.357670\n",
        "pH      0.119286  0.090767  0.120154  0.096485  0.126836  0.110705  0.015991\n",
        "SOC     0.121216  0.055149  0.113780  0.063403  0.123058  0.095321  0.033216\n",
        "Sand    0.137825  0.089065  0.096359  0.074401  0.087791  0.097088  0.024112\n",
        "MCRMSE  0.470727  0.440887  0.389362  0.405392  0.438781  0.429030  0.032041 \n",
        "\n",
        "[LibSVM][LibSVM]"
       ]
      },
      {
       "output_type": "stream",
       "stream": "stdout",
       "text": [
        "[LibSVM]"
       ]
      },
      {
       "output_type": "stream",
       "stream": "stdout",
       "text": [
        "[LibSVM]"
       ]
      },
      {
       "output_type": "stream",
       "stream": "stdout",
       "text": [
        "[LibSVM]"
       ]
      }
     ],
     "prompt_number": 9
    },
    {
     "cell_type": "code",
     "collapsed": false,
     "input": [
      "n_pca_components = 1050 # LB\n",
      "outfile = 'submissions/pca{}_Ponly_svr.csv'.format(n_pca_components)\n",
      "\n",
      "train, labels, test = load_data()\n",
      "\n",
      "train_noCO2 = train.drop(CO2_bands, axis=1, inplace=False)\n",
      "test_noCO2 = test.drop(CO2_bands, axis=1, inplace=False)\n",
      "\n",
      "pca = decomposition.PCA(n_components=n_pca_components, whiten=False)\n",
      "pca.fit(train_noCO2)\n",
      "train_noCO2_pca = pd.DataFrame(pca.transform(train_noCO2))\n",
      "test_noCO2_pca = pd.DataFrame(pca.transform(test_noCO2))\n",
      "\n",
      "sup_vec = svm.SVR(kernel='rbf', C=10000.0, verbose=2)\n",
      "\n",
      "predictors = {\"Ca\": sup_vec,\n",
      "              \"P\": sup_vec,\n",
      "              \"pH\": sup_vec,\n",
      "              \"SOC\": sup_vec,\n",
      "              \"Sand\": sup_vec}\n",
      "train4target = {\"Ca\": train_noCO2,\n",
      "                \"P\": train_noCO2_pca,\n",
      "                \"pH\": train_noCO2,\n",
      "                \"SOC\": train_noCO2,\n",
      "                \"Sand\": train_noCO2}\n",
      "test4target = {\"Ca\": test_noCO2,\n",
      "               \"P\": test_noCO2_pca,\n",
      "               \"pH\": test_noCO2,\n",
      "               \"SOC\": test_noCO2,\n",
      "               \"Sand\": test_noCO2}\n",
      "\n",
      "cv_results = cross_validate_columns2(predictors, train4target, labels)\n",
      "\n",
      "print '\\n', cv_results, '\\n'\n",
      "fit_and_predict2(predictors, train4target,\n",
      "                 labels, test4target,\n",
      "                 outfile)"
     ],
     "language": "python",
     "metadata": {},
     "outputs": [
      {
       "output_type": "stream",
       "stream": "stdout",
       "text": [
        "\n",
        "Running CV for target Ca\n",
        "[LibSVM][LibSVM]"
       ]
      },
      {
       "output_type": "stream",
       "stream": "stdout",
       "text": [
        "[LibSVM]"
       ]
      },
      {
       "output_type": "stream",
       "stream": "stdout",
       "text": [
        "[LibSVM]"
       ]
      },
      {
       "output_type": "stream",
       "stream": "stdout",
       "text": [
        "[LibSVM]"
       ]
      },
      {
       "output_type": "stream",
       "stream": "stdout",
       "text": [
        "\n",
        "Running CV for target P"
       ]
      },
      {
       "output_type": "stream",
       "stream": "stdout",
       "text": [
        "\n",
        "[LibSVM][LibSVM]"
       ]
      },
      {
       "output_type": "stream",
       "stream": "stdout",
       "text": [
        "[LibSVM]"
       ]
      },
      {
       "output_type": "stream",
       "stream": "stdout",
       "text": [
        "[LibSVM]"
       ]
      },
      {
       "output_type": "stream",
       "stream": "stdout",
       "text": [
        "[LibSVM]"
       ]
      },
      {
       "output_type": "stream",
       "stream": "stdout",
       "text": [
        "\n",
        "Running CV for target pH"
       ]
      },
      {
       "output_type": "stream",
       "stream": "stdout",
       "text": [
        "\n",
        "[LibSVM][LibSVM]"
       ]
      },
      {
       "output_type": "stream",
       "stream": "stdout",
       "text": [
        "[LibSVM]"
       ]
      },
      {
       "output_type": "stream",
       "stream": "stdout",
       "text": [
        "[LibSVM]"
       ]
      },
      {
       "output_type": "stream",
       "stream": "stdout",
       "text": [
        "[LibSVM]"
       ]
      },
      {
       "output_type": "stream",
       "stream": "stdout",
       "text": [
        "\n",
        "Running CV for target SOC"
       ]
      },
      {
       "output_type": "stream",
       "stream": "stdout",
       "text": [
        "\n",
        "[LibSVM][LibSVM]"
       ]
      },
      {
       "output_type": "stream",
       "stream": "stdout",
       "text": [
        "[LibSVM]"
       ]
      },
      {
       "output_type": "stream",
       "stream": "stdout",
       "text": [
        "[LibSVM]"
       ]
      },
      {
       "output_type": "stream",
       "stream": "stdout",
       "text": [
        "[LibSVM]"
       ]
      },
      {
       "output_type": "stream",
       "stream": "stdout",
       "text": [
        "\n",
        "Running CV for target Sand"
       ]
      },
      {
       "output_type": "stream",
       "stream": "stdout",
       "text": [
        "\n",
        "[LibSVM][LibSVM]"
       ]
      },
      {
       "output_type": "stream",
       "stream": "stdout",
       "text": [
        "[LibSVM]"
       ]
      },
      {
       "output_type": "stream",
       "stream": "stdout",
       "text": [
        "[LibSVM]"
       ]
      },
      {
       "output_type": "stream",
       "stream": "stdout",
       "text": [
        "[LibSVM]"
       ]
      },
      {
       "output_type": "stream",
       "stream": "stdout",
       "text": [
        "\n"
       ]
      },
      {
       "output_type": "stream",
       "stream": "stdout",
       "text": [
        "               0         1         2         3         4      mean   std dev\n",
        "Ca      0.070760  0.071456  0.091212  0.290912  0.123235  0.129515  0.092707\n",
        "P       0.334791  0.723730  0.558290  1.244772  1.371925  0.846702  0.445723\n",
        "pH      0.104830  0.092258  0.087402  0.134961  0.113259  0.106542  0.018882\n",
        "SOC     0.077333  0.075400  0.079979  0.061050  0.153814  0.089515  0.036685\n",
        "Sand    0.103024  0.079846  0.057668  0.155926  0.085044  0.096302  0.037048\n",
        "MCRMSE  0.353491  0.395787  0.373557  0.532877  0.508539  0.432850  0.082039 \n",
        "\n",
        "[LibSVM][LibSVM]"
       ]
      },
      {
       "output_type": "stream",
       "stream": "stdout",
       "text": [
        "[LibSVM]"
       ]
      },
      {
       "output_type": "stream",
       "stream": "stdout",
       "text": [
        "[LibSVM]"
       ]
      },
      {
       "output_type": "stream",
       "stream": "stdout",
       "text": [
        "[LibSVM]"
       ]
      }
     ],
     "prompt_number": 10
    },
    {
     "cell_type": "code",
     "collapsed": false,
     "input": [
      "n_pca_components = 1025 # LB\n",
      "outfile = 'submissions/pca{}_Ponly_svr.csv'.format(n_pca_components)\n",
      "\n",
      "train, labels, test = load_data()\n",
      "\n",
      "train_noCO2 = train.drop(CO2_bands, axis=1, inplace=False)\n",
      "test_noCO2 = test.drop(CO2_bands, axis=1, inplace=False)\n",
      "\n",
      "pca = decomposition.PCA(n_components=n_pca_components, whiten=False)\n",
      "pca.fit(train_noCO2)\n",
      "train_noCO2_pca = pd.DataFrame(pca.transform(train_noCO2))\n",
      "test_noCO2_pca = pd.DataFrame(pca.transform(test_noCO2))\n",
      "\n",
      "sup_vec = svm.SVR(kernel='rbf', C=10000.0, verbose=2)\n",
      "\n",
      "predictors = {\"Ca\": sup_vec,\n",
      "              \"P\": sup_vec,\n",
      "              \"pH\": sup_vec,\n",
      "              \"SOC\": sup_vec,\n",
      "              \"Sand\": sup_vec}\n",
      "train4target = {\"Ca\": train_noCO2,\n",
      "                \"P\": train_noCO2_pca,\n",
      "                \"pH\": train_noCO2,\n",
      "                \"SOC\": train_noCO2,\n",
      "                \"Sand\": train_noCO2}\n",
      "test4target = {\"Ca\": test_noCO2,\n",
      "               \"P\": test_noCO2_pca,\n",
      "               \"pH\": test_noCO2,\n",
      "               \"SOC\": test_noCO2,\n",
      "               \"Sand\": test_noCO2}\n",
      "\n",
      "cv_results = cross_validate_columns2(predictors, train4target, labels)\n",
      "\n",
      "print '\\n', cv_results, '\\n'\n",
      "fit_and_predict2(predictors, train4target,\n",
      "                 labels, test4target,\n",
      "                 outfile)"
     ],
     "language": "python",
     "metadata": {},
     "outputs": [
      {
       "output_type": "stream",
       "stream": "stdout",
       "text": [
        "\n",
        "Running CV for target Ca\n",
        "[LibSVM][LibSVM]"
       ]
      },
      {
       "output_type": "stream",
       "stream": "stdout",
       "text": [
        "[LibSVM]"
       ]
      },
      {
       "output_type": "stream",
       "stream": "stdout",
       "text": [
        "[LibSVM]"
       ]
      },
      {
       "output_type": "stream",
       "stream": "stdout",
       "text": [
        "[LibSVM]"
       ]
      },
      {
       "output_type": "stream",
       "stream": "stdout",
       "text": [
        "\n",
        "Running CV for target P"
       ]
      },
      {
       "output_type": "stream",
       "stream": "stdout",
       "text": [
        "\n",
        "[LibSVM][LibSVM]"
       ]
      },
      {
       "output_type": "stream",
       "stream": "stdout",
       "text": [
        "[LibSVM]"
       ]
      },
      {
       "output_type": "stream",
       "stream": "stdout",
       "text": [
        "[LibSVM]"
       ]
      },
      {
       "output_type": "stream",
       "stream": "stdout",
       "text": [
        "[LibSVM]"
       ]
      },
      {
       "output_type": "stream",
       "stream": "stdout",
       "text": [
        "\n",
        "Running CV for target pH"
       ]
      },
      {
       "output_type": "stream",
       "stream": "stdout",
       "text": [
        "\n",
        "[LibSVM][LibSVM]"
       ]
      },
      {
       "output_type": "stream",
       "stream": "stdout",
       "text": [
        "[LibSVM]"
       ]
      },
      {
       "output_type": "stream",
       "stream": "stdout",
       "text": [
        "[LibSVM]"
       ]
      },
      {
       "output_type": "stream",
       "stream": "stdout",
       "text": [
        "[LibSVM]"
       ]
      },
      {
       "output_type": "stream",
       "stream": "stdout",
       "text": [
        "\n",
        "Running CV for target SOC"
       ]
      },
      {
       "output_type": "stream",
       "stream": "stdout",
       "text": [
        "\n",
        "[LibSVM][LibSVM]"
       ]
      },
      {
       "output_type": "stream",
       "stream": "stdout",
       "text": [
        "[LibSVM]"
       ]
      },
      {
       "output_type": "stream",
       "stream": "stdout",
       "text": [
        "[LibSVM]"
       ]
      },
      {
       "output_type": "stream",
       "stream": "stdout",
       "text": [
        "[LibSVM]"
       ]
      },
      {
       "output_type": "stream",
       "stream": "stdout",
       "text": [
        "\n",
        "Running CV for target Sand"
       ]
      },
      {
       "output_type": "stream",
       "stream": "stdout",
       "text": [
        "\n",
        "[LibSVM][LibSVM]"
       ]
      },
      {
       "output_type": "stream",
       "stream": "stdout",
       "text": [
        "[LibSVM]"
       ]
      },
      {
       "output_type": "stream",
       "stream": "stdout",
       "text": [
        "[LibSVM]"
       ]
      },
      {
       "output_type": "stream",
       "stream": "stdout",
       "text": [
        "[LibSVM]"
       ]
      },
      {
       "output_type": "stream",
       "stream": "stdout",
       "text": [
        "\n"
       ]
      },
      {
       "output_type": "stream",
       "stream": "stdout",
       "text": [
        "               0         1         2         3         4      mean   std dev\n",
        "Ca      0.071763  0.055815  0.333335  0.058662  0.334386  0.170792  0.148982\n",
        "P       0.441111  0.209768  1.327460  0.722353  1.274017  0.794942  0.496483\n",
        "pH      0.175353  0.113211  0.104447  0.082846  0.128902  0.120952  0.034667\n",
        "SOC     0.090238  0.155531  0.106106  0.062157  0.075484  0.097904  0.036151\n",
        "Sand    0.099596  0.068000  0.167757  0.107839  0.070687  0.102776  0.040303\n",
        "MCRMSE  0.393357  0.337173  0.557602  0.391529  0.521325  0.440197  0.094263 \n",
        "\n",
        "[LibSVM][LibSVM]"
       ]
      },
      {
       "output_type": "stream",
       "stream": "stdout",
       "text": [
        "[LibSVM]"
       ]
      },
      {
       "output_type": "stream",
       "stream": "stdout",
       "text": [
        "[LibSVM]"
       ]
      },
      {
       "output_type": "stream",
       "stream": "stdout",
       "text": [
        "[LibSVM]"
       ]
      }
     ],
     "prompt_number": 11
    },
    {
     "cell_type": "code",
     "collapsed": false,
     "input": [
      "n_pca_components = 1150 # LB\n",
      "outfile = 'submissions/pca{}_Ponly_svr.csv'.format(n_pca_components)\n",
      "\n",
      "train, labels, test = load_data()\n",
      "\n",
      "train_noCO2 = train.drop(CO2_bands, axis=1, inplace=False)\n",
      "test_noCO2 = test.drop(CO2_bands, axis=1, inplace=False)\n",
      "\n",
      "pca = decomposition.PCA(n_components=n_pca_components, whiten=False)\n",
      "pca.fit(train_noCO2)\n",
      "train_noCO2_pca = pd.DataFrame(pca.transform(train_noCO2))\n",
      "test_noCO2_pca = pd.DataFrame(pca.transform(test_noCO2))\n",
      "\n",
      "sup_vec = svm.SVR(kernel='rbf', C=10000.0, verbose=2)\n",
      "\n",
      "predictors = {\"Ca\": sup_vec,\n",
      "              \"P\": sup_vec,\n",
      "              \"pH\": sup_vec,\n",
      "              \"SOC\": sup_vec,\n",
      "              \"Sand\": sup_vec}\n",
      "train4target = {\"Ca\": train_noCO2,\n",
      "                \"P\": train_noCO2_pca,\n",
      "                \"pH\": train_noCO2,\n",
      "                \"SOC\": train_noCO2,\n",
      "                \"Sand\": train_noCO2}\n",
      "test4target = {\"Ca\": test_noCO2,\n",
      "               \"P\": test_noCO2_pca,\n",
      "               \"pH\": test_noCO2,\n",
      "               \"SOC\": test_noCO2,\n",
      "               \"Sand\": test_noCO2}\n",
      "\n",
      "cv_results = cross_validate_columns2(predictors, train4target, labels)\n",
      "\n",
      "print '\\n', cv_results, '\\n'\n",
      "fit_and_predict2(predictors, train4target,\n",
      "                 labels, test4target,\n",
      "                 outfile)"
     ],
     "language": "python",
     "metadata": {},
     "outputs": [
      {
       "output_type": "stream",
       "stream": "stdout",
       "text": [
        "\n",
        "Running CV for target Ca\n",
        "[LibSVM][LibSVM]"
       ]
      },
      {
       "output_type": "stream",
       "stream": "stdout",
       "text": [
        "[LibSVM]"
       ]
      },
      {
       "output_type": "stream",
       "stream": "stdout",
       "text": [
        "[LibSVM]"
       ]
      },
      {
       "output_type": "stream",
       "stream": "stdout",
       "text": [
        "[LibSVM]"
       ]
      },
      {
       "output_type": "stream",
       "stream": "stdout",
       "text": [
        "\n",
        "Running CV for target P"
       ]
      },
      {
       "output_type": "stream",
       "stream": "stdout",
       "text": [
        "\n",
        "[LibSVM][LibSVM]"
       ]
      },
      {
       "output_type": "stream",
       "stream": "stdout",
       "text": [
        "[LibSVM]"
       ]
      },
      {
       "output_type": "stream",
       "stream": "stdout",
       "text": [
        "[LibSVM]"
       ]
      },
      {
       "output_type": "stream",
       "stream": "stdout",
       "text": [
        "[LibSVM]"
       ]
      },
      {
       "output_type": "stream",
       "stream": "stdout",
       "text": [
        "\n",
        "Running CV for target pH"
       ]
      },
      {
       "output_type": "stream",
       "stream": "stdout",
       "text": [
        "\n",
        "[LibSVM][LibSVM]"
       ]
      },
      {
       "output_type": "stream",
       "stream": "stdout",
       "text": [
        "[LibSVM]"
       ]
      },
      {
       "output_type": "stream",
       "stream": "stdout",
       "text": [
        "[LibSVM]"
       ]
      },
      {
       "output_type": "stream",
       "stream": "stdout",
       "text": [
        "[LibSVM]"
       ]
      },
      {
       "output_type": "stream",
       "stream": "stdout",
       "text": [
        "\n",
        "Running CV for target SOC"
       ]
      },
      {
       "output_type": "stream",
       "stream": "stdout",
       "text": [
        "\n",
        "[LibSVM][LibSVM]"
       ]
      },
      {
       "output_type": "stream",
       "stream": "stdout",
       "text": [
        "[LibSVM]"
       ]
      },
      {
       "output_type": "stream",
       "stream": "stdout",
       "text": [
        "[LibSVM]"
       ]
      },
      {
       "output_type": "stream",
       "stream": "stdout",
       "text": [
        "[LibSVM]"
       ]
      },
      {
       "output_type": "stream",
       "stream": "stdout",
       "text": [
        "\n",
        "Running CV for target Sand"
       ]
      },
      {
       "output_type": "stream",
       "stream": "stdout",
       "text": [
        "\n",
        "[LibSVM][LibSVM]"
       ]
      },
      {
       "output_type": "stream",
       "stream": "stdout",
       "text": [
        "[LibSVM]"
       ]
      },
      {
       "output_type": "stream",
       "stream": "stdout",
       "text": [
        "[LibSVM]"
       ]
      },
      {
       "output_type": "stream",
       "stream": "stdout",
       "text": [
        "[LibSVM]"
       ]
      },
      {
       "output_type": "stream",
       "stream": "stdout",
       "text": [
        "\n"
       ]
      },
      {
       "output_type": "stream",
       "stream": "stdout",
       "text": [
        "               0         1         2         3         4      mean   std dev\n",
        "Ca      0.223287  0.056352  0.112929  0.089960  0.121027  0.120711  0.062590\n",
        "P       0.947075  1.159027  0.211084  1.053295  0.533853  0.780867  0.397025\n",
        "pH      0.091836  0.095337  0.094194  0.103012  0.134587  0.103793  0.017717\n",
        "SOC     0.059270  0.088723  0.106701  0.090327  0.086970  0.086398  0.017098\n",
        "Sand    0.073549  0.081148  0.112219  0.116515  0.078381  0.092362  0.020327\n",
        "MCRMSE  0.452682  0.441092  0.352808  0.457815  0.404055  0.421690  0.043868 \n",
        "\n",
        "[LibSVM][LibSVM]"
       ]
      },
      {
       "output_type": "stream",
       "stream": "stdout",
       "text": [
        "[LibSVM]"
       ]
      },
      {
       "output_type": "stream",
       "stream": "stdout",
       "text": [
        "[LibSVM]"
       ]
      },
      {
       "output_type": "stream",
       "stream": "stdout",
       "text": [
        "[LibSVM]"
       ]
      }
     ],
     "prompt_number": 12
    },
    {
     "cell_type": "markdown",
     "metadata": {},
     "source": [
      "# Probably waste of time, but try averaging 2 submissions\n",
      "- include_spatial_depth_noCO2.csv\t0.41176\n",
      "- pca1150_Ponly_svr.csv\t0.42227"
     ]
    },
    {
     "cell_type": "markdown",
     "metadata": {},
     "source": [
      "### Average all fields (LB 0.41325)"
     ]
    },
    {
     "cell_type": "code",
     "collapsed": false,
     "input": [
      "avgfile1 = 'submissions/include_spatial_depth_noCO2.csv'\n",
      "avgfile2 = 'submissions/pca1150_Ponly_svr.csv'\n",
      "outfile = 'submissions/avg1.csv'\n",
      "avgdf1 = pd.read_csv(avgfile1)\n",
      "avgdf2 = pd.read_csv(avgfile2)\n",
      "avgdfresult = avgdf1.copy(deep=True)\n",
      "avgdfresult[target_colnames] = ((avgdf1[target_colnames] + avgdf2[target_colnames])/2)\n",
      "avgdfresult.to_csv(outfile, index=False)"
     ],
     "language": "python",
     "metadata": {},
     "outputs": [],
     "prompt_number": 17
    },
    {
     "cell_type": "markdown",
     "metadata": {},
     "source": [
      "### SVR with Ridge regression, just on P (LB 0.43106)"
     ]
    },
    {
     "cell_type": "code",
     "collapsed": false,
     "input": [
      "avgfile1 = 'submissions/include_spatial_depth_noCO2.csv'\n",
      "avgfile2 = 'submissions/ridge_noCO2.csv'\n",
      "outfile = 'submissions/avg2.csv'\n",
      "avgdf1 = pd.read_csv(avgfile1)\n",
      "avgdf2 = pd.read_csv(avgfile2)\n",
      "avgdfresult = avgdf1.copy(deep=True)\n",
      "avgdfresult['P'] = ((avgdf1['P'] + avgdf2['P'])/2)\n",
      "avgdfresult.to_csv(outfile, index=False)"
     ],
     "language": "python",
     "metadata": {},
     "outputs": [],
     "prompt_number": 21
    },
    {
     "cell_type": "markdown",
     "metadata": {},
     "source": [
      "### SVR, Ridge Regression, and PCA for P (LB 0.42403)"
     ]
    },
    {
     "cell_type": "code",
     "collapsed": false,
     "input": [
      "avgfile1 = 'submissions/include_spatial_depth_noCO2.csv'\n",
      "avgfile2 = 'submissions/ridge_noCO2.csv'\n",
      "avgfile3 = 'submissions/pca1150_Ponly_svr.csv'\n",
      "outfile = 'submissions/avg3.csv'\n",
      "avgdf1 = pd.read_csv(avgfile1)\n",
      "avgdf2 = pd.read_csv(avgfile2)\n",
      "avgdf3 = pd.read_csv(avgfile3)\n",
      "avgdfresult = avgdf1.copy(deep=True)\n",
      "avgdfresult['P'] = ((avgdf1['P'] + avgdf2['P'] + avgdf3['P'])/3)\n",
      "avgdfresult.to_csv(outfile, index=False)"
     ],
     "language": "python",
     "metadata": {},
     "outputs": [],
     "prompt_number": 23
    },
    {
     "cell_type": "markdown",
     "metadata": {},
     "source": [
      "# RBM"
     ]
    },
    {
     "cell_type": "code",
     "collapsed": false,
     "input": [
      "from sklearn.neural_network import BernoulliRBM\n",
      "from sklearn.pipeline import Pipeline"
     ],
     "language": "python",
     "metadata": {},
     "outputs": [],
     "prompt_number": 4
    },
    {
     "cell_type": "code",
     "collapsed": false,
     "input": [
      "outfile = 'submissions/rbm1000_svr.csv'\n",
      "\n",
      "train, labels, test = load_data()\n",
      "\n",
      "train_noCO2 = train.drop(CO2_bands, axis=1, inplace=False)\n",
      "test_noCO2 = test.drop(CO2_bands, axis=1, inplace=False)\n",
      "\n",
      "rbm = BernoulliRBM(n_components=1000, random_state=1001)\n",
      "svr = svm.SVR(kernel='rbf', C=10000.0, verbose=2)\n",
      "clf = Pipeline(steps=[('rbm', rbm), ('svr', svr)])\n",
      "\n",
      "predictors = {\"Ca\": clf,\n",
      "              \"P\": clf,\n",
      "              \"pH\": clf,\n",
      "              \"SOC\": clf,\n",
      "              \"Sand\": clf}\n",
      "train4target = {\"Ca\": train_noCO2,\n",
      "                \"P\": train_noCO2,\n",
      "                \"pH\": train_noCO2,\n",
      "                \"SOC\": train_noCO2,\n",
      "                \"Sand\": train_noCO2}\n",
      "test4target = {\"Ca\": test_noCO2,\n",
      "               \"P\": test_noCO2,\n",
      "               \"pH\": test_noCO2,\n",
      "               \"SOC\": test_noCO2,\n",
      "               \"Sand\": test_noCO2}\n",
      "\n",
      "cv_results = cross_validate_columns2(predictors, train4target, labels)\n",
      "\n",
      "print '\\n', cv_results, '\\n'\n",
      "fit_and_predict2(predictors, train4target,\n",
      "                 labels, test4target,\n",
      "                 outfile)"
     ],
     "language": "python",
     "metadata": {},
     "outputs": [
      {
       "output_type": "stream",
       "stream": "stdout",
       "text": [
        "\n",
        "Running CV for target Ca\n",
        "[LibSVM]"
       ]
      },
      {
       "output_type": "stream",
       "stream": "stdout",
       "text": [
        "[LibSVM]"
       ]
      },
      {
       "output_type": "stream",
       "stream": "stdout",
       "text": [
        "[LibSVM]"
       ]
      },
      {
       "output_type": "stream",
       "stream": "stdout",
       "text": [
        "[LibSVM]"
       ]
      },
      {
       "output_type": "stream",
       "stream": "stdout",
       "text": [
        "[LibSVM]"
       ]
      },
      {
       "output_type": "stream",
       "stream": "stdout",
       "text": [
        "\n",
        "Running CV for target P"
       ]
      },
      {
       "output_type": "stream",
       "stream": "stdout",
       "text": [
        "\n",
        "[LibSVM]"
       ]
      },
      {
       "output_type": "stream",
       "stream": "stdout",
       "text": [
        "[LibSVM]"
       ]
      },
      {
       "output_type": "stream",
       "stream": "stdout",
       "text": [
        "[LibSVM]"
       ]
      },
      {
       "output_type": "stream",
       "stream": "stdout",
       "text": [
        "[LibSVM]"
       ]
      },
      {
       "output_type": "stream",
       "stream": "stdout",
       "text": [
        "[LibSVM]"
       ]
      },
      {
       "output_type": "stream",
       "stream": "stdout",
       "text": [
        "\n",
        "Running CV for target pH"
       ]
      },
      {
       "output_type": "stream",
       "stream": "stdout",
       "text": [
        "\n",
        "[LibSVM]"
       ]
      },
      {
       "output_type": "stream",
       "stream": "stdout",
       "text": [
        "[LibSVM]"
       ]
      },
      {
       "output_type": "stream",
       "stream": "stdout",
       "text": [
        "[LibSVM]"
       ]
      },
      {
       "output_type": "stream",
       "stream": "stdout",
       "text": [
        "[LibSVM]"
       ]
      },
      {
       "output_type": "stream",
       "stream": "stdout",
       "text": [
        "[LibSVM]"
       ]
      },
      {
       "output_type": "stream",
       "stream": "stdout",
       "text": [
        "\n",
        "Running CV for target SOC"
       ]
      },
      {
       "output_type": "stream",
       "stream": "stdout",
       "text": [
        "\n",
        "[LibSVM]"
       ]
      },
      {
       "output_type": "stream",
       "stream": "stdout",
       "text": [
        "[LibSVM]"
       ]
      },
      {
       "output_type": "stream",
       "stream": "stdout",
       "text": [
        "[LibSVM]"
       ]
      },
      {
       "output_type": "stream",
       "stream": "stdout",
       "text": [
        "[LibSVM]"
       ]
      },
      {
       "output_type": "stream",
       "stream": "stdout",
       "text": [
        "[LibSVM]"
       ]
      },
      {
       "output_type": "stream",
       "stream": "stdout",
       "text": [
        "\n",
        "Running CV for target Sand"
       ]
      },
      {
       "output_type": "stream",
       "stream": "stdout",
       "text": [
        "\n",
        "[LibSVM]"
       ]
      },
      {
       "output_type": "stream",
       "stream": "stdout",
       "text": [
        "[LibSVM]"
       ]
      },
      {
       "output_type": "stream",
       "stream": "stdout",
       "text": [
        "[LibSVM]"
       ]
      },
      {
       "output_type": "stream",
       "stream": "stdout",
       "text": [
        "[LibSVM]"
       ]
      },
      {
       "output_type": "stream",
       "stream": "stdout",
       "text": [
        "[LibSVM]"
       ]
      },
      {
       "output_type": "stream",
       "stream": "stdout",
       "text": [
        "\n"
       ]
      },
      {
       "output_type": "stream",
       "stream": "stdout",
       "text": [
        "               0         1         2         3         4      mean   std dev\n",
        "Ca      2.093057  1.647671  1.256347  0.626610  0.612976  1.247332  0.644847\n",
        "P       1.915943  0.419502  1.046445  0.266424  1.547189  1.039100  0.708518\n",
        "pH      0.863427  0.938130  0.822583  0.888601  0.835446  0.869637  0.046023\n",
        "SOC     2.196356  1.560637  1.784706  0.713013  1.186596  1.488262  0.567126\n",
        "Sand    0.986109  0.990518  1.010115  1.061347  0.924745  0.994567  0.049154\n",
        "MCRMSE  1.247033  1.028876  1.078353  0.825005  0.998352  1.035524  0.151917 \n",
        "\n",
        "[LibSVM]"
       ]
      },
      {
       "ename": "KeyboardInterrupt",
       "evalue": "",
       "output_type": "pyerr",
       "traceback": [
        "\u001b[1;31m---------------------------------------------------------------------------\u001b[0m\n\u001b[1;31mKeyboardInterrupt\u001b[0m                         Traceback (most recent call last)",
        "\u001b[1;32m<ipython-input-10-62cd9d139344>\u001b[0m in \u001b[0;36m<module>\u001b[1;34m()\u001b[0m\n\u001b[0;32m     31\u001b[0m fit_and_predict2(predictors, train4target,\n\u001b[0;32m     32\u001b[0m                  \u001b[0mlabels\u001b[0m\u001b[1;33m,\u001b[0m \u001b[0mtest4target\u001b[0m\u001b[1;33m,\u001b[0m\u001b[1;33m\u001b[0m\u001b[0m\n\u001b[1;32m---> 33\u001b[1;33m                  outfile)\n\u001b[0m",
        "\u001b[1;32m<ipython-input-3-30dbd2ea3099>\u001b[0m in \u001b[0;36mfit_and_predict2\u001b[1;34m(predictors, train4target, label_data, test4target, fname_out)\u001b[0m\n\u001b[0;32m     68\u001b[0m     \u001b[0mpredictions\u001b[0m \u001b[1;33m=\u001b[0m \u001b[1;33m{\u001b[0m\u001b[1;33m}\u001b[0m\u001b[1;33m\u001b[0m\u001b[0m\n\u001b[0;32m     69\u001b[0m     \u001b[1;32mfor\u001b[0m \u001b[0mt\u001b[0m \u001b[1;32min\u001b[0m \u001b[0mtarget_colnames\u001b[0m\u001b[1;33m:\u001b[0m\u001b[1;33m\u001b[0m\u001b[0m\n\u001b[1;32m---> 70\u001b[1;33m         \u001b[0mpredictors\u001b[0m\u001b[1;33m[\u001b[0m\u001b[0mt\u001b[0m\u001b[1;33m]\u001b[0m\u001b[1;33m.\u001b[0m\u001b[0mfit\u001b[0m\u001b[1;33m(\u001b[0m\u001b[0mtrain4target\u001b[0m\u001b[1;33m[\u001b[0m\u001b[0mt\u001b[0m\u001b[1;33m]\u001b[0m\u001b[1;33m.\u001b[0m\u001b[0mvalues\u001b[0m\u001b[1;33m,\u001b[0m \u001b[0mlabel_data\u001b[0m\u001b[1;33m[\u001b[0m\u001b[0mt\u001b[0m\u001b[1;33m]\u001b[0m\u001b[1;33m.\u001b[0m\u001b[0mvalues\u001b[0m\u001b[1;33m)\u001b[0m\u001b[1;33m\u001b[0m\u001b[0m\n\u001b[0m\u001b[0;32m     71\u001b[0m         \u001b[0msubmission\u001b[0m\u001b[1;33m[\u001b[0m\u001b[0mt\u001b[0m\u001b[1;33m]\u001b[0m \u001b[1;33m=\u001b[0m \u001b[0mpredictors\u001b[0m\u001b[1;33m[\u001b[0m\u001b[0mt\u001b[0m\u001b[1;33m]\u001b[0m\u001b[1;33m.\u001b[0m\u001b[0mpredict\u001b[0m\u001b[1;33m(\u001b[0m\u001b[0mtest4target\u001b[0m\u001b[1;33m[\u001b[0m\u001b[0mt\u001b[0m\u001b[1;33m]\u001b[0m\u001b[1;33m.\u001b[0m\u001b[0mvalues\u001b[0m\u001b[1;33m)\u001b[0m\u001b[1;33m\u001b[0m\u001b[0m\n\u001b[0;32m     72\u001b[0m     \u001b[0msubmission\u001b[0m\u001b[1;33m.\u001b[0m\u001b[0mto_csv\u001b[0m\u001b[1;33m(\u001b[0m\u001b[0mfname_out\u001b[0m\u001b[1;33m,\u001b[0m \u001b[0mindex\u001b[0m\u001b[1;33m=\u001b[0m\u001b[0mFalse\u001b[0m\u001b[1;33m)\u001b[0m\u001b[1;33m\u001b[0m\u001b[0m\n",
        "\u001b[1;32m/home/ubuntu/anaconda/lib/python2.7/site-packages/sklearn/pipeline.pyc\u001b[0m in \u001b[0;36mfit\u001b[1;34m(self, X, y, **fit_params)\u001b[0m\n\u001b[0;32m    127\u001b[0m         \u001b[0mdata\u001b[0m\u001b[1;33m,\u001b[0m \u001b[0mthen\u001b[0m \u001b[0mfit\u001b[0m \u001b[0mthe\u001b[0m \u001b[0mtransformed\u001b[0m \u001b[0mdata\u001b[0m \u001b[0musing\u001b[0m \u001b[0mthe\u001b[0m \u001b[0mfinal\u001b[0m \u001b[0mestimator\u001b[0m\u001b[1;33m.\u001b[0m\u001b[1;33m\u001b[0m\u001b[0m\n\u001b[0;32m    128\u001b[0m         \"\"\"\n\u001b[1;32m--> 129\u001b[1;33m         \u001b[0mXt\u001b[0m\u001b[1;33m,\u001b[0m \u001b[0mfit_params\u001b[0m \u001b[1;33m=\u001b[0m \u001b[0mself\u001b[0m\u001b[1;33m.\u001b[0m\u001b[0m_pre_transform\u001b[0m\u001b[1;33m(\u001b[0m\u001b[0mX\u001b[0m\u001b[1;33m,\u001b[0m \u001b[0my\u001b[0m\u001b[1;33m,\u001b[0m \u001b[1;33m**\u001b[0m\u001b[0mfit_params\u001b[0m\u001b[1;33m)\u001b[0m\u001b[1;33m\u001b[0m\u001b[0m\n\u001b[0m\u001b[0;32m    130\u001b[0m         \u001b[0mself\u001b[0m\u001b[1;33m.\u001b[0m\u001b[0msteps\u001b[0m\u001b[1;33m[\u001b[0m\u001b[1;33m-\u001b[0m\u001b[1;36m1\u001b[0m\u001b[1;33m]\u001b[0m\u001b[1;33m[\u001b[0m\u001b[1;33m-\u001b[0m\u001b[1;36m1\u001b[0m\u001b[1;33m]\u001b[0m\u001b[1;33m.\u001b[0m\u001b[0mfit\u001b[0m\u001b[1;33m(\u001b[0m\u001b[0mXt\u001b[0m\u001b[1;33m,\u001b[0m \u001b[0my\u001b[0m\u001b[1;33m,\u001b[0m \u001b[1;33m**\u001b[0m\u001b[0mfit_params\u001b[0m\u001b[1;33m)\u001b[0m\u001b[1;33m\u001b[0m\u001b[0m\n\u001b[0;32m    131\u001b[0m         \u001b[1;32mreturn\u001b[0m \u001b[0mself\u001b[0m\u001b[1;33m\u001b[0m\u001b[0m\n",
        "\u001b[1;32m/home/ubuntu/anaconda/lib/python2.7/site-packages/sklearn/pipeline.pyc\u001b[0m in \u001b[0;36m_pre_transform\u001b[1;34m(self, X, y, **fit_params)\u001b[0m\n\u001b[0;32m    117\u001b[0m         \u001b[1;32mfor\u001b[0m \u001b[0mname\u001b[0m\u001b[1;33m,\u001b[0m \u001b[0mtransform\u001b[0m \u001b[1;32min\u001b[0m \u001b[0mself\u001b[0m\u001b[1;33m.\u001b[0m\u001b[0msteps\u001b[0m\u001b[1;33m[\u001b[0m\u001b[1;33m:\u001b[0m\u001b[1;33m-\u001b[0m\u001b[1;36m1\u001b[0m\u001b[1;33m]\u001b[0m\u001b[1;33m:\u001b[0m\u001b[1;33m\u001b[0m\u001b[0m\n\u001b[0;32m    118\u001b[0m             \u001b[1;32mif\u001b[0m \u001b[0mhasattr\u001b[0m\u001b[1;33m(\u001b[0m\u001b[0mtransform\u001b[0m\u001b[1;33m,\u001b[0m \u001b[1;34m\"fit_transform\"\u001b[0m\u001b[1;33m)\u001b[0m\u001b[1;33m:\u001b[0m\u001b[1;33m\u001b[0m\u001b[0m\n\u001b[1;32m--> 119\u001b[1;33m                 \u001b[0mXt\u001b[0m \u001b[1;33m=\u001b[0m \u001b[0mtransform\u001b[0m\u001b[1;33m.\u001b[0m\u001b[0mfit_transform\u001b[0m\u001b[1;33m(\u001b[0m\u001b[0mXt\u001b[0m\u001b[1;33m,\u001b[0m \u001b[0my\u001b[0m\u001b[1;33m,\u001b[0m \u001b[1;33m**\u001b[0m\u001b[0mfit_params_steps\u001b[0m\u001b[1;33m[\u001b[0m\u001b[0mname\u001b[0m\u001b[1;33m]\u001b[0m\u001b[1;33m)\u001b[0m\u001b[1;33m\u001b[0m\u001b[0m\n\u001b[0m\u001b[0;32m    120\u001b[0m             \u001b[1;32melse\u001b[0m\u001b[1;33m:\u001b[0m\u001b[1;33m\u001b[0m\u001b[0m\n\u001b[0;32m    121\u001b[0m                 \u001b[0mXt\u001b[0m \u001b[1;33m=\u001b[0m \u001b[0mtransform\u001b[0m\u001b[1;33m.\u001b[0m\u001b[0mfit\u001b[0m\u001b[1;33m(\u001b[0m\u001b[0mXt\u001b[0m\u001b[1;33m,\u001b[0m \u001b[0my\u001b[0m\u001b[1;33m,\u001b[0m \u001b[1;33m**\u001b[0m\u001b[0mfit_params_steps\u001b[0m\u001b[1;33m[\u001b[0m\u001b[0mname\u001b[0m\u001b[1;33m]\u001b[0m\u001b[1;33m)\u001b[0m\u001b[0;31m \u001b[0m\u001b[0;31m\\\u001b[0m\u001b[1;33m\u001b[0m\u001b[0m\n",
        "\u001b[1;32m/home/ubuntu/anaconda/lib/python2.7/site-packages/sklearn/base.pyc\u001b[0m in \u001b[0;36mfit_transform\u001b[1;34m(self, X, y, **fit_params)\u001b[0m\n\u001b[0;32m    427\u001b[0m         \u001b[1;32melse\u001b[0m\u001b[1;33m:\u001b[0m\u001b[1;33m\u001b[0m\u001b[0m\n\u001b[0;32m    428\u001b[0m             \u001b[1;31m# fit method of arity 2 (supervised transformation)\u001b[0m\u001b[1;33m\u001b[0m\u001b[1;33m\u001b[0m\u001b[0m\n\u001b[1;32m--> 429\u001b[1;33m             \u001b[1;32mreturn\u001b[0m \u001b[0mself\u001b[0m\u001b[1;33m.\u001b[0m\u001b[0mfit\u001b[0m\u001b[1;33m(\u001b[0m\u001b[0mX\u001b[0m\u001b[1;33m,\u001b[0m \u001b[0my\u001b[0m\u001b[1;33m,\u001b[0m \u001b[1;33m**\u001b[0m\u001b[0mfit_params\u001b[0m\u001b[1;33m)\u001b[0m\u001b[1;33m.\u001b[0m\u001b[0mtransform\u001b[0m\u001b[1;33m(\u001b[0m\u001b[0mX\u001b[0m\u001b[1;33m)\u001b[0m\u001b[1;33m\u001b[0m\u001b[0m\n\u001b[0m\u001b[0;32m    430\u001b[0m \u001b[1;33m\u001b[0m\u001b[0m\n\u001b[0;32m    431\u001b[0m \u001b[1;33m\u001b[0m\u001b[0m\n",
        "\u001b[1;32m/home/ubuntu/anaconda/lib/python2.7/site-packages/sklearn/neural_network/rbm.pyc\u001b[0m in \u001b[0;36mfit\u001b[1;34m(self, X, y)\u001b[0m\n\u001b[0;32m    344\u001b[0m         \u001b[1;32mfor\u001b[0m \u001b[0miteration\u001b[0m \u001b[1;32min\u001b[0m \u001b[0mxrange\u001b[0m\u001b[1;33m(\u001b[0m\u001b[1;36m1\u001b[0m\u001b[1;33m,\u001b[0m \u001b[0mself\u001b[0m\u001b[1;33m.\u001b[0m\u001b[0mn_iter\u001b[0m \u001b[1;33m+\u001b[0m \u001b[1;36m1\u001b[0m\u001b[1;33m)\u001b[0m\u001b[1;33m:\u001b[0m\u001b[1;33m\u001b[0m\u001b[0m\n\u001b[0;32m    345\u001b[0m             \u001b[1;32mfor\u001b[0m \u001b[0mbatch_slice\u001b[0m \u001b[1;32min\u001b[0m \u001b[0mbatch_slices\u001b[0m\u001b[1;33m:\u001b[0m\u001b[1;33m\u001b[0m\u001b[0m\n\u001b[1;32m--> 346\u001b[1;33m                 \u001b[0mself\u001b[0m\u001b[1;33m.\u001b[0m\u001b[0m_fit\u001b[0m\u001b[1;33m(\u001b[0m\u001b[0mX\u001b[0m\u001b[1;33m[\u001b[0m\u001b[0mbatch_slice\u001b[0m\u001b[1;33m]\u001b[0m\u001b[1;33m,\u001b[0m \u001b[0mrng\u001b[0m\u001b[1;33m)\u001b[0m\u001b[1;33m\u001b[0m\u001b[0m\n\u001b[0m\u001b[0;32m    347\u001b[0m \u001b[1;33m\u001b[0m\u001b[0m\n\u001b[0;32m    348\u001b[0m             \u001b[1;32mif\u001b[0m \u001b[0mverbose\u001b[0m\u001b[1;33m:\u001b[0m\u001b[1;33m\u001b[0m\u001b[0m\n",
        "\u001b[1;32m/home/ubuntu/anaconda/lib/python2.7/site-packages/sklearn/neural_network/rbm.pyc\u001b[0m in \u001b[0;36m_fit\u001b[1;34m(self, v_pos, rng)\u001b[0m\n\u001b[0;32m    267\u001b[0m         \u001b[0mlr\u001b[0m \u001b[1;33m=\u001b[0m \u001b[0mfloat\u001b[0m\u001b[1;33m(\u001b[0m\u001b[0mself\u001b[0m\u001b[1;33m.\u001b[0m\u001b[0mlearning_rate\u001b[0m\u001b[1;33m)\u001b[0m \u001b[1;33m/\u001b[0m \u001b[0mv_pos\u001b[0m\u001b[1;33m.\u001b[0m\u001b[0mshape\u001b[0m\u001b[1;33m[\u001b[0m\u001b[1;36m0\u001b[0m\u001b[1;33m]\u001b[0m\u001b[1;33m\u001b[0m\u001b[0m\n\u001b[0;32m    268\u001b[0m         \u001b[0mupdate\u001b[0m \u001b[1;33m=\u001b[0m \u001b[0msafe_sparse_dot\u001b[0m\u001b[1;33m(\u001b[0m\u001b[0mv_pos\u001b[0m\u001b[1;33m.\u001b[0m\u001b[0mT\u001b[0m\u001b[1;33m,\u001b[0m \u001b[0mh_pos\u001b[0m\u001b[1;33m,\u001b[0m \u001b[0mdense_output\u001b[0m\u001b[1;33m=\u001b[0m\u001b[0mTrue\u001b[0m\u001b[1;33m)\u001b[0m\u001b[1;33m.\u001b[0m\u001b[0mT\u001b[0m\u001b[1;33m\u001b[0m\u001b[0m\n\u001b[1;32m--> 269\u001b[1;33m         \u001b[0mupdate\u001b[0m \u001b[1;33m-=\u001b[0m \u001b[0mnp\u001b[0m\u001b[1;33m.\u001b[0m\u001b[0mdot\u001b[0m\u001b[1;33m(\u001b[0m\u001b[0mh_neg\u001b[0m\u001b[1;33m.\u001b[0m\u001b[0mT\u001b[0m\u001b[1;33m,\u001b[0m \u001b[0mv_neg\u001b[0m\u001b[1;33m)\u001b[0m\u001b[1;33m\u001b[0m\u001b[0m\n\u001b[0m\u001b[0;32m    270\u001b[0m         \u001b[0mself\u001b[0m\u001b[1;33m.\u001b[0m\u001b[0mcomponents_\u001b[0m \u001b[1;33m+=\u001b[0m \u001b[0mlr\u001b[0m \u001b[1;33m*\u001b[0m \u001b[0mupdate\u001b[0m\u001b[1;33m\u001b[0m\u001b[0m\n\u001b[0;32m    271\u001b[0m         \u001b[0mself\u001b[0m\u001b[1;33m.\u001b[0m\u001b[0mintercept_hidden_\u001b[0m \u001b[1;33m+=\u001b[0m \u001b[0mlr\u001b[0m \u001b[1;33m*\u001b[0m \u001b[1;33m(\u001b[0m\u001b[0mh_pos\u001b[0m\u001b[1;33m.\u001b[0m\u001b[0msum\u001b[0m\u001b[1;33m(\u001b[0m\u001b[0maxis\u001b[0m\u001b[1;33m=\u001b[0m\u001b[1;36m0\u001b[0m\u001b[1;33m)\u001b[0m \u001b[1;33m-\u001b[0m \u001b[0mh_neg\u001b[0m\u001b[1;33m.\u001b[0m\u001b[0msum\u001b[0m\u001b[1;33m(\u001b[0m\u001b[0maxis\u001b[0m\u001b[1;33m=\u001b[0m\u001b[1;36m0\u001b[0m\u001b[1;33m)\u001b[0m\u001b[1;33m)\u001b[0m\u001b[1;33m\u001b[0m\u001b[0m\n",
        "\u001b[1;31mKeyboardInterrupt\u001b[0m: "
       ]
      }
     ],
     "prompt_number": 10
    },
    {
     "cell_type": "code",
     "collapsed": false,
     "input": [
      "outfile = 'submissions/rbm2000_svr.csv'\n",
      "\n",
      "train, labels, test = load_data()\n",
      "\n",
      "train_noCO2 = train.drop(CO2_bands, axis=1, inplace=False)\n",
      "test_noCO2 = test.drop(CO2_bands, axis=1, inplace=False)\n",
      "\n",
      "rbm = BernoulliRBM(n_components=2000, random_state=1001)\n",
      "svr = svm.SVR(kernel='rbf', C=10000.0, verbose=2)\n",
      "clf = Pipeline(steps=[('rbm', rbm), ('svr', svr)])\n",
      "\n",
      "predictors = {\"Ca\": clf,\n",
      "              \"P\": clf,\n",
      "              \"pH\": clf,\n",
      "              \"SOC\": clf,\n",
      "              \"Sand\": clf}\n",
      "train4target = {\"Ca\": train_noCO2,\n",
      "                \"P\": train_noCO2,\n",
      "                \"pH\": train_noCO2,\n",
      "                \"SOC\": train_noCO2,\n",
      "                \"Sand\": train_noCO2}\n",
      "test4target = {\"Ca\": test_noCO2,\n",
      "               \"P\": test_noCO2,\n",
      "               \"pH\": test_noCO2,\n",
      "               \"SOC\": test_noCO2,\n",
      "               \"Sand\": test_noCO2}\n",
      "\n",
      "cv_results = cross_validate_columns2(predictors, train4target, labels)\n",
      "\n",
      "print '\\n', cv_results, '\\n'\n",
      "fit_and_predict2(predictors, train4target,\n",
      "                 labels, test4target,\n",
      "                 outfile)"
     ],
     "language": "python",
     "metadata": {},
     "outputs": [
      {
       "output_type": "stream",
       "stream": "stdout",
       "text": [
        "\n",
        "Running CV for target Ca\n",
        "[LibSVM]"
       ]
      },
      {
       "output_type": "stream",
       "stream": "stdout",
       "text": [
        "[LibSVM]"
       ]
      },
      {
       "output_type": "stream",
       "stream": "stdout",
       "text": [
        "[LibSVM]"
       ]
      },
      {
       "output_type": "stream",
       "stream": "stdout",
       "text": [
        "[LibSVM]"
       ]
      },
      {
       "output_type": "stream",
       "stream": "stdout",
       "text": [
        "[LibSVM]"
       ]
      },
      {
       "output_type": "stream",
       "stream": "stdout",
       "text": [
        "\n",
        "Running CV for target P"
       ]
      },
      {
       "output_type": "stream",
       "stream": "stdout",
       "text": [
        "\n",
        "[LibSVM]"
       ]
      },
      {
       "output_type": "stream",
       "stream": "stdout",
       "text": [
        "[LibSVM]"
       ]
      },
      {
       "output_type": "stream",
       "stream": "stdout",
       "text": [
        "[LibSVM]"
       ]
      },
      {
       "output_type": "stream",
       "stream": "stdout",
       "text": [
        "[LibSVM]"
       ]
      },
      {
       "output_type": "stream",
       "stream": "stdout",
       "text": [
        "[LibSVM]"
       ]
      },
      {
       "output_type": "stream",
       "stream": "stdout",
       "text": [
        "\n",
        "Running CV for target pH"
       ]
      },
      {
       "output_type": "stream",
       "stream": "stdout",
       "text": [
        "\n",
        "[LibSVM]"
       ]
      },
      {
       "output_type": "stream",
       "stream": "stdout",
       "text": [
        "[LibSVM]"
       ]
      },
      {
       "output_type": "stream",
       "stream": "stdout",
       "text": [
        "[LibSVM]"
       ]
      },
      {
       "output_type": "stream",
       "stream": "stdout",
       "text": [
        "[LibSVM]"
       ]
      },
      {
       "output_type": "stream",
       "stream": "stdout",
       "text": [
        "[LibSVM]"
       ]
      },
      {
       "output_type": "stream",
       "stream": "stdout",
       "text": [
        "\n",
        "Running CV for target SOC"
       ]
      },
      {
       "output_type": "stream",
       "stream": "stdout",
       "text": [
        "\n",
        "[LibSVM]"
       ]
      },
      {
       "output_type": "stream",
       "stream": "stdout",
       "text": [
        "[LibSVM]"
       ]
      },
      {
       "output_type": "stream",
       "stream": "stdout",
       "text": [
        "[LibSVM]"
       ]
      },
      {
       "output_type": "stream",
       "stream": "stdout",
       "text": [
        "[LibSVM]"
       ]
      },
      {
       "output_type": "stream",
       "stream": "stdout",
       "text": [
        "[LibSVM]"
       ]
      },
      {
       "output_type": "stream",
       "stream": "stdout",
       "text": [
        "\n",
        "Running CV for target Sand"
       ]
      },
      {
       "output_type": "stream",
       "stream": "stdout",
       "text": [
        "\n",
        "[LibSVM]"
       ]
      },
      {
       "output_type": "stream",
       "stream": "stdout",
       "text": [
        "[LibSVM]"
       ]
      },
      {
       "output_type": "stream",
       "stream": "stdout",
       "text": [
        "[LibSVM]"
       ]
      },
      {
       "output_type": "stream",
       "stream": "stdout",
       "text": [
        "[LibSVM]"
       ]
      },
      {
       "output_type": "stream",
       "stream": "stdout",
       "text": [
        "[LibSVM]"
       ]
      },
      {
       "output_type": "stream",
       "stream": "stdout",
       "text": [
        "\n"
       ]
      },
      {
       "output_type": "stream",
       "stream": "stdout",
       "text": [
        "               0         1         2         3         4      mean   std dev\n",
        "Ca      1.255885  0.930895  1.132398  1.796808  1.132502  1.249697  0.327299\n",
        "P       1.427021  0.901354  0.743292  1.667981  0.453569  1.038643  0.498823\n",
        "pH      0.846226  0.792524  0.816720  0.876505  1.040709  0.874537  0.098091\n",
        "SOC     1.798058  1.034414  1.635550  1.510087  1.455362  1.486694  0.285128\n",
        "Sand    0.970950  1.149138  0.851291  0.964463  1.051261  0.997421  0.110745\n",
        "MCRMSE  1.112287  0.978701  1.006310  1.155820  0.997902  1.050204  0.078714 \n",
        "\n",
        "[LibSVM]"
       ]
      },
      {
       "output_type": "stream",
       "stream": "stdout",
       "text": [
        "[LibSVM]"
       ]
      },
      {
       "output_type": "stream",
       "stream": "stdout",
       "text": [
        "[LibSVM]"
       ]
      },
      {
       "output_type": "stream",
       "stream": "stdout",
       "text": [
        "[LibSVM]"
       ]
      },
      {
       "output_type": "stream",
       "stream": "stdout",
       "text": [
        "[LibSVM]"
       ]
      }
     ],
     "prompt_number": 11
    },
    {
     "cell_type": "code",
     "collapsed": false,
     "input": [
      "outfile = 'submissions/rbm200_svr.csv'\n",
      "\n",
      "train, labels, test = load_data()\n",
      "\n",
      "train_noCO2 = train.drop(CO2_bands, axis=1, inplace=False)\n",
      "test_noCO2 = test.drop(CO2_bands, axis=1, inplace=False)\n",
      "\n",
      "rbm = BernoulliRBM(n_components=2000, random_state=1001)\n",
      "svr = svm.SVR(kernel='rbf', C=10000.0, verbose=2)\n",
      "clf = Pipeline(steps=[('rbm', rbm), ('svr', svr)])\n",
      "\n",
      "predictors = {\"Ca\": clf,\n",
      "              \"P\": clf,\n",
      "              \"pH\": clf,\n",
      "              \"SOC\": clf,\n",
      "              \"Sand\": clf}\n",
      "train4target = {\"Ca\": train_noCO2,\n",
      "                \"P\": train_noCO2,\n",
      "                \"pH\": train_noCO2,\n",
      "                \"SOC\": train_noCO2,\n",
      "                \"Sand\": train_noCO2}\n",
      "test4target = {\"Ca\": test_noCO2,\n",
      "               \"P\": test_noCO2,\n",
      "               \"pH\": test_noCO2,\n",
      "               \"SOC\": test_noCO2,\n",
      "               \"Sand\": test_noCO2}\n",
      "\n",
      "cv_results = cross_validate_columns2(predictors, train4target, labels)\n",
      "\n",
      "print '\\n', cv_results, '\\n'\n",
      "fit_and_predict2(predictors, train4target,\n",
      "                 labels, test4target,\n",
      "                 outfile)"
     ],
     "language": "python",
     "metadata": {},
     "outputs": []
    },
    {
     "cell_type": "code",
     "collapsed": false,
     "input": [],
     "language": "python",
     "metadata": {},
     "outputs": []
    },
    {
     "cell_type": "code",
     "collapsed": false,
     "input": [],
     "language": "python",
     "metadata": {},
     "outputs": []
    },
    {
     "cell_type": "code",
     "collapsed": false,
     "input": [],
     "language": "python",
     "metadata": {},
     "outputs": []
    },
    {
     "cell_type": "markdown",
     "metadata": {},
     "source": [
      "# Deep Learning"
     ]
    },
    {
     "cell_type": "code",
     "collapsed": false,
     "input": [
      "from nolearn.dbn import DBN"
     ],
     "language": "python",
     "metadata": {},
     "outputs": [
      {
       "output_type": "stream",
       "stream": "stdout",
       "text": [
        "gnumpy: failed to import cudamat. Using npmat instead. No GPU will be used.\n"
       ]
      }
     ],
     "prompt_number": 3
    },
    {
     "cell_type": "code",
     "collapsed": false,
     "input": [
      "outfile = 'submissions/dbn_nolearn.csv'\n",
      "\n",
      "train, labels, test = load_data()\n",
      "\n",
      "train_noCO2 = train.drop(CO2_bands, axis=1, inplace=False)\n",
      "test_noCO2 = test.drop(CO2_bands, axis=1, inplace=False)"
     ],
     "language": "python",
     "metadata": {},
     "outputs": [],
     "prompt_number": 4
    },
    {
     "cell_type": "code",
     "collapsed": false,
     "input": [
      "train_noCO2.shape"
     ],
     "language": "python",
     "metadata": {},
     "outputs": [
      {
       "metadata": {},
       "output_type": "pyout",
       "prompt_number": 24,
       "text": [
        "(1157, 3580)"
       ]
      }
     ],
     "prompt_number": 24
    },
    {
     "cell_type": "code",
     "collapsed": false,
     "input": [
      "clf = DBN([-1, 2000, 1],\n",
      "          learn_rates=0.1,\n",
      "          learn_rates_pretrain=0.005,\n",
      "          learn_rate_decays=0.1,\n",
      "          epochs=10000,\n",
      "          verbose=1)\n",
      "clf.fit(train_noCO2, labels['P'])"
     ],
     "language": "python",
     "metadata": {},
     "outputs": [
      {
       "output_type": "stream",
       "stream": "stdout",
       "text": [
        "[DBN] fitting X.shape=(1157, 3580)\n",
        "[DBN] layers [3580, 2000, 1]\n",
        "[DBN] Fine-tune..."
       ]
      },
      {
       "output_type": "stream",
       "stream": "stdout",
       "text": [
        "\n"
       ]
      },
      {
       "ename": "ValueError",
       "evalue": "arrays not aligned for dot product. a dot product was requested of arrays with shapes (1157, 64) and (3580, 2000)",
       "output_type": "pyerr",
       "traceback": [
        "\u001b[1;31m---------------------------------------------------------------------------\u001b[0m\n\u001b[1;31mValueError\u001b[0m                                Traceback (most recent call last)",
        "\u001b[1;32m<ipython-input-43-a7da62f99ec1>\u001b[0m in \u001b[0;36m<module>\u001b[1;34m()\u001b[0m\n\u001b[0;32m      5\u001b[0m           \u001b[0mepochs\u001b[0m\u001b[1;33m=\u001b[0m\u001b[1;36m10000\u001b[0m\u001b[1;33m,\u001b[0m\u001b[1;33m\u001b[0m\u001b[0m\n\u001b[0;32m      6\u001b[0m           verbose=1)\n\u001b[1;32m----> 7\u001b[1;33m \u001b[0mclf\u001b[0m\u001b[1;33m.\u001b[0m\u001b[0mfit\u001b[0m\u001b[1;33m(\u001b[0m\u001b[0mtrain_noCO2\u001b[0m\u001b[1;33m,\u001b[0m \u001b[0mlabels\u001b[0m\u001b[1;33m[\u001b[0m\u001b[1;34m'P'\u001b[0m\u001b[1;33m]\u001b[0m\u001b[1;33m)\u001b[0m\u001b[1;33m\u001b[0m\u001b[0m\n\u001b[0m",
        "\u001b[1;32m/home/ubuntu/anaconda/lib/python2.7/site-packages/nolearn/dbn.pyc\u001b[0m in \u001b[0;36mfit\u001b[1;34m(self, X, y)\u001b[0m\n\u001b[0;32m    388\u001b[0m                 \u001b[0mloss_funct\u001b[0m\u001b[1;33m,\u001b[0m\u001b[1;33m\u001b[0m\u001b[0m\n\u001b[0;32m    389\u001b[0m                 \u001b[0mself\u001b[0m\u001b[1;33m.\u001b[0m\u001b[0mverbose\u001b[0m\u001b[1;33m,\u001b[0m\u001b[1;33m\u001b[0m\u001b[0m\n\u001b[1;32m--> 390\u001b[1;33m                 \u001b[0mself\u001b[0m\u001b[1;33m.\u001b[0m\u001b[0muse_dropout\u001b[0m\u001b[1;33m,\u001b[0m\u001b[1;33m\u001b[0m\u001b[0m\n\u001b[0m\u001b[0;32m    391\u001b[0m                 )):\n\u001b[0;32m    392\u001b[0m             \u001b[0mlosses_fine_tune\u001b[0m\u001b[1;33m.\u001b[0m\u001b[0mappend\u001b[0m\u001b[1;33m(\u001b[0m\u001b[0mloss\u001b[0m\u001b[1;33m)\u001b[0m\u001b[1;33m\u001b[0m\u001b[0m\n",
        "\u001b[1;32m/home/ubuntu/anaconda/lib/python2.7/site-packages/gdbn/dbn.pyc\u001b[0m in \u001b[0;36mfineTune\u001b[1;34m(self, minibatchStream, epochs, mbPerEpoch, loss, progressBar, useDropout)\u001b[0m\n\u001b[0;32m    200\u001b[0m             \u001b[1;32mfor\u001b[0m \u001b[0mi\u001b[0m \u001b[1;32min\u001b[0m \u001b[0mrange\u001b[0m\u001b[1;33m(\u001b[0m\u001b[0mmbPerEpoch\u001b[0m\u001b[1;33m)\u001b[0m\u001b[1;33m:\u001b[0m\u001b[1;33m\u001b[0m\u001b[0m\n\u001b[0;32m    201\u001b[0m                 \u001b[0minpMB\u001b[0m\u001b[1;33m,\u001b[0m \u001b[0mtargMB\u001b[0m \u001b[1;33m=\u001b[0m \u001b[0mminibatchStream\u001b[0m\u001b[1;33m.\u001b[0m\u001b[0mnext\u001b[0m\u001b[1;33m(\u001b[0m\u001b[1;33m)\u001b[0m\u001b[1;33m\u001b[0m\u001b[0m\n\u001b[1;32m--> 202\u001b[1;33m                 \u001b[0merr\u001b[0m\u001b[1;33m,\u001b[0m \u001b[0moutMB\u001b[0m \u001b[1;33m=\u001b[0m \u001b[0mstep\u001b[0m\u001b[1;33m(\u001b[0m\u001b[0minpMB\u001b[0m\u001b[1;33m,\u001b[0m \u001b[0mtargMB\u001b[0m\u001b[1;33m,\u001b[0m \u001b[0mself\u001b[0m\u001b[1;33m.\u001b[0m\u001b[0mlearnRates\u001b[0m\u001b[1;33m,\u001b[0m \u001b[0mself\u001b[0m\u001b[1;33m.\u001b[0m\u001b[0mmomentum\u001b[0m\u001b[1;33m,\u001b[0m \u001b[0mself\u001b[0m\u001b[1;33m.\u001b[0m\u001b[0mL2Costs\u001b[0m\u001b[1;33m,\u001b[0m \u001b[0museDropout\u001b[0m\u001b[1;33m)\u001b[0m\u001b[1;33m\u001b[0m\u001b[0m\n\u001b[0m\u001b[0;32m    203\u001b[0m                 \u001b[0msumErr\u001b[0m \u001b[1;33m+=\u001b[0m \u001b[0merr\u001b[0m\u001b[1;33m\u001b[0m\u001b[0m\n\u001b[0;32m    204\u001b[0m                 \u001b[1;32mif\u001b[0m \u001b[0mloss\u001b[0m \u001b[1;33m!=\u001b[0m \u001b[0mNone\u001b[0m\u001b[1;33m:\u001b[0m\u001b[1;33m\u001b[0m\u001b[0m\n",
        "\u001b[1;32m/home/ubuntu/anaconda/lib/python2.7/site-packages/gdbn/dbn.pyc\u001b[0m in \u001b[0;36mstepNesterov\u001b[1;34m(self, inputBatch, targetBatch, learnRates, momentum, L2Costs, useDropout)\u001b[0m\n\u001b[0;32m    301\u001b[0m         \u001b[0mself\u001b[0m\u001b[1;33m.\u001b[0m\u001b[0mapplyUpdates\u001b[0m\u001b[1;33m(\u001b[0m\u001b[0mself\u001b[0m\u001b[1;33m.\u001b[0m\u001b[0mweights\u001b[0m\u001b[1;33m,\u001b[0m \u001b[0mself\u001b[0m\u001b[1;33m.\u001b[0m\u001b[0mbiases\u001b[0m\u001b[1;33m,\u001b[0m \u001b[0mcurWeights\u001b[0m\u001b[1;33m,\u001b[0m \u001b[0mcurBiases\u001b[0m\u001b[1;33m,\u001b[0m \u001b[0mself\u001b[0m\u001b[1;33m.\u001b[0m\u001b[0mWGrads\u001b[0m\u001b[1;33m,\u001b[0m \u001b[0mself\u001b[0m\u001b[1;33m.\u001b[0m\u001b[0mbiasGrads\u001b[0m\u001b[1;33m)\u001b[0m\u001b[1;33m\u001b[0m\u001b[0m\n\u001b[0;32m    302\u001b[0m \u001b[1;33m\u001b[0m\u001b[0m\n\u001b[1;32m--> 303\u001b[1;33m         \u001b[0merrSignals\u001b[0m\u001b[1;33m,\u001b[0m \u001b[0moutputActs\u001b[0m\u001b[1;33m,\u001b[0m \u001b[0merror\u001b[0m \u001b[1;33m=\u001b[0m \u001b[0mself\u001b[0m\u001b[1;33m.\u001b[0m\u001b[0mfpropBprop\u001b[0m\u001b[1;33m(\u001b[0m\u001b[0minputBatch\u001b[0m\u001b[1;33m,\u001b[0m \u001b[0mtargetBatch\u001b[0m\u001b[1;33m,\u001b[0m \u001b[0museDropout\u001b[0m\u001b[1;33m)\u001b[0m\u001b[1;33m\u001b[0m\u001b[0m\n\u001b[0m\u001b[0;32m    304\u001b[0m \u001b[1;33m\u001b[0m\u001b[0m\n\u001b[0;32m    305\u001b[0m         \u001b[1;31m#self.scaleDerivs(momentum)\u001b[0m\u001b[1;33m\u001b[0m\u001b[1;33m\u001b[0m\u001b[0m\n",
        "\u001b[1;32m/home/ubuntu/anaconda/lib/python2.7/site-packages/gdbn/dbn.pyc\u001b[0m in \u001b[0;36mfpropBprop\u001b[1;34m(self, inputBatch, targetBatch, useDropout)\u001b[0m\n\u001b[0;32m    259\u001b[0m             \u001b[0moutputActs\u001b[0m \u001b[1;33m=\u001b[0m \u001b[0mself\u001b[0m\u001b[1;33m.\u001b[0m\u001b[0mfpropDropout\u001b[0m\u001b[1;33m(\u001b[0m\u001b[0minputBatch\u001b[0m\u001b[1;33m)\u001b[0m\u001b[1;33m\u001b[0m\u001b[0m\n\u001b[0;32m    260\u001b[0m         \u001b[1;32melse\u001b[0m\u001b[1;33m:\u001b[0m\u001b[1;33m\u001b[0m\u001b[0m\n\u001b[1;32m--> 261\u001b[1;33m             \u001b[0moutputActs\u001b[0m \u001b[1;33m=\u001b[0m \u001b[0mself\u001b[0m\u001b[1;33m.\u001b[0m\u001b[0mfprop\u001b[0m\u001b[1;33m(\u001b[0m\u001b[0minputBatch\u001b[0m\u001b[1;33m)\u001b[0m\u001b[1;33m\u001b[0m\u001b[0m\n\u001b[0m\u001b[0;32m    262\u001b[0m         \u001b[0moutputErrSignal\u001b[0m \u001b[1;33m=\u001b[0m \u001b[1;33m-\u001b[0m\u001b[0mself\u001b[0m\u001b[1;33m.\u001b[0m\u001b[0moutputActFunct\u001b[0m\u001b[1;33m.\u001b[0m\u001b[0mdErrordNetInput\u001b[0m\u001b[1;33m(\u001b[0m\u001b[0mtargetBatch\u001b[0m\u001b[1;33m,\u001b[0m \u001b[0mself\u001b[0m\u001b[1;33m.\u001b[0m\u001b[0mstate\u001b[0m\u001b[1;33m[\u001b[0m\u001b[1;33m-\u001b[0m\u001b[1;36m1\u001b[0m\u001b[1;33m]\u001b[0m\u001b[1;33m,\u001b[0m \u001b[0moutputActs\u001b[0m\u001b[1;33m)\u001b[0m\u001b[1;33m\u001b[0m\u001b[0m\n\u001b[0;32m    263\u001b[0m         \u001b[0merror\u001b[0m \u001b[1;33m=\u001b[0m \u001b[0mself\u001b[0m\u001b[1;33m.\u001b[0m\u001b[0moutputActFunct\u001b[0m\u001b[1;33m.\u001b[0m\u001b[0merror\u001b[0m\u001b[1;33m(\u001b[0m\u001b[0mtargetBatch\u001b[0m\u001b[1;33m,\u001b[0m \u001b[0mself\u001b[0m\u001b[1;33m.\u001b[0m\u001b[0mstate\u001b[0m\u001b[1;33m[\u001b[0m\u001b[1;33m-\u001b[0m\u001b[1;36m1\u001b[0m\u001b[1;33m]\u001b[0m\u001b[1;33m,\u001b[0m \u001b[0moutputActs\u001b[0m\u001b[1;33m)\u001b[0m\u001b[1;33m\u001b[0m\u001b[0m\n",
        "\u001b[1;32m/home/ubuntu/anaconda/lib/python2.7/site-packages/gdbn/dbn.pyc\u001b[0m in \u001b[0;36mfprop\u001b[1;34m(self, inputBatch, weightsToStopBefore)\u001b[0m\n\u001b[0;32m    344\u001b[0m         \u001b[0mself\u001b[0m\u001b[1;33m.\u001b[0m\u001b[0mstate\u001b[0m \u001b[1;33m=\u001b[0m \u001b[1;33m[\u001b[0m\u001b[0minputBatch\u001b[0m\u001b[1;33m]\u001b[0m\u001b[1;33m\u001b[0m\u001b[0m\n\u001b[0;32m    345\u001b[0m         \u001b[1;32mfor\u001b[0m \u001b[0mi\u001b[0m \u001b[1;32min\u001b[0m \u001b[0mrange\u001b[0m\u001b[1;33m(\u001b[0m\u001b[0mmin\u001b[0m\u001b[1;33m(\u001b[0m\u001b[0mlen\u001b[0m\u001b[1;33m(\u001b[0m\u001b[0mself\u001b[0m\u001b[1;33m.\u001b[0m\u001b[0mweights\u001b[0m\u001b[1;33m)\u001b[0m \u001b[1;33m-\u001b[0m \u001b[1;36m1\u001b[0m\u001b[1;33m,\u001b[0m \u001b[0mweightsToStopBefore\u001b[0m\u001b[1;33m)\u001b[0m\u001b[1;33m)\u001b[0m\u001b[1;33m:\u001b[0m\u001b[1;33m\u001b[0m\u001b[0m\n\u001b[1;32m--> 346\u001b[1;33m             \u001b[0mcurActs\u001b[0m \u001b[1;33m=\u001b[0m \u001b[0mself\u001b[0m\u001b[1;33m.\u001b[0m\u001b[0mhidActFuncts\u001b[0m\u001b[1;33m[\u001b[0m\u001b[0mi\u001b[0m\u001b[1;33m]\u001b[0m\u001b[1;33m.\u001b[0m\u001b[0mactivation\u001b[0m\u001b[1;33m(\u001b[0m\u001b[0mgnp\u001b[0m\u001b[1;33m.\u001b[0m\u001b[0mdot\u001b[0m\u001b[1;33m(\u001b[0m\u001b[0mself\u001b[0m\u001b[1;33m.\u001b[0m\u001b[0mstate\u001b[0m\u001b[1;33m[\u001b[0m\u001b[1;33m-\u001b[0m\u001b[1;36m1\u001b[0m\u001b[1;33m]\u001b[0m\u001b[1;33m,\u001b[0m \u001b[0mself\u001b[0m\u001b[1;33m.\u001b[0m\u001b[0mweights\u001b[0m\u001b[1;33m[\u001b[0m\u001b[0mi\u001b[0m\u001b[1;33m]\u001b[0m\u001b[1;33m)\u001b[0m \u001b[1;33m+\u001b[0m \u001b[0mself\u001b[0m\u001b[1;33m.\u001b[0m\u001b[0mbiases\u001b[0m\u001b[1;33m[\u001b[0m\u001b[0mi\u001b[0m\u001b[1;33m]\u001b[0m\u001b[1;33m)\u001b[0m\u001b[1;33m\u001b[0m\u001b[0m\n\u001b[0m\u001b[0;32m    347\u001b[0m             \u001b[0mself\u001b[0m\u001b[1;33m.\u001b[0m\u001b[0mstate\u001b[0m\u001b[1;33m.\u001b[0m\u001b[0mappend\u001b[0m\u001b[1;33m(\u001b[0m\u001b[0mcurActs\u001b[0m\u001b[1;33m)\u001b[0m\u001b[1;33m\u001b[0m\u001b[0m\n\u001b[0;32m    348\u001b[0m         \u001b[1;32mif\u001b[0m \u001b[0mweightsToStopBefore\u001b[0m \u001b[1;33m>=\u001b[0m \u001b[0mlen\u001b[0m\u001b[1;33m(\u001b[0m\u001b[0mself\u001b[0m\u001b[1;33m.\u001b[0m\u001b[0mweights\u001b[0m\u001b[1;33m)\u001b[0m\u001b[1;33m:\u001b[0m\u001b[1;33m\u001b[0m\u001b[0m\n",
        "\u001b[1;32m/home/ubuntu/anaconda/lib/python2.7/site-packages/gnumpy.pyc\u001b[0m in \u001b[0;36mdot\u001b[1;34m(a1, a2)\u001b[0m\n\u001b[0;32m    366\u001b[0m  \u001b[1;32mif\u001b[0m \u001b[0ma1\u001b[0m\u001b[1;33m.\u001b[0m\u001b[0mndim\u001b[0m\u001b[1;33m==\u001b[0m\u001b[1;36m2\u001b[0m \u001b[1;32mand\u001b[0m \u001b[0ma2\u001b[0m\u001b[1;33m.\u001b[0m\u001b[0mndim\u001b[0m\u001b[1;33m==\u001b[0m\u001b[1;36m1\u001b[0m\u001b[1;33m:\u001b[0m \u001b[1;32mreturn\u001b[0m \u001b[0mdot\u001b[0m\u001b[1;33m(\u001b[0m\u001b[0ma1\u001b[0m\u001b[1;33m,\u001b[0m \u001b[0ma2\u001b[0m\u001b[1;33m.\u001b[0m\u001b[0mreshape\u001b[0m\u001b[1;33m(\u001b[0m\u001b[0ma2\u001b[0m\u001b[1;33m.\u001b[0m\u001b[0msize\u001b[0m\u001b[1;33m,\u001b[0m \u001b[1;36m1\u001b[0m\u001b[1;33m)\u001b[0m\u001b[1;33m)\u001b[0m\u001b[1;33m.\u001b[0m\u001b[0mravel\u001b[0m\u001b[1;33m(\u001b[0m\u001b[1;33m)\u001b[0m \u001b[1;31m# treat a2 like a column vector\u001b[0m\u001b[1;33m\u001b[0m\u001b[0m\n\u001b[0;32m    367\u001b[0m  \u001b[1;32mif\u001b[0m \u001b[0ma1\u001b[0m\u001b[1;33m.\u001b[0m\u001b[0mndim\u001b[0m\u001b[1;33m==\u001b[0m\u001b[1;36m1\u001b[0m \u001b[1;32mand\u001b[0m \u001b[0ma2\u001b[0m\u001b[1;33m.\u001b[0m\u001b[0mndim\u001b[0m\u001b[1;33m==\u001b[0m\u001b[1;36m2\u001b[0m\u001b[1;33m:\u001b[0m \u001b[1;32mreturn\u001b[0m \u001b[0mdot\u001b[0m\u001b[1;33m(\u001b[0m\u001b[0ma1\u001b[0m\u001b[1;33m.\u001b[0m\u001b[0m_add_axes\u001b[0m\u001b[1;33m(\u001b[0m\u001b[1;36m2\u001b[0m\u001b[1;33m)\u001b[0m\u001b[1;33m,\u001b[0m \u001b[0ma2\u001b[0m\u001b[1;33m)\u001b[0m\u001b[1;33m[\u001b[0m\u001b[1;36m0\u001b[0m\u001b[1;33m]\u001b[0m   \u001b[1;31m# treat a1 like a row vector\u001b[0m\u001b[1;33m\u001b[0m\u001b[0m\n\u001b[1;32m--> 368\u001b[1;33m  \u001b[1;32mif\u001b[0m \u001b[0ma1\u001b[0m\u001b[1;33m.\u001b[0m\u001b[0mshape\u001b[0m\u001b[1;33m[\u001b[0m\u001b[1;33m-\u001b[0m\u001b[1;36m1\u001b[0m\u001b[1;33m]\u001b[0m \u001b[1;33m!=\u001b[0m \u001b[0ma2\u001b[0m\u001b[1;33m.\u001b[0m\u001b[0mshape\u001b[0m\u001b[1;33m[\u001b[0m\u001b[1;33m-\u001b[0m\u001b[1;36m2\u001b[0m\u001b[1;33m]\u001b[0m\u001b[1;33m:\u001b[0m \u001b[1;32mraise\u001b[0m \u001b[0mValueError\u001b[0m\u001b[1;33m(\u001b[0m\u001b[1;34m'arrays not aligned for dot product. a dot product was requested of arrays with shapes %s and %s'\u001b[0m \u001b[1;33m%\u001b[0m \u001b[1;33m(\u001b[0m\u001b[0ma1\u001b[0m\u001b[1;33m.\u001b[0m\u001b[0mshape\u001b[0m\u001b[1;33m,\u001b[0m \u001b[0ma2\u001b[0m\u001b[1;33m.\u001b[0m\u001b[0mshape\u001b[0m\u001b[1;33m)\u001b[0m\u001b[1;33m)\u001b[0m\u001b[1;33m\u001b[0m\u001b[0m\n\u001b[0m\u001b[0;32m    369\u001b[0m  \u001b[1;32mif\u001b[0m \u001b[0ma1\u001b[0m\u001b[1;33m.\u001b[0m\u001b[0mndim\u001b[0m\u001b[1;33m==\u001b[0m\u001b[0ma2\u001b[0m\u001b[1;33m.\u001b[0m\u001b[0mndim\u001b[0m\u001b[1;33m==\u001b[0m\u001b[1;36m2\u001b[0m\u001b[1;33m:\u001b[0m\u001b[1;33m\u001b[0m\u001b[0m\n\u001b[0;32m    370\u001b[0m   \u001b[0mretShape\u001b[0m \u001b[1;33m=\u001b[0m \u001b[1;33m(\u001b[0m\u001b[0ma1\u001b[0m\u001b[1;33m.\u001b[0m\u001b[0mshape\u001b[0m\u001b[1;33m[\u001b[0m\u001b[1;36m0\u001b[0m\u001b[1;33m]\u001b[0m\u001b[1;33m,\u001b[0m \u001b[0ma2\u001b[0m\u001b[1;33m.\u001b[0m\u001b[0mshape\u001b[0m\u001b[1;33m[\u001b[0m\u001b[1;36m1\u001b[0m\u001b[1;33m]\u001b[0m\u001b[1;33m)\u001b[0m\u001b[1;33m\u001b[0m\u001b[0m\n",
        "\u001b[1;31mValueError\u001b[0m: arrays not aligned for dot product. a dot product was requested of arrays with shapes (1157, 64) and (3580, 2000)"
       ]
      }
     ],
     "prompt_number": 43
    },
    {
     "cell_type": "code",
     "collapsed": false,
     "input": [
      "predictors = {\"Ca\": clf,\n",
      "              \"P\": clf,\n",
      "              \"pH\": clf,\n",
      "              \"SOC\": clf,\n",
      "              \"Sand\": clf}\n",
      "train4target = {\"Ca\": train_noCO2,\n",
      "                \"P\": train_noCO2,\n",
      "                \"pH\": train_noCO2,\n",
      "                \"SOC\": train_noCO2,\n",
      "                \"Sand\": train_noCO2}\n",
      "test4target = {\"Ca\": test_noCO2,\n",
      "               \"P\": test_noCO2,\n",
      "               \"pH\": test_noCO2,\n",
      "               \"SOC\": test_noCO2,\n",
      "               \"Sand\": test_noCO2}\n",
      "\n",
      "cv_results = cross_validate_columns2(predictors, train4target, labels)\n",
      "\n",
      "print '\\n', cv_results, '\\n'\n",
      "fit_and_predict2(predictors, train4target,\n",
      "                 labels, test4target,\n",
      "                 outfile)"
     ],
     "language": "python",
     "metadata": {},
     "outputs": [
      {
       "output_type": "stream",
       "stream": "stdout",
       "text": [
        "\n",
        "Running CV for target Ca\n",
        "[DBN] fitting X.shape=(925, 3580)\n",
        "[DBN] layers [3580, 1200, 1]\n",
        "[DBN] Fine-tune..."
       ]
      },
      {
       "output_type": "stream",
       "stream": "stdout",
       "text": [
        "\n"
       ]
      },
      {
       "ename": "ValueError",
       "evalue": "arrays not aligned for dot product. a dot product was requested of arrays with shapes (64, 10) and (1, 1200)",
       "output_type": "pyerr",
       "traceback": [
        "\u001b[1;31m---------------------------------------------------------------------------\u001b[0m\n\u001b[1;31mValueError\u001b[0m                                Traceback (most recent call last)",
        "\u001b[1;32m<ipython-input-13-feff728cd831>\u001b[0m in \u001b[0;36m<module>\u001b[1;34m()\u001b[0m\n\u001b[0;32m     15\u001b[0m                \"Sand\": test_noCO2}\n\u001b[0;32m     16\u001b[0m \u001b[1;33m\u001b[0m\u001b[0m\n\u001b[1;32m---> 17\u001b[1;33m \u001b[0mcv_results\u001b[0m \u001b[1;33m=\u001b[0m \u001b[0mcross_validate_columns2\u001b[0m\u001b[1;33m(\u001b[0m\u001b[0mpredictors\u001b[0m\u001b[1;33m,\u001b[0m \u001b[0mtrain4target\u001b[0m\u001b[1;33m,\u001b[0m \u001b[0mlabels\u001b[0m\u001b[1;33m)\u001b[0m\u001b[1;33m\u001b[0m\u001b[0m\n\u001b[0m\u001b[0;32m     18\u001b[0m \u001b[1;33m\u001b[0m\u001b[0m\n\u001b[0;32m     19\u001b[0m \u001b[1;32mprint\u001b[0m \u001b[1;34m'\\n'\u001b[0m\u001b[1;33m,\u001b[0m \u001b[0mcv_results\u001b[0m\u001b[1;33m,\u001b[0m \u001b[1;34m'\\n'\u001b[0m\u001b[1;33m\u001b[0m\u001b[0m\n",
        "\u001b[1;32m<ipython-input-12-30dbd2ea3099>\u001b[0m in \u001b[0;36mcross_validate_columns2\u001b[1;34m(predictors, train4target, label_data)\u001b[0m\n\u001b[0;32m    111\u001b[0m                                                                     \u001b[0mlabel_data\u001b[0m\u001b[1;33m[\u001b[0m\u001b[0mt\u001b[0m\u001b[1;33m]\u001b[0m\u001b[1;33m.\u001b[0m\u001b[0mvalues\u001b[0m\u001b[1;33m,\u001b[0m\u001b[1;33m\u001b[0m\u001b[0m\n\u001b[0;32m    112\u001b[0m                                                                     \u001b[0mscoring\u001b[0m\u001b[1;33m=\u001b[0m\u001b[1;34m'mean_squared_error'\u001b[0m\u001b[1;33m,\u001b[0m\u001b[1;33m\u001b[0m\u001b[0m\n\u001b[1;32m--> 113\u001b[1;33m                                                                     cv=kfolds))\n\u001b[0m\u001b[0;32m    114\u001b[0m     \u001b[0mcv_results\u001b[0m \u001b[1;33m=\u001b[0m \u001b[0mpd\u001b[0m\u001b[1;33m.\u001b[0m\u001b[0mDataFrame\u001b[0m\u001b[1;33m(\u001b[0m\u001b[0mcv_scores\u001b[0m\u001b[1;33m)\u001b[0m\u001b[1;33m[\u001b[0m\u001b[0mtarget_colnames\u001b[0m\u001b[1;33m]\u001b[0m\u001b[1;33m\u001b[0m\u001b[0m\n\u001b[0;32m    115\u001b[0m     \u001b[0mcv_results\u001b[0m\u001b[1;33m[\u001b[0m\u001b[1;34m'MCRMSE'\u001b[0m\u001b[1;33m]\u001b[0m \u001b[1;33m=\u001b[0m \u001b[0mcv_results\u001b[0m\u001b[1;33m.\u001b[0m\u001b[0mapply\u001b[0m\u001b[1;33m(\u001b[0m\u001b[1;32mlambda\u001b[0m \u001b[0mrow\u001b[0m\u001b[1;33m:\u001b[0m \u001b[0mnp\u001b[0m\u001b[1;33m.\u001b[0m\u001b[0mmean\u001b[0m\u001b[1;33m(\u001b[0m\u001b[1;33m[\u001b[0m\u001b[0mnp\u001b[0m\u001b[1;33m.\u001b[0m\u001b[0msqrt\u001b[0m\u001b[1;33m(\u001b[0m\u001b[0mrow\u001b[0m\u001b[1;33m[\u001b[0m\u001b[0mt\u001b[0m\u001b[1;33m]\u001b[0m\u001b[1;33m)\u001b[0m \u001b[1;32mfor\u001b[0m \u001b[0mt\u001b[0m \u001b[1;32min\u001b[0m \u001b[0mtarget_colnames\u001b[0m\u001b[1;33m]\u001b[0m\u001b[1;33m)\u001b[0m\u001b[1;33m,\u001b[0m \u001b[0maxis\u001b[0m\u001b[1;33m=\u001b[0m\u001b[1;36m1\u001b[0m\u001b[1;33m)\u001b[0m\u001b[1;33m\u001b[0m\u001b[0m\n",
        "\u001b[1;32m/home/ubuntu/anaconda/lib/python2.7/site-packages/sklearn/cross_validation.pyc\u001b[0m in \u001b[0;36mcross_val_score\u001b[1;34m(estimator, X, y, scoring, cv, n_jobs, verbose, fit_params, score_func, pre_dispatch)\u001b[0m\n\u001b[0;32m   1149\u001b[0m                                               \u001b[0mtrain\u001b[0m\u001b[1;33m,\u001b[0m \u001b[0mtest\u001b[0m\u001b[1;33m,\u001b[0m \u001b[0mverbose\u001b[0m\u001b[1;33m,\u001b[0m \u001b[0mNone\u001b[0m\u001b[1;33m,\u001b[0m\u001b[1;33m\u001b[0m\u001b[0m\n\u001b[0;32m   1150\u001b[0m                                               fit_params)\n\u001b[1;32m-> 1151\u001b[1;33m                       for train, test in cv)\n\u001b[0m\u001b[0;32m   1152\u001b[0m     \u001b[1;32mreturn\u001b[0m \u001b[0mnp\u001b[0m\u001b[1;33m.\u001b[0m\u001b[0marray\u001b[0m\u001b[1;33m(\u001b[0m\u001b[0mscores\u001b[0m\u001b[1;33m)\u001b[0m\u001b[1;33m[\u001b[0m\u001b[1;33m:\u001b[0m\u001b[1;33m,\u001b[0m \u001b[1;36m0\u001b[0m\u001b[1;33m]\u001b[0m\u001b[1;33m\u001b[0m\u001b[0m\n\u001b[0;32m   1153\u001b[0m \u001b[1;33m\u001b[0m\u001b[0m\n",
        "\u001b[1;32m/home/ubuntu/anaconda/lib/python2.7/site-packages/sklearn/externals/joblib/parallel.pyc\u001b[0m in \u001b[0;36m__call__\u001b[1;34m(self, iterable)\u001b[0m\n\u001b[0;32m    651\u001b[0m             \u001b[0mself\u001b[0m\u001b[1;33m.\u001b[0m\u001b[0m_iterating\u001b[0m \u001b[1;33m=\u001b[0m \u001b[0mTrue\u001b[0m\u001b[1;33m\u001b[0m\u001b[0m\n\u001b[0;32m    652\u001b[0m             \u001b[1;32mfor\u001b[0m \u001b[0mfunction\u001b[0m\u001b[1;33m,\u001b[0m \u001b[0margs\u001b[0m\u001b[1;33m,\u001b[0m \u001b[0mkwargs\u001b[0m \u001b[1;32min\u001b[0m \u001b[0miterable\u001b[0m\u001b[1;33m:\u001b[0m\u001b[1;33m\u001b[0m\u001b[0m\n\u001b[1;32m--> 653\u001b[1;33m                 \u001b[0mself\u001b[0m\u001b[1;33m.\u001b[0m\u001b[0mdispatch\u001b[0m\u001b[1;33m(\u001b[0m\u001b[0mfunction\u001b[0m\u001b[1;33m,\u001b[0m \u001b[0margs\u001b[0m\u001b[1;33m,\u001b[0m \u001b[0mkwargs\u001b[0m\u001b[1;33m)\u001b[0m\u001b[1;33m\u001b[0m\u001b[0m\n\u001b[0m\u001b[0;32m    654\u001b[0m \u001b[1;33m\u001b[0m\u001b[0m\n\u001b[0;32m    655\u001b[0m             \u001b[1;32mif\u001b[0m \u001b[0mpre_dispatch\u001b[0m \u001b[1;33m==\u001b[0m \u001b[1;34m\"all\"\u001b[0m \u001b[1;32mor\u001b[0m \u001b[0mn_jobs\u001b[0m \u001b[1;33m==\u001b[0m \u001b[1;36m1\u001b[0m\u001b[1;33m:\u001b[0m\u001b[1;33m\u001b[0m\u001b[0m\n",
        "\u001b[1;32m/home/ubuntu/anaconda/lib/python2.7/site-packages/sklearn/externals/joblib/parallel.pyc\u001b[0m in \u001b[0;36mdispatch\u001b[1;34m(self, func, args, kwargs)\u001b[0m\n\u001b[0;32m    398\u001b[0m         \"\"\"\n\u001b[0;32m    399\u001b[0m         \u001b[1;32mif\u001b[0m \u001b[0mself\u001b[0m\u001b[1;33m.\u001b[0m\u001b[0m_pool\u001b[0m \u001b[1;32mis\u001b[0m \u001b[0mNone\u001b[0m\u001b[1;33m:\u001b[0m\u001b[1;33m\u001b[0m\u001b[0m\n\u001b[1;32m--> 400\u001b[1;33m             \u001b[0mjob\u001b[0m \u001b[1;33m=\u001b[0m \u001b[0mImmediateApply\u001b[0m\u001b[1;33m(\u001b[0m\u001b[0mfunc\u001b[0m\u001b[1;33m,\u001b[0m \u001b[0margs\u001b[0m\u001b[1;33m,\u001b[0m \u001b[0mkwargs\u001b[0m\u001b[1;33m)\u001b[0m\u001b[1;33m\u001b[0m\u001b[0m\n\u001b[0m\u001b[0;32m    401\u001b[0m             \u001b[0mindex\u001b[0m \u001b[1;33m=\u001b[0m \u001b[0mlen\u001b[0m\u001b[1;33m(\u001b[0m\u001b[0mself\u001b[0m\u001b[1;33m.\u001b[0m\u001b[0m_jobs\u001b[0m\u001b[1;33m)\u001b[0m\u001b[1;33m\u001b[0m\u001b[0m\n\u001b[0;32m    402\u001b[0m             \u001b[1;32mif\u001b[0m \u001b[1;32mnot\u001b[0m \u001b[0m_verbosity_filter\u001b[0m\u001b[1;33m(\u001b[0m\u001b[0mindex\u001b[0m\u001b[1;33m,\u001b[0m \u001b[0mself\u001b[0m\u001b[1;33m.\u001b[0m\u001b[0mverbose\u001b[0m\u001b[1;33m)\u001b[0m\u001b[1;33m:\u001b[0m\u001b[1;33m\u001b[0m\u001b[0m\n",
        "\u001b[1;32m/home/ubuntu/anaconda/lib/python2.7/site-packages/sklearn/externals/joblib/parallel.pyc\u001b[0m in \u001b[0;36m__init__\u001b[1;34m(self, func, args, kwargs)\u001b[0m\n\u001b[0;32m    136\u001b[0m         \u001b[1;31m# Don't delay the application, to avoid keeping the input\u001b[0m\u001b[1;33m\u001b[0m\u001b[1;33m\u001b[0m\u001b[0m\n\u001b[0;32m    137\u001b[0m         \u001b[1;31m# arguments in memory\u001b[0m\u001b[1;33m\u001b[0m\u001b[1;33m\u001b[0m\u001b[0m\n\u001b[1;32m--> 138\u001b[1;33m         \u001b[0mself\u001b[0m\u001b[1;33m.\u001b[0m\u001b[0mresults\u001b[0m \u001b[1;33m=\u001b[0m \u001b[0mfunc\u001b[0m\u001b[1;33m(\u001b[0m\u001b[1;33m*\u001b[0m\u001b[0margs\u001b[0m\u001b[1;33m,\u001b[0m \u001b[1;33m**\u001b[0m\u001b[0mkwargs\u001b[0m\u001b[1;33m)\u001b[0m\u001b[1;33m\u001b[0m\u001b[0m\n\u001b[0m\u001b[0;32m    139\u001b[0m \u001b[1;33m\u001b[0m\u001b[0m\n\u001b[0;32m    140\u001b[0m     \u001b[1;32mdef\u001b[0m \u001b[0mget\u001b[0m\u001b[1;33m(\u001b[0m\u001b[0mself\u001b[0m\u001b[1;33m)\u001b[0m\u001b[1;33m:\u001b[0m\u001b[1;33m\u001b[0m\u001b[0m\n",
        "\u001b[1;32m/home/ubuntu/anaconda/lib/python2.7/site-packages/sklearn/cross_validation.pyc\u001b[0m in \u001b[0;36m_fit_and_score\u001b[1;34m(estimator, X, y, scorer, train, test, verbose, parameters, fit_params, return_train_score, return_parameters)\u001b[0m\n\u001b[0;32m   1237\u001b[0m         \u001b[0mestimator\u001b[0m\u001b[1;33m.\u001b[0m\u001b[0mfit\u001b[0m\u001b[1;33m(\u001b[0m\u001b[0mX_train\u001b[0m\u001b[1;33m,\u001b[0m \u001b[1;33m**\u001b[0m\u001b[0mfit_params\u001b[0m\u001b[1;33m)\u001b[0m\u001b[1;33m\u001b[0m\u001b[0m\n\u001b[0;32m   1238\u001b[0m     \u001b[1;32melse\u001b[0m\u001b[1;33m:\u001b[0m\u001b[1;33m\u001b[0m\u001b[0m\n\u001b[1;32m-> 1239\u001b[1;33m         \u001b[0mestimator\u001b[0m\u001b[1;33m.\u001b[0m\u001b[0mfit\u001b[0m\u001b[1;33m(\u001b[0m\u001b[0mX_train\u001b[0m\u001b[1;33m,\u001b[0m \u001b[0my_train\u001b[0m\u001b[1;33m,\u001b[0m \u001b[1;33m**\u001b[0m\u001b[0mfit_params\u001b[0m\u001b[1;33m)\u001b[0m\u001b[1;33m\u001b[0m\u001b[0m\n\u001b[0m\u001b[0;32m   1240\u001b[0m     \u001b[0mtest_score\u001b[0m \u001b[1;33m=\u001b[0m \u001b[0m_score\u001b[0m\u001b[1;33m(\u001b[0m\u001b[0mestimator\u001b[0m\u001b[1;33m,\u001b[0m \u001b[0mX_test\u001b[0m\u001b[1;33m,\u001b[0m \u001b[0my_test\u001b[0m\u001b[1;33m,\u001b[0m \u001b[0mscorer\u001b[0m\u001b[1;33m)\u001b[0m\u001b[1;33m\u001b[0m\u001b[0m\n\u001b[0;32m   1241\u001b[0m     \u001b[1;32mif\u001b[0m \u001b[0mreturn_train_score\u001b[0m\u001b[1;33m:\u001b[0m\u001b[1;33m\u001b[0m\u001b[0m\n",
        "\u001b[1;32m/home/ubuntu/anaconda/lib/python2.7/site-packages/nolearn/dbn.pyc\u001b[0m in \u001b[0;36mfit\u001b[1;34m(self, X, y)\u001b[0m\n\u001b[0;32m    388\u001b[0m                 \u001b[0mloss_funct\u001b[0m\u001b[1;33m,\u001b[0m\u001b[1;33m\u001b[0m\u001b[0m\n\u001b[0;32m    389\u001b[0m                 \u001b[0mself\u001b[0m\u001b[1;33m.\u001b[0m\u001b[0mverbose\u001b[0m\u001b[1;33m,\u001b[0m\u001b[1;33m\u001b[0m\u001b[0m\n\u001b[1;32m--> 390\u001b[1;33m                 \u001b[0mself\u001b[0m\u001b[1;33m.\u001b[0m\u001b[0muse_dropout\u001b[0m\u001b[1;33m,\u001b[0m\u001b[1;33m\u001b[0m\u001b[0m\n\u001b[0m\u001b[0;32m    391\u001b[0m                 )):\n\u001b[0;32m    392\u001b[0m             \u001b[0mlosses_fine_tune\u001b[0m\u001b[1;33m.\u001b[0m\u001b[0mappend\u001b[0m\u001b[1;33m(\u001b[0m\u001b[0mloss\u001b[0m\u001b[1;33m)\u001b[0m\u001b[1;33m\u001b[0m\u001b[0m\n",
        "\u001b[1;32m/home/ubuntu/anaconda/lib/python2.7/site-packages/gdbn/dbn.pyc\u001b[0m in \u001b[0;36mfineTune\u001b[1;34m(self, minibatchStream, epochs, mbPerEpoch, loss, progressBar, useDropout)\u001b[0m\n\u001b[0;32m    200\u001b[0m             \u001b[1;32mfor\u001b[0m \u001b[0mi\u001b[0m \u001b[1;32min\u001b[0m \u001b[0mrange\u001b[0m\u001b[1;33m(\u001b[0m\u001b[0mmbPerEpoch\u001b[0m\u001b[1;33m)\u001b[0m\u001b[1;33m:\u001b[0m\u001b[1;33m\u001b[0m\u001b[0m\n\u001b[0;32m    201\u001b[0m                 \u001b[0minpMB\u001b[0m\u001b[1;33m,\u001b[0m \u001b[0mtargMB\u001b[0m \u001b[1;33m=\u001b[0m \u001b[0mminibatchStream\u001b[0m\u001b[1;33m.\u001b[0m\u001b[0mnext\u001b[0m\u001b[1;33m(\u001b[0m\u001b[1;33m)\u001b[0m\u001b[1;33m\u001b[0m\u001b[0m\n\u001b[1;32m--> 202\u001b[1;33m                 \u001b[0merr\u001b[0m\u001b[1;33m,\u001b[0m \u001b[0moutMB\u001b[0m \u001b[1;33m=\u001b[0m \u001b[0mstep\u001b[0m\u001b[1;33m(\u001b[0m\u001b[0minpMB\u001b[0m\u001b[1;33m,\u001b[0m \u001b[0mtargMB\u001b[0m\u001b[1;33m,\u001b[0m \u001b[0mself\u001b[0m\u001b[1;33m.\u001b[0m\u001b[0mlearnRates\u001b[0m\u001b[1;33m,\u001b[0m \u001b[0mself\u001b[0m\u001b[1;33m.\u001b[0m\u001b[0mmomentum\u001b[0m\u001b[1;33m,\u001b[0m \u001b[0mself\u001b[0m\u001b[1;33m.\u001b[0m\u001b[0mL2Costs\u001b[0m\u001b[1;33m,\u001b[0m \u001b[0museDropout\u001b[0m\u001b[1;33m)\u001b[0m\u001b[1;33m\u001b[0m\u001b[0m\n\u001b[0m\u001b[0;32m    203\u001b[0m                 \u001b[0msumErr\u001b[0m \u001b[1;33m+=\u001b[0m \u001b[0merr\u001b[0m\u001b[1;33m\u001b[0m\u001b[0m\n\u001b[0;32m    204\u001b[0m                 \u001b[1;32mif\u001b[0m \u001b[0mloss\u001b[0m \u001b[1;33m!=\u001b[0m \u001b[0mNone\u001b[0m\u001b[1;33m:\u001b[0m\u001b[1;33m\u001b[0m\u001b[0m\n",
        "\u001b[1;32m/home/ubuntu/anaconda/lib/python2.7/site-packages/gdbn/dbn.pyc\u001b[0m in \u001b[0;36mstepNesterov\u001b[1;34m(self, inputBatch, targetBatch, learnRates, momentum, L2Costs, useDropout)\u001b[0m\n\u001b[0;32m    301\u001b[0m         \u001b[0mself\u001b[0m\u001b[1;33m.\u001b[0m\u001b[0mapplyUpdates\u001b[0m\u001b[1;33m(\u001b[0m\u001b[0mself\u001b[0m\u001b[1;33m.\u001b[0m\u001b[0mweights\u001b[0m\u001b[1;33m,\u001b[0m \u001b[0mself\u001b[0m\u001b[1;33m.\u001b[0m\u001b[0mbiases\u001b[0m\u001b[1;33m,\u001b[0m \u001b[0mcurWeights\u001b[0m\u001b[1;33m,\u001b[0m \u001b[0mcurBiases\u001b[0m\u001b[1;33m,\u001b[0m \u001b[0mself\u001b[0m\u001b[1;33m.\u001b[0m\u001b[0mWGrads\u001b[0m\u001b[1;33m,\u001b[0m \u001b[0mself\u001b[0m\u001b[1;33m.\u001b[0m\u001b[0mbiasGrads\u001b[0m\u001b[1;33m)\u001b[0m\u001b[1;33m\u001b[0m\u001b[0m\n\u001b[0;32m    302\u001b[0m \u001b[1;33m\u001b[0m\u001b[0m\n\u001b[1;32m--> 303\u001b[1;33m         \u001b[0merrSignals\u001b[0m\u001b[1;33m,\u001b[0m \u001b[0moutputActs\u001b[0m\u001b[1;33m,\u001b[0m \u001b[0merror\u001b[0m \u001b[1;33m=\u001b[0m \u001b[0mself\u001b[0m\u001b[1;33m.\u001b[0m\u001b[0mfpropBprop\u001b[0m\u001b[1;33m(\u001b[0m\u001b[0minputBatch\u001b[0m\u001b[1;33m,\u001b[0m \u001b[0mtargetBatch\u001b[0m\u001b[1;33m,\u001b[0m \u001b[0museDropout\u001b[0m\u001b[1;33m)\u001b[0m\u001b[1;33m\u001b[0m\u001b[0m\n\u001b[0m\u001b[0;32m    304\u001b[0m \u001b[1;33m\u001b[0m\u001b[0m\n\u001b[0;32m    305\u001b[0m         \u001b[1;31m#self.scaleDerivs(momentum)\u001b[0m\u001b[1;33m\u001b[0m\u001b[1;33m\u001b[0m\u001b[0m\n",
        "\u001b[1;32m/home/ubuntu/anaconda/lib/python2.7/site-packages/gdbn/dbn.pyc\u001b[0m in \u001b[0;36mfpropBprop\u001b[1;34m(self, inputBatch, targetBatch, useDropout)\u001b[0m\n\u001b[0;32m    262\u001b[0m         \u001b[0moutputErrSignal\u001b[0m \u001b[1;33m=\u001b[0m \u001b[1;33m-\u001b[0m\u001b[0mself\u001b[0m\u001b[1;33m.\u001b[0m\u001b[0moutputActFunct\u001b[0m\u001b[1;33m.\u001b[0m\u001b[0mdErrordNetInput\u001b[0m\u001b[1;33m(\u001b[0m\u001b[0mtargetBatch\u001b[0m\u001b[1;33m,\u001b[0m \u001b[0mself\u001b[0m\u001b[1;33m.\u001b[0m\u001b[0mstate\u001b[0m\u001b[1;33m[\u001b[0m\u001b[1;33m-\u001b[0m\u001b[1;36m1\u001b[0m\u001b[1;33m]\u001b[0m\u001b[1;33m,\u001b[0m \u001b[0moutputActs\u001b[0m\u001b[1;33m)\u001b[0m\u001b[1;33m\u001b[0m\u001b[0m\n\u001b[0;32m    263\u001b[0m         \u001b[0merror\u001b[0m \u001b[1;33m=\u001b[0m \u001b[0mself\u001b[0m\u001b[1;33m.\u001b[0m\u001b[0moutputActFunct\u001b[0m\u001b[1;33m.\u001b[0m\u001b[0merror\u001b[0m\u001b[1;33m(\u001b[0m\u001b[0mtargetBatch\u001b[0m\u001b[1;33m,\u001b[0m \u001b[0mself\u001b[0m\u001b[1;33m.\u001b[0m\u001b[0mstate\u001b[0m\u001b[1;33m[\u001b[0m\u001b[1;33m-\u001b[0m\u001b[1;36m1\u001b[0m\u001b[1;33m]\u001b[0m\u001b[1;33m,\u001b[0m \u001b[0moutputActs\u001b[0m\u001b[1;33m)\u001b[0m\u001b[1;33m\u001b[0m\u001b[0m\n\u001b[1;32m--> 264\u001b[1;33m         \u001b[0merrSignals\u001b[0m \u001b[1;33m=\u001b[0m \u001b[0mself\u001b[0m\u001b[1;33m.\u001b[0m\u001b[0mbprop\u001b[0m\u001b[1;33m(\u001b[0m\u001b[0moutputErrSignal\u001b[0m\u001b[1;33m)\u001b[0m\u001b[1;33m\u001b[0m\u001b[0m\n\u001b[0m\u001b[0;32m    265\u001b[0m         \u001b[1;32mreturn\u001b[0m \u001b[0merrSignals\u001b[0m\u001b[1;33m,\u001b[0m \u001b[0moutputActs\u001b[0m\u001b[1;33m,\u001b[0m \u001b[0merror\u001b[0m\u001b[1;33m\u001b[0m\u001b[0m\n\u001b[0;32m    266\u001b[0m \u001b[1;33m\u001b[0m\u001b[0m\n",
        "\u001b[1;32m/home/ubuntu/anaconda/lib/python2.7/site-packages/gdbn/dbn.pyc\u001b[0m in \u001b[0;36mbprop\u001b[1;34m(self, outputErrSignal, fpropState)\u001b[0m\n\u001b[0;32m    399\u001b[0m         \u001b[0merrSignals\u001b[0m\u001b[1;33m[\u001b[0m\u001b[1;33m-\u001b[0m\u001b[1;36m1\u001b[0m\u001b[1;33m]\u001b[0m \u001b[1;33m=\u001b[0m \u001b[0moutputErrSignal\u001b[0m\u001b[1;33m\u001b[0m\u001b[0m\n\u001b[0;32m    400\u001b[0m         \u001b[1;32mfor\u001b[0m \u001b[0mi\u001b[0m \u001b[1;32min\u001b[0m \u001b[0mreversed\u001b[0m\u001b[1;33m(\u001b[0m\u001b[0mrange\u001b[0m\u001b[1;33m(\u001b[0m\u001b[0mlen\u001b[0m\u001b[1;33m(\u001b[0m\u001b[0mself\u001b[0m\u001b[1;33m.\u001b[0m\u001b[0mweights\u001b[0m\u001b[1;33m)\u001b[0m \u001b[1;33m-\u001b[0m \u001b[1;36m1\u001b[0m\u001b[1;33m)\u001b[0m\u001b[1;33m)\u001b[0m\u001b[1;33m:\u001b[0m\u001b[1;33m\u001b[0m\u001b[0m\n\u001b[1;32m--> 401\u001b[1;33m             \u001b[0merrSignals\u001b[0m\u001b[1;33m[\u001b[0m\u001b[0mi\u001b[0m\u001b[1;33m]\u001b[0m \u001b[1;33m=\u001b[0m \u001b[0mgnp\u001b[0m\u001b[1;33m.\u001b[0m\u001b[0mdot\u001b[0m\u001b[1;33m(\u001b[0m\u001b[0merrSignals\u001b[0m\u001b[1;33m[\u001b[0m\u001b[0mi\u001b[0m\u001b[1;33m+\u001b[0m\u001b[1;36m1\u001b[0m\u001b[1;33m]\u001b[0m\u001b[1;33m,\u001b[0m \u001b[0mself\u001b[0m\u001b[1;33m.\u001b[0m\u001b[0mweights\u001b[0m\u001b[1;33m[\u001b[0m\u001b[0mi\u001b[0m\u001b[1;33m+\u001b[0m\u001b[1;36m1\u001b[0m\u001b[1;33m]\u001b[0m\u001b[1;33m.\u001b[0m\u001b[0mT\u001b[0m\u001b[1;33m)\u001b[0m\u001b[1;33m*\u001b[0m\u001b[0mself\u001b[0m\u001b[1;33m.\u001b[0m\u001b[0mhidActFuncts\u001b[0m\u001b[1;33m[\u001b[0m\u001b[0mi\u001b[0m\u001b[1;33m]\u001b[0m\u001b[1;33m.\u001b[0m\u001b[0mdEdNetInput\u001b[0m\u001b[1;33m(\u001b[0m\u001b[0mfpropState\u001b[0m\u001b[1;33m[\u001b[0m\u001b[0mi\u001b[0m\u001b[1;33m+\u001b[0m\u001b[1;36m1\u001b[0m\u001b[1;33m]\u001b[0m\u001b[1;33m)\u001b[0m\u001b[1;33m\u001b[0m\u001b[0m\n\u001b[0m\u001b[0;32m    402\u001b[0m         \u001b[1;32mreturn\u001b[0m \u001b[0merrSignals\u001b[0m\u001b[1;33m\u001b[0m\u001b[0m\n\u001b[0;32m    403\u001b[0m \u001b[1;33m\u001b[0m\u001b[0m\n",
        "\u001b[1;32m/home/ubuntu/anaconda/lib/python2.7/site-packages/gnumpy.pyc\u001b[0m in \u001b[0;36mdot\u001b[1;34m(a1, a2)\u001b[0m\n\u001b[0;32m    366\u001b[0m  \u001b[1;32mif\u001b[0m \u001b[0ma1\u001b[0m\u001b[1;33m.\u001b[0m\u001b[0mndim\u001b[0m\u001b[1;33m==\u001b[0m\u001b[1;36m2\u001b[0m \u001b[1;32mand\u001b[0m \u001b[0ma2\u001b[0m\u001b[1;33m.\u001b[0m\u001b[0mndim\u001b[0m\u001b[1;33m==\u001b[0m\u001b[1;36m1\u001b[0m\u001b[1;33m:\u001b[0m \u001b[1;32mreturn\u001b[0m \u001b[0mdot\u001b[0m\u001b[1;33m(\u001b[0m\u001b[0ma1\u001b[0m\u001b[1;33m,\u001b[0m \u001b[0ma2\u001b[0m\u001b[1;33m.\u001b[0m\u001b[0mreshape\u001b[0m\u001b[1;33m(\u001b[0m\u001b[0ma2\u001b[0m\u001b[1;33m.\u001b[0m\u001b[0msize\u001b[0m\u001b[1;33m,\u001b[0m \u001b[1;36m1\u001b[0m\u001b[1;33m)\u001b[0m\u001b[1;33m)\u001b[0m\u001b[1;33m.\u001b[0m\u001b[0mravel\u001b[0m\u001b[1;33m(\u001b[0m\u001b[1;33m)\u001b[0m \u001b[1;31m# treat a2 like a column vector\u001b[0m\u001b[1;33m\u001b[0m\u001b[0m\n\u001b[0;32m    367\u001b[0m  \u001b[1;32mif\u001b[0m \u001b[0ma1\u001b[0m\u001b[1;33m.\u001b[0m\u001b[0mndim\u001b[0m\u001b[1;33m==\u001b[0m\u001b[1;36m1\u001b[0m \u001b[1;32mand\u001b[0m \u001b[0ma2\u001b[0m\u001b[1;33m.\u001b[0m\u001b[0mndim\u001b[0m\u001b[1;33m==\u001b[0m\u001b[1;36m2\u001b[0m\u001b[1;33m:\u001b[0m \u001b[1;32mreturn\u001b[0m \u001b[0mdot\u001b[0m\u001b[1;33m(\u001b[0m\u001b[0ma1\u001b[0m\u001b[1;33m.\u001b[0m\u001b[0m_add_axes\u001b[0m\u001b[1;33m(\u001b[0m\u001b[1;36m2\u001b[0m\u001b[1;33m)\u001b[0m\u001b[1;33m,\u001b[0m \u001b[0ma2\u001b[0m\u001b[1;33m)\u001b[0m\u001b[1;33m[\u001b[0m\u001b[1;36m0\u001b[0m\u001b[1;33m]\u001b[0m   \u001b[1;31m# treat a1 like a row vector\u001b[0m\u001b[1;33m\u001b[0m\u001b[0m\n\u001b[1;32m--> 368\u001b[1;33m  \u001b[1;32mif\u001b[0m \u001b[0ma1\u001b[0m\u001b[1;33m.\u001b[0m\u001b[0mshape\u001b[0m\u001b[1;33m[\u001b[0m\u001b[1;33m-\u001b[0m\u001b[1;36m1\u001b[0m\u001b[1;33m]\u001b[0m \u001b[1;33m!=\u001b[0m \u001b[0ma2\u001b[0m\u001b[1;33m.\u001b[0m\u001b[0mshape\u001b[0m\u001b[1;33m[\u001b[0m\u001b[1;33m-\u001b[0m\u001b[1;36m2\u001b[0m\u001b[1;33m]\u001b[0m\u001b[1;33m:\u001b[0m \u001b[1;32mraise\u001b[0m \u001b[0mValueError\u001b[0m\u001b[1;33m(\u001b[0m\u001b[1;34m'arrays not aligned for dot product. a dot product was requested of arrays with shapes %s and %s'\u001b[0m \u001b[1;33m%\u001b[0m \u001b[1;33m(\u001b[0m\u001b[0ma1\u001b[0m\u001b[1;33m.\u001b[0m\u001b[0mshape\u001b[0m\u001b[1;33m,\u001b[0m \u001b[0ma2\u001b[0m\u001b[1;33m.\u001b[0m\u001b[0mshape\u001b[0m\u001b[1;33m)\u001b[0m\u001b[1;33m)\u001b[0m\u001b[1;33m\u001b[0m\u001b[0m\n\u001b[0m\u001b[0;32m    369\u001b[0m  \u001b[1;32mif\u001b[0m \u001b[0ma1\u001b[0m\u001b[1;33m.\u001b[0m\u001b[0mndim\u001b[0m\u001b[1;33m==\u001b[0m\u001b[0ma2\u001b[0m\u001b[1;33m.\u001b[0m\u001b[0mndim\u001b[0m\u001b[1;33m==\u001b[0m\u001b[1;36m2\u001b[0m\u001b[1;33m:\u001b[0m\u001b[1;33m\u001b[0m\u001b[0m\n\u001b[0;32m    370\u001b[0m   \u001b[0mretShape\u001b[0m \u001b[1;33m=\u001b[0m \u001b[1;33m(\u001b[0m\u001b[0ma1\u001b[0m\u001b[1;33m.\u001b[0m\u001b[0mshape\u001b[0m\u001b[1;33m[\u001b[0m\u001b[1;36m0\u001b[0m\u001b[1;33m]\u001b[0m\u001b[1;33m,\u001b[0m \u001b[0ma2\u001b[0m\u001b[1;33m.\u001b[0m\u001b[0mshape\u001b[0m\u001b[1;33m[\u001b[0m\u001b[1;36m1\u001b[0m\u001b[1;33m]\u001b[0m\u001b[1;33m)\u001b[0m\u001b[1;33m\u001b[0m\u001b[0m\n",
        "\u001b[1;31mValueError\u001b[0m: arrays not aligned for dot product. a dot product was requested of arrays with shapes (64, 10) and (1, 1200)"
       ]
      }
     ],
     "prompt_number": 13
    },
    {
     "cell_type": "markdown",
     "metadata": {},
     "source": [
      "### Things to try\n",
      "\n",
      "* grid search params - or try various values of epsilon - no effect\n",
      "\n",
      "* pca - use only for P - worse\n",
      "\n",
      "* deep learning"
     ]
    },
    {
     "cell_type": "code",
     "collapsed": false,
     "input": [],
     "language": "python",
     "metadata": {},
     "outputs": []
    },
    {
     "cell_type": "code",
     "collapsed": false,
     "input": [],
     "language": "python",
     "metadata": {},
     "outputs": []
    },
    {
     "cell_type": "code",
     "collapsed": false,
     "input": [],
     "language": "python",
     "metadata": {},
     "outputs": []
    },
    {
     "cell_type": "markdown",
     "metadata": {},
     "source": [
      "# Unused"
     ]
    },
    {
     "cell_type": "markdown",
     "metadata": {},
     "source": [
      "### Running SVR Grid Search cv"
     ]
    },
    {
     "cell_type": "code",
     "collapsed": false,
     "input": [
      "from sklearn import grid_search"
     ],
     "language": "python",
     "metadata": {},
     "outputs": []
    },
    {
     "cell_type": "code",
     "collapsed": false,
     "input": [
      "train, labels, test = load_data()\n",
      "\n",
      "train_noCO2 = train.drop(CO2_bands, axis=1, inplace=False)\n",
      "test_noCO2 = test.drop(CO2_bands, axis=1, inplace=False)\n",
      "\n",
      "sup_vec = svm.SVR()\n",
      "parameters_grid = {'kernel':['rbf'],\n",
      "                   'verbose':[2],\n",
      "                   'C':[.01, 1.0, 10.0, 100.0, 1000.0, 10000, 1000000, 10000000],\n",
      "                   'epsilon':[0.00001, 0.0001, 0.001, 0.01, 0.1, 1.0, 10.0]}\n",
      "\n",
      "clf = grid_search.GridSearchCV(sup_vec, parameters_grid, scoring='mean_squared_error', n_jobs=4,\n",
      "                               cv=KFold(n=train_noCO2.shape[0], n_folds=5, shuffle=True))\n",
      "clf.fit(train_noCO2, labels['P'])"
     ],
     "language": "python",
     "metadata": {},
     "outputs": []
    },
    {
     "cell_type": "markdown",
     "metadata": {},
     "source": [
      "# Feature Selection"
     ]
    },
    {
     "cell_type": "code",
     "collapsed": false,
     "input": [
      "train, labels, test = load_data2()\n",
      "train.drop(CO2_bands, axis=1, inplace=True)\n",
      "test.drop(CO2_bands, axis=1, inplace=True)\n",
      "sup_vec = svm.SVR(kernel='linear', C=10000.0, verbose=2)\n",
      "kf = KFold(n=train.shape[0], n_folds=5, shuffle=True)\n",
      "clf = linear_model.BayesianRidge()"
     ],
     "language": "python",
     "metadata": {},
     "outputs": []
    },
    {
     "cell_type": "code",
     "collapsed": false,
     "input": [
      "#print(__doc__)\n",
      "\n",
      "#from sklearn.svm import SVC\n",
      "#from sklearn.cross_validation import StratifiedKFold\n",
      "from sklearn.feature_selection import RFECV\n",
      "#from sklearn.datasets import make_classification\n",
      "\n",
      "# The \"accuracy\" scoring is proportional to the number of correct\n",
      "# classifications\n",
      "rfecv = RFECV(estimator=clf, step=1, cv=kf,\n",
      "              scoring='mean_squared_error')\n",
      "rfecv.fit(train, labels['P'])"
     ],
     "language": "python",
     "metadata": {},
     "outputs": []
    },
    {
     "cell_type": "code",
     "collapsed": false,
     "input": [
      "print(\"Optimal number of features : %d\" % rfecv.n_features_)\n",
      "\n",
      "# Plot number of features VS. cross-validation scores\n",
      "import matplotlib.pyplot as plt\n",
      "plt.figure()\n",
      "plt.xlabel(\"Number of features selected\")\n",
      "plt.ylabel(\"Cross validation score (nb of correct classifications)\")\n",
      "plt.plot(range(1, len(rfecv.grid_scores_) + 1), rfecv.grid_scores_)\n",
      "plt.show()"
     ],
     "language": "python",
     "metadata": {},
     "outputs": []
    }
   ],
   "metadata": {}
  }
 ]
}